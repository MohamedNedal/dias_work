{
 "cells": [
  {
   "cell_type": "markdown",
   "metadata": {},
   "source": [
    "Source: Alberto Canizarez"
   ]
  },
  {
   "cell_type": "code",
   "execution_count": 1,
   "metadata": {},
   "outputs": [],
   "source": [
    "import warnings\n",
    "warnings.filterwarnings('ignore')\n",
    "\n",
    "import cdflib\n",
    "import datetime as dt\n",
    "from radiospectra.spectrogram import Spectrogram\n",
    "import astropy.units as u\n",
    "from sunpy.net import Fido, attrs as a\n",
    "import matplotlib as mpl\n",
    "from matplotlib import pyplot as plt\n",
    "from astropy.visualization import ImageNormalize, PercentileInterval\n",
    "from astropy.time import Time\n",
    "\n",
    "plt.rcParams.update({'font.size': 22})\n",
    "plt.rcParams.update({'font.family': 'Times New Roman'})"
   ]
  },
  {
   "cell_type": "code",
   "execution_count": 28,
   "metadata": {},
   "outputs": [],
   "source": [
    "def open_rpw_l3(cdf_file_path):\n",
    "    # Open the CDF file\n",
    "    cdf = cdflib.CDF(cdf_file_path)\n",
    "\n",
    "    # List all variables in the CDF file\n",
    "    var_names = cdf.cdf_info()['zVariables']\n",
    "\n",
    "    print(\"Variables in the CDF file:\", var_names)\n",
    "\n",
    "    epoch = cdf.varget(\"Epoch\")\n",
    "    frequency = cdf.varget(\"FREQUENCY\")\n",
    "    background = cdf.varget(\"BACKGROUND\")\n",
    "    sensor_config = cdf.varget(\"SENSOR_CONFIG\")\n",
    "    channel = cdf.varget(\"CHANNEL\")\n",
    "    timing = cdf.varget(\"TIMING\")\n",
    "    quality_flag = cdf.varget(\"QUALITY_FLAG\")\n",
    "    interpol_flags = cdf.varget(\"INTERPOL_FLAG\")\n",
    "    psd_v2 = cdf.varget(\"PSD_V2\")\n",
    "    psd_flux = cdf.varget(\"PSD_FLUX\")\n",
    "    psd_sfu = cdf.varget(\"PSD_SFU\")\n",
    "    lbl1_sc_pos_hci = cdf.varget(\"LBL1_SC_POS_HCI\")\n",
    "    sc_pos_hci = cdf.varget(\"SC_POS_HCI\")\n",
    "    rep1_sc_pos_hci = cdf.varget(\"REP1_SC_POS_HCI\")\n",
    "\n",
    "    j2000_start = dt.datetime(2000, 1, 1, 12, 0)\n",
    "    epoch_dt = [j2000_start + dt.timedelta(microseconds=tt / 1000) for tt in epoch]\n",
    "\n",
    "    rpw_freqs_MHz = frequency / 1e6 * u.MHz\n",
    "    rpw_times = Time([dt.isoformat() for dt in epoch_dt])\n",
    "    \n",
    "    meta = {\n",
    "        'observatory': f\"SolO\",\n",
    "        'instrument': \"RPW\",\n",
    "        'detector': \"RPW-HFR-SURV\",\n",
    "        'freqs': rpw_freqs_MHz,\n",
    "        'times': rpw_times,\n",
    "        'wavelength': a.Wavelength(rpw_freqs_MHz[0], rpw_freqs_MHz[-1]),\n",
    "        'start_time': rpw_times[0],\n",
    "        'end_time': rpw_times[-1]\n",
    "    }\n",
    "    rpw_spectro_sfu = Spectrogram(psd_sfu.T, meta)\n",
    "\n",
    "    return rpw_spectro_sfu"
   ]
  },
  {
   "cell_type": "code",
   "execution_count": 22,
   "metadata": {},
   "outputs": [],
   "source": [
    "#cdf_file_path = '/home/mnedal/DIAS/DATA/SO/solo_L2_rpw-hfr-surv_20221201_V02.cdf'\n",
    "cdf_file_path = '/home/mnedal/DIAS/DATA/SO/solo_L3_rpw-tnr-fp_20221201_V01.cdf'\n",
    "cdf = cdflib.CDF(cdf_file_path)"
   ]
  },
  {
   "cell_type": "code",
   "execution_count": null,
   "metadata": {},
   "outputs": [],
   "source": []
  },
  {
   "cell_type": "code",
   "execution_count": 29,
   "metadata": {},
   "outputs": [
    {
     "name": "stdout",
     "output_type": "stream",
     "text": [
      "Variables in the CDF file: ['Epoch', 'TIME_INTERPOL_FLAG', 'QUALITY_FLAG', 'QUALITY_BITMASK', 'SENSOR_CONFIG', 'PLASMA_FREQ', 'QUALITY_FACTOR']\n"
     ]
    },
    {
     "ename": "ValueError",
     "evalue": "Variable name 'FREQUENCY' not found.",
     "output_type": "error",
     "traceback": [
      "\u001b[0;31m---------------------------------------------------------------------------\u001b[0m",
      "\u001b[0;31mValueError\u001b[0m                                Traceback (most recent call last)",
      "\u001b[0;32m/tmp/ipykernel_193078/593188799.py\u001b[0m in \u001b[0;36m<module>\u001b[0;34m\u001b[0m\n\u001b[1;32m      1\u001b[0m \u001b[0mcdf_file_path\u001b[0m \u001b[0;34m=\u001b[0m \u001b[0;34m'/home/mnedal/DIAS/DATA/SO/solo_L3_rpw-tnr-fp_20221201_V01.cdf'\u001b[0m\u001b[0;34m\u001b[0m\u001b[0;34m\u001b[0m\u001b[0m\n\u001b[0;32m----> 2\u001b[0;31m \u001b[0mrpw_spectro_tnr\u001b[0m \u001b[0;34m=\u001b[0m \u001b[0mopen_rpw_l3\u001b[0m\u001b[0;34m(\u001b[0m\u001b[0mcdf_file_path\u001b[0m\u001b[0;34m)\u001b[0m\u001b[0;34m\u001b[0m\u001b[0;34m\u001b[0m\u001b[0m\n\u001b[0m\u001b[1;32m      3\u001b[0m \u001b[0mrpw_mm_tnr\u001b[0m \u001b[0;34m=\u001b[0m \u001b[0mImageNormalize\u001b[0m\u001b[0;34m(\u001b[0m\u001b[0mrpw_spectro_tnr\u001b[0m\u001b[0;34m.\u001b[0m\u001b[0mdata\u001b[0m\u001b[0;34m,\u001b[0m \u001b[0minterval\u001b[0m\u001b[0;34m=\u001b[0m\u001b[0mPercentileInterval\u001b[0m\u001b[0;34m(\u001b[0m\u001b[0;36m97.5\u001b[0m\u001b[0;34m)\u001b[0m\u001b[0;34m)\u001b[0m\u001b[0;34m\u001b[0m\u001b[0;34m\u001b[0m\u001b[0m\n\u001b[1;32m      4\u001b[0m \u001b[0;34m\u001b[0m\u001b[0m\n",
      "\u001b[0;32m/tmp/ipykernel_193078/3404425947.py\u001b[0m in \u001b[0;36mopen_rpw_l3\u001b[0;34m(cdf_file_path)\u001b[0m\n\u001b[1;32m      9\u001b[0m \u001b[0;34m\u001b[0m\u001b[0m\n\u001b[1;32m     10\u001b[0m     \u001b[0mepoch\u001b[0m \u001b[0;34m=\u001b[0m \u001b[0mcdf\u001b[0m\u001b[0;34m.\u001b[0m\u001b[0mvarget\u001b[0m\u001b[0;34m(\u001b[0m\u001b[0;34m\"Epoch\"\u001b[0m\u001b[0;34m)\u001b[0m\u001b[0;34m\u001b[0m\u001b[0;34m\u001b[0m\u001b[0m\n\u001b[0;32m---> 11\u001b[0;31m     \u001b[0mfrequency\u001b[0m \u001b[0;34m=\u001b[0m \u001b[0mcdf\u001b[0m\u001b[0;34m.\u001b[0m\u001b[0mvarget\u001b[0m\u001b[0;34m(\u001b[0m\u001b[0;34m\"FREQUENCY\"\u001b[0m\u001b[0;34m)\u001b[0m\u001b[0;34m\u001b[0m\u001b[0;34m\u001b[0m\u001b[0m\n\u001b[0m\u001b[1;32m     12\u001b[0m     \u001b[0mbackground\u001b[0m \u001b[0;34m=\u001b[0m \u001b[0mcdf\u001b[0m\u001b[0;34m.\u001b[0m\u001b[0mvarget\u001b[0m\u001b[0;34m(\u001b[0m\u001b[0;34m\"BACKGROUND\"\u001b[0m\u001b[0;34m)\u001b[0m\u001b[0;34m\u001b[0m\u001b[0;34m\u001b[0m\u001b[0m\n\u001b[1;32m     13\u001b[0m     \u001b[0msensor_config\u001b[0m \u001b[0;34m=\u001b[0m \u001b[0mcdf\u001b[0m\u001b[0;34m.\u001b[0m\u001b[0mvarget\u001b[0m\u001b[0;34m(\u001b[0m\u001b[0;34m\"SENSOR_CONFIG\"\u001b[0m\u001b[0;34m)\u001b[0m\u001b[0;34m\u001b[0m\u001b[0;34m\u001b[0m\u001b[0m\n",
      "\u001b[0;32m~/.local/lib/python3.7/site-packages/cdflib/cdfread.py\u001b[0m in \u001b[0;36mvarget\u001b[0;34m(self, variable, epoch, starttime, endtime, startrec, endrec, record_range_only, inq, expand, to_np)\u001b[0m\n\u001b[1;32m    537\u001b[0m                 \u001b[0mnum_variables\u001b[0m \u001b[0;34m=\u001b[0m \u001b[0mself\u001b[0m\u001b[0;34m.\u001b[0m\u001b[0m_num_rvariable\u001b[0m\u001b[0;34m\u001b[0m\u001b[0;34m\u001b[0m\u001b[0m\n\u001b[1;32m    538\u001b[0m             \u001b[0;32mif\u001b[0m \u001b[0mvdr_info\u001b[0m \u001b[0;32mis\u001b[0m \u001b[0;32mNone\u001b[0m\u001b[0;34m:\u001b[0m\u001b[0;34m\u001b[0m\u001b[0;34m\u001b[0m\u001b[0m\n\u001b[0;32m--> 539\u001b[0;31m                 \u001b[0;32mraise\u001b[0m \u001b[0mValueError\u001b[0m\u001b[0;34m(\u001b[0m\u001b[0;34mf\"Variable name '{variable}' not found.\"\u001b[0m\u001b[0;34m)\u001b[0m\u001b[0;34m\u001b[0m\u001b[0;34m\u001b[0m\u001b[0m\n\u001b[0m\u001b[1;32m    540\u001b[0m         \u001b[0;32melif\u001b[0m \u001b[0misinstance\u001b[0m\u001b[0;34m(\u001b[0m\u001b[0mvariable\u001b[0m\u001b[0;34m,\u001b[0m \u001b[0mint\u001b[0m\u001b[0;34m)\u001b[0m\u001b[0;34m:\u001b[0m\u001b[0;34m\u001b[0m\u001b[0;34m\u001b[0m\u001b[0m\n\u001b[1;32m    541\u001b[0m             \u001b[0;32mif\u001b[0m \u001b[0mself\u001b[0m\u001b[0;34m.\u001b[0m\u001b[0m_num_zvariable\u001b[0m \u001b[0;34m>\u001b[0m \u001b[0;36m0\u001b[0m\u001b[0;34m:\u001b[0m\u001b[0;34m\u001b[0m\u001b[0;34m\u001b[0m\u001b[0m\n",
      "\u001b[0;31mValueError\u001b[0m: Variable name 'FREQUENCY' not found."
     ]
    }
   ],
   "source": [
    "cdf_file_path = '/home/mnedal/DIAS/DATA/SO/solo_L3_rpw-tnr-fp_20221201_V01.cdf'\n",
    "rpw_spectro_tnr = open_rpw_l3(cdf_file_path)\n",
    "rpw_mm_tnr = ImageNormalize(rpw_spectro_tnr.data, interval=PercentileInterval(97.5))"
   ]
  },
  {
   "cell_type": "code",
   "execution_count": 5,
   "metadata": {},
   "outputs": [
    {
     "ename": "ValueError",
     "evalue": "read length must be non-negative or -1",
     "output_type": "error",
     "traceback": [
      "\u001b[0;31m---------------------------------------------------------------------------\u001b[0m",
      "\u001b[0;31mValueError\u001b[0m                                Traceback (most recent call last)",
      "\u001b[0;32m/tmp/ipykernel_193078/4074771689.py\u001b[0m in \u001b[0;36m<module>\u001b[0;34m\u001b[0m\n\u001b[1;32m      1\u001b[0m \u001b[0;32mif\u001b[0m \u001b[0m__name__\u001b[0m\u001b[0;34m==\u001b[0m\u001b[0;34m\"__main__\"\u001b[0m\u001b[0;34m:\u001b[0m\u001b[0;34m\u001b[0m\u001b[0;34m\u001b[0m\u001b[0m\n\u001b[1;32m      2\u001b[0m     \u001b[0mcdf_file_path\u001b[0m \u001b[0;34m=\u001b[0m \u001b[0;34m'/home/mnedal/DIAS/DATA/SO/solo_L2_rpw-hfr-surv_20221201_V02.cdf'\u001b[0m\u001b[0;34m\u001b[0m\u001b[0;34m\u001b[0m\u001b[0m\n\u001b[0;32m----> 3\u001b[0;31m     \u001b[0mrpw_spectro_hfr\u001b[0m \u001b[0;34m=\u001b[0m \u001b[0mopen_rpw_l3\u001b[0m\u001b[0;34m(\u001b[0m\u001b[0mcdf_file_path\u001b[0m\u001b[0;34m)\u001b[0m\u001b[0;34m\u001b[0m\u001b[0;34m\u001b[0m\u001b[0m\n\u001b[0m\u001b[1;32m      4\u001b[0m     \u001b[0mrpw_mm_hfr\u001b[0m \u001b[0;34m=\u001b[0m \u001b[0mImageNormalize\u001b[0m\u001b[0;34m(\u001b[0m\u001b[0mrpw_spectro_hfr\u001b[0m\u001b[0;34m.\u001b[0m\u001b[0mdata\u001b[0m\u001b[0;34m,\u001b[0m \u001b[0minterval\u001b[0m\u001b[0;34m=\u001b[0m\u001b[0mPercentileInterval\u001b[0m\u001b[0;34m(\u001b[0m\u001b[0;36m97.5\u001b[0m\u001b[0;34m)\u001b[0m\u001b[0;34m)\u001b[0m\u001b[0;34m\u001b[0m\u001b[0;34m\u001b[0m\u001b[0m\n\u001b[1;32m      5\u001b[0m \u001b[0;34m\u001b[0m\u001b[0m\n",
      "\u001b[0;32m/tmp/ipykernel_193078/24939892.py\u001b[0m in \u001b[0;36mopen_rpw_l3\u001b[0;34m(cdf_file_path)\u001b[0m\n\u001b[1;32m      4\u001b[0m \u001b[0;34m\u001b[0m\u001b[0m\n\u001b[1;32m      5\u001b[0m     \u001b[0;31m# List all variables in the CDF file\u001b[0m\u001b[0;34m\u001b[0m\u001b[0;34m\u001b[0m\u001b[0;34m\u001b[0m\u001b[0m\n\u001b[0;32m----> 6\u001b[0;31m     \u001b[0mvar_names\u001b[0m \u001b[0;34m=\u001b[0m \u001b[0mcdf\u001b[0m\u001b[0;34m.\u001b[0m\u001b[0mcdf_info\u001b[0m\u001b[0;34m(\u001b[0m\u001b[0;34m)\u001b[0m\u001b[0;34m[\u001b[0m\u001b[0;34m'Variables'\u001b[0m\u001b[0;34m]\u001b[0m\u001b[0;34m\u001b[0m\u001b[0;34m\u001b[0m\u001b[0m\n\u001b[0m\u001b[1;32m      7\u001b[0m \u001b[0;34m\u001b[0m\u001b[0m\n\u001b[1;32m      8\u001b[0m     \u001b[0mprint\u001b[0m\u001b[0;34m(\u001b[0m\u001b[0;34m\"Variables in the CDF file:\"\u001b[0m\u001b[0;34m,\u001b[0m \u001b[0mvar_names\u001b[0m\u001b[0;34m)\u001b[0m\u001b[0;34m\u001b[0m\u001b[0;34m\u001b[0m\u001b[0m\n",
      "\u001b[0;32m~/.local/lib/python3.7/site-packages/cdflib/cdfread.py\u001b[0m in \u001b[0;36mcdf_info\u001b[0;34m(self)\u001b[0m\n\u001b[1;32m    204\u001b[0m         \u001b[0mmycdf_info\u001b[0m\u001b[0;34m[\u001b[0m\u001b[0;34m'Majority'\u001b[0m\u001b[0;34m]\u001b[0m \u001b[0;34m=\u001b[0m \u001b[0mself\u001b[0m\u001b[0;34m.\u001b[0m\u001b[0m_majority\u001b[0m\u001b[0;34m\u001b[0m\u001b[0;34m\u001b[0m\u001b[0m\n\u001b[1;32m    205\u001b[0m         \u001b[0mmycdf_info\u001b[0m\u001b[0;34m[\u001b[0m\u001b[0;34m'rVariables'\u001b[0m\u001b[0;34m]\u001b[0m\u001b[0;34m,\u001b[0m \u001b[0mmycdf_info\u001b[0m\u001b[0;34m[\u001b[0m\u001b[0;34m'zVariables'\u001b[0m\u001b[0;34m]\u001b[0m \u001b[0;34m=\u001b[0m \u001b[0mself\u001b[0m\u001b[0;34m.\u001b[0m\u001b[0m_get_varnames\u001b[0m\u001b[0;34m(\u001b[0m\u001b[0;34m)\u001b[0m\u001b[0;34m\u001b[0m\u001b[0;34m\u001b[0m\u001b[0m\n\u001b[0;32m--> 206\u001b[0;31m         \u001b[0mmycdf_info\u001b[0m\u001b[0;34m[\u001b[0m\u001b[0;34m'Attributes'\u001b[0m\u001b[0;34m]\u001b[0m \u001b[0;34m=\u001b[0m \u001b[0mself\u001b[0m\u001b[0;34m.\u001b[0m\u001b[0m_get_attnames\u001b[0m\u001b[0;34m(\u001b[0m\u001b[0;34m)\u001b[0m\u001b[0;34m\u001b[0m\u001b[0;34m\u001b[0m\u001b[0m\n\u001b[0m\u001b[1;32m    207\u001b[0m         \u001b[0mmycdf_info\u001b[0m\u001b[0;34m[\u001b[0m\u001b[0;34m'Copyright'\u001b[0m\u001b[0;34m]\u001b[0m \u001b[0;34m=\u001b[0m \u001b[0mself\u001b[0m\u001b[0;34m.\u001b[0m\u001b[0m_copyright\u001b[0m\u001b[0;34m\u001b[0m\u001b[0;34m\u001b[0m\u001b[0m\n\u001b[1;32m    208\u001b[0m         \u001b[0mmycdf_info\u001b[0m\u001b[0;34m[\u001b[0m\u001b[0;34m'Checksum'\u001b[0m\u001b[0;34m]\u001b[0m \u001b[0;34m=\u001b[0m \u001b[0mself\u001b[0m\u001b[0;34m.\u001b[0m\u001b[0m_md5\u001b[0m\u001b[0;34m\u001b[0m\u001b[0;34m\u001b[0m\u001b[0m\n",
      "\u001b[0;32m~/.local/lib/python3.7/site-packages/cdflib/cdfread.py\u001b[0m in \u001b[0;36m_get_attnames\u001b[0;34m(self)\u001b[0m\n\u001b[1;32m    913\u001b[0m         \u001b[0;32mfor\u001b[0m \u001b[0m_\u001b[0m \u001b[0;32min\u001b[0m \u001b[0mrange\u001b[0m\u001b[0;34m(\u001b[0m\u001b[0;36m0\u001b[0m\u001b[0;34m,\u001b[0m \u001b[0mself\u001b[0m\u001b[0;34m.\u001b[0m\u001b[0m_num_att\u001b[0m\u001b[0;34m)\u001b[0m\u001b[0;34m:\u001b[0m\u001b[0;34m\u001b[0m\u001b[0;34m\u001b[0m\u001b[0m\n\u001b[1;32m    914\u001b[0m             \u001b[0mattr\u001b[0m \u001b[0;34m=\u001b[0m \u001b[0;34m{\u001b[0m\u001b[0;34m}\u001b[0m\u001b[0;34m\u001b[0m\u001b[0;34m\u001b[0m\u001b[0m\n\u001b[0;32m--> 915\u001b[0;31m             \u001b[0madr_info\u001b[0m \u001b[0;34m=\u001b[0m \u001b[0mself\u001b[0m\u001b[0;34m.\u001b[0m\u001b[0m_read_adr\u001b[0m\u001b[0;34m(\u001b[0m\u001b[0mposition\u001b[0m\u001b[0;34m)\u001b[0m\u001b[0;34m\u001b[0m\u001b[0;34m\u001b[0m\u001b[0m\n\u001b[0m\u001b[1;32m    916\u001b[0m             \u001b[0mattr\u001b[0m\u001b[0;34m[\u001b[0m\u001b[0madr_info\u001b[0m\u001b[0;34m[\u001b[0m\u001b[0;34m'name'\u001b[0m\u001b[0;34m]\u001b[0m\u001b[0;34m]\u001b[0m \u001b[0;34m=\u001b[0m \u001b[0mself\u001b[0m\u001b[0;34m.\u001b[0m\u001b[0m_scope_token\u001b[0m\u001b[0;34m(\u001b[0m\u001b[0mint\u001b[0m\u001b[0;34m(\u001b[0m\u001b[0madr_info\u001b[0m\u001b[0;34m[\u001b[0m\u001b[0;34m'scope'\u001b[0m\u001b[0;34m]\u001b[0m\u001b[0;34m)\u001b[0m\u001b[0;34m)\u001b[0m\u001b[0;34m\u001b[0m\u001b[0;34m\u001b[0m\u001b[0m\n\u001b[1;32m    917\u001b[0m             \u001b[0mattrs\u001b[0m\u001b[0;34m.\u001b[0m\u001b[0mappend\u001b[0m\u001b[0;34m(\u001b[0m\u001b[0mattr\u001b[0m\u001b[0;34m)\u001b[0m\u001b[0;34m\u001b[0m\u001b[0;34m\u001b[0m\u001b[0m\n",
      "\u001b[0;32m~/.local/lib/python3.7/site-packages/cdflib/cdfread.py\u001b[0m in \u001b[0;36m_read_adr\u001b[0;34m(self, position)\u001b[0m\n\u001b[1;32m   1146\u001b[0m         \"\"\"\n\u001b[1;32m   1147\u001b[0m         \u001b[0;32mif\u001b[0m \u001b[0;34m(\u001b[0m\u001b[0mself\u001b[0m\u001b[0;34m.\u001b[0m\u001b[0mcdfversion\u001b[0m \u001b[0;34m==\u001b[0m \u001b[0;36m3\u001b[0m\u001b[0;34m)\u001b[0m\u001b[0;34m:\u001b[0m\u001b[0;34m\u001b[0m\u001b[0;34m\u001b[0m\u001b[0m\n\u001b[0;32m-> 1148\u001b[0;31m             \u001b[0;32mreturn\u001b[0m \u001b[0mself\u001b[0m\u001b[0;34m.\u001b[0m\u001b[0m_read_adr3\u001b[0m\u001b[0;34m(\u001b[0m\u001b[0mposition\u001b[0m\u001b[0;34m)\u001b[0m\u001b[0;34m\u001b[0m\u001b[0;34m\u001b[0m\u001b[0m\n\u001b[0m\u001b[1;32m   1149\u001b[0m         \u001b[0;32melse\u001b[0m\u001b[0;34m:\u001b[0m\u001b[0;34m\u001b[0m\u001b[0;34m\u001b[0m\u001b[0m\n\u001b[1;32m   1150\u001b[0m             \u001b[0;32mreturn\u001b[0m \u001b[0mself\u001b[0m\u001b[0;34m.\u001b[0m\u001b[0m_read_adr2\u001b[0m\u001b[0;34m(\u001b[0m\u001b[0mposition\u001b[0m\u001b[0;34m)\u001b[0m\u001b[0;34m\u001b[0m\u001b[0;34m\u001b[0m\u001b[0m\n",
      "\u001b[0;32m~/.local/lib/python3.7/site-packages/cdflib/cdfread.py\u001b[0m in \u001b[0;36m_read_adr3\u001b[0;34m(self, byte_loc)\u001b[0m\n\u001b[1;32m   1153\u001b[0m         \u001b[0mself\u001b[0m\u001b[0;34m.\u001b[0m\u001b[0m_f\u001b[0m\u001b[0;34m.\u001b[0m\u001b[0mseek\u001b[0m\u001b[0;34m(\u001b[0m\u001b[0mbyte_loc\u001b[0m\u001b[0;34m,\u001b[0m \u001b[0;36m0\u001b[0m\u001b[0;34m)\u001b[0m\u001b[0;34m\u001b[0m\u001b[0;34m\u001b[0m\u001b[0m\n\u001b[1;32m   1154\u001b[0m         \u001b[0mblock_size\u001b[0m \u001b[0;34m=\u001b[0m \u001b[0mint\u001b[0m\u001b[0;34m.\u001b[0m\u001b[0mfrom_bytes\u001b[0m\u001b[0;34m(\u001b[0m\u001b[0mself\u001b[0m\u001b[0;34m.\u001b[0m\u001b[0m_f\u001b[0m\u001b[0;34m.\u001b[0m\u001b[0mread\u001b[0m\u001b[0;34m(\u001b[0m\u001b[0;36m8\u001b[0m\u001b[0;34m)\u001b[0m\u001b[0;34m,\u001b[0m \u001b[0;34m'big'\u001b[0m\u001b[0;34m)\u001b[0m  \u001b[0;31m# Block Size\u001b[0m\u001b[0;34m\u001b[0m\u001b[0;34m\u001b[0m\u001b[0m\n\u001b[0;32m-> 1155\u001b[0;31m         \u001b[0madr\u001b[0m \u001b[0;34m=\u001b[0m \u001b[0mself\u001b[0m\u001b[0;34m.\u001b[0m\u001b[0m_f\u001b[0m\u001b[0;34m.\u001b[0m\u001b[0mread\u001b[0m\u001b[0;34m(\u001b[0m\u001b[0mblock_size\u001b[0m \u001b[0;34m-\u001b[0m \u001b[0;36m8\u001b[0m\u001b[0;34m)\u001b[0m\u001b[0;34m\u001b[0m\u001b[0;34m\u001b[0m\u001b[0m\n\u001b[0m\u001b[1;32m   1156\u001b[0m \u001b[0;34m\u001b[0m\u001b[0m\n\u001b[1;32m   1157\u001b[0m         \u001b[0mnext_adr_loc\u001b[0m \u001b[0;34m=\u001b[0m \u001b[0mint\u001b[0m\u001b[0;34m.\u001b[0m\u001b[0mfrom_bytes\u001b[0m\u001b[0;34m(\u001b[0m\u001b[0madr\u001b[0m\u001b[0;34m[\u001b[0m\u001b[0;36m4\u001b[0m\u001b[0;34m:\u001b[0m\u001b[0;36m12\u001b[0m\u001b[0;34m]\u001b[0m\u001b[0;34m,\u001b[0m \u001b[0;34m'big'\u001b[0m\u001b[0;34m,\u001b[0m \u001b[0msigned\u001b[0m\u001b[0;34m=\u001b[0m\u001b[0;32mTrue\u001b[0m\u001b[0;34m)\u001b[0m\u001b[0;34m\u001b[0m\u001b[0;34m\u001b[0m\u001b[0m\n",
      "\u001b[0;31mValueError\u001b[0m: read length must be non-negative or -1"
     ]
    }
   ],
   "source": [
    "if __name__==\"__main__\":\n",
    "    cdf_file_path = '/home/mnedal/DIAS/DATA/SO/solo_L2_rpw-hfr-surv_20221201_V02.cdf'\n",
    "    rpw_spectro_hfr = open_rpw_l3(cdf_file_path)\n",
    "    rpw_mm_hfr = ImageNormalize(rpw_spectro_hfr.data, interval=PercentileInterval(97.5))\n",
    "\n",
    "    cdf_file_path = '/home/mnedal/DIAS/DATA/SO/solo_L2_rpw-hfr-surv_20221201_V02.cdf'\n",
    "    rpw_spectro_tnr = open_rpw_l3(cdf_file_path)\n",
    "    rpw_mm_tnr = ImageNormalize(rpw_spectro_tnr.data, interval=PercentileInterval(97.5))\n",
    "\n",
    "\n",
    "    YYYY = rpw_spectro_hfr.times[round(len(rpw_spectro_hfr.times)/2)].datetime.year\n",
    "    MM = rpw_spectro_hfr.times[round(len(rpw_spectro_hfr.times)/2)].datetime.month\n",
    "    dd = rpw_spectro_hfr.times[round(len(rpw_spectro_hfr.times)/2)].datetime.day\n",
    "    HH_0 = 0\n",
    "    mm_0 = 0\n",
    "    HH_1 = 23\n",
    "    mm_1 = 59\n",
    "\n",
    "    my_cmap = mpl.cm.jet\n",
    "\n",
    "    fig, axes = plt.subplots(1, 1, sharex=True, figsize=(20, 9))\n",
    "    rpw_spectro_hfr.plot(axes=axes, norm=rpw_mm_hfr, cmap=my_cmap)\n",
    "    rpw_spectro_tnr.plot(axes=axes, norm=rpw_mm_tnr, cmap=my_cmap)\n",
    "\n",
    "    axes.set_title(\"SolO, RPW, TNR+HFR\")\n",
    "    axes.set_ylabel(\"Frequency (MHz)\")\n",
    "\n",
    "    # # # by default y-axis low to hight flip so moving away from sun with time\n",
    "    axes.set_ylim(reversed(axes.get_ylim()))\n",
    "\n",
    "    # log y-axis\n",
    "    axes.set_yscale('log')\n",
    "\n",
    "    axes.set_xlim(dt.datetime(YYYY, MM, dd, HH_0, mm_0), dt.datetime(YYYY, MM, dd, HH_1, mm_1))\n",
    "    plt.subplots_adjust(left=0.041, bottom=0.096, right=0.984, top=0.93, wspace=0.132, hspace=0.31)\n",
    "\n",
    "    # plt.tick_params(axis='y', which='minor')\n",
    "    # axes.yaxis.set_minor_formatter(FormatStrFormatter(\"%.1f\"))\n",
    "    # plt.tick_params(axis='y', which='major')\n",
    "    # axes.yaxis.set_major_formatter(FormatStrFormatter(\"%.1f\"))\n",
    "    # figfname = f\"Figures/{YYYY}_{MM:02}_{dd:02}/{YYYY}_{MM:02}_{dd:02}_Horizontal.png\"\n",
    "    # plt.savefig(figfname, dpi='figure')\n",
    "\n",
    "    plt.tight_layout()\n",
    "    plt.show(block=False)"
   ]
  },
  {
   "cell_type": "code",
   "execution_count": null,
   "metadata": {},
   "outputs": [],
   "source": []
  }
 ],
 "metadata": {
  "kernelspec": {
   "display_name": "dias",
   "language": "python",
   "name": "dias"
  },
  "language_info": {
   "codemirror_mode": {
    "name": "ipython",
    "version": 3
   },
   "file_extension": ".py",
   "mimetype": "text/x-python",
   "name": "python",
   "nbconvert_exporter": "python",
   "pygments_lexer": "ipython3",
   "version": "3.10.14"
  }
 },
 "nbformat": 4,
 "nbformat_minor": 4
}
