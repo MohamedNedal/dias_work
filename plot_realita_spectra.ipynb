{
 "cells": [
  {
   "cell_type": "markdown",
   "id": "4499ca8c-82d3-4057-b9d4-c07922e0817e",
   "metadata": {},
   "source": [
    "From: Shilpi"
   ]
  },
  {
   "cell_type": "code",
   "execution_count": 1,
   "id": "fd828abf-830a-481d-a31c-9b96a1e0072f",
   "metadata": {},
   "outputs": [],
   "source": [
    "import warnings\n",
    "warnings.filterwarnings('ignore')\n",
    "\n",
    "from sigpyproc.readers import FilReader\n",
    "import matplotlib.pyplot as plt\n",
    "import numpy as np\n",
    "import pandas as pd\n",
    "import matplotlib\n",
    "from matplotlib import dates\n",
    "import matplotlib.dates as mdates\n",
    "from matplotlib.ticker import AutoMinorLocator\n",
    "from datetime import datetime, timedelta\n",
    "import astropy.units as u\n",
    "from astropy.time import Time\n",
    "from astropy.visualization import ImageNormalize, PercentileInterval\n",
    "\n",
    "plt.rcParams['figure.dpi'] = 100\n",
    "plt.rcParams['savefig.dpi'] = 300\n",
    "plt.rcParams['figure.facecolor'] = 'white'\n",
    "plt.rcParams['savefig.facecolor'] = 'white'\n",
    "\n",
    "# print(plt.get_backend())\n",
    "path = '/home/mnedal/data/ilofar'"
   ]
  },
  {
   "cell_type": "code",
   "execution_count": null,
   "id": "0bad1573-34a5-4d6f-8143-3cc92f3a1e9d",
   "metadata": {},
   "outputs": [],
   "source": [
    "stokes = 'V'\n",
    "filename = f'{path}/Sun357_20240514_stokes{stokes}.fil'"
   ]
  },
  {
   "cell_type": "code",
   "execution_count": 8,
   "id": "3df9ca69-377f-4207-a6ee-c2e9977d2679",
   "metadata": {},
   "outputs": [],
   "source": [
    "a = FilReader(filename) # header\n",
    "header = a.header.to_dict()"
   ]
  },
  {
   "cell_type": "code",
   "execution_count": 9,
   "id": "4681d26c-efb0-4650-ae7d-81a8a99518d1",
   "metadata": {
    "scrolled": true
   },
   "outputs": [
    {
     "data": {
      "text/plain": [
       "{'filename': '/home/mnedal/data/Sun357_2025-05-07_checkRFI.fil',\n",
       " 'data_type': 'filterbank',\n",
       " 'nchans': 488,\n",
       " 'foff': -0.1953125,\n",
       " 'fch1': 200.0,\n",
       " 'nbits': 32,\n",
       " 'tsamp': 0.00131072,\n",
       " 'tstart': 60802.52152777409,\n",
       " 'nsamples': 640869,\n",
       " 'nifs': 1,\n",
       " 'coord': <SkyCoord (ICRS): (ra, dec) in deg\n",
       "     (0., 0.)>,\n",
       " 'azimuth': <Angle 277.86152637 deg>,\n",
       " 'zenith': <Angle 76.94861002 deg>,\n",
       " 'telescope': 'MeerKAT',\n",
       " 'backend': 'FAKE',\n",
       " 'source': 'Sun357',\n",
       " 'frame': 'topocentric',\n",
       " 'ibeam': 0,\n",
       " 'nbeams': 0,\n",
       " 'dm': 0,\n",
       " 'period': 0,\n",
       " 'accel': 0,\n",
       " 'signed': False,\n",
       " 'rawdatafile': 'unknown',\n",
       " 'stream_info': {'entries': [{'filename': '/home/mnedal/data/Sun357_2025-05-07_checkRFI.fil',\n",
       "    'hdrlen': 347,\n",
       "    'datalen': 1250976288,\n",
       "    'nsamples': 640869,\n",
       "    'tstart': 60802.52152777409,\n",
       "    'tsamp': 0.00131072}]},\n",
       " 'basename': 'Sun357_2025-05-07_checkRFI',\n",
       " 'extension': '.fil',\n",
       " 'telescope_id': 64,\n",
       " 'machine_id': 0,\n",
       " 'bandwidth': 95.3125,\n",
       " 'ftop': 200.09765625,\n",
       " 'fbottom': 104.78515625,\n",
       " 'fcenter': 152.44140625,\n",
       " 'chan_freqs': array([200.       , 199.8046875, 199.609375 , 199.4140625, 199.21875  ,\n",
       "        199.0234375, 198.828125 , 198.6328125, 198.4375   , 198.2421875,\n",
       "        198.046875 , 197.8515625, 197.65625  , 197.4609375, 197.265625 ,\n",
       "        197.0703125, 196.875    , 196.6796875, 196.484375 , 196.2890625,\n",
       "        196.09375  , 195.8984375, 195.703125 , 195.5078125, 195.3125   ,\n",
       "        195.1171875, 194.921875 , 194.7265625, 194.53125  , 194.3359375,\n",
       "        194.140625 , 193.9453125, 193.75     , 193.5546875, 193.359375 ,\n",
       "        193.1640625, 192.96875  , 192.7734375, 192.578125 , 192.3828125,\n",
       "        192.1875   , 191.9921875, 191.796875 , 191.6015625, 191.40625  ,\n",
       "        191.2109375, 191.015625 , 190.8203125, 190.625    , 190.4296875,\n",
       "        190.234375 , 190.0390625, 189.84375  , 189.6484375, 189.453125 ,\n",
       "        189.2578125, 189.0625   , 188.8671875, 188.671875 , 188.4765625,\n",
       "        188.28125  , 188.0859375, 187.890625 , 187.6953125, 187.5      ,\n",
       "        187.3046875, 187.109375 , 186.9140625, 186.71875  , 186.5234375,\n",
       "        186.328125 , 186.1328125, 185.9375   , 185.7421875, 185.546875 ,\n",
       "        185.3515625, 185.15625  , 184.9609375, 184.765625 , 184.5703125,\n",
       "        184.375    , 184.1796875, 183.984375 , 183.7890625, 183.59375  ,\n",
       "        183.3984375, 183.203125 , 183.0078125, 182.8125   , 182.6171875,\n",
       "        182.421875 , 182.2265625, 182.03125  , 181.8359375, 181.640625 ,\n",
       "        181.4453125, 181.25     , 181.0546875, 180.859375 , 180.6640625,\n",
       "        180.46875  , 180.2734375, 180.078125 , 179.8828125, 179.6875   ,\n",
       "        179.4921875, 179.296875 , 179.1015625, 178.90625  , 178.7109375,\n",
       "        178.515625 , 178.3203125, 178.125    , 177.9296875, 177.734375 ,\n",
       "        177.5390625, 177.34375  , 177.1484375, 176.953125 , 176.7578125,\n",
       "        176.5625   , 176.3671875, 176.171875 , 175.9765625, 175.78125  ,\n",
       "        175.5859375, 175.390625 , 175.1953125, 175.       , 174.8046875,\n",
       "        174.609375 , 174.4140625, 174.21875  , 174.0234375, 173.828125 ,\n",
       "        173.6328125, 173.4375   , 173.2421875, 173.046875 , 172.8515625,\n",
       "        172.65625  , 172.4609375, 172.265625 , 172.0703125, 171.875    ,\n",
       "        171.6796875, 171.484375 , 171.2890625, 171.09375  , 170.8984375,\n",
       "        170.703125 , 170.5078125, 170.3125   , 170.1171875, 169.921875 ,\n",
       "        169.7265625, 169.53125  , 169.3359375, 169.140625 , 168.9453125,\n",
       "        168.75     , 168.5546875, 168.359375 , 168.1640625, 167.96875  ,\n",
       "        167.7734375, 167.578125 , 167.3828125, 167.1875   , 166.9921875,\n",
       "        166.796875 , 166.6015625, 166.40625  , 166.2109375, 166.015625 ,\n",
       "        165.8203125, 165.625    , 165.4296875, 165.234375 , 165.0390625,\n",
       "        164.84375  , 164.6484375, 164.453125 , 164.2578125, 164.0625   ,\n",
       "        163.8671875, 163.671875 , 163.4765625, 163.28125  , 163.0859375,\n",
       "        162.890625 , 162.6953125, 162.5      , 162.3046875, 162.109375 ,\n",
       "        161.9140625, 161.71875  , 161.5234375, 161.328125 , 161.1328125,\n",
       "        160.9375   , 160.7421875, 160.546875 , 160.3515625, 160.15625  ,\n",
       "        159.9609375, 159.765625 , 159.5703125, 159.375    , 159.1796875,\n",
       "        158.984375 , 158.7890625, 158.59375  , 158.3984375, 158.203125 ,\n",
       "        158.0078125, 157.8125   , 157.6171875, 157.421875 , 157.2265625,\n",
       "        157.03125  , 156.8359375, 156.640625 , 156.4453125, 156.25     ,\n",
       "        156.0546875, 155.859375 , 155.6640625, 155.46875  , 155.2734375,\n",
       "        155.078125 , 154.8828125, 154.6875   , 154.4921875, 154.296875 ,\n",
       "        154.1015625, 153.90625  , 153.7109375, 153.515625 , 153.3203125,\n",
       "        153.125    , 152.9296875, 152.734375 , 152.5390625, 152.34375  ,\n",
       "        152.1484375, 151.953125 , 151.7578125, 151.5625   , 151.3671875,\n",
       "        151.171875 , 150.9765625, 150.78125  , 150.5859375, 150.390625 ,\n",
       "        150.1953125, 150.       , 149.8046875, 149.609375 , 149.4140625,\n",
       "        149.21875  , 149.0234375, 148.828125 , 148.6328125, 148.4375   ,\n",
       "        148.2421875, 148.046875 , 147.8515625, 147.65625  , 147.4609375,\n",
       "        147.265625 , 147.0703125, 146.875    , 146.6796875, 146.484375 ,\n",
       "        146.2890625, 146.09375  , 145.8984375, 145.703125 , 145.5078125,\n",
       "        145.3125   , 145.1171875, 144.921875 , 144.7265625, 144.53125  ,\n",
       "        144.3359375, 144.140625 , 143.9453125, 143.75     , 143.5546875,\n",
       "        143.359375 , 143.1640625, 142.96875  , 142.7734375, 142.578125 ,\n",
       "        142.3828125, 142.1875   , 141.9921875, 141.796875 , 141.6015625,\n",
       "        141.40625  , 141.2109375, 141.015625 , 140.8203125, 140.625    ,\n",
       "        140.4296875, 140.234375 , 140.0390625, 139.84375  , 139.6484375,\n",
       "        139.453125 , 139.2578125, 139.0625   , 138.8671875, 138.671875 ,\n",
       "        138.4765625, 138.28125  , 138.0859375, 137.890625 , 137.6953125,\n",
       "        137.5      , 137.3046875, 137.109375 , 136.9140625, 136.71875  ,\n",
       "        136.5234375, 136.328125 , 136.1328125, 135.9375   , 135.7421875,\n",
       "        135.546875 , 135.3515625, 135.15625  , 134.9609375, 134.765625 ,\n",
       "        134.5703125, 134.375    , 134.1796875, 133.984375 , 133.7890625,\n",
       "        133.59375  , 133.3984375, 133.203125 , 133.0078125, 132.8125   ,\n",
       "        132.6171875, 132.421875 , 132.2265625, 132.03125  , 131.8359375,\n",
       "        131.640625 , 131.4453125, 131.25     , 131.0546875, 130.859375 ,\n",
       "        130.6640625, 130.46875  , 130.2734375, 130.078125 , 129.8828125,\n",
       "        129.6875   , 129.4921875, 129.296875 , 129.1015625, 128.90625  ,\n",
       "        128.7109375, 128.515625 , 128.3203125, 128.125    , 127.9296875,\n",
       "        127.734375 , 127.5390625, 127.34375  , 127.1484375, 126.953125 ,\n",
       "        126.7578125, 126.5625   , 126.3671875, 126.171875 , 125.9765625,\n",
       "        125.78125  , 125.5859375, 125.390625 , 125.1953125, 125.       ,\n",
       "        124.8046875, 124.609375 , 124.4140625, 124.21875  , 124.0234375,\n",
       "        123.828125 , 123.6328125, 123.4375   , 123.2421875, 123.046875 ,\n",
       "        122.8515625, 122.65625  , 122.4609375, 122.265625 , 122.0703125,\n",
       "        121.875    , 121.6796875, 121.484375 , 121.2890625, 121.09375  ,\n",
       "        120.8984375, 120.703125 , 120.5078125, 120.3125   , 120.1171875,\n",
       "        119.921875 , 119.7265625, 119.53125  , 119.3359375, 119.140625 ,\n",
       "        118.9453125, 118.75     , 118.5546875, 118.359375 , 118.1640625,\n",
       "        117.96875  , 117.7734375, 117.578125 , 117.3828125, 117.1875   ,\n",
       "        116.9921875, 116.796875 , 116.6015625, 116.40625  , 116.2109375,\n",
       "        116.015625 , 115.8203125, 115.625    , 115.4296875, 115.234375 ,\n",
       "        115.0390625, 114.84375  , 114.6484375, 114.453125 , 114.2578125,\n",
       "        114.0625   , 113.8671875, 113.671875 , 113.4765625, 113.28125  ,\n",
       "        113.0859375, 112.890625 , 112.6953125, 112.5      , 112.3046875,\n",
       "        112.109375 , 111.9140625, 111.71875  , 111.5234375, 111.328125 ,\n",
       "        111.1328125, 110.9375   , 110.7421875, 110.546875 , 110.3515625,\n",
       "        110.15625  , 109.9609375, 109.765625 , 109.5703125, 109.375    ,\n",
       "        109.1796875, 108.984375 , 108.7890625, 108.59375  , 108.3984375,\n",
       "        108.203125 , 108.0078125, 107.8125   , 107.6171875, 107.421875 ,\n",
       "        107.2265625, 107.03125  , 106.8359375, 106.640625 , 106.4453125,\n",
       "        106.25     , 106.0546875, 105.859375 , 105.6640625, 105.46875  ,\n",
       "        105.2734375, 105.078125 , 104.8828125]),\n",
       " 'fmax': 200.0,\n",
       " 'fmin': 104.8828125,\n",
       " 'dtype': dtype('float32'),\n",
       " 'tobs': 839.99981568,\n",
       " 'ra': '00:00:00',\n",
       " 'dec': '00:00:00',\n",
       " 'obs_date': '2025-05-07 12:31:00.000'}"
      ]
     },
     "execution_count": 9,
     "metadata": {},
     "output_type": "execute_result"
    }
   ],
   "source": [
    "header"
   ]
  },
  {
   "cell_type": "code",
   "execution_count": 5,
   "id": "e735aeb4-ada1-4499-b399-5668b1c33aab",
   "metadata": {},
   "outputs": [
    {
     "name": "stdout",
     "output_type": "stream",
     "text": [
      "2025-05-07 12:31:00\n",
      "2024-05-14 16:35:00\n",
      "2024-05-14 17:50:00\n",
      "-30916560.0\n",
      "4500.0\n"
     ]
    }
   ],
   "source": [
    "tstart_obs_str = Time(a.header.tstart, format='mjd').iso\n",
    "tstart = datetime.strptime(tstart_obs_str, '%Y-%m-%d %H:%M:%S.%f')\n",
    "\n",
    "tstart_str = '2024-05-14 16:35:00'\n",
    "tend_str   = '2024-05-14 17:50:00'\n",
    "datetime1 = datetime.strptime(tstart_str, '%Y-%m-%d %H:%M:%S')\n",
    "datetime2 = datetime.strptime(tend_str, '%Y-%m-%d %H:%M:%S')\n",
    "\n",
    "print(tstart, datetime1, datetime2, sep='\\n')\n",
    "\n",
    "time_difference1 = datetime1 - tstart\n",
    "time_difference2 = datetime2 - datetime1\n",
    "\n",
    "secondsFromStart = time_difference1.total_seconds()\n",
    "totalTime = time_difference2.total_seconds()\n",
    "\n",
    "print(secondsFromStart, totalTime, sep='\\n')"
   ]
  },
  {
   "cell_type": "code",
   "execution_count": null,
   "id": "77be8158-4ddc-4c87-a95c-2b630244e03c",
   "metadata": {},
   "outputs": [],
   "source": [
    "# downsampling the data to time resolution of 0.5 s. the time resolution to 0.5 s > 500 ms. And 500/1.31 ms = ~381. So tfactor should be 381.\n",
    "data = a.read_block(int(secondsFromStart / a.header.tsamp), int(totalTime / a.header.tsamp))\n",
    "# np.save(f'{path}/realta_ilofar.npy', data)"
   ]
  },
  {
   "cell_type": "code",
   "execution_count": null,
   "id": "b79f63f7-76ae-4e51-aff8-683afd2a38a0",
   "metadata": {},
   "outputs": [],
   "source": [
    "# data.nbytes/(1024*1024*1024) # data size in GB"
   ]
  },
  {
   "cell_type": "code",
   "execution_count": null,
   "id": "45fc12ff-34c8-4754-b1e7-81e4c879cb2e",
   "metadata": {},
   "outputs": [],
   "source": [
    "print(data.shape, data.shape[1]*a.header.tsamp, sep='\\n')"
   ]
  },
  {
   "cell_type": "code",
   "execution_count": null,
   "id": "ccf9b1f3-3877-4dcf-be05-8ebc199440a7",
   "metadata": {},
   "outputs": [],
   "source": [
    "# define time cadense in ms.\n",
    "Tres = 10                  # time resolution of n millisecond\n",
    "tres = a.header.tsamp*1e3  # time resolution in header\n",
    "\n",
    "# downsampling data applied by summing sequential sample/channels and averaging the data\n",
    "data2 = data.downsample(tfactor=int(Tres/tres))\n",
    "data2.shape"
   ]
  },
  {
   "cell_type": "code",
   "execution_count": null,
   "id": "7c792721-652e-4c6a-b332-2eabf616e3ff",
   "metadata": {},
   "outputs": [],
   "source": [
    "np.save(f'{path}/res_{Tres}ms_ilofar_stokes{stokes}.npy', data2)"
   ]
  },
  {
   "cell_type": "code",
   "execution_count": null,
   "id": "5ac9f10f-3910-4c11-bc2d-583d954e6f89",
   "metadata": {},
   "outputs": [],
   "source": [
    "# Creating time axis\n",
    "tstart = Time(data2.header.tstart, format='mjd')                 # tstart.iso will tell the time in format yyyy-mm-dd hh:mm:ss\n",
    "# tarray = tstart + (np.arange(data2.shape[1])*(Tres/1000)*u.s)  # Creating the time array for Tres time res.\n",
    "tarray = tstart + (np.arange(data2.shape[1])*data2.header.tsamp*u.s) # Creating the time array for realta time resolution\n",
    "tarray[-1].iso"
   ]
  },
  {
   "cell_type": "code",
   "execution_count": null,
   "id": "4dbc3dbd-bf7b-4a96-81fd-47e899486f44",
   "metadata": {},
   "outputs": [],
   "source": [
    "dt = datetime.strptime(tarray[1].iso, '%Y-%m-%d %H:%M:%S.%f') - datetime.strptime(tarray[0].iso, '%Y-%m-%d %H:%M:%S.%f')\n",
    "dt.total_seconds()*1000 # in ms."
   ]
  },
  {
   "cell_type": "code",
   "execution_count": null,
   "id": "5e633ad7-ce83-4b53-8a9a-988c28c08b69",
   "metadata": {},
   "outputs": [],
   "source": [
    "Tarray = [datetime.strptime(t.iso, '%Y-%m-%d %H:%M:%S.%f') for t in tarray] # Converting the array to datetime object\n",
    "Tarray = np.array(Tarray)\n",
    "np.save(f'{path}/time_{Tres}ms_stokes{stokes}.npy', Tarray)"
   ]
  },
  {
   "cell_type": "code",
   "execution_count": null,
   "id": "e9dcef9b-dec9-4c4d-9df2-ab69c7ba2c88",
   "metadata": {},
   "outputs": [],
   "source": [
    "print(Tarray[0], Tarray[1], Tarray[-1], sep='\\n')"
   ]
  },
  {
   "cell_type": "code",
   "execution_count": null,
   "id": "48068f1f-5d53-4606-972b-456adf9300e4",
   "metadata": {},
   "outputs": [],
   "source": [
    "print(Tarray[1]-Tarray[0], Tarray[-1]-Tarray[-2], sep='\\n')"
   ]
  },
  {
   "cell_type": "code",
   "execution_count": null,
   "id": "6b3e81af-1681-41f2-9e20-01981110c27c",
   "metadata": {},
   "outputs": [],
   "source": [
    "# export the frequency axis\n",
    "freqs = data2.header.chan_freqs\n",
    "np.save(f'{path}/freq_{Tres}ms_stokes{stokes}.npy', freqs)"
   ]
  },
  {
   "cell_type": "markdown",
   "id": "9ef8e1b8-79dc-4869-b4d0-41ba00442618",
   "metadata": {},
   "source": [
    "---"
   ]
  },
  {
   "cell_type": "markdown",
   "id": "ac5d60d5-2d9b-491f-9d60-a3397b9740ca",
   "metadata": {},
   "source": [
    "### Import the exported data files"
   ]
  },
  {
   "cell_type": "code",
   "execution_count": null,
   "id": "835b9f60-21e8-46db-8eba-59bf03382645",
   "metadata": {},
   "outputs": [],
   "source": [
    "# import the data files\n",
    "Tres = 10 # in ms.\n",
    "stokes = 'V'\n",
    "data = np.load(f'{path}/res_{Tres}ms_ilofar_stokes{stokes}.npy')\n",
    "time = np.load(f'{path}/time_{Tres}ms_stokes{stokes}.npy', allow_pickle=True)\n",
    "freqs = np.load(f'{path}/freq_{Tres}ms_stokes{stokes}.npy')"
   ]
  },
  {
   "cell_type": "code",
   "execution_count": null,
   "id": "8f4f17a7-894a-4a14-b971-f11271aa8005",
   "metadata": {},
   "outputs": [],
   "source": [
    "(time[1] - time[0]).total_seconds()"
   ]
  },
  {
   "cell_type": "code",
   "execution_count": null,
   "id": "66156c95-123e-49b8-8371-ce6bb0690108",
   "metadata": {},
   "outputs": [],
   "source": [
    "def freq_axis(freqs):\n",
    "    '''\n",
    "    Introduce gaps in the frequency axis of I-LOFAR REALTA data.\n",
    "    '''\n",
    "    gap1 = np.flipud(freqs[288]+(np.arange(59)*0.390625))\n",
    "    gap2 = np.flipud(freqs[88]+(np.arange(57)*0.390625))\n",
    "    ax_shape = 59+57-1\n",
    "    new_freq = np.zeros(ax_shape+freqs.shape[0])\n",
    "    \n",
    "    new_freq[0:88] = freqs[0:88]\n",
    "    new_freq[88:145]  = gap2[:57]\n",
    "    new_freq[145:345] = freqs[88:288]\n",
    "    new_freq[345:404] = gap1[:59]\n",
    "    new_freq[404:] = freqs[289:]\n",
    "    \n",
    "    return new_freq"
   ]
  },
  {
   "cell_type": "code",
   "execution_count": null,
   "id": "2cdc74e0-5fc0-46a7-a936-039f8825c45e",
   "metadata": {},
   "outputs": [],
   "source": [
    "new_freq = freq_axis(freqs)\n",
    "\n",
    "data = np.log10(data)\n",
    "data[np.where(np.isinf(data)==True)] = 0.0\n",
    "\n",
    "data2 = np.empty((new_freq.shape[0], data.shape[1]))    \n",
    "data2[:] = np.NaN\n",
    "data2[0:88] = data[0:88]\n",
    "data2[145:345] = data[88:288]\n",
    "data2[404:] = data[289:]\n",
    "\n",
    "# times_mpl = [mdates.date2num(t) for t in time]"
   ]
  },
  {
   "cell_type": "code",
   "execution_count": null,
   "id": "ec6bc334-3172-4dc5-9dd5-586b7e10dfa2",
   "metadata": {},
   "outputs": [],
   "source": [
    "freq_mode3 = np.linspace(10, 90, 199)\n",
    "freq_mode5 = np.linspace(110, 190, 200)\n",
    "freq_mode7 = np.linspace(210, 270, 88)\n",
    "\n",
    "# downsample the data\n",
    "df_mode3 = pd.DataFrame(data=data2[404:].T, columns=freq_mode3[::-1])\n",
    "df_mode5 = pd.DataFrame(data=data2[145:345].T, columns=freq_mode5[::-1])\n",
    "df_mode7 = pd.DataFrame(data=data2[:88].T, columns=freq_mode7[::-1])"
   ]
  },
  {
   "cell_type": "code",
   "execution_count": null,
   "id": "03416b59-a932-4399-94de-8a1911aee1dc",
   "metadata": {},
   "outputs": [],
   "source": [
    "print(df_mode3.shape, df_mode5.shape, df_mode7.shape, sep='\\n')"
   ]
  },
  {
   "cell_type": "code",
   "execution_count": null,
   "id": "f1b42177-80de-4656-891f-83b2aa171ef4",
   "metadata": {},
   "outputs": [],
   "source": [
    "# Save the dataframes as a pickle files\n",
    "df_mode3.to_pickle(f'{path}/df_mode3_{Tres}ms_stokes{stokes}.pkl')\n",
    "df_mode5.to_pickle(f'{path}/df_mode5_{Tres}ms_stokes{stokes}.pkl')\n",
    "df_mode7.to_pickle(f'{path}/df_mode7_{Tres}ms_stokes{stokes}.pkl')"
   ]
  },
  {
   "cell_type": "markdown",
   "id": "6cb242d6-2c18-461c-acfb-4131b770356d",
   "metadata": {},
   "source": [
    "---"
   ]
  },
  {
   "cell_type": "code",
   "execution_count": null,
   "id": "27046983-be73-4abf-828f-ce104a4404e6",
   "metadata": {},
   "outputs": [],
   "source": [
    "# Load the dataframes from the pickle files\n",
    "Tres = 10\n",
    "stokes = 'V'\n",
    "\n",
    "df_mode3 = pd.read_pickle(f'{path}/df_mode3_{Tres}ms_stokes{stokes}.pkl')\n",
    "df_mode5 = pd.read_pickle(f'{path}/df_mode5_{Tres}ms_stokes{stokes}.pkl')\n",
    "df_mode7 = pd.read_pickle(f'{path}/df_mode7_{Tres}ms_stokes{stokes}.pkl')\n",
    "time = np.load(f'{path}/time_{Tres}ms_stokes{stokes}.npy', allow_pickle=True)\n",
    "# freqs = np.load(f'{path}/freq_{Tres}ms_stokes{stokes}.npy')"
   ]
  },
  {
   "cell_type": "code",
   "execution_count": null,
   "id": "a3e0db0f-9155-4f30-84bc-f247c0aec126",
   "metadata": {},
   "outputs": [],
   "source": [
    "# Ensure the 'time' column is in datetime format\n",
    "df_mode3.index = pd.to_datetime(time)\n",
    "df_mode5.index = pd.to_datetime(time)\n",
    "df_mode7.index = pd.to_datetime(time)"
   ]
  },
  {
   "cell_type": "code",
   "execution_count": null,
   "id": "8ec5aea5-ef06-4358-89df-9b843bbb1791",
   "metadata": {},
   "outputs": [],
   "source": [
    "print(df_mode3.shape, df_mode5.shape, df_mode7.shape, sep='\\n')"
   ]
  },
  {
   "cell_type": "code",
   "execution_count": null,
   "id": "7d78e036-84ca-4382-9b9d-8ccc0b838739",
   "metadata": {},
   "outputs": [],
   "source": [
    "display(df_mode3.head(3)), display(df_mode3.tail(3))"
   ]
  },
  {
   "cell_type": "markdown",
   "id": "92c6b316-1eea-47e9-bcab-df40ab1e39c8",
   "metadata": {},
   "source": [
    "---"
   ]
  },
  {
   "cell_type": "code",
   "execution_count": null,
   "id": "1e64c6cc-e8ed-4d19-82a2-1e06835451dc",
   "metadata": {},
   "outputs": [],
   "source": [
    "df_mode3 = df_mode3.resample('1S').mean()\n",
    "df_mode5 = df_mode5.resample('1S').mean()\n",
    "df_mode7 = df_mode7.resample('1S').mean()"
   ]
  },
  {
   "cell_type": "code",
   "execution_count": null,
   "id": "165ccf2f-fcba-44d3-80b9-4e29b069751d",
   "metadata": {},
   "outputs": [],
   "source": [
    "fig_title = str(time[0].date()).replace(\"-\",\"\") + f'_Tres_{Tres}ms_stokes{stokes}'"
   ]
  },
  {
   "cell_type": "code",
   "execution_count": null,
   "id": "7dfd1f4b-bbc1-46c7-8eaf-002e93cc01fd",
   "metadata": {},
   "outputs": [],
   "source": [
    "del time\n",
    "del freqs\n",
    "del data\n",
    "del data2\n",
    "del new_freq"
   ]
  },
  {
   "cell_type": "code",
   "execution_count": null,
   "id": "64471f9a-c09b-4b9c-b080-806044cda13a",
   "metadata": {},
   "outputs": [],
   "source": [
    "if stokes == 'I':\n",
    "    min_range_mode3 = np.nanpercentile(df_mode3.values, 10)\n",
    "    max_range_mode3 = np.nanpercentile(df_mode3.values, 97)\n",
    "    \n",
    "    min_range_mode5 = np.nanpercentile(df_mode5.values, 10)\n",
    "    max_range_mode5 = np.nanpercentile(df_mode5.values, 97)\n",
    "    \n",
    "    min_range_mode7 = np.nanpercentile(df_mode7.values, 10)\n",
    "    max_range_mode7 = np.nanpercentile(df_mode7.values, 97)\n",
    "\n",
    "elif stokes == 'V':\n",
    "    min_range_mode3 = 0.1\n",
    "    min_range_mode5 = 0.1\n",
    "    min_range_mode7 = 0.1\n",
    "    \n",
    "    max_range_mode3 = 5\n",
    "    max_range_mode5 = 5\n",
    "    max_range_mode7 = 5\n",
    "\n",
    "fig = plt.figure(figsize=[12,6])\n",
    "ax = fig.add_subplot(111)\n",
    "ax.pcolormesh(df_mode3.index, df_mode3.columns, df_mode3.values.T,\n",
    "                    vmin=min_range_mode3, vmax=max_range_mode3,\n",
    "                    cmap='RdYlBu_r')\n",
    "ax.pcolormesh(df_mode5.index, df_mode5.columns, df_mode5.values.T,\n",
    "                    vmin=min_range_mode5, vmax=max_range_mode5,\n",
    "                    cmap='RdYlBu_r')\n",
    "ax.pcolormesh(df_mode7.index, df_mode7.columns, df_mode7.values.T,\n",
    "                    vmin=min_range_mode7, vmax=max_range_mode7,\n",
    "                    cmap='RdYlBu_r')\n",
    "ax.set_yscale('log')\n",
    "\n",
    "# Define the custom ticks\n",
    "custom_ticks = [10, 20, 30, 40, 50, 60, 70, 80, 90, 100, 200]\n",
    "ax.set_yticks(custom_ticks)\n",
    "ax.set_yticklabels([str(tick) for tick in custom_ticks])\n",
    "ax.xaxis.set_minor_locator(AutoMinorLocator(n=10))\n",
    "ax.set_xlabel('Time (UT)')\n",
    "ax.set_ylabel('Frequency (MHz)')\n",
    "ax.xaxis_date()\n",
    "ax.xaxis.set_major_formatter(mdates.DateFormatter('%H:%M'))\n",
    "ax.set_ylim(ax.get_ylim()[::-1])\n",
    "# fig.savefig(f'{path}/plots/realta_ilofar_{fig_title}.png', format='png', bbox_inches='tight')\n",
    "# fig.savefig(f'{path}/plots/realta_ilofar_{fig_title}.pdf', format='pdf', bbox_inches='tight')\n",
    "plt.show()"
   ]
  },
  {
   "cell_type": "code",
   "execution_count": null,
   "id": "11a0f086-18db-4670-9e50-b05fee27756f",
   "metadata": {},
   "outputs": [],
   "source": [
    "# remove the const background\n",
    "mode3_new = df_mode3.values - np.tile(np.nanmean(df_mode3.values,0), (df_mode3.values.shape[0],1))\n",
    "mode5_new = df_mode5.values - np.tile(np.nanmean(df_mode5.values,0), (df_mode5.values.shape[0],1))x\n",
    "mode7_new = df_mode7.values - np.tile(np.nanmean(df_mode7.values,0), (df_mode7.values.shape[0],1))"
   ]
  },
  {
   "cell_type": "code",
   "execution_count": null,
   "id": "4ae40c9e-a3f8-4706-bef9-b9816e75ba99",
   "metadata": {},
   "outputs": [],
   "source": [
    "min_range = -0.5\n",
    "max_range = 2\n",
    "\n",
    "fig = plt.figure(figsize=[12,6])\n",
    "ax = fig.add_subplot(111)\n",
    "ax.pcolormesh(df_mode3.index, df_mode3.columns, mode3_new.T,\n",
    "              vmin=min_range, vmax=max_range,\n",
    "                    cmap='RdYlBu_r')\n",
    "ax.pcolormesh(df_mode5.index, df_mode5.columns, mode5_new.T,\n",
    "              vmin=min_range, vmax=max_range,\n",
    "                    cmap='RdYlBu_r')\n",
    "ax.pcolormesh(df_mode7.index, df_mode7.columns, mode7_new.T,\n",
    "              vmin=min_range, vmax=max_range,\n",
    "                    cmap='RdYlBu_r')\n",
    "ax.set_yscale('log')\n",
    "\n",
    "# Define the custom ticks\n",
    "custom_ticks = [10, 20, 30, 40, 50, 60, 70, 80, 90, 100, 200]\n",
    "ax.set_yticks(custom_ticks)\n",
    "ax.set_yticklabels([str(tick) for tick in custom_ticks])\n",
    "ax.xaxis.set_minor_locator(AutoMinorLocator(n=10))\n",
    "ax.set_xlabel('Time (UT)')\n",
    "ax.set_ylabel('Frequency (MHz)')\n",
    "ax.xaxis_date()\n",
    "ax.xaxis.set_major_formatter(mdates.DateFormatter('%H:%M'))\n",
    "ax.set_ylim(ax.get_ylim()[::-1])\n",
    "fig.savefig(f'{path}/plots/realta_ilofar_{fig_title}_backgroundSubtracted.png', format='png', bbox_inches='tight')\n",
    "plt.show()"
   ]
  },
  {
   "cell_type": "markdown",
   "id": "f758e488-0a21-4cd3-93bc-e27a15480a85",
   "metadata": {},
   "source": [
    "### Zoom-in certain features"
   ]
  },
  {
   "cell_type": "code",
   "execution_count": null,
   "id": "58f4ae79-751a-4b57-8e04-68516bb8bf57",
   "metadata": {},
   "outputs": [],
   "source": [
    "Tres = 10\n",
    "stokes = 'V'\n",
    "\n",
    "# Load the dataframes from the pickle files\n",
    "df_mode3 = pd.read_pickle(f'{path}/df_mode3_{Tres}ms_stokes{stokes}.pkl')\n",
    "df_mode5 = pd.read_pickle(f'{path}/df_mode5_{Tres}ms_stokes{stokes}.pkl')\n",
    "df_mode7 = pd.read_pickle(f'{path}/df_mode7_{Tres}ms_stokes{stokes}.pkl')\n",
    "time = np.load(f'{path}/time_{Tres}ms_stokes{stokes}.npy', allow_pickle=True)\n",
    "\n",
    "freqs_mode3 = df_mode3.columns\n",
    "freqs_mode5 = df_mode5.columns\n",
    "freqs_mode7 = df_mode7.columns\n",
    "\n",
    "# remove the const background\n",
    "mode3_new = df_mode3.values - np.tile(np.nanmean(df_mode3.values,0), (df_mode3.values.shape[0],1))\n",
    "mode5_new = df_mode5.values - np.tile(np.nanmean(df_mode5.values,0), (df_mode5.values.shape[0],1))\n",
    "mode7_new = df_mode7.values - np.tile(np.nanmean(df_mode7.values,0), (df_mode7.values.shape[0],1))\n",
    "\n",
    "del df_mode3\n",
    "del df_mode5\n",
    "del df_mode7\n",
    "\n",
    "df_mode3 = pd.DataFrame(data=mode3_new, columns=freqs_mode3)\n",
    "df_mode5 = pd.DataFrame(data=mode5_new, columns=freqs_mode5)\n",
    "df_mode7 = pd.DataFrame(data=mode7_new, columns=freqs_mode7)\n",
    "\n",
    "# Ensure the 'time' column is in datetime format\n",
    "df_mode3.index = pd.to_datetime(time)\n",
    "df_mode5.index = pd.to_datetime(time)\n",
    "df_mode7.index = pd.to_datetime(time)"
   ]
  },
  {
   "cell_type": "code",
   "execution_count": null,
   "id": "221a6fb6-45f0-465e-9d59-67b12b85ffcc",
   "metadata": {},
   "outputs": [],
   "source": [
    "# downsample the data\n",
    "df_mode3 = df_mode3.resample('100ms').mean()\n",
    "df_mode5 = df_mode5.resample('100ms').mean()\n",
    "df_mode7 = df_mode7.resample('100ms').mean()"
   ]
  },
  {
   "cell_type": "code",
   "execution_count": null,
   "id": "12be8ebc-50b2-4f2d-b516-312c0a9d2376",
   "metadata": {},
   "outputs": [],
   "source": [
    "df_mode3.shape"
   ]
  },
  {
   "cell_type": "code",
   "execution_count": null,
   "id": "3a87de97-9f56-43b9-9afc-574f37d2d3cf",
   "metadata": {},
   "outputs": [],
   "source": [
    "# Slice the DataFrame between start_date and end_date\n",
    "start_date = '2024-05-14 16:45:00'\n",
    "end_date   = '2024-05-14 17:00:00'\n",
    "\n",
    "df_mode3_slice = df_mode3.loc[start_date:end_date]\n",
    "df_mode5_slice = df_mode5.loc[start_date:end_date]\n",
    "df_mode7_slice = df_mode7.loc[start_date:end_date]"
   ]
  },
  {
   "cell_type": "code",
   "execution_count": null,
   "id": "931043b9-6270-4ebf-a07e-ba4f3b6e2906",
   "metadata": {},
   "outputs": [],
   "source": [
    "df_mode3_slice.shape"
   ]
  },
  {
   "cell_type": "code",
   "execution_count": null,
   "id": "38d8fbce-73aa-4f4a-b730-1a2210d1095c",
   "metadata": {},
   "outputs": [],
   "source": [
    "fig = plt.figure(figsize=[12,6])\n",
    "ax = fig.add_subplot(111)\n",
    "ax.pcolormesh(df_mode3_slice.index, df_mode3_slice.columns, df_mode3_slice.T,\n",
    "                    vmin=np.percentile(df_mode3_slice, 10), vmax=np.percentile(df_mode3_slice, 97),\n",
    "                    # vmin=min_range, vmax=max_range,\n",
    "                    cmap='RdYlBu_r')\n",
    "ax.pcolormesh(df_mode5_slice.index, df_mode5_slice.columns, df_mode5_slice.T,\n",
    "                    vmin=np.percentile(df_mode5_slice, 10), vmax=np.percentile(df_mode5_slice, 97),\n",
    "              # vmin=min_range, vmax=max_range,\n",
    "                    cmap='RdYlBu_r')\n",
    "ax.pcolormesh(df_mode7_slice.index, df_mode7_slice.columns, df_mode7_slice.T,\n",
    "                    vmin=np.percentile(df_mode7_slice, 10), vmax=np.percentile(df_mode7_slice, 97),\n",
    "              # vmin=min_range, vmax=max_range,\n",
    "                    cmap='RdYlBu_r')\n",
    "ax.set_yscale('log')\n",
    "\n",
    "# Define the custom ticks\n",
    "custom_ticks = [10, 20, 30, 40, 50, 60, 70, 80, 90, 100, 200]\n",
    "ax.set_yticks(custom_ticks)\n",
    "ax.set_yticklabels([str(tick) for tick in custom_ticks])\n",
    "ax.xaxis.set_minor_locator(AutoMinorLocator(n=5))\n",
    "ax.set_xlabel('Time (UT)')\n",
    "ax.set_ylabel('Frequency (MHz)')\n",
    "ax.xaxis_date()\n",
    "ax.xaxis.set_major_formatter(mdates.DateFormatter('%H:%M'))\n",
    "ax.set_ylim(ax.get_ylim()[::-1])\n",
    "# fig.savefig(f'{path}/plots/realta_ilofar_{fig_title}_backgroundSubtracted.png', format='png', bbox_inches='tight')\n",
    "plt.show()"
   ]
  },
  {
   "cell_type": "code",
   "execution_count": null,
   "id": "704b4bac-598b-4c32-9f51-6966cd0c4f36",
   "metadata": {},
   "outputs": [],
   "source": [
    "# Slice the DataFrame between start_date and end_date\n",
    "start_date = None #'2024-05-14 17:30:00'\n",
    "# end_date   = '2024-05-14 17:13:00'\n",
    "\n",
    "df_mode3_slice = df_mode3.loc[start_date:]\n",
    "df_mode5_slice = df_mode5.loc[start_date:]\n",
    "df_mode7_slice = df_mode7.loc[start_date:]"
   ]
  },
  {
   "cell_type": "code",
   "execution_count": null,
   "id": "f2c35f9e-6862-430b-8b68-3f3a334395d9",
   "metadata": {},
   "outputs": [],
   "source": [
    "df_mode3_slice.shape"
   ]
  },
  {
   "cell_type": "code",
   "execution_count": null,
   "id": "1cd2a849-146c-483b-bef7-2116ac95270a",
   "metadata": {},
   "outputs": [],
   "source": [
    "feature_type = 'all_dyspec' # typeII, typeIII, all_dyspec\n",
    "\n",
    "fig = plt.figure(figsize=[12,6])\n",
    "ax = fig.add_subplot(111)\n",
    "img = ax.pcolormesh(df_mode3_slice.index, df_mode3_slice.columns, df_mode3_slice.T,\n",
    "                    vmin=np.nanpercentile(df_mode3_slice, 10), vmax=np.nanpercentile(df_mode3_slice, 97),\n",
    "                    # vmin=min_range, vmax=max_range,\n",
    "                    cmap='RdYlBu_r')\n",
    "ax.pcolormesh(df_mode5_slice.index, df_mode5_slice.columns, df_mode5_slice.T,\n",
    "                    vmin=np.nanpercentile(df_mode5_slice, 10), vmax=np.nanpercentile(df_mode5_slice, 97),\n",
    "              # vmin=min_range, vmax=max_range,\n",
    "                    cmap='RdYlBu_r')\n",
    "ax.pcolormesh(df_mode7_slice.index, df_mode7_slice.columns, df_mode7_slice.T,\n",
    "                    vmin=np.nanpercentile(df_mode7_slice, 10), vmax=np.nanpercentile(df_mode7_slice, 97),\n",
    "              # vmin=min_range, vmax=max_range,\n",
    "                    cmap='RdYlBu_r')\n",
    "ax.set_yscale('log')\n",
    "fig.colorbar(img, pad=0.02)\n",
    "\n",
    "# Define the custom ticks\n",
    "custom_ticks = [10, 20, 30, 40, 50, 60, 70, 80, 90, 100, 200]\n",
    "ax.set_yticks(custom_ticks)\n",
    "ax.set_yticklabels([str(tick) for tick in custom_ticks])\n",
    "ax.xaxis.set_minor_locator(AutoMinorLocator(n=5))\n",
    "ax.set_xlabel('Time (UT)')\n",
    "ax.set_ylabel('Frequency (MHz)')\n",
    "ax.xaxis_date()\n",
    "ax.xaxis.set_major_formatter(mdates.DateFormatter('%H:%M'))\n",
    "ax.set_ylim(ax.get_ylim()[::-1])\n",
    "fig.savefig(f'{path}/plots/ilofar_{str(df_mode3_slice.index[0].date())}_{feature_type}_stokes{stokes}_backgroundSubtracted.png', format='png', bbox_inches='tight')\n",
    "plt.show()"
   ]
  },
  {
   "cell_type": "markdown",
   "id": "afb864e3-2ee5-425b-b0ed-026d31bd5582",
   "metadata": {},
   "source": [
    "---"
   ]
  },
  {
   "cell_type": "markdown",
   "id": "1f40c35f-5a59-4424-a343-165c9786bfc3",
   "metadata": {},
   "source": [
    "### Calculate the degree of circular polarization"
   ]
  },
  {
   "cell_type": "code",
   "execution_count": null,
   "id": "fd25af3d-e3eb-4767-b7c0-2d57097f06ee",
   "metadata": {},
   "outputs": [],
   "source": [
    "# Load the dataframes from the pickle files\n",
    "Tres = 10\n",
    "\n",
    "df_mode3_stokesI = pd.read_pickle(f'{path}/df_mode3_{Tres}ms_stokesI.pkl')\n",
    "df_mode5_stokesI = pd.read_pickle(f'{path}/df_mode5_{Tres}ms_stokesI.pkl')\n",
    "df_mode7_stokesI = pd.read_pickle(f'{path}/df_mode7_{Tres}ms_stokesI.pkl')\n",
    "time_stokesI = np.load(f'{path}/time_{Tres}ms_stokesI.npy', allow_pickle=True)\n",
    "\n",
    "freqs_mode3_stokesI = df_mode3_stokesI.columns\n",
    "freqs_mode5_stokesI = df_mode5_stokesI.columns\n",
    "freqs_mode7_stokesI = df_mode7_stokesI.columns\n",
    "\n",
    "# remove the const background\n",
    "mode3_new_stokesI = df_mode3_stokesI.values - np.tile(np.nanmean(df_mode3_stokesI.values,0), (df_mode3_stokesI.values.shape[0],1))\n",
    "mode5_new_stokesI = df_mode5_stokesI.values - np.tile(np.nanmean(df_mode5_stokesI.values,0), (df_mode5_stokesI.values.shape[0],1))\n",
    "mode7_new_stokesI = df_mode7_stokesI.values - np.tile(np.nanmean(df_mode7_stokesI.values,0), (df_mode7_stokesI.values.shape[0],1))\n",
    "\n",
    "del df_mode3_stokesI\n",
    "del df_mode5_stokesI\n",
    "del df_mode7_stokesI\n",
    "\n",
    "df_mode3_stokesI = pd.DataFrame(data=mode3_new_stokesI, columns=freqs_mode3_stokesI)\n",
    "df_mode5_stokesI = pd.DataFrame(data=mode5_new_stokesI, columns=freqs_mode5_stokesI)\n",
    "df_mode7_stokesI = pd.DataFrame(data=mode7_new_stokesI, columns=freqs_mode7_stokesI)\n",
    "\n",
    "# Ensure the 'time' column is in datetime format\n",
    "df_mode3_stokesI.index = pd.to_datetime(time_stokesI)\n",
    "df_mode5_stokesI.index = pd.to_datetime(time_stokesI)\n",
    "df_mode7_stokesI.index = pd.to_datetime(time_stokesI)\n",
    "\n",
    "# # downsample the data\n",
    "# df_mode3_stokesI = df_mode3_stokesI.resample('100ms').mean()\n",
    "# df_mode5_stokesI = df_mode5_stokesI.resample('100ms').mean()\n",
    "# df_mode7_stokesI = df_mode7_stokesI.resample('100ms').mean()"
   ]
  },
  {
   "cell_type": "code",
   "execution_count": null,
   "id": "bc9abc8a-7ac5-474a-a30a-196fc2bc81c0",
   "metadata": {},
   "outputs": [],
   "source": [
    "df_mode3_stokesV = pd.read_pickle(f'{path}/df_mode3_{Tres}ms_stokesV.pkl')\n",
    "df_mode5_stokesV = pd.read_pickle(f'{path}/df_mode5_{Tres}ms_stokesV.pkl')\n",
    "df_mode7_stokesV = pd.read_pickle(f'{path}/df_mode7_{Tres}ms_stokesV.pkl')\n",
    "time_stokesV = np.load(f'{path}/time_{Tres}ms_stokesV.npy', allow_pickle=True)\n",
    "\n",
    "freqs_mode3_stokesV = df_mode3_stokesV.columns\n",
    "freqs_mode5_stokesV = df_mode5_stokesV.columns\n",
    "freqs_mode7_stokesV = df_mode7_stokesV.columns\n",
    "\n",
    "# remove the const background\n",
    "mode3_new_stokesV = df_mode3_stokesV.values - np.tile(np.nanmean(df_mode3_stokesV.values,0), (df_mode3_stokesV.values.shape[0],1))\n",
    "mode5_new_stokesV = df_mode5_stokesV.values - np.tile(np.nanmean(df_mode5_stokesV.values,0), (df_mode5_stokesV.values.shape[0],1))\n",
    "mode7_new_stokesV = df_mode7_stokesV.values - np.tile(np.nanmean(df_mode7_stokesV.values,0), (df_mode7_stokesV.values.shape[0],1))\n",
    "\n",
    "del df_mode3_stokesV\n",
    "del df_mode5_stokesV\n",
    "del df_mode7_stokesV\n",
    "\n",
    "df_mode3_stokesV = pd.DataFrame(data=mode3_new_stokesV, columns=freqs_mode3_stokesV)\n",
    "df_mode5_stokesV = pd.DataFrame(data=mode5_new_stokesV, columns=freqs_mode5_stokesV)\n",
    "df_mode7_stokesV = pd.DataFrame(data=mode7_new_stokesV, columns=freqs_mode7_stokesV)\n",
    "\n",
    "# Ensure the 'time' column is in datetime format\n",
    "df_mode3_stokesV.index = pd.to_datetime(time_stokesV)\n",
    "df_mode5_stokesV.index = pd.to_datetime(time_stokesV)\n",
    "df_mode7_stokesV.index = pd.to_datetime(time_stokesV)\n",
    "\n",
    "# # downsample the data\n",
    "# df_mode3_stokesV = df_mode3_stokesV.resample('100ms').mean()\n",
    "# df_mode5_stokesV = df_mode5_stokesV.resample('100ms').mean()\n",
    "# df_mode7_stokesV = df_mode7_stokesV.resample('100ms').mean()"
   ]
  },
  {
   "cell_type": "code",
   "execution_count": null,
   "id": "cb10cea5-d825-4648-9e7e-6331e33b6eab",
   "metadata": {},
   "outputs": [],
   "source": [
    "df_mode3_stokesVI = df_mode3_stokesV / df_mode3_stokesI\n",
    "df_mode5_stokesVI = df_mode5_stokesV / df_mode5_stokesI\n",
    "df_mode7_stokesVI = df_mode7_stokesV / df_mode7_stokesI\n",
    "\n",
    "# downsample the data\n",
    "# df_mode3_stokesVI = df_mode3_stokesVI.resample('100ms').apply(np.nanmean)\n",
    "# df_mode5_stokesVI = df_mode5_stokesVI.resample('100ms').apply(np.nanmean)\n",
    "# df_mode7_stokesVI = df_mode7_stokesVI.resample('100ms').apply(np.nanmean)\n",
    "\n",
    "df_mode3_stokesVI = df_mode3_stokesVI.resample('100ms').mean()\n",
    "df_mode5_stokesVI = df_mode5_stokesVI.resample('100ms').mean()\n",
    "df_mode7_stokesVI = df_mode7_stokesVI.resample('100ms').mean()"
   ]
  },
  {
   "cell_type": "code",
   "execution_count": null,
   "id": "88395d3a-db3c-4ec0-a76f-82cc9496522f",
   "metadata": {},
   "outputs": [],
   "source": [
    "# Slice the DataFrame between start_date and end_date\n",
    "start_date = None #'2024-05-14 17:30:00'\n",
    "\n",
    "df_mode3_stokesVI_slice = df_mode3_stokesVI.loc[start_date:]\n",
    "df_mode5_stokesVI_slice = df_mode5_stokesVI.loc[start_date:]\n",
    "df_mode7_stokesVI_slice = df_mode7_stokesVI.loc[start_date:]"
   ]
  },
  {
   "cell_type": "code",
   "execution_count": null,
   "id": "2dffbd8d-0ecc-4e6b-a340-6a38068c0e4f",
   "metadata": {},
   "outputs": [],
   "source": [
    "print('Max of Max:', max(np.nanmax(df_mode3_stokesVI_slice), np.nanmax(df_mode5_stokesVI_slice), np.nanmax(df_mode7_stokesVI_slice)))\n",
    "print('Min of Min', min(np.nanmin(df_mode3_stokesVI_slice), np.nanmin(df_mode5_stokesVI_slice), np.nanmin(df_mode7_stokesVI_slice)))"
   ]
  },
  {
   "cell_type": "code",
   "execution_count": null,
   "id": "8b118b79-5389-442c-9e46-a5b819521312",
   "metadata": {},
   "outputs": [],
   "source": [
    "min_range = -1178161\n",
    "max_range = 16520625\n",
    "\n",
    "fig = plt.figure(figsize=[12,6])\n",
    "ax = fig.add_subplot(111)\n",
    "img = ax.pcolormesh(df_mode3_stokesVI_slice.index, df_mode3_stokesVI_slice.columns, df_mode3_stokesVI_slice.T,\n",
    "                    vmin=np.nanpercentile(df_mode3_stokesVI_slice, 10), vmax=np.nanpercentile(df_mode3_stokesVI_slice, 97),\n",
    "                    # vmin=min_range, vmax=max_range,\n",
    "                    cmap='RdYlBu_r')\n",
    "ax.pcolormesh(df_mode5_stokesVI_slice.index, df_mode5_stokesVI_slice.columns, df_mode5_stokesVI_slice.T,\n",
    "                    vmin=np.nanpercentile(df_mode5_stokesVI_slice, 10), vmax=np.nanpercentile(df_mode5_stokesVI_slice, 97),\n",
    "              # vmin=min_range, vmax=max_range,\n",
    "                    cmap='RdYlBu_r')\n",
    "ax.pcolormesh(df_mode7_stokesVI_slice.index, df_mode7_stokesVI_slice.columns, df_mode7_stokesVI_slice.T,\n",
    "                    vmin=np.nanpercentile(df_mode7_stokesVI_slice, 10), vmax=np.nanpercentile(df_mode7_stokesVI_slice, 97),\n",
    "              # vmin=min_range, vmax=max_range,\n",
    "                    cmap='RdYlBu_r')\n",
    "ax.set_yscale('log')\n",
    "fig.colorbar(img, pad=0.02)\n",
    "\n",
    "# Define the custom ticks\n",
    "custom_ticks = [10, 20, 30, 40, 50, 60, 70, 80, 90, 100, 200]\n",
    "ax.set_yticks(custom_ticks)\n",
    "ax.set_yticklabels([str(tick) for tick in custom_ticks])\n",
    "ax.xaxis.set_minor_locator(AutoMinorLocator(n=5))\n",
    "ax.set_xlabel('Time (UT)')\n",
    "ax.set_ylabel('Frequency (MHz)')\n",
    "ax.xaxis_date()\n",
    "ax.xaxis.set_major_formatter(mdates.DateFormatter('%H:%M'))\n",
    "ax.set_ylim(ax.get_ylim()[::-1])\n",
    "fig.savefig(f'{path}/plots/ilofar_{str(df_mode3_stokesVI_slice.index[0].date())}_{feature_type}_stokesVI_backgroundSubtracted.png', format='png', bbox_inches='tight')\n",
    "plt.show()"
   ]
  },
  {
   "cell_type": "code",
   "execution_count": null,
   "id": "e71fd6f3-15d6-43e6-88b4-ced8612c7203",
   "metadata": {},
   "outputs": [],
   "source": [
    "# Load the dataframes from the pickle files\n",
    "Tres = 10\n",
    "\n",
    "df_mode3_stokesI = pd.read_pickle(f'{path}/df_mode3_{Tres}ms_stokesI.pkl')\n",
    "df_mode5_stokesI = pd.read_pickle(f'{path}/df_mode5_{Tres}ms_stokesI.pkl')\n",
    "df_mode7_stokesI = pd.read_pickle(f'{path}/df_mode7_{Tres}ms_stokesI.pkl')\n",
    "time_stokesI = np.load(f'{path}/time_{Tres}ms_stokesI.npy', allow_pickle=True)\n",
    "\n",
    "# Ensure the 'time' column is in datetime format\n",
    "df_mode3_stokesI.index = pd.to_datetime(time_stokesI)\n",
    "df_mode5_stokesI.index = pd.to_datetime(time_stokesI)\n",
    "df_mode7_stokesI.index = pd.to_datetime(time_stokesI)\n",
    "\n",
    "df_mode3_stokesV = pd.read_pickle(f'{path}/df_mode3_{Tres}ms_stokesV.pkl')\n",
    "df_mode5_stokesV = pd.read_pickle(f'{path}/df_mode5_{Tres}ms_stokesV.pkl')\n",
    "df_mode7_stokesV = pd.read_pickle(f'{path}/df_mode7_{Tres}ms_stokesV.pkl')\n",
    "time_stokesV = np.load(f'{path}/time_{Tres}ms_stokesV.npy', allow_pickle=True)\n",
    "\n",
    "# Ensure the 'time' column is in datetime format\n",
    "df_mode3_stokesV.index = pd.to_datetime(time_stokesV)\n",
    "df_mode5_stokesV.index = pd.to_datetime(time_stokesV)\n",
    "df_mode7_stokesV.index = pd.to_datetime(time_stokesV)\n",
    "\n",
    "df_mode3_stokesVI = df_mode3_stokesV / df_mode3_stokesI\n",
    "df_mode5_stokesVI = df_mode5_stokesV / df_mode5_stokesI\n",
    "df_mode7_stokesVI = df_mode7_stokesV / df_mode7_stokesI\n",
    "\n",
    "# downsample the data\n",
    "df_mode3_stokesVI = df_mode3_stokesVI.resample('100ms').mean()\n",
    "df_mode5_stokesVI = df_mode5_stokesVI.resample('100ms').mean()\n",
    "df_mode7_stokesVI = df_mode7_stokesVI.resample('100ms').mean()\n",
    "\n",
    "\n",
    "# Slice the DataFrame between start_date and end_date\n",
    "start_date = None #'2024-05-14 17:30:00'\n",
    "\n",
    "df_mode3_stokesVI_slice = df_mode3_stokesVI.loc[start_date:]\n",
    "df_mode5_stokesVI_slice = df_mode5_stokesVI.loc[start_date:]\n",
    "df_mode7_stokesVI_slice = df_mode7_stokesVI.loc[start_date:]\n",
    "\n",
    "\n",
    "\n",
    "fig = plt.figure(figsize=[12,6])\n",
    "ax = fig.add_subplot(111)\n",
    "img = ax.pcolormesh(df_mode3_stokesVI_slice.index, df_mode3_stokesVI_slice.columns, df_mode3_stokesVI_slice.T,\n",
    "                    vmin=np.nanpercentile(df_mode3_stokesVI_slice, 10), vmax=np.nanpercentile(df_mode3_stokesVI_slice, 97),\n",
    "                    cmap='RdYlBu_r')\n",
    "ax.pcolormesh(df_mode5_stokesVI_slice.index, df_mode5_stokesVI_slice.columns, df_mode5_stokesVI_slice.T,\n",
    "                    vmin=np.nanpercentile(df_mode5_stokesVI_slice, 10), vmax=np.nanpercentile(df_mode5_stokesVI_slice, 97),\n",
    "                    cmap='RdYlBu_r')\n",
    "ax.pcolormesh(df_mode7_stokesVI_slice.index, df_mode7_stokesVI_slice.columns, df_mode7_stokesVI_slice.T,\n",
    "                    vmin=np.nanpercentile(df_mode7_stokesVI_slice, 10), vmax=np.nanpercentile(df_mode7_stokesVI_slice, 97),\n",
    "                    cmap='RdYlBu_r')\n",
    "ax.set_yscale('log')\n",
    "fig.colorbar(img, pad=0.02)\n",
    "\n",
    "# Define the custom ticks\n",
    "custom_ticks = [10, 20, 30, 40, 50, 60, 70, 80, 90, 100, 200]\n",
    "ax.set_yticks(custom_ticks)\n",
    "ax.set_yticklabels([str(tick) for tick in custom_ticks])\n",
    "ax.xaxis.set_minor_locator(AutoMinorLocator(n=5))\n",
    "ax.set_xlabel('Time (UT)')\n",
    "ax.set_ylabel('Frequency (MHz)')\n",
    "ax.xaxis_date()\n",
    "ax.xaxis.set_major_formatter(mdates.DateFormatter('%H:%M'))\n",
    "ax.set_ylim(ax.get_ylim()[::-1])\n",
    "fig.savefig(f'{path}/plots/ilofar_{str(df_mode3_stokesVI_slice.index[0].date())}_{feature_type}_stokesVI.png', format='png', bbox_inches='tight')\n",
    "plt.show()"
   ]
  },
  {
   "cell_type": "code",
   "execution_count": null,
   "id": "a9c4bdba-1451-4856-8dab-b82f31fa9dd6",
   "metadata": {},
   "outputs": [],
   "source": []
  },
  {
   "cell_type": "code",
   "execution_count": null,
   "id": "18d772c4-9643-4419-8264-504dd1b4d3db",
   "metadata": {},
   "outputs": [],
   "source": []
  },
  {
   "cell_type": "code",
   "execution_count": null,
   "id": "fb1017c4-9c68-44d6-b0df-90e99d1492ba",
   "metadata": {},
   "outputs": [],
   "source": []
  },
  {
   "cell_type": "code",
   "execution_count": null,
   "id": "f09bf89d-a7eb-4e53-b844-6c76024f4f61",
   "metadata": {},
   "outputs": [],
   "source": []
  },
  {
   "cell_type": "code",
   "execution_count": null,
   "id": "e08e31d7-baa4-4950-b413-bcaff21fee94",
   "metadata": {},
   "outputs": [],
   "source": []
  },
  {
   "cell_type": "code",
   "execution_count": null,
   "id": "810d551c-1855-440f-a5cd-b7c5ea5658c3",
   "metadata": {},
   "outputs": [],
   "source": []
  },
  {
   "cell_type": "code",
   "execution_count": null,
   "id": "a4366500-7f91-4855-a6b3-bc10207200e4",
   "metadata": {},
   "outputs": [],
   "source": []
  },
  {
   "cell_type": "code",
   "execution_count": null,
   "id": "53f6c81c-5fb6-4c38-99e6-fa712b719a6e",
   "metadata": {},
   "outputs": [],
   "source": [
    "df_mode3_stokesVI_slice.shape, df_mode5_stokesVI_slice.shape, df_mode7_stokesVI_slice.shape"
   ]
  },
  {
   "cell_type": "code",
   "execution_count": null,
   "id": "264093e7-f3ee-4fd7-9a0d-51fcf1a2c261",
   "metadata": {},
   "outputs": [],
   "source": [
    "np.zeros((df_mode3_stokesVI_slice.shape[0], df_mode3_stokesVI_slice.shape[1] + df_mode5_stokesVI_slice.shape[1] + df_mode7_stokesVI_slice.shape[1])).shape"
   ]
  },
  {
   "cell_type": "code",
   "execution_count": null,
   "id": "a005957b-b5fd-4845-8988-099c3eed240d",
   "metadata": {},
   "outputs": [],
   "source": [
    "combined_df = pd.concat([df_mode3_stokesVI_slice, df_mode3_stokesVI_slice, df_mode7_stokesVI_slice], axis=1)\n",
    "combined_df.shape"
   ]
  },
  {
   "cell_type": "code",
   "execution_count": null,
   "id": "92d5aa45-375e-4bd4-b020-f89867a6affb",
   "metadata": {},
   "outputs": [],
   "source": [
    "combined_df.head()"
   ]
  },
  {
   "cell_type": "code",
   "execution_count": null,
   "id": "915b1d97-dd71-44c7-ad7d-e48b728bb314",
   "metadata": {},
   "outputs": [],
   "source": [
    "plt.plot(combined_df.columns)"
   ]
  },
  {
   "cell_type": "code",
   "execution_count": null,
   "id": "572b7c5c-7701-45bc-b57e-6d2bc5a89344",
   "metadata": {},
   "outputs": [],
   "source": [
    "combined_df = []\n",
    "combined_df.append(df_mode7_stokesVI_slice)\n",
    "combined_df.append(df_mode3_stokesVI_slice)\n",
    "combined_df.append(df_mode3_stokesVI_slice)"
   ]
  },
  {
   "cell_type": "code",
   "execution_count": null,
   "id": "b656b622-8f9e-44de-9210-c4a521589769",
   "metadata": {},
   "outputs": [],
   "source": [
    "merged_df = pd.concat(combined_df, axis=1)\n",
    "\n",
    "# Add NaN for missing values\n",
    "merged_df = merged_df.apply(lambda x: x if isinstance(x, pd.Series) else np.nan)\n",
    "\n",
    "merged_df.shape"
   ]
  },
  {
   "cell_type": "code",
   "execution_count": null,
   "id": "049715e4-b200-4d90-ba06-381f578c609f",
   "metadata": {},
   "outputs": [],
   "source": []
  },
  {
   "cell_type": "code",
   "execution_count": null,
   "id": "7730c207-99ed-4e04-a588-02f1f715028d",
   "metadata": {},
   "outputs": [],
   "source": []
  },
  {
   "cell_type": "code",
   "execution_count": null,
   "id": "cb51f144-fc17-45ce-84a5-a9bdcb04982e",
   "metadata": {},
   "outputs": [],
   "source": [
    "min_range = 0\n",
    "max_range = 5\n",
    "\n",
    "fig = plt.figure(figsize=[12,6])\n",
    "ax = fig.add_subplot(111)\n",
    "ax.pcolormesh(merged_df.index, merged_df.columns, merged_df.T,\n",
    "                    vmin=min_range, vmax=max_range,\n",
    "                    cmap='RdYlBu_r')\n",
    "ax.set_yscale('log')\n",
    "\n",
    "# Define the custom ticks\n",
    "custom_ticks = [10, 20, 30, 40, 50, 60, 70, 80, 90, 100, 200]\n",
    "ax.set_yticks(custom_ticks)\n",
    "ax.set_yticklabels([str(tick) for tick in custom_ticks])\n",
    "ax.xaxis.set_minor_locator(AutoMinorLocator(n=5))\n",
    "ax.set_xlabel('Time (UT)')\n",
    "ax.set_ylabel('Frequency (MHz)')\n",
    "ax.xaxis_date()\n",
    "ax.xaxis.set_major_formatter(mdates.DateFormatter('%H:%M'))\n",
    "ax.set_ylim(ax.get_ylim()[::-1])\n",
    "plt.show()"
   ]
  },
  {
   "cell_type": "code",
   "execution_count": null,
   "id": "a2e4ff26-b9c8-41d9-841b-a25efb49e311",
   "metadata": {},
   "outputs": [],
   "source": []
  },
  {
   "cell_type": "code",
   "execution_count": null,
   "id": "177322fb-77c0-43cb-ae23-4edee94480ab",
   "metadata": {},
   "outputs": [],
   "source": []
  },
  {
   "cell_type": "code",
   "execution_count": null,
   "id": "fbbb7b0b-9386-437c-a1b7-c3f850dd1997",
   "metadata": {},
   "outputs": [],
   "source": []
  },
  {
   "cell_type": "code",
   "execution_count": null,
   "id": "5d7a32bc-4675-4d7f-909b-bc0ddf5f8c10",
   "metadata": {},
   "outputs": [],
   "source": []
  },
  {
   "cell_type": "code",
   "execution_count": null,
   "id": "f5c429c2-124c-44e5-b361-038f1a3458d7",
   "metadata": {},
   "outputs": [],
   "source": []
  },
  {
   "cell_type": "code",
   "execution_count": null,
   "id": "46509283-8267-4e92-8afb-266d4ded14f3",
   "metadata": {},
   "outputs": [],
   "source": []
  },
  {
   "cell_type": "code",
   "execution_count": null,
   "id": "f95b8813-ac5e-483b-ae87-109aab92b85a",
   "metadata": {},
   "outputs": [],
   "source": []
  },
  {
   "cell_type": "code",
   "execution_count": null,
   "id": "83dfc082-291d-486f-99a9-9e56e948f0a3",
   "metadata": {},
   "outputs": [],
   "source": []
  },
  {
   "cell_type": "code",
   "execution_count": null,
   "id": "34df107d-446d-464e-8881-972433ad0809",
   "metadata": {},
   "outputs": [],
   "source": []
  },
  {
   "cell_type": "code",
   "execution_count": null,
   "id": "67baeacb-43ed-4c8e-8192-baf2ea48a0d4",
   "metadata": {},
   "outputs": [],
   "source": []
  },
  {
   "cell_type": "code",
   "execution_count": null,
   "id": "ce9d878e-502e-4e00-9ccd-12d6d3481f98",
   "metadata": {},
   "outputs": [],
   "source": []
  },
  {
   "cell_type": "code",
   "execution_count": null,
   "id": "c74deb47-69b1-49c9-9fcf-3b6d77c70101",
   "metadata": {},
   "outputs": [],
   "source": []
  }
 ],
 "metadata": {
  "kernelspec": {
   "display_name": "dias",
   "language": "python",
   "name": "dias"
  },
  "language_info": {
   "codemirror_mode": {
    "name": "ipython",
    "version": 3
   },
   "file_extension": ".py",
   "mimetype": "text/x-python",
   "name": "python",
   "nbconvert_exporter": "python",
   "pygments_lexer": "ipython3",
   "version": "3.10.13"
  }
 },
 "nbformat": 4,
 "nbformat_minor": 5
}
