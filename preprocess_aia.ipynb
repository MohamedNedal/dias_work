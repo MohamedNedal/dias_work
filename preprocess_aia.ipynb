{
 "cells": [
  {
   "cell_type": "markdown",
   "id": "f3e2a7b3-3993-471b-861a-781333ccb692",
   "metadata": {},
   "source": [
    "This notebook is to process level 1 AIA data to level 1.5 data and save it"
   ]
  },
  {
   "cell_type": "code",
   "execution_count": 6,
   "id": "a47134ed-42bf-4546-9da9-97cade80ece7",
   "metadata": {},
   "outputs": [],
   "source": [
    "import warnings\n",
    "warnings.filterwarnings('ignore')\n",
    "\n",
    "import os\n",
    "import glob\n",
    "import sunpy\n",
    "from aiapy.calibrate import register, update_pointing\n",
    "\n",
    "data_dir = '/home/mnedal/data'"
   ]
  },
  {
   "cell_type": "code",
   "execution_count": null,
   "id": "127e1ee1-e519-4e81-b6b7-06841166cd18",
   "metadata": {},
   "outputs": [],
   "source": []
  },
  {
   "cell_type": "code",
   "execution_count": 37,
   "id": "1ce67907-abc9-4d37-b7a0-5014416fc674",
   "metadata": {},
   "outputs": [],
   "source": [
    "def split_datetime(start=None, end=None):\n",
    "    \n",
    "    START_DATE, START_TIME = start.split('T')\n",
    "    END_DATE, END_TIME = end.split('T')\n",
    "\n",
    "    START_YEAR, START_MONTH, START_DAY = START_DATE.split('-')\n",
    "    END_YEAR, END_MONTH, END_DAY = END_DATE.split('-')\n",
    "\n",
    "    START_HOUR, START_MINUTE, START_SECOND = START_TIME.split(':')\n",
    "    END_HOUR, END_MINUTE, END_SECOND = END_TIME.split(':')\n",
    "\n",
    "    datetime_dict = {\n",
    "        'start_year': START_YEAR,\n",
    "        'start_month': START_MONTH,\n",
    "        'start_day': START_DAY,\n",
    "        'start_hour': START_HOUR,\n",
    "        'start_minute': START_MINUTE,\n",
    "        'start_second': START_SECOND,\n",
    "        \n",
    "        'end_year': END_YEAR,\n",
    "        'end_month': END_MONTH,\n",
    "        'end_day': END_DAY,\n",
    "        'end_hour': END_HOUR,\n",
    "        'end_minute': END_MINUTE,\n",
    "        'end_second': END_SECOND\n",
    "    }\n",
    "    return datetime_dict\n",
    "\n",
    "\n",
    "\n",
    "def load_aia(start=None, end=None, promote=False, channel=193):\n",
    "    \n",
    "    dt_dict = split_datetime(start=start, end=end)\n",
    "    data_path = f'{data_dir}/AIA/{channel}A'\n",
    "    data = sorted(glob.glob(f'{data_path}/aia_lev1_{channel}a_*.fits'))\n",
    "    \n",
    "    start_filename = f\"aia_lev1_{channel}a_{dt_dict['start_year']}_{dt_dict['start_month']}_{dt_dict['start_day']}t{dt_dict['start_hour']}_{dt_dict['start_minute']}\"\n",
    "    end_filename   = f\"aia_lev1_{channel}a_{dt_dict['end_year']}_{dt_dict['end_month']}_{dt_dict['end_day']}t{dt_dict['end_hour']}_{dt_dict['end_minute']}\"\n",
    "    \n",
    "    first_file_to_find = glob.glob(f'{data_path}/{start_filename}*.fits')\n",
    "    last_file_to_find  = glob.glob(f'{data_path}/{end_filename}*.fits')\n",
    "    \n",
    "    idx1 = data.index(first_file_to_find[0])\n",
    "    idx2 = data.index(last_file_to_find[0])\n",
    "    \n",
    "    chosen_files = data[idx1:idx2]\n",
    "    \n",
    "    map_objects = []\n",
    "    for i, file in enumerate(chosen_files):\n",
    "        # load the file as a sunpy map\n",
    "        m = sunpy.map.Map(file)\n",
    "        print(f'AIA {channel}A image {i} is loaded')\n",
    "        if promote:\n",
    "            # update the metadata of the map to the most recent pointing\n",
    "            m_updated = update_pointing(m)\n",
    "            # scale the image to the 0.6\"/pix\n",
    "            # and derotate the image such that the y-axis is aligned with solar North\n",
    "            m_registered = register(m_updated)\n",
    "            # exposure time normalization\n",
    "            m_normalized = m_registered / m_registered.exposure_time\n",
    "            map_objects.append(m_normalized)\n",
    "        else:\n",
    "            map_objects.append(m)\n",
    "    return map_objects\n",
    "\n",
    "\n",
    "\n",
    "def save_processed_aia(data=maps_objects, channel=193):\n",
    "    for i, processed_map in enumerate(data):\n",
    "        text_string = processed_map.meta['date-obs']\n",
    "        # make translation table and use it\n",
    "        translation_table = str.maketrans('-:.', '___')\n",
    "        result = text_string.translate(translation_table)\n",
    "        output_filename = f'aia_{channel}a_{result}_lev15'\n",
    "        file_path = f'/home/mnedal/data/AIA/{channel}A/lv15/{output_filename}.fits'\n",
    "        if not os.path.exists(file_path):\n",
    "            processed_map.save(file_path, filetype='auto')\n",
    "            print(f'Image {i} is exported')\n",
    "        else:\n",
    "            print(f'Image {i} exists already')"
   ]
  },
  {
   "cell_type": "markdown",
   "id": "66941c2e-016d-48b1-ac61-fe7476717b63",
   "metadata": {},
   "source": [
    "## Start loading files and save the processed level 1.5 AIA data for easy retrieval later"
   ]
  },
  {
   "cell_type": "code",
   "execution_count": null,
   "id": "358a46a5-2c92-43a1-98b4-130bc038f189",
   "metadata": {},
   "outputs": [],
   "source": [
    "aia_131_map_objects = load_aia(start='2024-05-14T17:00:00', end='2024-05-14T19:01:00', promote=True, channel=131)\n",
    "os.makedirs(f'/home/mnedal/data/AIA/131A/lv15', exist_ok=True)\n",
    "save_processed_aia(data=maps_objects, channel=131)"
   ]
  },
  {
   "cell_type": "code",
   "execution_count": null,
   "id": "2a7f9202-05dc-45e6-89a8-483fd050e460",
   "metadata": {},
   "outputs": [],
   "source": [
    "aia_171_map_objects = load_aia(start='2024-05-14T17:00:00', end='2024-05-14T19:01:00', promote=True, channel=171)\n",
    "os.makedirs(f'/home/mnedal/data/AIA/171A/lv15', exist_ok=True)\n",
    "save_processed_aia(data=maps_objects, channel=171)"
   ]
  },
  {
   "cell_type": "code",
   "execution_count": null,
   "id": "36d5d28b-95a7-445f-9aca-78f3670a406a",
   "metadata": {},
   "outputs": [],
   "source": [
    "aia_193_map_objects = load_aia(start='2024-05-14T17:00:00', end='2024-05-14T19:01:00', promote=True, channel=193)\n",
    "os.makedirs(f'/home/mnedal/data/AIA/193A/lv15', exist_ok=True)\n",
    "save_processed_aia(data=maps_objects, channel=193)"
   ]
  },
  {
   "cell_type": "code",
   "execution_count": null,
   "id": "1aee779b-8505-46bf-8d3d-33e0f73ab0a4",
   "metadata": {},
   "outputs": [],
   "source": [
    "\n"
   ]
  }
 ],
 "metadata": {
  "kernelspec": {
   "display_name": "dias",
   "language": "python",
   "name": "dias"
  },
  "language_info": {
   "codemirror_mode": {
    "name": "ipython",
    "version": 3
   },
   "file_extension": ".py",
   "mimetype": "text/x-python",
   "name": "python",
   "nbconvert_exporter": "python",
   "pygments_lexer": "ipython3",
   "version": "3.10.14"
  }
 },
 "nbformat": 4,
 "nbformat_minor": 5
}
