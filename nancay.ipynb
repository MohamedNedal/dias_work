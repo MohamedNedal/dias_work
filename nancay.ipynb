{
 "cells": [
  {
   "cell_type": "code",
   "execution_count": null,
   "metadata": {},
   "outputs": [],
   "source": [
    "import warnings\n",
    "warnings.filterwarnings('ignore')\n",
    "\n",
    "# import sys\n",
    "# sys.path.insert(1, '../') # make sure to use the code in this repo\n",
    "# \n",
    "# import os\n",
    "# os.environ['CDF_LIB'] = '/home/peijin/cdf/cdf38_0-dist/lib'\n",
    "\n",
    "import glob\n",
    "from datetime import datetime, timedelta\n",
    "import numpy as np\n",
    "import pandas as pd\n",
    "from spacepy import pycdf\n",
    "from astropy.io import fits as pyfits\n",
    "import matplotlib.pyplot as plt\n",
    "import matplotlib.dates as mdates\n",
    "import matplotlib as mpl\n",
    "# try to use the precise epoch \n",
    "mpl.rcParams['date.epoch'] = '1970-01-01T00:00:00'\n",
    "try:\n",
    "    mdates.set_epoch('1970-01-01T00:00:00')\n",
    "except:\n",
    "    pass\n",
    "data_dir = '/home/mnedal/data'"
   ]
  },
  {
   "cell_type": "code",
   "execution_count": null,
   "metadata": {},
   "outputs": [],
   "source": [
    "date = '2021-09-18'\n",
    "year, month, day = date.split('-')\n",
    "\n",
    "nda_files = sorted(glob.glob(f'{data_dir}/NDA/NDA_{day}{month}{year}_*.fits'))\n",
    "nda_files"
   ]
  },
  {
   "cell_type": "code",
   "execution_count": null,
   "metadata": {},
   "outputs": [],
   "source": [
    "nda_data = pyfits.open(nda_files[0])\n",
    "nda_data.info()"
   ]
  },
  {
   "cell_type": "code",
   "execution_count": null,
   "metadata": {},
   "outputs": [],
   "source": [
    "nda_data[0].header"
   ]
  },
  {
   "cell_type": "code",
   "execution_count": null,
   "metadata": {},
   "outputs": [],
   "source": [
    "nda_data[1].header"
   ]
  },
  {
   "cell_type": "code",
   "execution_count": null,
   "metadata": {},
   "outputs": [],
   "source": [
    "nda_data[2].header"
   ]
  },
  {
   "cell_type": "code",
   "execution_count": null,
   "metadata": {},
   "outputs": [],
   "source": [
    "nda_data[3].header"
   ]
  },
  {
   "cell_type": "code",
   "execution_count": null,
   "metadata": {},
   "outputs": [],
   "source": [
    "nda_data[4].header"
   ]
  },
  {
   "cell_type": "code",
   "execution_count": null,
   "metadata": {},
   "outputs": [],
   "source": [
    "### define x and y axes\n",
    "nda_freq = pd.DataFrame(nda_data[3].data).values.reshape(-1)\n",
    "nda_time = pd.DataFrame(nda_data[4].data).values.reshape(-1)\n",
    "nda_arr1 = nda_data[1].data[:, :-1]\n",
    "nda_arr2 = nda_data[2].data[:, :-1]\n",
    "\n",
    "datetime_obj_start = nda_data[0].header['DATE-OBS'] + ' ' + nda_data[0].header['TIME-OBS']\n",
    "datetime_obj_end   = nda_data[0].header['DATE-OBS'] + ' ' + nda_data[0].header['TIME-END']\n",
    "\n",
    "start_obs_time = datetime.strptime(datetime_obj_start, '%d/%m/%Y %H:%M:%S')\n",
    "end_obs_time   = datetime.strptime(datetime_obj_end, '%d/%m/%Y %H:%M:%S')\n",
    "\n",
    "# Convert time data to datetime objects\n",
    "time_data = nda_data[4].data\n",
    "datetimes_list = [pd.Timestamp('2021-09-18 00:00:00') + timedelta(seconds=float(time[0])) for time in time_data]"
   ]
  },
  {
   "cell_type": "code",
   "execution_count": null,
   "metadata": {},
   "outputs": [],
   "source": [
    "datetimes_list[0], datetimes_list[-1]"
   ]
  },
  {
   "cell_type": "code",
   "execution_count": null,
   "metadata": {},
   "outputs": [],
   "source": [
    "datetime_obj_start, datetime_obj_end"
   ]
  },
  {
   "cell_type": "code",
   "execution_count": null,
   "metadata": {},
   "outputs": [],
   "source": [
    "len(datetimes_list)"
   ]
  },
  {
   "cell_type": "code",
   "execution_count": null,
   "metadata": {},
   "outputs": [],
   "source": [
    "nda_arr1.shape"
   ]
  },
  {
   "cell_type": "code",
   "execution_count": null,
   "metadata": {},
   "outputs": [],
   "source": [
    "fig = plt.figure(figsize=[8,7])\n",
    "\n",
    "ax = fig.add_subplot(211)\n",
    "im1 = ax.imshow(nda_arr1, \n",
    "           aspect='auto', origin='lower',\n",
    "        #    vmin=(np.mean(nda_arr1)-2 * np.std(nda_arr1)),\n",
    "        #    vmax=(np.mean(nda_arr1)+3 * np.std(nda_arr1)),\n",
    "    vmin=np.percentile(nda_arr1, 1),\n",
    "    vmax=np.percentile(nda_arr1, 95),\n",
    "           extent=[mdates.date2num(datetimes_list[0]), mdates.date2num(datetimes_list[-1]), nda_freq[0], nda_freq[-1]],\n",
    "           cmap='inferno')\n",
    "\n",
    "ax.set_ylabel('Frequency (MHz)')\n",
    "ax.set_title(nda_data[0].header['ORIGIN'] + ' [1] ' + nda_data[0].header['DATE-OBS'])\n",
    "ax.xaxis_date()\n",
    "ax.xaxis.set_major_formatter(mdates.DateFormatter('%H:%M'))\n",
    "plt.colorbar(im1, label='im1')\n",
    "\n",
    "ax = fig.add_subplot(212)\n",
    "im2 = ax.imshow(nda_arr2,\n",
    "           aspect='auto', origin='lower',\n",
    "        #    vmin=(np.mean(nda_arr2)-2 * np.std(nda_arr2)),\n",
    "        #    vmax=(np.mean(nda_arr2)+3 * np.std(nda_arr2)),\n",
    "    vmin=np.percentile(nda_arr2, 1),\n",
    "    vmax=np.percentile(nda_arr2, 95),\n",
    "           extent=[mdates.date2num(datetimes_list[0]), mdates.date2num(datetimes_list[-1]), nda_freq[0], nda_freq[-1]],\n",
    "           cmap='inferno')\n",
    "\n",
    "ax.set_xlabel('Time (UT)')\n",
    "ax.set_ylabel('Frequency (MHz)')\n",
    "ax.set_title(nda_data[0].header['ORIGIN'] + ' [2] ' + nda_data[0].header['DATE-OBS'])\n",
    "ax.xaxis_date()\n",
    "ax.xaxis.set_major_formatter(mdates.DateFormatter('%H:%M'))\n",
    "plt.colorbar(im2, label='im2')\n",
    "\n",
    "fig.tight_layout()\n",
    "plt.show()"
   ]
  },
  {
   "cell_type": "code",
   "execution_count": null,
   "metadata": {},
   "outputs": [],
   "source": [
    "nda_diff = nda_arr2 - nda_arr1\n",
    "\n",
    "fig = plt.figure(figsize=[8,7])\n",
    "\n",
    "ax = fig.add_subplot(211)\n",
    "im = ax.imshow(nda_diff, \n",
    "           aspect='auto', origin='lower',\n",
    "    vmin=np.percentile(nda_diff, 1),\n",
    "    vmax=np.percentile(nda_diff, 70),\n",
    "           extent=[mdates.date2num(datetimes_list[0]), mdates.date2num(datetimes_list[-1]), nda_freq[0], nda_freq[-1]],\n",
    "           cmap='inferno')\n",
    "\n",
    "ax.set_xlabel('Time (UT)')\n",
    "ax.set_ylabel('Frequency (MHz)')\n",
    "ax.set_title('Difference ' + nda_data[0].header['DATE-OBS'])\n",
    "ax.xaxis_date()\n",
    "ax.xaxis.set_major_formatter(mdates.DateFormatter('%H:%M'))\n",
    "plt.colorbar(im2, label='im')\n",
    "\n",
    "fig.tight_layout()\n",
    "plt.show()"
   ]
  },
  {
   "cell_type": "code",
   "execution_count": null,
   "metadata": {},
   "outputs": [],
   "source": [
    "fig = plt.figure(figsize=[8,7])\n",
    "\n",
    "ax = fig.add_subplot(211)\n",
    "im1 = ax.pcolormesh(datetimes_list, nda_freq, nda_arr1,\n",
    "    vmin=np.percentile(nda_arr1, 1),\n",
    "    vmax=np.percentile(nda_arr1, 95),\n",
    "           cmap='inferno')\n",
    "\n",
    "ax.set_ylabel('Frequency (MHz)')\n",
    "ax.set_title(nda_data[0].header['ORIGIN'] + ' [1] ' + nda_data[0].header['DATE-OBS'])\n",
    "ax.xaxis_date()\n",
    "ax.xaxis.set_major_formatter(mdates.DateFormatter('%H:%M'))\n",
    "plt.colorbar(im1, label='im1')\n",
    "\n",
    "ax = fig.add_subplot(212)\n",
    "im2 = ax.pcolormesh(datetimes_list, nda_freq, nda_arr2,\n",
    "    vmin=np.percentile(nda_arr2, 1),\n",
    "    vmax=np.percentile(nda_arr2, 95),\n",
    "           cmap='inferno')\n",
    "\n",
    "ax.set_xlabel('Time (UT)')\n",
    "ax.set_ylabel('Frequency (MHz)')\n",
    "ax.set_title(nda_data[0].header['ORIGIN'] + ' [2] ' + nda_data[0].header['DATE-OBS'])\n",
    "ax.xaxis_date()\n",
    "ax.xaxis.set_major_formatter(mdates.DateFormatter('%H:%M'))\n",
    "plt.colorbar(im2, label='im2')\n",
    "\n",
    "fig.tight_layout()\n",
    "plt.show()"
   ]
  },
  {
   "cell_type": "code",
   "execution_count": null,
   "metadata": {},
   "outputs": [],
   "source": [
    "fig = plt.figure(figsize=[8,4])\n",
    "ax = fig.add_subplot(111)\n",
    "im1 = ax.pcolormesh(datetimes_list, nda_freq, nda_arr1,\n",
    "                    vmin=np.percentile(nda_arr1, 1),\n",
    "                    vmax=np.percentile(nda_arr1, 95),\n",
    "                    cmap='inferno')\n",
    "\n",
    "ax.set_xlim(left=pd.Timestamp('2021-09-18 08:00'), right=pd.Timestamp('2021-09-18 09:00'))\n",
    "ax.set_xlabel('Time (UT)')\n",
    "ax.set_ylabel('Frequency (MHz)')\n",
    "ax.set_title(nda_data[0].header['ORIGIN'] + ' [1] ' + nda_data[0].header['DATE-OBS'])\n",
    "ax.xaxis_date()\n",
    "ax.xaxis.set_major_formatter(mdates.DateFormatter('%H:%M'))\n",
    "plt.colorbar(im1, pad=0.02, label='im1')\n",
    "fig.tight_layout()\n",
    "plt.show()"
   ]
  },
  {
   "cell_type": "code",
   "execution_count": null,
   "metadata": {},
   "outputs": [],
   "source": []
  },
  {
   "cell_type": "code",
   "execution_count": null,
   "metadata": {},
   "outputs": [],
   "source": []
  },
  {
   "cell_type": "code",
   "execution_count": null,
   "metadata": {},
   "outputs": [],
   "source": []
  },
  {
   "cell_type": "code",
   "execution_count": null,
   "metadata": {},
   "outputs": [],
   "source": [
    "nda_arr1.shape, nda_arr2.shape, len(datetimes_list), len(time_data)"
   ]
  },
  {
   "cell_type": "code",
   "execution_count": null,
   "metadata": {},
   "outputs": [],
   "source": [
    "fig = plt.figure(figsize=[10,5])\n",
    "\n",
    "ax = fig.add_subplot(211)\n",
    "ax.plot(datetimes_list, nda_arr1[70,:], label='arr 1')\n",
    "ax.plot(datetimes_list, nda_arr2[70,:], label='arr 2')\n",
    "ax.set_ylabel('Frequency (MHz)')\n",
    "ax.legend()\n",
    "ax.xaxis_date()\n",
    "ax.xaxis.set_major_formatter(mdates.DateFormatter('%H:%M'))\n",
    "\n",
    "ax = fig.add_subplot(212)\n",
    "ax.plot(datetimes_list, nda_diff[70,:], label='Diff')\n",
    "ax.set_xlabel('Time (UT)')\n",
    "ax.set_ylabel('Frequency (MHz)')\n",
    "ax.legend()\n",
    "ax.xaxis_date()\n",
    "ax.xaxis.set_major_formatter(mdates.DateFormatter('%H:%M'))\n",
    "\n",
    "fig.tight_layout()\n",
    "plt.show()"
   ]
  },
  {
   "cell_type": "code",
   "execution_count": null,
   "metadata": {},
   "outputs": [],
   "source": []
  },
  {
   "cell_type": "code",
   "execution_count": null,
   "metadata": {},
   "outputs": [],
   "source": []
  }
 ],
 "metadata": {
  "kernelspec": {
   "display_name": "Python 3 (ipykernel)",
   "language": "python",
   "name": "python3"
  },
  "language_info": {
   "codemirror_mode": {
    "name": "ipython",
    "version": 3
   },
   "file_extension": ".py",
   "mimetype": "text/x-python",
   "name": "python",
   "nbconvert_exporter": "python",
   "pygments_lexer": "ipython3",
   "version": "3.10.13"
  }
 },
 "nbformat": 4,
 "nbformat_minor": 4
}
