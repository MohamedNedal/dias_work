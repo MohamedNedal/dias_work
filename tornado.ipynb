{
 "cells": [
  {
   "cell_type": "code",
   "execution_count": null,
   "id": "4c92ce7c-a767-4a56-8b3b-9d5656d2a848",
   "metadata": {
    "editable": true,
    "slideshow": {
     "slide_type": ""
    },
    "tags": []
   },
   "outputs": [],
   "source": [
    "# %matplotlib widget\n",
    "\n",
    "import warnings\n",
    "warnings.filterwarnings('ignore')\n",
    "\n",
    "# Configure logging to suppress INFO messages from SunPy\n",
    "import logging\n",
    "logging.getLogger('sunpy').setLevel(logging.WARNING)\n",
    "\n",
    "from datetime import datetime\n",
    "from skimage import filters, feature\n",
    "from skimage.registration import optical_flow_tvl1\n",
    "import os\n",
    "import gc\n",
    "import glob\n",
    "import numpy as np\n",
    "import pandas as pd\n",
    "import matplotlib.pyplot as plt\n",
    "import matplotlib.dates as mdates\n",
    "from matplotlib.ticker import AutoMinorLocator\n",
    "import matplotlib.animation as animation\n",
    "from matplotlib.animation import FuncAnimation, FFMpegWriter\n",
    "import astropy.io.fits as fits\n",
    "import astropy.units as u\n",
    "from astropy.coordinates import SkyCoord\n",
    "from sunpy.coordinates import Helioprojective\n",
    "import sunpy\n",
    "import sunpy.map\n",
    "from skimage.transform import resize\n",
    "from sunkit_instruments import suvi\n",
    "from aiapy.calibrate import register, update_pointing\n",
    "from scipy import stats\n",
    "import sunpy.sun.constants as const\n",
    "import matplotlib.colors as colors\n",
    "from astropy.visualization import ImageNormalize, SqrtStretch, LogStretch, PercentileInterval\n",
    "from scipy import ndimage\n",
    "import sunkit_image.enhance as enhance\n",
    "from tqdm import tqdm\n",
    "\n",
    "plt.rcParams['figure.figsize'] = [7,7]\n",
    "plt.rcParams['figure.dpi'] = 100\n",
    "plt.rcParams['savefig.dpi'] = 300\n",
    "plt.rcParams['savefig.format'] = 'png'\n",
    "plt.rcParams['figure.facecolor'] = 'white'\n",
    "plt.rcParams['savefig.facecolor'] = 'white'\n",
    "\n",
    "data_dir = '/home/mnedal/data'\n",
    "savedir = '/home/mnedal/repos/dias_work'\n",
    "\n",
    "os.makedirs(f'{data_dir}/png/aia/131A/runratio', exist_ok=True)\n",
    "os.makedirs(f'{data_dir}/png/aia/171A/runratio', exist_ok=True)\n",
    "os.makedirs(f'{data_dir}/png/aia/193A/runratio', exist_ok=True)\n",
    "os.makedirs(f'{data_dir}/png/aia/211A/runratio', exist_ok=True)"
   ]
  },
  {
   "cell_type": "markdown",
   "id": "ccb4e77e-ee67-46c5-901d-c5c28f2c47a8",
   "metadata": {},
   "source": [
    "## Load AIA maps"
   ]
  },
  {
   "cell_type": "code",
   "execution_count": null,
   "id": "19c23972-81e6-459b-ab3e-2e7b40c2361c",
   "metadata": {
    "editable": true,
    "scrolled": true,
    "slideshow": {
     "slide_type": ""
    },
    "tags": []
   },
   "outputs": [],
   "source": [
    "start_time = '2024-05-14T17:15:00'\n",
    "end_time   = '2024-05-14T19:00:00'\n",
    "\n",
    "aia_131_map_objects = load_aia(start=start_time, end=end_time, channel=131)\n",
    "aia_171_map_objects = load_aia(start=start_time, end=end_time, channel=171)\n",
    "aia_193_map_objects = load_aia(start=start_time, end=end_time, channel=193)\n",
    "aia_211_map_objects = load_aia(start=start_time, end=end_time, channel=211)"
   ]
  },
  {
   "cell_type": "code",
   "execution_count": null,
   "id": "3134497c-0b02-4fbb-821c-034c9ab4d2ad",
   "metadata": {},
   "outputs": [],
   "source": [
    "for m in aia_131_map_objects:\n",
    "    m.plot_settings['norm'] = ImageNormalize(vmin=0, vmax=2e3, stretch=LogStretch())\n",
    "    # m.plot_settings['norm'] = ImageNormalize(vmin=0, vmax=5e2, stretch=SqrtStretch())\n",
    "\n",
    "for m in aia_171_map_objects:\n",
    "    m.plot_settings['norm'] = ImageNormalize(vmin=0, vmax=4e3, stretch=LogStretch())\n",
    "    # m.plot_settings['norm'] = ImageNormalize(vmin=0, vmax=4e3, stretch=SqrtStretch())\n",
    "\n",
    "for m in aia_193_map_objects:\n",
    "    m.plot_settings['norm'] = ImageNormalize(vmin=0, vmax=4e4, stretch=LogStretch())\n",
    "    # m.plot_settings['norm'] = ImageNormalize(vmin=0, vmax=5e3, stretch=SqrtStretch())\n",
    "\n",
    "for m in aia_211_map_objects:\n",
    "    m.plot_settings['norm'] = ImageNormalize(vmin=0, vmax=4e3, stretch=LogStretch())\n",
    "    # m.plot_settings['norm'] = ImageNormalize(vmin=0, vmax=4e3, stretch=SqrtStretch())"
   ]
  },
  {
   "cell_type": "markdown",
   "id": "dd9e6d4e-88c8-41a4-80af-957f2b871df1",
   "metadata": {},
   "source": [
    "## Load SUVI maps"
   ]
  },
  {
   "cell_type": "code",
   "execution_count": null,
   "id": "a7361a9e-5330-4506-b32e-012e4d1535bf",
   "metadata": {
    "editable": true,
    "scrolled": true,
    "slideshow": {
     "slide_type": ""
    },
    "tags": []
   },
   "outputs": [],
   "source": [
    "suvi_131_map_objects = load_suvi(start='2024-05-14T17:00:00', end='2024-05-14T19:00:00', channel=131)\n",
    "suvi_171_map_objects = load_suvi(start='2024-05-14T17:00:00', end='2024-05-14T19:00:00', channel=171)\n",
    "suvi_195_map_objects = load_suvi(start='2024-05-14T17:00:00', end='2024-05-14T19:00:00', channel=195)\n",
    "suvi_284_map_objects = load_suvi(start='2024-05-14T17:00:00', end='2024-05-14T19:00:00', channel=284)"
   ]
  },
  {
   "cell_type": "markdown",
   "id": "08adf802-f3c5-400a-a348-d80e56a1c5b4",
   "metadata": {},
   "source": [
    "## Show the maps"
   ]
  },
  {
   "cell_type": "code",
   "execution_count": null,
   "id": "eb677891-9359-4410-abc2-08813ae176b4",
   "metadata": {
    "editable": true,
    "slideshow": {
     "slide_type": ""
    },
    "tags": []
   },
   "outputs": [],
   "source": [
    "idx = 35\n",
    "aia131 = aia_131_map_objects[idx]\n",
    "aia171 = aia_171_map_objects[idx]\n",
    "aia193 = aia_193_map_objects[idx]\n",
    "aia211 = aia_211_map_objects[idx]\n",
    "\n",
    "fig = plt.figure(figsize=[20,5])\n",
    "\n",
    "ax = fig.add_subplot(141, projection=aia131)\n",
    "img = aia131.plot(axes=ax)\n",
    "plt.colorbar(img, shrink=0.5, pad=0.02)\n",
    "ax.grid(False)\n",
    "\n",
    "ax = fig.add_subplot(142, projection=aia171)\n",
    "img = aia171.plot(axes=ax)\n",
    "plt.colorbar(img, shrink=0.5, pad=0.02)\n",
    "ax.grid(False)\n",
    "\n",
    "ax = fig.add_subplot(143, projection=aia193)\n",
    "img = aia193.plot(axes=ax)\n",
    "plt.colorbar(img, shrink=0.5, pad=0.02)\n",
    "ax.grid(False)\n",
    "\n",
    "ax = fig.add_subplot(144, projection=aia211)\n",
    "img = aia211.plot(axes=ax)\n",
    "plt.colorbar(img, shrink=0.5, pad=0.02)\n",
    "ax.grid(False)\n",
    "\n",
    "fig.tight_layout()\n",
    "plt.show()\n",
    "\n",
    "\n",
    "\n",
    "\n",
    "idx = 12\n",
    "suvi131 = suvi_131_map_objects[idx]\n",
    "suvi171 = suvi_171_map_objects[idx]\n",
    "suvi195 = suvi_195_map_objects[idx]\n",
    "suvi284 = suvi_284_map_objects[idx]\n",
    "\n",
    "fig = plt.figure(figsize=[20,5])\n",
    "\n",
    "ax = fig.add_subplot(141, projection=suvi131)\n",
    "img = suvi131.plot(axes=ax)\n",
    "plt.colorbar(img, shrink=0.5, pad=0.02)\n",
    "ax.grid(False)\n",
    "\n",
    "ax = fig.add_subplot(142, projection=suvi171)\n",
    "img = suvi171.plot(axes=ax)\n",
    "plt.colorbar(img, shrink=0.5, pad=0.02)\n",
    "ax.grid(False)\n",
    "\n",
    "ax = fig.add_subplot(143, projection=suvi195)\n",
    "img = suvi195.plot(axes=ax)\n",
    "plt.colorbar(img, shrink=0.5, pad=0.02)\n",
    "ax.grid(False)\n",
    "\n",
    "ax = fig.add_subplot(144, projection=suvi284)\n",
    "img = suvi284.plot(axes=ax)\n",
    "plt.colorbar(img, shrink=0.5, pad=0.02)\n",
    "ax.grid(False)\n",
    "\n",
    "fig.tight_layout()\n",
    "plt.show()"
   ]
  },
  {
   "cell_type": "code",
   "execution_count": null,
   "id": "bd50f7d0-40ba-425c-8b78-52a48d84e670",
   "metadata": {
    "editable": true,
    "slideshow": {
     "slide_type": ""
    },
    "tags": []
   },
   "outputs": [],
   "source": [
    "\n",
    "\n"
   ]
  },
  {
   "cell_type": "code",
   "execution_count": null,
   "id": "45dccc76-b73e-4b48-9472-f724db2463e2",
   "metadata": {
    "editable": true,
    "slideshow": {
     "slide_type": ""
    },
    "tags": []
   },
   "outputs": [],
   "source": [
    "idx = 35\n",
    "\n",
    "m = aia_131_map_objects[idx]\n",
    "# m = aia_171_map_objects[idx]\n",
    "# m = aia_193_map_objects[idx]\n",
    "# m = aia_211_map_objects[idx]\n",
    "\n",
    "top_right   = SkyCoord(-200*u.arcsec, 650*u.arcsec, frame=m.coordinate_frame)\n",
    "bottom_left = SkyCoord(-900*u.arcsec, 0*u.arcsec, frame=m.coordinate_frame)\n",
    "m_submap = m.submap(bottom_left, top_right=top_right)\n",
    "\n",
    "fig = plt.figure()\n",
    "ax = fig.add_subplot(projection=m_submap)\n",
    "m_submap.plot(axes=ax)\n",
    "ax.grid(False)\n",
    "fig.tight_layout()\n",
    "plt.show()"
   ]
  },
  {
   "cell_type": "markdown",
   "id": "5e999e47-6215-4d18-a11a-1351e014704d",
   "metadata": {
    "editable": true,
    "slideshow": {
     "slide_type": ""
    },
    "tags": []
   },
   "source": [
    "### Crop the ragion of interest"
   ]
  },
  {
   "cell_type": "code",
   "execution_count": null,
   "id": "e8cfe58f-9135-4d8c-a70e-04e0491b9f4d",
   "metadata": {
    "editable": true,
    "slideshow": {
     "slide_type": ""
    },
    "tags": []
   },
   "outputs": [],
   "source": [
    "idx = 14\n",
    "aia193 = aia_193_map_objects[idx]\n",
    "\n",
    "top_right   = SkyCoord(-840*u.arcsec, 420*u.arcsec, frame=aia193.coordinate_frame)\n",
    "bottom_left = SkyCoord(-920*u.arcsec, 300*u.arcsec, frame=aia193.coordinate_frame)\n",
    "aia193_submap = aia193.submap(bottom_left, top_right=top_right)\n",
    "\n",
    "fig = plt.figure()\n",
    "ax = fig.add_subplot(projection=aia193_submap)\n",
    "aia193_submap.plot(axes=ax)\n",
    "ax.grid(False)\n",
    "fig.tight_layout()\n",
    "plt.show()"
   ]
  },
  {
   "cell_type": "code",
   "execution_count": null,
   "id": "330479a9-c3c9-4eca-a443-f0f296588955",
   "metadata": {
    "editable": true,
    "slideshow": {
     "slide_type": ""
    },
    "tags": []
   },
   "outputs": [],
   "source": [
    "list_aia193maps = []\n",
    "\n",
    "for m in aia_193_map_objects:\n",
    "    # top_right   = SkyCoord(-750*u.arcsec, 430*u.arcsec, frame=m.coordinate_frame)\n",
    "    # bottom_left = SkyCoord(-970*u.arcsec, 200*u.arcsec, frame=m.coordinate_frame)\n",
    "\n",
    "    top_right   = SkyCoord(-840*u.arcsec, 420*u.arcsec, frame=m.coordinate_frame)\n",
    "    bottom_left = SkyCoord(-920*u.arcsec, 300*u.arcsec, frame=m.coordinate_frame)\n",
    "    \n",
    "    submap = m.submap(bottom_left, top_right=top_right)\n",
    "    list_aia193maps.append(submap)\n",
    "\n",
    "aia193_seq = sunpy.map.Map(list_aia193maps, sequence=True)"
   ]
  },
  {
   "cell_type": "code",
   "execution_count": null,
   "id": "539f14b8-d11e-4175-a023-3636d44000c7",
   "metadata": {
    "editable": true,
    "slideshow": {
     "slide_type": ""
    },
    "tags": []
   },
   "outputs": [],
   "source": [
    "fig = plt.figure()\n",
    "ax = fig.add_subplot(projection=aia193_seq.maps[0])\n",
    "\n",
    "def update_frame(i):\n",
    "    \"\"\"\n",
    "    Function to update each frame of the animation.\n",
    "    \"\"\"\n",
    "    aia193_seq.maps[i].plot(axes=ax)\n",
    "    ax.grid(False)\n",
    "\n",
    "ani = FuncAnimation(fig, update_frame, frames=len(aia193_seq.maps), repeat=False)\n",
    "fig.tight_layout()\n",
    "plt.show()"
   ]
  },
  {
   "cell_type": "code",
   "execution_count": null,
   "id": "83f46cf1-dfaf-4322-8f86-191ac3b8d4ef",
   "metadata": {
    "editable": true,
    "scrolled": true,
    "slideshow": {
     "slide_type": ""
    },
    "tags": []
   },
   "outputs": [],
   "source": [
    "# Export the frames as PNG images\n",
    "print(f'Length of the maps list: {len(aia193_seq)}\\n')\n",
    "\n",
    "for i, m in enumerate(aia193_seq):\n",
    "    fig = plt.figure()\n",
    "    ax = fig.add_subplot(projection=m)\n",
    "    m.plot(axes=ax)\n",
    "    ax.grid(False)\n",
    "    fig.tight_layout()\n",
    "    fig.savefig(f\"{data_dir}/png/aia/193A/AIA193_{m.meta['t_rec']}.png\", format='png', dpi=300, bbox_inches='tight')\n",
    "    plt.close()\n",
    "    print(f\"Image {i} at {m.meta['t_rec']} is done\")"
   ]
  },
  {
   "cell_type": "code",
   "execution_count": null,
   "id": "d915f832-646d-49aa-810d-fb4ca51ae0ab",
   "metadata": {},
   "outputs": [],
   "source": [
    "\n",
    "\n"
   ]
  },
  {
   "cell_type": "code",
   "execution_count": null,
   "id": "95a4747c-3f2b-4385-80b1-ea1a586cd227",
   "metadata": {},
   "outputs": [],
   "source": [
    "list_aia131maps = []\n",
    "list_aia171maps = []\n",
    "list_aia193maps = []\n",
    "list_aia211maps = []\n",
    "\n",
    "for m in aia_131_map_objects:\n",
    "    top_right   = SkyCoord(-840*u.arcsec, 420*u.arcsec, frame=m.coordinate_frame)\n",
    "    bottom_left = SkyCoord(-920*u.arcsec, 300*u.arcsec, frame=m.coordinate_frame)\n",
    "    submap = m.submap(bottom_left, top_right=top_right)\n",
    "    list_aia131maps.append(submap)\n",
    "\n",
    "for m in aia_171_map_objects:\n",
    "    top_right   = SkyCoord(-840*u.arcsec, 420*u.arcsec, frame=m.coordinate_frame)\n",
    "    bottom_left = SkyCoord(-920*u.arcsec, 300*u.arcsec, frame=m.coordinate_frame)\n",
    "    submap = m.submap(bottom_left, top_right=top_right)\n",
    "    list_aia171maps.append(submap)\n",
    "\n",
    "for m in aia_193_map_objects:\n",
    "    top_right   = SkyCoord(-840*u.arcsec, 420*u.arcsec, frame=m.coordinate_frame)\n",
    "    bottom_left = SkyCoord(-920*u.arcsec, 300*u.arcsec, frame=m.coordinate_frame)\n",
    "    submap = m.submap(bottom_left, top_right=top_right)\n",
    "    list_aia193maps.append(submap)\n",
    "\n",
    "for m in aia_211_map_objects:\n",
    "    top_right   = SkyCoord(-840*u.arcsec, 420*u.arcsec, frame=m.coordinate_frame)\n",
    "    bottom_left = SkyCoord(-920*u.arcsec, 300*u.arcsec, frame=m.coordinate_frame)\n",
    "    submap = m.submap(bottom_left, top_right=top_right)\n",
    "    list_aia211maps.append(submap)\n",
    "\n",
    "aia131_seq = sunpy.map.Map(list_aia131maps, sequence=True)\n",
    "aia171_seq = sunpy.map.Map(list_aia171maps, sequence=True)\n",
    "aia193_seq = sunpy.map.Map(list_aia193maps, sequence=True)\n",
    "aia211_seq = sunpy.map.Map(list_aia211maps, sequence=True)"
   ]
  },
  {
   "cell_type": "code",
   "execution_count": null,
   "id": "60cff0d8-fc80-49f9-b535-a39604000191",
   "metadata": {},
   "outputs": [],
   "source": [
    "# make run-ratio maps\n",
    "m_seq_runratio_131A = apply_runratio(aia131_seq)\n",
    "m_seq_runratio_171A = apply_runratio(aia171_seq)\n",
    "m_seq_runratio_193A = apply_runratio(aia193_seq)\n",
    "m_seq_runratio_211A = apply_runratio(aia211_seq)"
   ]
  },
  {
   "cell_type": "code",
   "execution_count": null,
   "id": "b796e227-ac67-4b8c-9a6c-2d318988b357",
   "metadata": {
    "editable": true,
    "slideshow": {
     "slide_type": ""
    },
    "tags": []
   },
   "outputs": [],
   "source": [
    "\n",
    "\n"
   ]
  },
  {
   "cell_type": "code",
   "execution_count": null,
   "id": "2d341793-890b-4529-ae90-a350a2ad0205",
   "metadata": {},
   "outputs": [],
   "source": [
    "fig = plt.figure()\n",
    "ax = fig.add_subplot(projection=aia171_seq.maps[0])\n",
    "\n",
    "def update_frame(i):\n",
    "    \"\"\"\n",
    "    Function to update each frame of the animation.\n",
    "    \"\"\"\n",
    "    aia171_seq.maps[i].plot(axes=ax)\n",
    "    ax.grid(False)\n",
    "\n",
    "ani = FuncAnimation(fig, update_frame, frames=len(aia171_seq.maps), repeat=False)\n",
    "fig.tight_layout()\n",
    "plt.show()"
   ]
  },
  {
   "cell_type": "code",
   "execution_count": null,
   "id": "a868604c-6241-4086-8798-2836b51bdd35",
   "metadata": {
    "scrolled": true
   },
   "outputs": [],
   "source": [
    "# Export the frames as PNG images\n",
    "print(f'Length of the maps list: {len(aia171_seq)}\\n')\n",
    "\n",
    "for i, m in enumerate(aia171_seq):\n",
    "    fig = plt.figure()\n",
    "    ax = fig.add_subplot(projection=m)\n",
    "    m.plot(axes=ax)\n",
    "    ax.grid(False)\n",
    "    fig.tight_layout()\n",
    "    fig.savefig(f\"{data_dir}/png/aia/171A/AIA171_{m.meta['t_rec']}.png\", format='png', dpi=300, bbox_inches='tight')\n",
    "    plt.close()\n",
    "    print(f\"Image {i} at {m.meta['t_rec']} is done\")"
   ]
  },
  {
   "cell_type": "code",
   "execution_count": null,
   "id": "063c27de-143d-41f3-a7d5-7eca65209cc4",
   "metadata": {},
   "outputs": [],
   "source": [
    "\n",
    "\n"
   ]
  },
  {
   "cell_type": "code",
   "execution_count": null,
   "id": "509a3294-e2f4-4080-93a9-a10ee9f8adb4",
   "metadata": {},
   "outputs": [],
   "source": [
    "fig = plt.figure()\n",
    "ax = fig.add_subplot(projection=aia131_seq.maps[0])\n",
    "\n",
    "def update_frame(i):\n",
    "    \"\"\"\n",
    "    Function to update each frame of the animation.\n",
    "    \"\"\"\n",
    "    aia131_seq.maps[i].plot(axes=ax)\n",
    "    ax.grid(False)\n",
    "\n",
    "ani = FuncAnimation(fig, update_frame, frames=len(aia131_seq.maps), repeat=False)\n",
    "plt.show()"
   ]
  },
  {
   "cell_type": "code",
   "execution_count": null,
   "id": "3db30765-8128-45be-a7a6-83ea9348523b",
   "metadata": {
    "scrolled": true
   },
   "outputs": [],
   "source": [
    "# Export the frames as PNG images\n",
    "print(f'Length of the maps list: {len(aia131_seq)}\\n')\n",
    "\n",
    "for i, m in enumerate(aia131_seq):\n",
    "    fig = plt.figure()\n",
    "    ax = fig.add_subplot(projection=m)\n",
    "    m.plot(axes=ax)\n",
    "    ax.grid(False)\n",
    "    fig.tight_layout()\n",
    "    fig.savefig(f\"{data_dir}/png/aia/131A/AIA131_{m.meta['t_rec']}.png\", format='png', dpi=300, bbox_inches='tight')\n",
    "    plt.close()\n",
    "    print(f\"Image {i} at {m.meta['t_rec']} is done\")"
   ]
  },
  {
   "cell_type": "code",
   "execution_count": null,
   "id": "69123ba6-8204-4eb6-8923-52603d4151a5",
   "metadata": {},
   "outputs": [],
   "source": [
    "\n",
    "\n"
   ]
  },
  {
   "cell_type": "code",
   "execution_count": null,
   "id": "63e65fdd-3493-481f-b706-d571efeb6dcb",
   "metadata": {},
   "outputs": [],
   "source": [
    "fig = plt.figure()\n",
    "ax = fig.add_subplot(projection=aia211_seq.maps[0])\n",
    "\n",
    "def update_frame(i):\n",
    "    \"\"\"\n",
    "    Function to update each frame of the animation.\n",
    "    \"\"\"\n",
    "    aia211_seq.maps[i].plot(axes=ax)\n",
    "    ax.grid(False)\n",
    "\n",
    "ani = FuncAnimation(fig, update_frame, frames=len(aia211_seq.maps), repeat=False)\n",
    "plt.show()"
   ]
  },
  {
   "cell_type": "code",
   "execution_count": null,
   "id": "c707db16-fad7-46ad-ab8e-990be8f03c18",
   "metadata": {
    "scrolled": true
   },
   "outputs": [],
   "source": [
    "# Export the frames as PNG images\n",
    "print(f'Length of the maps list: {len(aia211_seq)}\\n')\n",
    "\n",
    "for i, m in enumerate(aia211_seq):\n",
    "    fig = plt.figure()\n",
    "    ax = fig.add_subplot(projection=m)\n",
    "    m.plot(axes=ax)\n",
    "    ax.grid(False)\n",
    "    fig.tight_layout()\n",
    "    fig.savefig(f\"{data_dir}/png/aia/211A/AIA211_{m.meta['t_rec']}.png\", format='png', dpi=300, bbox_inches='tight')\n",
    "    plt.close()\n",
    "    print(f\"Image {i} at {m.meta['t_rec']} is done\")"
   ]
  },
  {
   "cell_type": "code",
   "execution_count": null,
   "id": "25b0d67f-e94b-41a0-b5b6-2f6bdef4380c",
   "metadata": {},
   "outputs": [],
   "source": [
    "\n",
    "\n"
   ]
  },
  {
   "cell_type": "code",
   "execution_count": null,
   "id": "5bc0627b-0781-4bc2-bc15-299963f8c862",
   "metadata": {},
   "outputs": [],
   "source": []
  },
  {
   "cell_type": "code",
   "execution_count": null,
   "id": "e5c3800c-c981-4b29-b720-62c99dd1a83c",
   "metadata": {},
   "outputs": [],
   "source": [
    "for m in m_seq_runratio_131A:\n",
    "    m.plot_settings['cmap'] = 'Greys_r'\n",
    "    m.plot_settings['norm'] = ImageNormalize(vmin=0, vmax=5, stretch=SqrtStretch())"
   ]
  },
  {
   "cell_type": "code",
   "execution_count": null,
   "id": "3230698c-8f5d-496c-984f-2a7d5dde1617",
   "metadata": {},
   "outputs": [],
   "source": [
    "for m in m_seq_runratio_171A:\n",
    "    m.plot_settings['cmap'] = 'Greys_r'\n",
    "    m.plot_settings['norm'] = ImageNormalize(vmin=0, vmax=5, stretch=SqrtStretch())"
   ]
  },
  {
   "cell_type": "code",
   "execution_count": null,
   "id": "81ce71bd-be33-43eb-8f4e-8ed0683badfe",
   "metadata": {},
   "outputs": [],
   "source": [
    "for m in m_seq_runratio_193A:\n",
    "    # m.data[np.isnan(m.data)] = 1\n",
    "    m.plot_settings['cmap'] = 'Greys_r'\n",
    "    m.plot_settings['norm'] = ImageNormalize(vmin=0, vmax=5, stretch=SqrtStretch())"
   ]
  },
  {
   "cell_type": "code",
   "execution_count": null,
   "id": "38b1dccb-bded-4c85-9567-b992ec4f4ebf",
   "metadata": {},
   "outputs": [],
   "source": [
    "for m in m_seq_runratio_211A:\n",
    "    # m.data[np.isnan(m.data)] = 1\n",
    "    m.plot_settings['cmap'] = 'Greys_r'\n",
    "    m.plot_settings['norm'] = ImageNormalize(vmin=0, vmax=5, stretch=SqrtStretch())"
   ]
  },
  {
   "cell_type": "code",
   "execution_count": null,
   "id": "e660d8b9-cf0d-4aec-9a5a-86fee68d8352",
   "metadata": {},
   "outputs": [],
   "source": [
    "# Test ...\n",
    "i = 14\n",
    "\n",
    "fig = plt.figure()\n",
    "ax = fig.add_subplot(projection=m_seq_runratio_131A.maps[i])\n",
    "m_seq_runratio_171A.maps[i].plot(axes=ax)\n",
    "ax.grid(False)\n",
    "fig.tight_layout()\n",
    "plt.show()"
   ]
  },
  {
   "cell_type": "code",
   "execution_count": null,
   "id": "edb09546-cff8-4bfb-a9b0-8f334bd051e8",
   "metadata": {},
   "outputs": [],
   "source": [
    "\n",
    "\n"
   ]
  },
  {
   "cell_type": "code",
   "execution_count": null,
   "id": "dc434ed1-3f58-42a7-90e5-9471cd93f9a6",
   "metadata": {},
   "outputs": [],
   "source": [
    "fig = plt.figure()\n",
    "ax = fig.add_subplot(projection=m_seq_runratio_171A.maps[0])\n",
    "\n",
    "def update_frame(i):\n",
    "    \"\"\"\n",
    "    Function to update each frame of the animation.\n",
    "    \"\"\"\n",
    "    m_seq_runratio_171A.maps[i].plot(axes=ax)\n",
    "    ax.grid(False)\n",
    "\n",
    "ani = FuncAnimation(fig, update_frame, frames=len(m_seq_runratio_171A.maps), repeat=False)\n",
    "plt.show()"
   ]
  },
  {
   "cell_type": "code",
   "execution_count": null,
   "id": "fc331d5e-be77-480a-a25c-d58f6d15323f",
   "metadata": {
    "scrolled": true
   },
   "outputs": [],
   "source": [
    "# Export the frames as PNG images\n",
    "print(f'Length of the maps list: {len(m_seq_runratio_171A)}\\n')\n",
    "\n",
    "for i, m in enumerate(m_seq_runratio_171A):\n",
    "    fig = plt.figure()\n",
    "    ax = fig.add_subplot(projection=m)\n",
    "    m.plot(axes=ax)\n",
    "    ax.grid(False)\n",
    "    fig.tight_layout()\n",
    "    fig.savefig(f\"{data_dir}/png/aia/171A/runratio/AIA171_runratio_{m.meta['t_rec']}.png\", format='png', dpi=300, bbox_inches='tight')\n",
    "    plt.close()\n",
    "    print(f\"Image {i} at {m.meta['t_rec']} is done\")"
   ]
  },
  {
   "cell_type": "code",
   "execution_count": null,
   "id": "b236be73-cc18-4503-856f-ffa51efd706a",
   "metadata": {},
   "outputs": [],
   "source": [
    "\n",
    "\n"
   ]
  },
  {
   "cell_type": "code",
   "execution_count": null,
   "id": "131e33d2-428f-4eb0-bfda-7d30f9b7e1f7",
   "metadata": {},
   "outputs": [],
   "source": [
    "fig = plt.figure()\n",
    "ax = fig.add_subplot(projection=m_seq_runratio_193A.maps[0])\n",
    "\n",
    "def update_frame(i):\n",
    "    \"\"\"\n",
    "    Function to update each frame of the animation.\n",
    "    \"\"\"\n",
    "    m_seq_runratio_193A.maps[i].plot(axes=ax)\n",
    "    ax.grid(False)\n",
    "\n",
    "ani = FuncAnimation(fig, update_frame, frames=len(m_seq_runratio_193A.maps), repeat=False)\n",
    "plt.show()"
   ]
  },
  {
   "cell_type": "code",
   "execution_count": null,
   "id": "2c42e3f0-0547-4139-aded-3cd356228c24",
   "metadata": {
    "scrolled": true
   },
   "outputs": [],
   "source": [
    "# Export the frames as PNG images\n",
    "print(f'Length of the maps list: {len(m_seq_runratio_193A)}\\n')\n",
    "\n",
    "for i, m in enumerate(m_seq_runratio_193A):\n",
    "    fig = plt.figure()\n",
    "    ax = fig.add_subplot(projection=m)\n",
    "    m.plot(axes=ax)\n",
    "    ax.grid(False)\n",
    "    fig.tight_layout()\n",
    "    fig.savefig(f\"{data_dir}/png/aia/193A/runratio/AIA193_runratio_{m.meta['t_rec']}.png\", format='png', dpi=300, bbox_inches='tight')\n",
    "    plt.close()\n",
    "    print(f\"Image {i} at {m.meta['t_rec']} is done\")"
   ]
  },
  {
   "cell_type": "code",
   "execution_count": null,
   "id": "3cbf8c59-5ee9-461f-9a0f-ec1dd78c15eb",
   "metadata": {},
   "outputs": [],
   "source": []
  },
  {
   "cell_type": "code",
   "execution_count": null,
   "id": "0550b594-7273-4e38-88cc-a0797cda8d65",
   "metadata": {},
   "outputs": [],
   "source": []
  },
  {
   "cell_type": "code",
   "execution_count": null,
   "id": "2b5ddf4a-d622-47bd-968f-a9c5bf71df5d",
   "metadata": {},
   "outputs": [],
   "source": []
  },
  {
   "cell_type": "code",
   "execution_count": null,
   "id": "56f076ad-d92c-4758-aa48-033d327b64b1",
   "metadata": {},
   "outputs": [],
   "source": []
  },
  {
   "cell_type": "code",
   "execution_count": null,
   "id": "05b00423-ad2c-47ae-a957-f8b3fb077353",
   "metadata": {},
   "outputs": [],
   "source": []
  },
  {
   "cell_type": "code",
   "execution_count": null,
   "id": "e1d6b9c2-2ac1-40a3-af60-e0b050e7e922",
   "metadata": {},
   "outputs": [],
   "source": []
  },
  {
   "cell_type": "markdown",
   "id": "e36f2f93-aaa5-4555-9567-0bf0bb9599e4",
   "metadata": {},
   "source": [
    "## Local Correlation Tracking (LCT) Method\n",
    "### based on the Lucas-Kanade method"
   ]
  },
  {
   "cell_type": "code",
   "execution_count": null,
   "id": "a931340e-e85a-4541-b5c3-e4af38b3bca6",
   "metadata": {},
   "outputs": [],
   "source": [
    "# Extract two consecutive images for the example\n",
    "idx = 14\n",
    "image1 = m_seq_runratio_193A.maps[idx].data\n",
    "image2 = m_seq_runratio_193A.maps[idx+1].data\n",
    "\n",
    "# Calculate optical flow using the TV-L1 method (which is robust to noise)\n",
    "flow = optical_flow_tvl1(image1, image2)\n",
    "\n",
    "# flow is a 2D vector field, with flow[0] corresponding to the x-component of the vector and flow[1] to the y-component\n",
    "vx, vy = flow\n",
    "\n",
    "# Calculate the speed (magnitude of the flow vectors)\n",
    "speed_pix_per_frame = np.sqrt(vx**2 + vy**2)"
   ]
  },
  {
   "cell_type": "code",
   "execution_count": null,
   "id": "25397534-a724-4e8e-bb7a-45c25f4ee8a7",
   "metadata": {},
   "outputs": [],
   "source": [
    "fig = plt.figure(figsize=[10,6])\n",
    "\n",
    "ax = fig.add_subplot(121)\n",
    "ax.imshow(image1, cmap='Greys_r')\n",
    "ax.quiver(vx, vy, color='dodgerblue')\n",
    "ax.set_title('Flow vectors')\n",
    "\n",
    "ax = fig.add_subplot(122)\n",
    "img2 = ax.imshow(speed_pix_per_frame, cmap='hot')\n",
    "ax.set_title('Speed Magnitude')\n",
    "plt.colorbar(img2, shrink=0.9, pad=0.02, label='Speed (pixels per frame)')\n",
    "\n",
    "fig.tight_layout()\n",
    "plt.show()"
   ]
  },
  {
   "cell_type": "code",
   "execution_count": null,
   "id": "e7cb404e-d95b-4fd6-a934-7a4c9401dd7d",
   "metadata": {},
   "outputs": [],
   "source": [
    "m_seq_runratio_193A.maps[idx].meta['t_rec'], m_seq_runratio_193A.maps[idx+1].meta['t_rec']"
   ]
  },
  {
   "cell_type": "code",
   "execution_count": null,
   "id": "b9f61db2-00d7-43fc-92f4-c7ef91787741",
   "metadata": {},
   "outputs": [],
   "source": [
    "idx = 14\n",
    "\n",
    "# Parse the datetime strings to datetime objects\n",
    "datetime_str1 = m_seq_runratio_193A.maps[idx].meta['t_rec']\n",
    "datetime_str2 = m_seq_runratio_193A.maps[idx+1].meta['t_rec']\n",
    "\n",
    "datetime1 = datetime.strptime(datetime_str1, '%Y-%m-%dT%H:%M:%SZ')\n",
    "datetime2 = datetime.strptime(datetime_str2, '%Y-%m-%dT%H:%M:%SZ')\n",
    "\n",
    "# Calculate the time difference\n",
    "time_difference = datetime2 - datetime1\n",
    "\n",
    "print(time_difference.total_seconds())\n",
    "print(datetime_str1, datetime_str2)"
   ]
  },
  {
   "cell_type": "markdown",
   "id": "da8684db-b172-4463-999b-deca68fa442f",
   "metadata": {},
   "source": [
    "To convert speed from pixels per frame to km/s:\n",
    "\n",
    "\t1.\tConvert the pixel scale to radians.\n",
    "\t2.\tConvert radians to kilometers using the Sun’s radius.\n",
    "\t3.\tMultiply the speed in pixels per frame by the distance in km per pixel.\n",
    "\t4.\tDivide by the time interval in seconds to get km/s."
   ]
  },
  {
   "cell_type": "code",
   "execution_count": null,
   "id": "7d39bead-ccaa-4701-ac94-c47a2953b431",
   "metadata": {},
   "outputs": [],
   "source": [
    "pixel_scale_in_rad  = m_seq_runratio_193A.maps[idx].scale[0].to('rad/pix')            # Convert Pixel Scale to Radians\n",
    "distance_km_per_pix = pixel_scale_in_rad * const.radius.to('km')                      # Convert to Kilometers\n",
    "speed_km_per_second = (distance_km_per_pix * speed_pix_per_frame*u.pix/u.s)/time_diff # Calculate Speed in km/s\n",
    "\n",
    "speed_map = sunpy.map.Map(speed_km_per_second, m_seq_runratio_193A.maps[idx].meta)    # Convert to sunpy map\n",
    "speed_map.meta['bunit'] = 'km/s'"
   ]
  },
  {
   "cell_type": "code",
   "execution_count": null,
   "id": "00eb198c-b3ed-4072-8833-e4c91c4153e8",
   "metadata": {
    "editable": true,
    "slideshow": {
     "slide_type": ""
    },
    "tags": []
   },
   "outputs": [],
   "source": [
    "fig = plt.figure(figsize=[7,10])\n",
    "ax = fig.add_subplot(projection=speed_map)\n",
    "img = speed_map.plot(axes=ax, cmap='hot')\n",
    "\n",
    "# Define contour levels\n",
    "contour_levels = np.arange(0.4, 2, 0.2)*u.km/u.s\n",
    "C = speed_map.draw_contours(axes=ax, levels=contour_levels)\n",
    "ax.clabel(C)\n",
    "\n",
    "ax.set_title(f'AIA 193 $\\AA$ {datetime1.date()}: {datetime1.time()} - {datetime2.time()} UT')\n",
    "ax.grid(False)\n",
    "plt.colorbar(img, shrink=0.8, pad=0.02, label='Speed (km/s)')\n",
    "fig.tight_layout()\n",
    "plt.show()"
   ]
  },
  {
   "cell_type": "code",
   "execution_count": null,
   "id": "9a29330e-2948-4fc6-bdfa-d50a60b2b692",
   "metadata": {
    "editable": true,
    "slideshow": {
     "slide_type": ""
    },
    "tags": []
   },
   "outputs": [],
   "source": [
    "# export all speed maps\n",
    "os.makedirs(f'{data_dir}/png/tornado/aia/{channel}A/flow_speed', exist_ok=True)\n",
    "\n",
    "flow_maps, speed_maps = [], []\n",
    "\n",
    "channel = 211                                  # RENAME ...\n",
    "with tqdm(total=len(aia211_seq.maps), desc='Exporting flow speed maps ...') as pbar:\n",
    "    for idx in range(1, len(aia211_seq.maps)): # RENAME ...\n",
    "        image1 = aia211_seq.maps[idx-1]        # RENAME ...\n",
    "        image2 = aia211_seq.maps[idx]          # RENAME ...\n",
    "        \n",
    "        # Calculate optical flow using the TV-L1 method (which is robust to noise)\n",
    "        flow = optical_flow_tvl1(image1.data, image2.data)\n",
    "        flow_maps.append(flow)\n",
    "        # flow is a 2D vector field, with flow[0] corresponding to the x-component of the vector and flow[1] to the y-component\n",
    "        vx, vy = flow\n",
    "        # Calculate the speed (magnitude of the flow vectors)\n",
    "        speed_pix_per_frame = np.sqrt(vx**2 + vy**2)\n",
    "        \n",
    "        # Parse the datetime strings to datetime objects\n",
    "        datetime_str1 = image1.meta['t_rec']\n",
    "        datetime_str2 = image2.meta['t_rec']\n",
    "        datetime1 = datetime.strptime(datetime_str1, '%Y-%m-%dT%H:%M:%SZ')\n",
    "        datetime2 = datetime.strptime(datetime_str2, '%Y-%m-%dT%H:%M:%SZ')\n",
    "        # Calculate the time difference\n",
    "        time_difference = datetime2 - datetime1\n",
    "        \n",
    "        pixel_scale_in_rad  = image1.scale[0].to('rad/pix') # Convert Pixel Scale to Radians\n",
    "        distance_km_per_pix = pixel_scale_in_rad * const.radius.to('km') # Convert to Kilometers\n",
    "        speed_km_per_second = (distance_km_per_pix * speed_pix_per_frame*u.pix/u.s)/time_diff # Calculate Speed in km/s\n",
    "        speed_map = sunpy.map.Map(speed_km_per_second, image1.meta) # Convert to sunpy map\n",
    "        speed_map.meta['bunit'] = 'km/s'\n",
    "        speed_maps.append(speed_map)\n",
    "        \n",
    "        fig = plt.figure(figsize=[7,10])\n",
    "        ax = fig.add_subplot(projection=speed_map)\n",
    "        img = speed_map.plot(axes=ax, cmap='hot')\n",
    "        ax.set_title(f'AIA {channel} $\\AA$ {datetime1.date()}: {datetime1.time()} - {datetime2.time()} UT')\n",
    "        ax.grid(False)\n",
    "        plt.colorbar(img, shrink=0.8, pad=0.02, label='Speed (km/s)')\n",
    "        fig.tight_layout()\n",
    "        output_filename = f\"{data_dir}/png/tornado/aia/{channel}A/flow_speed/{image1.meta['instrume'].split('_')[0]}_{image1.meta['wavelnth']}A_{image1.meta['t_rec']}_speed.png\"\n",
    "        fig.savefig(output_filename, dpi=100, bbox_inches='tight')\n",
    "        plt.close()\n",
    "        pbar.update(1)"
   ]
  },
  {
   "cell_type": "code",
   "execution_count": null,
   "id": "eed74d3e-b42f-4f74-b057-5432939f428a",
   "metadata": {},
   "outputs": [],
   "source": [
    "idx = 14\n",
    "image1 = aia211_seq.maps[idx-1] # RENAME ...\n",
    "image2 = aia211_seq.maps[idx]   # RENAME ...\n",
    "vx, vy = flow_maps[idx]\n",
    "speed_map = speed_maps[idx]\n",
    "\n",
    "# Downsample the Flow Field\n",
    "downsample_factor = 2  # Adjust this factor as needed\n",
    "vx_downsampled = vx[::downsample_factor, ::downsample_factor]\n",
    "vy_downsampled = vy[::downsample_factor, ::downsample_factor]\n",
    "\n",
    "# Instead of plotting arrows for every pixel, plot arrows on a grid of points\n",
    "x, y = np.meshgrid(np.arange(vx.shape[1]), np.arange(vx.shape[0]))\n",
    "x_downsampled = x[::downsample_factor, ::downsample_factor]\n",
    "y_downsampled = y[::downsample_factor, ::downsample_factor]\n",
    "\n",
    "# Apply an edge enhance filter to the data in both x and y directions and combine the two images together\n",
    "sx = ndimage.sobel(image1.data, axis=0, mode='constant')\n",
    "sy = ndimage.sobel(image1.data, axis=1, mode='constant')\n",
    "edge_enhanced_image1 = np.hypot(sx, sy)\n",
    "edge_image1 = sunpy.map.Map(edge_enhanced_image1, image1.meta)\n",
    "\n",
    "fig = plt.figure(figsize=[17,5])\n",
    "\n",
    "ax = fig.add_subplot(141, projection=image1)\n",
    "image1.plot(axes=ax)\n",
    "ax.grid(False)\n",
    "\n",
    "ax = fig.add_subplot(142, projection=image2)\n",
    "image2.plot(axes=ax)\n",
    "ax.grid(False)\n",
    "\n",
    "ax = fig.add_subplot(143, projection=image1)\n",
    "m_seq_runratio_193A.maps[14].plot(axes=ax, cmap='Greys')\n",
    "# ax.quiver(vx, vy, color='dodgerblue')\n",
    "ax.quiver(x_downsampled, y_downsampled, vx_downsampled, vy_downsampled, color='dodgerblue')\n",
    "ax.set_title('Flow vectors')\n",
    "ax.grid(False)\n",
    "\n",
    "ax = fig.add_subplot(144, projection=speed_map)\n",
    "img = speed_map.plot(axes=ax, cmap='hot')\n",
    "ax.set_title('Flow Speed')\n",
    "ax.grid(False)\n",
    "plt.colorbar(img, shrink=0.9, pad=0.02, label='Speed (km/s)')\n",
    "\n",
    "fig.tight_layout()\n",
    "plt.show()"
   ]
  },
  {
   "cell_type": "markdown",
   "id": "605e2ca6-55fc-41f9-a337-1291549b8cbe",
   "metadata": {},
   "source": [
    "## Apply Sobel edge enhance filter to the data in both x and y directions and combine the two images together"
   ]
  },
  {
   "cell_type": "code",
   "execution_count": null,
   "id": "42d8873b-6f10-4ef6-b9f9-77cce13db9e5",
   "metadata": {},
   "outputs": [],
   "source": [
    "sobel_h = ndimage.sobel(image1.data, axis=0) # horizontal gradient\n",
    "sobel_v = ndimage.sobel(image1.data, axis=1) # vertical gradient\n",
    "# magnitude = np.sqrt(sobel_h**2 + sobel_v**2)\n",
    "magnitude = np.hypot(sobel_h, sobel_v) # same as previous line\n",
    "magnitude *= 255.0 / np.max(magnitude)       # normalization\n",
    "\n",
    "sx_map = sunpy.map.Map(sobel_h, image1.meta)\n",
    "sy_map = sunpy.map.Map(sobel_v, image1.meta)\n",
    "enhanced_map = sunpy.map.Map(magnitude, image1.meta)\n",
    "\n",
    "fig = plt.figure(figsize=[8,10])\n",
    "fig.suptitle(f'{enhanced_map.latex_name}')\n",
    "plt.gray()\n",
    "\n",
    "ax = fig.add_subplot(221, projection=image1)\n",
    "image1.plot(axes=ax)\n",
    "ax.grid(False)\n",
    "ax.set_title('Original')\n",
    "\n",
    "ax = fig.add_subplot(222, projection=sx_map)\n",
    "sx_map.plot(axes=ax)\n",
    "ax.grid(False)\n",
    "ax.set_title('Horizontal')\n",
    "\n",
    "ax = fig.add_subplot(223, projection=sy_map)\n",
    "sy_map.plot(axes=ax)\n",
    "ax.grid(False)\n",
    "ax.set_title('Vertical')\n",
    "\n",
    "ax = fig.add_subplot(224, projection=enhanced_map)\n",
    "enhanced_map.plot(axes=ax)\n",
    "ax.grid(False)\n",
    "ax.set_title('Magnitude')\n",
    "\n",
    "fig.tight_layout()\n",
    "plt.show()"
   ]
  },
  {
   "cell_type": "code",
   "execution_count": null,
   "id": "ba06e272-48c9-479b-8de7-472ad8d0f09f",
   "metadata": {
    "scrolled": true
   },
   "outputs": [],
   "source": [
    "channel = 211\n",
    "os.makedirs(f'{data_dir}/png/aia/{channel}A/sobel_filter', exist_ok=True)\n",
    "\n",
    "print(len(aia211_seq))\n",
    "\n",
    "with tqdm(total=len(aia211_seq), desc='Exporting Sobel maps ...') as pbar:\n",
    "    for image in aia211_seq:\n",
    "        sobel_h = ndimage.sobel(image.data, axis=0) # horizontal gradient\n",
    "        sobel_v = ndimage.sobel(image.data, axis=1) # vertical gradient\n",
    "        magnitude = np.hypot(sobel_h, sobel_v)\n",
    "        magnitude *= 255.0 / np.max(magnitude)      # normalization\n",
    "        \n",
    "        sx_map = sunpy.map.Map(sobel_h, image.meta)\n",
    "        sy_map = sunpy.map.Map(sobel_v, image.meta)\n",
    "        enhanced_map = sunpy.map.Map(magnitude, image.meta)\n",
    "        \n",
    "        fig = plt.figure(figsize=[8,10])\n",
    "        fig.suptitle(f'{enhanced_map.latex_name}')\n",
    "        plt.gray()\n",
    "        \n",
    "        ax = fig.add_subplot(221, projection=image)\n",
    "        image.plot(axes=ax)\n",
    "        ax.grid(False)\n",
    "        ax.set_title('Original')\n",
    "        \n",
    "        ax = fig.add_subplot(222, projection=sx_map)\n",
    "        sx_map.plot(axes=ax)\n",
    "        ax.grid(False)\n",
    "        ax.set_title('Horizontal')\n",
    "        \n",
    "        ax = fig.add_subplot(223, projection=sy_map)\n",
    "        sy_map.plot(axes=ax)\n",
    "        ax.grid(False)\n",
    "        ax.set_title('Vertical')\n",
    "        \n",
    "        ax = fig.add_subplot(224, projection=enhanced_map)\n",
    "        enhanced_map.plot(axes=ax)\n",
    "        ax.grid(False)\n",
    "        ax.set_title('Magnitude')\n",
    "        \n",
    "        fig.tight_layout()\n",
    "        output_filename = f\"{data_dir}/png/aia/{channel}A/sobel_filter/{image.meta['instrume'].split('_')[0]}_{image.meta['wavelnth']}A_{image.meta['t_rec']}_sobel.png\"\n",
    "        fig.savefig(output_filename, dpi=100, bbox_inches='tight')\n",
    "        plt.close()\n",
    "        pbar.update(1)"
   ]
  },
  {
   "cell_type": "markdown",
   "id": "9852a717-0366-4489-a619-3bd85b558b84",
   "metadata": {},
   "source": [
    "### Apply LCT with Sobel filter"
   ]
  },
  {
   "cell_type": "code",
   "execution_count": null,
   "id": "0fe95f27-0c24-43b4-bc7f-c13991fd53f2",
   "metadata": {},
   "outputs": [],
   "source": [
    "# export all speed maps\n",
    "os.makedirs(f'{data_dir}/png/aia/{channel}A/sobel_filter/speed_sobel_maps', exist_ok=True)\n",
    "\n",
    "flow_sobel_maps, speed_sobel_maps = [], []\n",
    "\n",
    "channel = 211                                  # RENAME ...\n",
    "with tqdm(total=len(aia211_seq.maps), desc='Exporting flow speed maps ...') as pbar:\n",
    "    for idx in range(1, len(aia211_seq.maps)): # RENAME ...\n",
    "        image1 = aia211_seq.maps[idx-1]        # RENAME ...\n",
    "        image2 = aia211_seq.maps[idx]          # RENAME ...\n",
    "\n",
    "        # Sobel filter\n",
    "        sobel_h1 = ndimage.sobel(image1.data, axis=0) # horizontal gradient\n",
    "        sobel_v1 = ndimage.sobel(image1.data, axis=1) # vertical gradient\n",
    "        magnitude1 = np.hypot(sobel_h1, sobel_v1)\n",
    "        magnitude1 *= 255.0 / np.max(magnitude1)      # normalization\n",
    "        enhanced_map1 = sunpy.map.Map(magnitude1, image1.meta)\n",
    "\n",
    "        sobel_h2 = ndimage.sobel(image2.data, axis=0) # horizontal gradient\n",
    "        sobel_v2 = ndimage.sobel(image2.data, axis=1) # vertical gradient\n",
    "        magnitude2 = np.hypot(sobel_h2, sobel_v2)\n",
    "        magnitude2 *= 255.0 / np.max(magnitude2)      # normalization\n",
    "        enhanced_map2 = sunpy.map.Map(magnitude2, image2.meta)\n",
    "\n",
    "        # Calculate optical flow using the TV-L1 method (which is robust to noise)\n",
    "        flow = optical_flow_tvl1(enhanced_map1.data, enhanced_map2.data)\n",
    "        flow_sobel_maps.append(flow)\n",
    "        # flow is a 2D vector field, with flow[0] corresponding to the x-component of the vector and flow[1] to the y-component\n",
    "        vx, vy = flow\n",
    "        # Calculate the speed (magnitude of the flow vectors)\n",
    "        speed_pix_per_frame = np.hypot(vx, vy)\n",
    "        \n",
    "        # Parse the datetime strings to datetime objects\n",
    "        datetime_str1 = enhanced_map1.meta['t_rec']\n",
    "        datetime_str2 = enhanced_map2.meta['t_rec']\n",
    "        datetime1 = datetime.strptime(datetime_str1, '%Y-%m-%dT%H:%M:%SZ')\n",
    "        datetime2 = datetime.strptime(datetime_str2, '%Y-%m-%dT%H:%M:%SZ')\n",
    "        # Calculate the time difference\n",
    "        time_difference = datetime2 - datetime1\n",
    "        \n",
    "        pixel_scale_in_rad  = enhanced_map1.scale[0].to('rad/pix') # Convert Pixel Scale to Radians\n",
    "        distance_km_per_pix = pixel_scale_in_rad * const.radius.to('km') # Convert to Kilometers\n",
    "        speed_km_per_second = (distance_km_per_pix * speed_pix_per_frame*u.pix/u.s)/time_diff # Calculate Speed in km/s\n",
    "        speed_map = sunpy.map.Map(speed_km_per_second, enhanced_map1.meta) # Convert to sunpy map\n",
    "        speed_map.meta['bunit'] = 'km/s'\n",
    "        speed_sobel_maps.append(speed_map)\n",
    "        \n",
    "        fig = plt.figure(figsize=[7,10])\n",
    "        ax = fig.add_subplot(projection=speed_map)\n",
    "        img = speed_map.plot(axes=ax, cmap='hot')\n",
    "        ax.set_title(f'AIA {channel} $\\AA$ {datetime1.date()}: {datetime1.time()} - {datetime2.time()} UT')\n",
    "        ax.grid(False)\n",
    "        plt.colorbar(img, shrink=0.8, pad=0.02, label='Speed (km/s)')\n",
    "        fig.tight_layout()\n",
    "        output_filename = f\"{data_dir}/png/aia/{channel}A/sobel_filter/speed_sobel_maps/{enhanced_map1.meta['instrume'].split('_')[0]}_{enhanced_map1.meta['wavelnth']}A_{enhanced_map1.meta['t_rec']}.png\"\n",
    "        fig.savefig(output_filename, dpi=100, bbox_inches='tight')\n",
    "        plt.close()\n",
    "        pbar.update(1)"
   ]
  },
  {
   "cell_type": "markdown",
   "id": "e7a2ec87-ab7d-49f8-ac61-ae289745b956",
   "metadata": {},
   "source": [
    "## Apply Multi-scale Gaussian Normalization (MGN)"
   ]
  },
  {
   "cell_type": "code",
   "execution_count": null,
   "id": "009232ce-23c2-4176-bf23-f6d3c95390d4",
   "metadata": {},
   "outputs": [],
   "source": [
    "image = aia211_seq.maps[14]\n",
    "mgn_map = enhance.mgn(image, h=0.915)\n",
    "\n",
    "fig = plt.figure(figsize=[7,5])\n",
    "\n",
    "ax = fig.add_subplot(121, projection=image)\n",
    "image.plot(axes=ax)\n",
    "ax.grid(False)\n",
    "\n",
    "ax = fig.add_subplot(122, projection=mgn_map)\n",
    "mgn_map.plot(axes=ax)\n",
    "ax.set_title('MGN')\n",
    "ax.grid(False)\n",
    "ax.coords[1].set_ticklabel_visible(False)\n",
    "\n",
    "fig.tight_layout()\n",
    "plt.show()"
   ]
  },
  {
   "cell_type": "code",
   "execution_count": null,
   "id": "3d8d7533-1166-48c5-aa76-76a9cd754943",
   "metadata": {},
   "outputs": [],
   "source": [
    "channel = 211\n",
    "os.makedirs(f'{data_dir}/png/tornado/aia/{channel}A/mgn', exist_ok=True)\n",
    "\n",
    "print(len(aia211_seq))\n",
    "\n",
    "with tqdm(total=len(aia211_seq), desc='Exporting MGN maps ...') as pbar:\n",
    "    for image in aia211_seq:\n",
    "        mgn_map = enhance.mgn(image, h=0.915)\n",
    "        \n",
    "        fig = plt.figure(figsize=[7,5])\n",
    "        \n",
    "        ax = fig.add_subplot(121, projection=image)\n",
    "        image.plot(axes=ax)\n",
    "        ax.grid(False)\n",
    "        \n",
    "        ax = fig.add_subplot(122, projection=mgn_map)\n",
    "        mgn_map.plot(axes=ax)\n",
    "        ax.set_title('MGN')\n",
    "        ax.grid(False)\n",
    "        ax.coords[1].set_ticklabel_visible(False)\n",
    "        \n",
    "        fig.tight_layout()\n",
    "        output_filename = f\"{data_dir}/png/tornado/aia/{channel}A/mgn/{image.meta['instrume'].split('_')[0]}_{image.meta['wavelnth']}A_{image.meta['t_rec']}_sobel.png\"\n",
    "        fig.savefig(output_filename, dpi=100, bbox_inches='tight')\n",
    "        plt.close()\n",
    "        pbar.update(1)"
   ]
  },
  {
   "cell_type": "markdown",
   "id": "9c0fb981-d5ae-4a83-9cff-bfc3b4728dc3",
   "metadata": {},
   "source": [
    "### Apply LCT with MGN"
   ]
  },
  {
   "cell_type": "code",
   "execution_count": null,
   "id": "cc788ad6-2916-46f9-85ab-6b60eb702dd7",
   "metadata": {},
   "outputs": [],
   "source": [
    "# export all speed maps\n",
    "os.makedirs(f'{data_dir}/png/tornado/aia/{channel}A/mgn/speed_mgn_maps', exist_ok=True)\n",
    "\n",
    "flow_sobel_maps, speed_sobel_maps = [], []\n",
    "\n",
    "channel = 211                                  # RENAME ...\n",
    "with tqdm(total=len(aia211_seq.maps), desc='Exporting flow speed maps ...') as pbar:\n",
    "    for idx in range(1, len(aia211_seq.maps)): # RENAME ...\n",
    "        image1 = aia211_seq.maps[idx-1]        # RENAME ...\n",
    "        image2 = aia211_seq.maps[idx]          # RENAME ...\n",
    "\n",
    "        # MGN filter\n",
    "        mgn_map1 = enhance.mgn(image1, h=0.915)\n",
    "        mgn_map2 = enhance.mgn(image2, h=0.915)\n",
    "        \n",
    "        # Calculate optical flow using the TV-L1 method (which is robust to noise)\n",
    "        flow = optical_flow_tvl1(mgn_map1.data, mgn_map2.data)\n",
    "        flow_sobel_maps.append(flow)\n",
    "        # flow is a 2D vector field, with flow[0] corresponding to the x-component of the vector and flow[1] to the y-component\n",
    "        vx, vy = flow\n",
    "        # Calculate the speed (magnitude of the flow vectors)\n",
    "        speed_pix_per_frame = np.hypot(vx, vy)\n",
    "        \n",
    "        # Parse the datetime strings to datetime objects\n",
    "        datetime_str1 = mgn_map1.meta['t_rec']\n",
    "        datetime_str2 = mgn_map2.meta['t_rec']\n",
    "        datetime1 = datetime.strptime(datetime_str1, '%Y-%m-%dT%H:%M:%SZ')\n",
    "        datetime2 = datetime.strptime(datetime_str2, '%Y-%m-%dT%H:%M:%SZ')\n",
    "        # Calculate the time difference\n",
    "        time_difference = datetime2 - datetime1\n",
    "        \n",
    "        pixel_scale_in_rad  = mgn_map1.scale[0].to('rad/pix') # Convert Pixel Scale to Radians\n",
    "        distance_km_per_pix = pixel_scale_in_rad * const.radius.to('km') # Convert to Kilometers\n",
    "        speed_km_per_second = (distance_km_per_pix * speed_pix_per_frame*u.pix/u.s)/time_diff # Calculate Speed in km/s\n",
    "        speed_map = sunpy.map.Map(speed_km_per_second, mgn_map1.meta) # Convert to sunpy map\n",
    "        speed_map.meta['bunit'] = 'km/s'\n",
    "        speed_sobel_maps.append(speed_map)\n",
    "        \n",
    "        fig = plt.figure(figsize=[7,10])\n",
    "        ax = fig.add_subplot(projection=speed_map)\n",
    "        img = speed_map.plot(axes=ax, cmap='hot')\n",
    "        ax.set_title(f'AIA {channel} $\\AA$ {datetime1.date()}: {datetime1.time()} - {datetime2.time()} UT')\n",
    "        ax.grid(False)\n",
    "        plt.colorbar(img, shrink=0.8, pad=0.02, label='Speed (km/s)')\n",
    "        fig.tight_layout()\n",
    "        output_filename = f\"{data_dir}/png//tornado/aia/{channel}A/mgn/speed_mgn_maps/{mgn_map1.meta['instrume'].split('_')[0]}_{mgn_map1.meta['wavelnth']}A_{mgn_map1.meta['t_rec']}.png\"\n",
    "        fig.savefig(output_filename, dpi=100, bbox_inches='tight')\n",
    "        plt.close()\n",
    "        pbar.update(1)"
   ]
  },
  {
   "cell_type": "code",
   "execution_count": null,
   "id": "db40f808-5708-4a5e-ac20-aa068853b720",
   "metadata": {},
   "outputs": [],
   "source": []
  },
  {
   "cell_type": "code",
   "execution_count": null,
   "id": "c2e92ce8-8dcf-4873-b709-d3105ce115f0",
   "metadata": {},
   "outputs": [],
   "source": []
  },
  {
   "cell_type": "code",
   "execution_count": null,
   "id": "bbedcc3b-7208-4908-824f-f1bcf675843d",
   "metadata": {},
   "outputs": [],
   "source": []
  },
  {
   "cell_type": "code",
   "execution_count": null,
   "id": "7ba4e1c1-62ec-4262-b6f0-626043065919",
   "metadata": {},
   "outputs": [],
   "source": []
  },
  {
   "cell_type": "code",
   "execution_count": null,
   "id": "5f9d08ed-4a5f-4b6b-b5a3-11e8dd6982e1",
   "metadata": {},
   "outputs": [],
   "source": []
  },
  {
   "cell_type": "code",
   "execution_count": null,
   "id": "a35840d1-0ae6-4959-a03f-7d244bf0490a",
   "metadata": {},
   "outputs": [],
   "source": []
  },
  {
   "cell_type": "code",
   "execution_count": null,
   "id": "3c26ab5e-f754-4225-beb5-a42057076215",
   "metadata": {},
   "outputs": [],
   "source": []
  },
  {
   "cell_type": "code",
   "execution_count": null,
   "id": "8feb265b-ff9b-4951-b88a-72bcfe4578bd",
   "metadata": {},
   "outputs": [],
   "source": []
  },
  {
   "cell_type": "code",
   "execution_count": null,
   "id": "fdd33e3c-b050-49da-a9e9-64e95b082843",
   "metadata": {},
   "outputs": [],
   "source": []
  },
  {
   "cell_type": "code",
   "execution_count": null,
   "id": "2b2c89e0-65a2-4f16-8bcd-0912aa907afb",
   "metadata": {},
   "outputs": [],
   "source": []
  },
  {
   "cell_type": "code",
   "execution_count": null,
   "id": "fc99a548-92e6-4ccc-9b84-fc54f31edddf",
   "metadata": {},
   "outputs": [],
   "source": []
  },
  {
   "cell_type": "code",
   "execution_count": null,
   "id": "c557f3e3-47c9-40c1-ada3-0bf7bbcdfbc9",
   "metadata": {},
   "outputs": [],
   "source": [
    "coords = SkyCoord(Tx=(100, 500) * u.arcsec, Ty=(200, 500) * u.arcsec,frame=aia_map.coordinate_frame)\n",
    "aia_map.draw_quadrangle(coords, axes=ax, edgecolor=\"blue\")"
   ]
  },
  {
   "cell_type": "code",
   "execution_count": null,
   "id": "fdae3c76-1ca7-4407-ac68-27721098dad3",
   "metadata": {},
   "outputs": [],
   "source": []
  },
  {
   "cell_type": "code",
   "execution_count": null,
   "id": "2a299eea-fe51-45ab-8b4b-b2ba0738aadc",
   "metadata": {
    "editable": true,
    "slideshow": {
     "slide_type": ""
    },
    "tags": []
   },
   "outputs": [],
   "source": []
  },
  {
   "cell_type": "code",
   "execution_count": null,
   "id": "e0d31230-2753-4271-b21f-3d469f9b2e01",
   "metadata": {},
   "outputs": [],
   "source": []
  },
  {
   "cell_type": "code",
   "execution_count": null,
   "id": "cb6a7409-4222-4062-a8bf-f038b3184c46",
   "metadata": {
    "editable": true,
    "slideshow": {
     "slide_type": ""
    },
    "tags": []
   },
   "outputs": [],
   "source": [
    "\n",
    "\n"
   ]
  },
  {
   "cell_type": "code",
   "execution_count": null,
   "id": "2ecc34ef-4d2c-4eb2-a4d8-0ad4bfe58f11",
   "metadata": {
    "editable": true,
    "slideshow": {
     "slide_type": ""
    },
    "tags": []
   },
   "outputs": [],
   "source": [
    "# ### Another way, same result ...\n",
    "# # if the image scale is 0.6 arcsec/pixel and the time difference between frames is ~60 seconds\n",
    "# pixel_scale = m_seq_runratio_193A.maps[idx].scale[0].value  # arcsec/pixel\n",
    "# time_diff = time_difference.total_seconds()                 # seconds\n",
    "# sun_radius = const.radius.to('km').value                    # average solar radius\n",
    "\n",
    "# # Convert arcsec to kilometers\n",
    "# km_per_pixel = (pixel_scale / 3600) * np.deg2rad(1)*sun_radius\n",
    "\n",
    "# # Convert speed to km/s\n",
    "# speed_km_s = speed_pix_per_frame * km_per_pixel / time_diff\n",
    "# speed_map = sunpy.map.Map(speed_km_s, m_seq_runratio_193A.maps[idx].meta)\n",
    "# speed_map.meta['bunit'] = 'km/s'\n",
    "\n",
    "# fig = plt.figure()\n",
    "# ax = fig.add_subplot(projection=speed_map)\n",
    "# img = speed_map.plot(axes=ax, cmap='hot')\n",
    "\n",
    "# # Define contour levels\n",
    "# contour_levels = np.arange(0.4, 2, 0.2)*u.km/u.s\n",
    "# C = speed_map.draw_contours(axes=ax, levels=contour_levels)\n",
    "# ax.clabel(C)\n",
    "\n",
    "# ax.set_title(f'{datetime1.date()}: {datetime1.time()} - {datetime2.time()} UT')\n",
    "# ax.grid(False)\n",
    "# plt.colorbar(img, shrink=0.9, pad=0.02, label='Speed (km/s)')\n",
    "# fig.tight_layout()\n",
    "# plt.show()"
   ]
  },
  {
   "cell_type": "code",
   "execution_count": null,
   "id": "8cba7e7a-664d-4259-b1b5-344a8b93c451",
   "metadata": {},
   "outputs": [],
   "source": [
    "# %matplotlib inline\n",
    "\n",
    "# speed_map = sunpy.map.Map(speed_km_s, m_seq_runratio_193A.maps[14].meta)\n",
    "\n",
    "# fig = plt.figure(figsize=[15,5])\n",
    "\n",
    "# ax = fig.add_subplot(141, projection=m_seq_runratio_193A.maps[14])\n",
    "# m_seq_runratio_193A.maps[14].plot(axes=ax)\n",
    "# ax.grid(False)\n",
    "\n",
    "# ax = fig.add_subplot(142, projection=m_seq_runratio_193A.maps[15])\n",
    "# m_seq_runratio_193A.maps[15].plot(axes=ax)\n",
    "# ax.grid(False)\n",
    "\n",
    "# ax = fig.add_subplot(143, projection=m_seq_runratio_193A.maps[14])\n",
    "# m_seq_runratio_193A.maps[14].plot(axes=ax, cmap='Greys')\n",
    "# ax.quiver(vx, vy, color='dodgerblue',\n",
    "#           # scale_units='xy', scale=10, width=0.0001\n",
    "#          )\n",
    "# ax.set_title('Flow vectors')\n",
    "# ax.grid(False)\n",
    "\n",
    "# ax = fig.add_subplot(144, projection=speed_map)\n",
    "# img = speed_map.plot(axes=ax, cmap='hot')\n",
    "# ax.set_title('Physical Speed (km/s)')\n",
    "# ax.grid(False)\n",
    "# plt.colorbar(img, shrink=0.9, pad=0.02, label='Speed (km/s)')\n",
    "\n",
    "# fig.tight_layout()\n",
    "# plt.show()"
   ]
  },
  {
   "cell_type": "code",
   "execution_count": null,
   "id": "7d2d2034-d778-434d-be4d-ce439f28b129",
   "metadata": {},
   "outputs": [],
   "source": [
    "# fig = plt.figure()\n",
    "# ax = fig.add_subplot(111, projection=m_seq_runratio_193A.maps[15])\n",
    "# m_seq_runratio_193A.maps[15].plot(axes=ax)\n",
    "# ax.grid(False)\n",
    "# fig.tight_layout()\n",
    "# plt.show()"
   ]
  },
  {
   "cell_type": "code",
   "execution_count": null,
   "id": "260fa335-937b-46f6-a3cf-e63fe3a54a28",
   "metadata": {},
   "outputs": [],
   "source": [
    "fig = plt.figure()\n",
    "ax = fig.add_subplot(111, projection=m_seq_runratio_193A.maps[idx])\n",
    "m_seq_runratio_193A.maps[idx].plot(axes=ax, cmap='Greys')\n",
    "# ax.quiver(vx, vy, color='dodgerblue',\n",
    "#           # scale_units='xy', scale=10, width=0.0001\n",
    "#          )\n",
    "\n",
    "# Downsample the Flow Field\n",
    "downsample_factor = 2  # Adjust this factor as needed\n",
    "vx_downsampled = vx[::downsample_factor, ::downsample_factor]\n",
    "vy_downsampled = vy[::downsample_factor, ::downsample_factor]\n",
    "x, y = np.meshgrid(np.arange(vx.shape[1]), np.arange(vx.shape[0]))\n",
    "\n",
    "x_downsampled = x[::downsample_factor, ::downsample_factor]\n",
    "y_downsampled = y[::downsample_factor, ::downsample_factor]\n",
    "\n",
    "# ax.quiver(x_downsampled, y_downsampled, vx_downsampled, vy_downsampled, color='dodgerblue',\n",
    "#           # scale=1.5, scale_units='xy', width=0.001\n",
    "#          )\n",
    "# Instead of plotting arrows for every pixel, you can plot arrows on a grid of points\n",
    "ax.quiver(x_downsampled, y_downsampled, vx_downsampled, vy_downsampled, color='dodgerblue',\n",
    "          # scale=1, scale_units='xy', width=0.005\n",
    "         )\n",
    "\n",
    "# # Normalize the Flow Magnitudes\n",
    "# max_flow = np.max(np.sqrt(vx**2 + vy**2))\n",
    "# vx_normalized = vx / max_flow\n",
    "# vy_normalized = vy / max_flow\n",
    "# ax.quiver(vx_normalized, vy_normalized, color='dodgerblue',\n",
    "#           # scale=0.1, scale_units='xy', width=0.005\n",
    "#          )\n",
    "\n",
    "# # Apply a Mask for Significant Flows\n",
    "# threshold = 0.1  # Define a threshold for significant flow\n",
    "# mask = np.sqrt(vx**2 + vy**2) > threshold\n",
    "# ax.quiver(vx[mask], vy[mask], color='dodgerblue',\n",
    "#           # scale=0.1, scale_units='xy', width=0.005\n",
    "#          )\n",
    "\n",
    "ax.set_title('Flow vectors')\n",
    "ax.grid(False)\n",
    "fig.tight_layout()\n",
    "plt.show()"
   ]
  },
  {
   "cell_type": "code",
   "execution_count": null,
   "id": "233db764-f16c-4cdc-a243-faf2347eb019",
   "metadata": {
    "editable": true,
    "slideshow": {
     "slide_type": ""
    },
    "tags": []
   },
   "outputs": [],
   "source": [
    "# # if the image scale is 0.6 arcsec/pixel and the time difference between frames is 60 seconds\n",
    "# pixel_scale = 0.6    # arcsec/pixel\n",
    "# time_diff = 60       # seconds\n",
    "# sun_radius = 695700  # in km, average solar radius\n",
    "\n",
    "# # Convert arcseconds per pixel to km per pixel\n",
    "# arcsec_to_rad = np.deg2rad(1 / 3600)  # 1 arcsecond in radia\n",
    "# km_per_pixel = pixel_scale * arcsec_to_rad * sun_radius\n",
    "\n",
    "# # Convert speed to km/s\n",
    "# speed_km_s = speed * km_per_pixel / time_diff\n",
    "\n",
    "# # Construct a sunpy map\n",
    "# speed_map = sunpy.map.Map(speed_km_s, m_seq_runratio_193A.maps[14].meta)\n",
    "# speed_map.meta['bunit'] = 'km/s'\n",
    "\n",
    "# fig = plt.figure()\n",
    "# ax = fig.add_subplot(111, projection=speed_map)\n",
    "# img = speed_map.plot(axes=ax, cmap='hot') # RdYlBu_r\n",
    "\n",
    "# # # Define contour levels\n",
    "# # contour_levels = [40, 50, 60, 70, 80, 90]*u.percent\n",
    "# # C = speed_map.draw_contours(axes=ax, levels=contour_levels)\n",
    "\n",
    "# # C = plt.contour(X, Y, f(X,Y), 8, colors='black', linewidth=.5)\n",
    "# # plt.clabel(C, inline=1, fontsize=10)\n",
    "# ax.clabel(C)\n",
    "\n",
    "# ax.set_title('Flow Speed (km/s)')\n",
    "# ax.grid(False)\n",
    "# fig.colorbar(img, shrink=0.9, pad=0.02, label='Speed (km/s)')\n",
    "# fig.tight_layout()\n",
    "# plt.show()"
   ]
  },
  {
   "cell_type": "code",
   "execution_count": null,
   "id": "7fcb555d-bbaa-4545-a9c1-344d0845751f",
   "metadata": {},
   "outputs": [],
   "source": []
  },
  {
   "cell_type": "code",
   "execution_count": null,
   "id": "09b5efa9-e77f-4736-99ce-cda9d665c87e",
   "metadata": {},
   "outputs": [],
   "source": [
    "# # if the image scale is 0.6 arcsec/pixel and the time difference between frames is 60 seconds\n",
    "# pixel_scale = 0.6    # arcsec/pixel\n",
    "# time_diff = 60       # seconds\n",
    "# sun_radius = 695700  # in km, average solar radius\n",
    "\n",
    "# # Convert arcseconds per pixel to km per pixel\n",
    "# arcsec_to_rad = np.deg2rad(1 / 3600)  # 1 arcsecond in radia\n",
    "# km_per_pixel = pixel_scale * arcsec_to_rad * sun_radius\n",
    "\n",
    "# # Convert speed to km/s\n",
    "# speed_km_s = speed * km_per_pixel / time_diff\n",
    "\n",
    "# # Construct a sunpy map\n",
    "# speed_map = sunpy.map.Map(speed_km_s, m_seq_runratio_193A.maps[14].meta)\n",
    "# speed_map.meta['bunit'] = 'km/s'\n",
    "\n",
    "# fig = plt.figure()\n",
    "# ax = fig.add_subplot(111, projection=speed_map)\n",
    "# img = speed_map.plot(axes=ax, cmap='hot') # RdYlBu_r\n",
    "\n",
    "# # Define contour levels\n",
    "# # contour_levels = [0.4, 0.5, 0.75, 1, 1.25, 1.5, 1.75, 2]*u.km/u.s\n",
    "# contour_levels = np.arange(0.4, 2, 0.2)*u.km/u.s\n",
    "# C = speed_map.draw_contours(axes=ax, levels=contour_levels)\n",
    "# ax.clabel(C)\n",
    "\n",
    "# ax.set_title('Flow Speed (km/s)')\n",
    "# ax.grid(False)\n",
    "# fig.colorbar(img, shrink=0.9, pad=0.02, label='Speed (km/s)')\n",
    "# fig.tight_layout()\n",
    "# plt.show()"
   ]
  },
  {
   "cell_type": "code",
   "execution_count": null,
   "id": "7edb73f3-6316-4b25-95f5-d8c697e2658b",
   "metadata": {
    "editable": true,
    "slideshow": {
     "slide_type": ""
    },
    "tags": []
   },
   "outputs": [],
   "source": [
    "# # if the image scale is 0.6 arcsec/pixel and the time difference between frames is 60 seconds\n",
    "# pixel_scale = 0.6    # arcsec/pixel\n",
    "# time_diff = 60       # seconds\n",
    "# sun_radius = 695700  # in km, average solar radius\n",
    "\n",
    "# # Convert arcseconds per pixel to km per pixel\n",
    "# arcsec_to_rad = np.deg2rad(1 / 3600)  # 1 arcsecond in radia\n",
    "# km_per_pixel = pixel_scale * arcsec_to_rad * sun_radius\n",
    "\n",
    "# # Convert speed to km/s\n",
    "# speed_km_s = speed * km_per_pixel / time_diff\n",
    "\n",
    "# # Construct a sunpy map\n",
    "# speed_map = sunpy.map.Map(speed_km_s, m_seq_runratio_193A.maps[14].meta)\n",
    "# speed_map.meta['bunit'] = 'km/s'\n",
    "\n",
    "# fig = plt.figure()\n",
    "# ax = fig.add_subplot(111, projection=speed_map)\n",
    "# img = speed_map.plot(axes=ax, cmap='hot') # RdYlBu_r\n",
    "\n",
    "# # add contours\n",
    "# levels = [0.5, 0.75, 1, 1.25, 1.5, 1.75, 2]*u.km/u.s\n",
    "# levels = np.concatenate((-1*levels[::-1], levels))\n",
    "# bounds = ax.axis()\n",
    "# cset = speed_map.draw_contours(levels, axes=ax, cmap='viridis')\n",
    "# ax.axis(bounds)\n",
    "\n",
    "# # Create a filled contour plot of the colorbar\n",
    "# colorbar = ax.contourf([[0,0], [0,0]], levels.value, cmap='viridis')\n",
    "# plt.colorbar(colorbar,\n",
    "#              ax=ax,\n",
    "#              boundaries=levels.value,\n",
    "#              ticks=list(levels.value)+[0],\n",
    "#              shrink=0.7,\n",
    "#              pad=0.02\n",
    "#             )\n",
    "\n",
    "# ax.set_title('Flow Speed (km/s)')\n",
    "# ax.grid(False)\n",
    "# fig.colorbar(img, shrink=0.9, pad=0.02, label='Speed (km/s)')\n",
    "# fig.tight_layout()\n",
    "# plt.show()"
   ]
  },
  {
   "cell_type": "code",
   "execution_count": null,
   "id": "cfdaae78-7a76-4fb8-9de2-cf0d324f445c",
   "metadata": {
    "editable": true,
    "slideshow": {
     "slide_type": ""
    },
    "tags": []
   },
   "outputs": [],
   "source": []
  },
  {
   "cell_type": "code",
   "execution_count": null,
   "id": "30d09fde-6549-440f-9564-78627852d78d",
   "metadata": {},
   "outputs": [],
   "source": [
    "# Writer = animation.writers['ffmpeg']\n",
    "# writer = Writer(fps=10, metadata=dict(artist='SunPy'), bitrate=1800)\n",
    "# ani.save(f\"{data_dir}/png/aia/193A/AIA193_animation.mp4\", writer=writer)"
   ]
  },
  {
   "cell_type": "code",
   "execution_count": null,
   "id": "3e1e6d79-a144-4e4d-bd13-40e67d289638",
   "metadata": {},
   "outputs": [],
   "source": [
    "# writer = FFMpegWriter(fps=10, metadata=dict(artist='SunPy'), bitrate=1800)\n",
    "# ani.save(f\"{data_dir}/png/aia/193A/AIA193_animation.mp4\", writer=writer)"
   ]
  },
  {
   "cell_type": "code",
   "execution_count": null,
   "id": "c11e021b-3fd0-4f26-a696-19b2978dd47c",
   "metadata": {},
   "outputs": [],
   "source": []
  },
  {
   "cell_type": "code",
   "execution_count": null,
   "id": "09780369-9d5b-4252-b7f4-39c29db71db1",
   "metadata": {},
   "outputs": [],
   "source": [
    "# %matplotlib widget\n",
    "\n",
    "# # \"load_aia\" is a custom function that loads AIA data as sunpy maps after correction\n",
    "# aia_193_map_objects = load_aia(start='2024-05-14T17:18:00', end='2024-05-14T17:40:00', channel=193)\n",
    "\n",
    "# for m in aia_193_map_objects:\n",
    "#     m.plot_settings['norm'] = ImageNormalize(vmin=0, vmax=7e3, stretch=LogStretch())\n",
    "\n",
    "# # crop a region of interest\n",
    "# list_aia193maps = []\n",
    "\n",
    "# for m in aia_193_map_objects:\n",
    "#     top_right   = SkyCoord(-750*u.arcsec, 430*u.arcsec, frame=m.coordinate_frame)\n",
    "#     bottom_left = SkyCoord(-970*u.arcsec, 200*u.arcsec, frame=m.coordinate_frame)\n",
    "#     submap = m.submap(bottom_left, top_right=top_right)\n",
    "#     list_aia193maps.append(submap)\n",
    "\n",
    "# aia193_seq = sunpy.map.Map(list_aia193maps, sequence=True)\n",
    "\n",
    "# # show the animation\n",
    "# fig = plt.figure()\n",
    "# ax = fig.add_subplot(projection=aia193_seq.maps[0])\n",
    "# ani = aia193_seq.plot(axes=ax)\n",
    "# ax.grid(False)\n",
    "# plt.show()\n",
    "\n",
    "# # export as a movie\n",
    "# Writer = animation.writers['ffmpeg']\n",
    "# writer = Writer(fps=10, metadata=dict(artist='SunPy'), bitrate=1800)\n",
    "# ani.save('./mapsequence_animation.mp4', writer=writer)"
   ]
  },
  {
   "cell_type": "code",
   "execution_count": null,
   "id": "f5b7d6ac-070c-450e-9fd7-00d59f803d69",
   "metadata": {},
   "outputs": [],
   "source": []
  },
  {
   "cell_type": "code",
   "execution_count": null,
   "id": "40ba7a35-a99f-479c-8aa1-2e8f017b2a36",
   "metadata": {},
   "outputs": [],
   "source": [
    "# fig = plt.figure(figsize=[20,5])\n",
    "\n",
    "# ax = fig.add_subplot(141, projection=aia_131_map_objects[idx])\n",
    "# img = aia_131_map_objects[idx].plot(axes=ax)\n",
    "# plt.colorbar(img, shrink=0.5, pad=0.02)\n",
    "# ax.grid(False)\n",
    "\n",
    "# ax = fig.add_subplot(142, projection=aia_171_map_objects[idx])\n",
    "# img = aia_171_map_objects[idx].plot(axes=ax)\n",
    "# plt.colorbar(img, shrink=0.5, pad=0.02)\n",
    "# ax.grid(False)\n",
    "\n",
    "# ax = fig.add_subplot(143, projection=aia_193_map_objects[idx])\n",
    "# img = aia_193_map_objects[idx].plot(axes=ax)\n",
    "# plt.colorbar(img, shrink=0.5, pad=0.02)\n",
    "# ax.grid(False)\n",
    "\n",
    "# ax = fig.add_subplot(144, projection=aia_211_map_objects[idx])\n",
    "# img = aia_211_map_objects[idx].plot(axes=ax)\n",
    "# plt.colorbar(img, shrink=0.5, pad=0.02)\n",
    "# ax.grid(False)\n",
    "\n",
    "# fig.tight_layout()\n",
    "# plt.show()"
   ]
  },
  {
   "cell_type": "code",
   "execution_count": null,
   "id": "8b8b1418-6162-45ed-bd7d-8ee0d0f6e1b5",
   "metadata": {},
   "outputs": [],
   "source": [
    "\n",
    "\n"
   ]
  },
  {
   "cell_type": "code",
   "execution_count": null,
   "id": "a9f13eae-7d19-4f47-b835-581a0588fbad",
   "metadata": {},
   "outputs": [],
   "source": []
  },
  {
   "cell_type": "code",
   "execution_count": null,
   "id": "f368c0f4-d134-4ead-baee-0d7e8eb65492",
   "metadata": {},
   "outputs": [],
   "source": []
  },
  {
   "cell_type": "code",
   "execution_count": null,
   "id": "425a5142-7ec5-4b3e-ba48-d6ffc632c0c0",
   "metadata": {},
   "outputs": [],
   "source": []
  },
  {
   "cell_type": "code",
   "execution_count": null,
   "id": "d5a261e0-6930-4496-bf88-14164a8af959",
   "metadata": {},
   "outputs": [],
   "source": []
  },
  {
   "cell_type": "code",
   "execution_count": null,
   "id": "8da0aec2-a660-4f60-ae6f-9c0a7d836ea6",
   "metadata": {},
   "outputs": [],
   "source": []
  },
  {
   "cell_type": "code",
   "execution_count": null,
   "id": "ce26712b-db97-4243-afa4-2c73cebc8ffa",
   "metadata": {},
   "outputs": [],
   "source": []
  },
  {
   "cell_type": "code",
   "execution_count": null,
   "id": "90e9c4ea-224b-42ee-8f59-9e51c16d5af3",
   "metadata": {},
   "outputs": [],
   "source": []
  },
  {
   "cell_type": "code",
   "execution_count": null,
   "id": "138fdf77-4089-41cb-a29b-68eeed39007b",
   "metadata": {},
   "outputs": [],
   "source": [
    "\n"
   ]
  }
 ],
 "metadata": {
  "kernelspec": {
   "display_name": "dias",
   "language": "python",
   "name": "dias"
  },
  "language_info": {
   "codemirror_mode": {
    "name": "ipython",
    "version": 3
   },
   "file_extension": ".py",
   "mimetype": "text/x-python",
   "name": "python",
   "nbconvert_exporter": "python",
   "pygments_lexer": "ipython3",
   "version": "3.10.13"
  }
 },
 "nbformat": 4,
 "nbformat_minor": 5
}
