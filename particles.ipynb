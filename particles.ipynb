{
 "cells": [
  {
   "cell_type": "markdown",
   "metadata": {},
   "source": [
    "This notebook is to test routines for particles measurements"
   ]
  },
  {
   "cell_type": "code",
   "execution_count": null,
   "metadata": {},
   "outputs": [],
   "source": [
    "import warnings\n",
    "warnings.filterwarnings('ignore')\n",
    "\n",
    "import os\n",
    "import datetime\n",
    "import numpy as np\n",
    "import pandas as pd\n",
    "\n",
    "import matplotlib.pyplot as plt\n",
    "from matplotlib.dates import DateFormatter\n",
    "from matplotlib.ticker import ScalarFormatter\n",
    "\n",
    "from astropy import units as u\n",
    "from sunpy import timeseries as ts\n",
    "from sunpy.net import Fido, attrs as a\n",
    "\n",
    "from solarmach import SolarMACH\n",
    "from solo_epd_loader import epd_load\n",
    "\n",
    "import matplotlib as mpl\n",
    "import matplotlib.dates as mdates\n",
    "mpl.rcParams['date.epoch'] = '1970-01-01T00:00:00'\n",
    "try:\n",
    "    mdates.set_epoch('1970-01-01T00:00:00')\n",
    "except:\n",
    "    pass\n",
    "\n",
    "# omit Pandas' PerformanceWarning\n",
    "warnings.simplefilter(action='ignore', category=pd.errors.PerformanceWarning)\n",
    "\n",
    "#plt.style.use('seaborn')\n",
    "plt.rcParams['figure.dpi'] = 100\n",
    "plt.rcParams['savefig.dpi'] = 100\n",
    "plt.rcParams['figure.facecolor'] = 'white'\n",
    "plt.rcParams['savefig.facecolor'] = 'white'"
   ]
  },
  {
   "cell_type": "code",
   "execution_count": null,
   "metadata": {},
   "outputs": [],
   "source": [
    "# set your local path where you want to save the data files\n",
    "path = f'{os.getcwd()}/data/'\n",
    "\n",
    "# make nested directories recursively\n",
    "os.makedirs(f'/{path}/', exist_ok=True)\n",
    "\n",
    "# whether missing data files should automatically downloaded from SOAR\n",
    "autodownload = True\n",
    "\n",
    "# define some optional plotting settings\n",
    "color = {'sun': 'crimson', 'asun': 'orange', 'north': 'darkslateblue', 'south': 'c'}  # define SolO/EPD colors"
   ]
  },
  {
   "cell_type": "code",
   "execution_count": null,
   "metadata": {},
   "outputs": [],
   "source": [
    "# define start and end date of data to load (year, month, day)\n",
    "\n",
    "# startdate = dt.datetime(2020, 12, 10)\n",
    "# enddate = dt.datetime(2020, 12, 11)\n",
    "\n",
    "startdate = pd.Timestamp('2021-04-17')\n",
    "enddate = pd.Timestamp('2021-04-19')\n",
    "\n",
    "# define the sensor to use\n",
    "sensor = 'ept'\n",
    "\n",
    "# define data level to use ('l2' or 'll')\n",
    "level = 'l2'"
   ]
  },
  {
   "cell_type": "code",
   "execution_count": null,
   "metadata": {},
   "outputs": [],
   "source": [
    "# load data\n",
    "df_protons_sun, df_electrons_sun, energies = epd_load(sensor=sensor, level=level, startdate=startdate,\n",
    "                                                      enddate=enddate, viewing='sun',\n",
    "                                                      path=path, autodownload=True)\n",
    "df_protons_asun, df_electrons_asun, energies = epd_load(sensor=sensor, level=level, startdate=startdate,\n",
    "                                                        enddate=enddate, viewing='asun',\n",
    "                                                        path=path, autodownload=True)\n",
    "df_protons_south, df_electrons_south, energies = epd_load(sensor=sensor, level=level, startdate=startdate,\n",
    "                                                          enddate=enddate, viewing='south',\n",
    "                                                          path=path, autodownload=True)\n",
    "df_protons_north, df_electrons_north, energies = epd_load(sensor=sensor, level=level, startdate=startdate,\n",
    "                                                          enddate=enddate, viewing='north',\n",
    "                                                          path=path, autodownload=True)\n",
    "df_protons_omni, df_electrons_omni, energies = epd_load(sensor=sensor, level=level, startdate=startdate,\n",
    "                                                          enddate=enddate, viewing='omni',\n",
    "                                                          path=path, autodownload=True)"
   ]
  },
  {
   "cell_type": "code",
   "execution_count": null,
   "metadata": {},
   "outputs": [],
   "source": [
    "# energy channel to use; cf. \"energies\" for the energies\n",
    "channel = 6\n",
    "\n",
    "fig, ax = plt.subplots(figsize=[10,5])\n",
    "ax = df_electrons_sun['Electron_Flux'][f'Electron_Flux_{channel}'].plot(logy=True, label='sun', \n",
    "                                                                        color=color['sun'],\n",
    "                                                                        drawstyle=\"steps-mid\")\n",
    "ax = df_electrons_asun['Electron_Flux'][f'Electron_Flux_{channel}'].plot(logy=True, label='asun', \n",
    "                                                                        color=color['asun'],\n",
    "                                                                        drawstyle=\"steps-mid\")\n",
    "ax = df_electrons_north['Electron_Flux'][f'Electron_Flux_{channel}'].plot(logy=True, label='north', \n",
    "                                                                        color=color['north'],\n",
    "                                                                        drawstyle=\"steps-mid\")\n",
    "ax = df_electrons_south['Electron_Flux'][f'Electron_Flux_{channel}'].plot(logy=True, label='south', \n",
    "                                                                        color=color['south'],\n",
    "                                                                        drawstyle=\"steps-mid\")\n",
    "ax = df_electrons_omni['Electron_Flux'][f'Electron_Flux_{channel}'].plot(logy=True, label='omni', \n",
    "                                                                        color='black',\n",
    "                                                                        drawstyle=\"steps-mid\")\n",
    "\n",
    "ax.set_xlim([pd.Timestamp('2021-04-17 12:00'), pd.Timestamp('2021-04-19 20:00')])\n",
    "\n",
    "ax.set_ylabel(r'Electron flux [1/(cm$^2$ sr s MeV)]')\n",
    "ax.set_title(f\"SolO/EPD EPT electrons ({1000*energies['Electron_Bins_Low_Energy'][channel]:.2f}\"\n",
    "             + f\" - {1000*energies['Electron_Bins_Low_Energy'][channel+1]:.2f} keV)\")\n",
    "ax.legend()\n",
    "ax.xaxis_date()\n",
    "ax.xaxis.set_major_formatter(mdates.DateFormatter('%H:%M'))\n",
    "ax.tick_params(axis='x', rotation=0)\n",
    "fig.tight_layout()\n",
    "plt.show()"
   ]
  },
  {
   "cell_type": "code",
   "execution_count": null,
   "metadata": {},
   "outputs": [],
   "source": [
    "# define start and end date of data to load (year, month, day):\n",
    "startdate = pd.Timestamp(2020, 7, 8)\n",
    "enddate = pd.Timestamp(2020, 7, 24)\n",
    "\n",
    "# change time resolution to get smoother curve\n",
    "resample = '60min' \n",
    "\n",
    "# define viewing direction of telescope (for EPT & HET)\n",
    "viewing = 'sun'"
   ]
  },
  {
   "cell_type": "code",
   "execution_count": null,
   "metadata": {},
   "outputs": [],
   "source": [
    "# load ept sun viewing data\n",
    "df_protons_ept, df_electrons_ept, energies_ept = epd_load(sensor='ept', level='l2', \n",
    "                                                          startdate=startdate, enddate=enddate, \n",
    "                                                          viewing=viewing, \n",
    "                                                          path=path, autodownload=autodownload)"
   ]
  },
  {
   "cell_type": "code",
   "execution_count": null,
   "metadata": {},
   "outputs": [],
   "source": [
    "fig, axs = plt.subplots(2, sharex=True, figsize=[10,9])\n",
    "\n",
    "# Make list of gradually changing colors. Use a maplotlib \n",
    "# colormap (cm) and divide it with np.linspace(0,1,9)), i.e. in 9 parts\n",
    "axs[0].set_prop_cycle('color', plt.cm.winter(np.linspace(0,1,9)))\n",
    "# plot selection of ept electron channels\n",
    "for channel in [0, 4, 8, 12, 16, 20, 24, 28, 32]:\n",
    "    df_electrons_ept['Electron_Flux'][f'Electron_Flux_{channel}'].resample(resample).mean().plot(\n",
    "      ax = axs[0], logy=True, label='EPT '+energies_ept[\"Electron_Bins_Text\"][channel][0])\n",
    "\n",
    "# Make list of gradually changing colors. Use a maplotlib \n",
    "# colormap (cm) and divide it with np.linspace(0,1,9)), i.e. in 9 parts\n",
    "axs[1].set_prop_cycle('color', plt.cm.autumn(np.linspace(0,1,9)))\n",
    "# plot selection of ept ion channels\n",
    "for channel in [6, 13, 22, 29, 32, 40, 48, 56, 62]:\n",
    "    df_protons_ept['Ion_Flux'][f'Ion_Flux_{channel}'].resample(resample).mean().plot(\n",
    "      ax = axs[1], logy=True, label='EPT '+energies_ept[\"Ion_Bins_Text\"][channel][0])\n",
    "\n",
    "axs[0].set_ylabel(r\"Electron flux [1/(cm$^2$ sr s MeV)]\")\n",
    "axs[1].set_ylabel(r\"Ion flux [1/(cm$^2$ sr s MeV)]\")\n",
    "axs[0].legend(bbox_to_anchor=(1.05, 1), loc=2, borderaxespad=0., title=f'Electrons ({viewing})')\n",
    "axs[1].legend(bbox_to_anchor=(1.05, 1), loc=2, borderaxespad=0., title=f'Ions/Protons ({viewing})')\n",
    "fig.suptitle('Solar Orbiter')\n",
    "plt.subplots_adjust(hspace=0)\n",
    "plt.tight_layout()\n",
    "plt.show()"
   ]
  },
  {
   "cell_type": "code",
   "execution_count": null,
   "metadata": {},
   "outputs": [],
   "source": []
  },
  {
   "cell_type": "markdown",
   "metadata": {},
   "source": [
    "# Using `pyspedas` .. run in `psp` env."
   ]
  },
  {
   "cell_type": "code",
   "execution_count": null,
   "metadata": {},
   "outputs": [],
   "source": [
    "import warnings\n",
    "warnings.filterwarnings('ignore')\n",
    "\n",
    "import pyspedas\n",
    "import pytplot\n",
    "from pytplot import tplot\n",
    "from pytplot import get_data\n",
    "\n",
    "import os\n",
    "import datetime\n",
    "import numpy as np\n",
    "import pandas as pd\n",
    "\n",
    "import matplotlib.pyplot as plt\n",
    "from matplotlib.dates import DateFormatter\n",
    "\n",
    "import matplotlib as mpl\n",
    "import matplotlib.dates as mdates\n",
    "mpl.rcParams['date.epoch'] = '1970-01-01T00:00:00'\n",
    "try:\n",
    "    mdates.set_epoch('1970-01-01T00:00:00')\n",
    "except:\n",
    "    pass\n",
    "\n",
    "# plt.style.use('seaborn')\n",
    "plt.rcParams['figure.dpi'] = 100\n",
    "plt.rcParams['savefig.dpi'] = 100\n",
    "plt.rcParams['figure.facecolor'] = 'white'\n",
    "plt.rcParams['savefig.facecolor'] = 'white'\n",
    "\n",
    "time_range = ['2021-09-17', '2021-09-19']"
   ]
  },
  {
   "cell_type": "code",
   "execution_count": null,
   "metadata": {},
   "outputs": [],
   "source": [
    "epam_vars = pyspedas.ace.epam(trange=time_range)\n",
    "print(epam_vars)"
   ]
  },
  {
   "cell_type": "code",
   "execution_count": null,
   "metadata": {},
   "outputs": [],
   "source": [
    "# tplot(['H_lo', 'Ion_very_lo', 'Ion_lo', 'Ion_mid', 'Ion_hi', 'Electron_lo', 'Electron_hi'], xsize=10, ysize=17)"
   ]
  },
  {
   "cell_type": "code",
   "execution_count": null,
   "metadata": {},
   "outputs": [],
   "source": [
    "# time_H_lo, flux_H_lo = get_data('H_lo', dt=True)\n",
    "# time_Ion_very_lo, flux_Ion_very_lo = get_data('Ion_very_lo', dt=True)\n",
    "# time_Ion_lo, flux_Ion_lo = get_data('Ion_lo', dt=True)\n",
    "# time_Ion_mid, flux_Ion_mid = get_data('Ion_mid', dt=True)\n",
    "# time_Ion_hi, flux_Ion_hi = get_data('Ion_hi', dt=True)\n",
    "# time_Electron_lo, flux_Electron_lo = get_data('Electron_lo', dt=True)\n",
    "# time_Electron_hi, flux_Electron_hi = get_data('Electron_hi', dt=True)"
   ]
  },
  {
   "cell_type": "code",
   "execution_count": null,
   "metadata": {},
   "outputs": [],
   "source": [
    "xarray_H_lo = get_data('H_lo', xarray=True, metadata=True)\n",
    "xarray_Ion_very_lo = get_data('Ion_very_lo', xarray=True, metadata=True)\n",
    "xarray_Ion_lo = get_data('Ion_lo', xarray=True, metadata=True)\n",
    "xarray_Ion_mid = get_data('Ion_mid', xarray=True, metadata=True)\n",
    "xarray_Ion_hi = get_data('Ion_hi', xarray=True, metadata=True)\n",
    "xarray_Electron_lo = get_data('Electron_lo', xarray=True, metadata=True)\n",
    "xarray_Electron_hi = get_data('Electron_hi', xarray=True, metadata=True)"
   ]
  },
  {
   "cell_type": "code",
   "execution_count": null,
   "metadata": {},
   "outputs": [],
   "source": [
    "fig = plt.figure(figsize=[12,12])\n",
    "instrument = xarray_Ion_lo.CDF['GATT']['TEXT'][0]\n",
    "cadence = xarray_Ion_lo.CDF['GATT']['Time_resolution']\n",
    "fig.suptitle(f'{instrument}: {cadence} resolution')\n",
    "\n",
    "ax = fig.add_subplot(311)\n",
    "ax.plot(xarray_Ion_very_lo.time, xarray_Ion_very_lo.data, label=xarray_Ion_very_lo.CDF['VATT']['LABLAXIS'])\n",
    "ax.plot(xarray_Ion_lo.time, xarray_Ion_lo.data, label=xarray_Ion_lo.CDF['VATT']['LABLAXIS'])\n",
    "ax.plot(xarray_Ion_mid.time, xarray_Ion_mid.data, label=xarray_Ion_mid.CDF['VATT']['LABLAXIS'])\n",
    "ax.plot(xarray_Ion_hi.time, xarray_Ion_hi.data, label=xarray_Ion_hi.CDF['VATT']['LABLAXIS'])\n",
    "ax.set_yscale('log')\n",
    "ax.set_ylabel(xarray_Ion_hi.CDF['VATT']['UNITS'])\n",
    "ax.legend(bbox_to_anchor=(1.02, 1), loc=2, borderaxespad=0, title='Ions')\n",
    "ax.xaxis_date()\n",
    "ax.xaxis.set_major_formatter(DateFormatter('%m/%d %H:%M'))\n",
    "ax.set_xlim(left=xarray_Ion_hi.time[0], right=xarray_Ion_hi.time[-1])\n",
    "\n",
    "ax = fig.add_subplot(312)\n",
    "ax.plot(xarray_H_lo.time, xarray_H_lo.data, label=xarray_H_lo.CDF['VATT']['LABLAXIS'])\n",
    "ax.set_yscale('log')\n",
    "ax.set_ylabel(xarray_H_lo.CDF['VATT']['UNITS'])\n",
    "ax.legend(bbox_to_anchor=(1.02, 1), loc=2, borderaxespad=0, title='Protons')\n",
    "ax.xaxis_date()\n",
    "ax.xaxis.set_major_formatter(DateFormatter('%m/%d %H:%M'))\n",
    "ax.set_xlim(left=xarray_H_lo.time[0], right=xarray_H_lo.time[-1])\n",
    "\n",
    "ax = fig.add_subplot(313)\n",
    "ax.plot(xarray_Electron_lo.time, xarray_Electron_lo.data, label=xarray_Electron_lo.CDF['VATT']['LABLAXIS'])\n",
    "ax.plot(xarray_Electron_hi.time, xarray_Electron_hi.data, label=xarray_Electron_hi.CDF['VATT']['LABLAXIS'])\n",
    "ax.set_yscale('log')\n",
    "ax.set_xlabel('Time')\n",
    "ax.set_ylabel(xarray_Electron_lo.CDF['VATT']['UNITS'])\n",
    "ax.legend(bbox_to_anchor=(1.02, 1), loc=2, borderaxespad=0, title='Electrons')\n",
    "ax.xaxis_date()\n",
    "ax.xaxis.set_major_formatter(DateFormatter('%m/%d %H:%M'))\n",
    "ax.set_xlim(left=xarray_Electron_lo.time[0], right=xarray_Electron_lo.time[-1])\n",
    "\n",
    "fig.tight_layout()\n",
    "plt.show()"
   ]
  },
  {
   "cell_type": "markdown",
   "metadata": {},
   "source": [
    "## MAVEN instrument"
   ]
  },
  {
   "cell_type": "code",
   "execution_count": null,
   "metadata": {},
   "outputs": [],
   "source": [
    "sep_vars = pyspedas.maven.sep(trange=time_range)"
   ]
  },
  {
   "cell_type": "code",
   "execution_count": null,
   "metadata": {},
   "outputs": [],
   "source": [
    "xarray_forward_maven = get_data('f_elec_flux_tot_s2-cal-svy-full', xarray=True, metadata=True)\n",
    "xarray_rear_maven = get_data('r_elec_flux_tot_s2-cal-svy-full', xarray=True, metadata=True)"
   ]
  },
  {
   "cell_type": "code",
   "execution_count": null,
   "metadata": {},
   "outputs": [],
   "source": [
    "df_maven_f = pd.DataFrame({'time': xarray_forward_maven.time, 'data': xarray_forward_maven.data})\n",
    "df_maven_r = pd.DataFrame({'time': xarray_rear_maven.time, 'data': xarray_rear_maven.data})\n",
    "\n",
    "# Get rid of nans\n",
    "df_maven_f.dropna(inplace=True)\n",
    "df_maven_r.dropna(inplace=True)\n",
    "\n",
    "# Set index\n",
    "df_maven_f['time'] = pd.to_datetime(df_maven_f['time'])\n",
    "df_maven_f.set_index('time', inplace=True)\n",
    "\n",
    "df_maven_r['time'] = pd.to_datetime(df_maven_r['time'])\n",
    "df_maven_r.set_index('time', inplace=True)\n",
    "\n",
    "# Resample\n",
    "df_maven_f = df_maven_f.resample('1min').mean()\n",
    "df_maven_r = df_maven_r.resample('1min').mean()"
   ]
  },
  {
   "cell_type": "code",
   "execution_count": null,
   "metadata": {},
   "outputs": [],
   "source": [
    "fig = plt.figure(figsize=[12,5])\n",
    "ax = fig.add_subplot(111)\n",
    "\n",
    "instrument = xarray_forward_maven.CDF['GATT']['TEXT']\n",
    "# description_f = xarray_forward_maven.CDF['VATT']['CATDESC']\n",
    "# description_r = xarray_rear_maven.CDF['VATT']['CATDESC']\n",
    "cadence = round(np.nanmedian(np.diff(xarray_forward_maven.time[-10:])).item()/1e9)\n",
    "# fig.suptitle(f'{instrument}: {cadence}-s resolution (resampled to 1-min)\\n{description_f} and {description_r}')\n",
    "ax.set_title(f'{instrument}: {cadence}-s resolution (resampled to 1-min)\\nTotal Electron Flux in Forward and Rear Look Directions')\n",
    "\n",
    "ax.plot(df_maven_f.index, df_maven_f.data, label=xarray_forward_maven.CDF['VATT']['LABLAXIS'])\n",
    "ax.plot(df_maven_r.index, df_maven_r.data, label=xarray_rear_maven.CDF['VATT']['LABLAXIS'])\n",
    "\n",
    "ax.set_yscale('log')\n",
    "ax.set_xlabel('Time')\n",
    "ax.set_ylabel(xarray_forward_maven.CDF['VATT']['UNITS'])\n",
    "ax.legend(bbox_to_anchor=(1.02, 1), loc=2, borderaxespad=0)\n",
    "ax.xaxis_date()\n",
    "ax.xaxis.set_major_formatter(DateFormatter('%m/%d %H:%M'))\n",
    "ax.set_xlim(left=df_maven_f.index[0], right=df_maven_f.index[-1])\n",
    "fig.tight_layout()\n",
    "plt.show()"
   ]
  },
  {
   "cell_type": "code",
   "execution_count": null,
   "metadata": {},
   "outputs": [],
   "source": [
    "import warnings\n",
    "warnings.filterwarnings('ignore')\n",
    "\n",
    "import numpy as np\n",
    "import pandas as pd\n",
    "\n",
    "import matplotlib.pyplot as plt\n",
    "from matplotlib.dates import DateFormatter\n",
    "\n",
    "import matplotlib as mpl\n",
    "import matplotlib.dates as mdates\n",
    "mpl.rcParams['date.epoch'] = '1970-01-01T00:00:00'\n",
    "try:\n",
    "    mdates.set_epoch('1970-01-01T00:00:00')\n",
    "except:\n",
    "    pass\n",
    "\n",
    "plt.rcParams['figure.dpi'] = 100\n",
    "plt.rcParams['savefig.dpi'] = 100\n",
    "plt.rcParams['figure.facecolor'] = 'white'\n",
    "plt.rcParams['savefig.facecolor'] = 'white'"
   ]
  },
  {
   "cell_type": "markdown",
   "metadata": {},
   "source": [
    "---\n",
    "# Wind/3DP <a class=\"anchor\" id=\"wind-3dp-loader\"></a>\n",
    "\n",
    "- GitHub: https://github.com/serpentine-h2020/SEPpy"
   ]
  },
  {
   "cell_type": "markdown",
   "metadata": {},
   "source": [
    "Python data loader for Wind/3DP instrument. At the moment provides released data obtained by SunPy through CDF files from CDAWeb for the following datasets:\n",
    "\n",
    "- `'WI_SFSP_3DP'`: Electron omnidirectional fluxes 27 keV - 520 keV, often at 24 sec ([Info](https://cdaweb.gsfc.nasa.gov/misc/NotesW.html#WI_SFSP_3DP), [Metadata](https://cdaweb.gsfc.nasa.gov/pub/software/cdawlib/0SKELTABLES/wi_sfsp_3dp_00000000_v01.skt))\n",
    "- `'WI_SFPD_3DP'`: Electron energy-angle distributions 27 keV to 520 keV, often at 24 sec ([Info](https://cdaweb.gsfc.nasa.gov/misc/NotesW.html#WI_SFPD_3DP), [Metadata](https://cdaweb.gsfc.nasa.gov/pub/software/cdawlib/0SKELTABLES/wi_sfpd_3dp_00000000_v01.skt))\n",
    "- `'WI_SOSP_3DP'`: Proton omnidirectional fluxes 70 keV - 6.8 MeV, often at 24 sec ([Info](https://cdaweb.gsfc.nasa.gov/misc/NotesW.html#WI_SOSP_3DP), [Metadata](https://cdaweb.gsfc.nasa.gov/pub/software/cdawlib/0SKELTABLES/wi_sosp_3dp_00000000_v01.skt))\n",
    "- `'WI_SOPD_3DP'`: Proton energy-angle distributions 70 keV - 6.8 MeV, often at 24 sec ([Info](https://cdaweb.gsfc.nasa.gov/misc/NotesW.html#WI_SOPD_3DP), [Metadata](https://cdaweb.gsfc.nasa.gov/pub/software/cdawlib/0SKELTABLES/wi_sopd_3dp_00000000_v01.skt))\n",
    "\n",
    "Note that for Wind/3DP, energies are usually provided in eV (and not keV or MeV)!"
   ]
  },
  {
   "cell_type": "markdown",
   "metadata": {},
   "source": [
    "#### Define options\n",
    "\n",
    "-  ``dataset``: ``'WI_SFSP_3DP'``, ``'WI_SFPD_3DP'``, ``'WI_SOSP_3DP'``, or ``'WI_SOPD_3DP'``. See above for explanation.\n",
    "-  ``startdate``, ``enddate``: datetime object or \"standard\" datetime string\n",
    "-  ``resample``: Pandas frequency (e.g., ``'1min'`` or ``'1h'``), or ``None``, optional. Frequency to which the original data (~24 seconds) is resamepled. By default ``'1min'``.\n",
    "-  ``multi_index``: ``True``, or ``False`` (boolean), optional. Provide output for pitch-angle resolved data as Pandas Dataframe with multiindex. By default ``True``.\n",
    "-  ``path``: String, optional. Local path for storing downloaded data, e.g. ``path='data/wind/3dp/'``. By default `None`. Default setting saves data according to [sunpy's Fido standards](https://docs.sunpy.org/en/stable/guide/acquiring_data/fido.html#downloading-data>).\n",
    "-  ``threshold``: Integer or float, optional. Replace all FLUX values in ``df`` above ``threshold`` with ``np.nan``, by default ``None``."
   ]
  },
  {
   "cell_type": "code",
   "execution_count": null,
   "metadata": {},
   "outputs": [],
   "source": [
    "from seppy.loader.wind import wind3dp_load\n",
    "import datetime as dt"
   ]
  },
  {
   "cell_type": "code",
   "execution_count": null,
   "metadata": {},
   "outputs": [],
   "source": [
    "start_time = pd.Timestamp('2021-09-17')\n",
    "end_time = pd.Timestamp('2021-09-19')\n",
    "cadence = '1min'"
   ]
  },
  {
   "cell_type": "code",
   "execution_count": null,
   "metadata": {},
   "outputs": [],
   "source": [
    "df_wind_e, meta_wind_e = wind3dp_load(dataset='WI_SFSP_3DP',\n",
    "                                        startdate=start_time,\n",
    "                                        enddate=end_time,\n",
    "                                        multi_index=False,\n",
    "                                        resample=cadence)\n",
    "\n",
    "df_wind_p, meta_wind_p = wind3dp_load(dataset='WI_SOSP_3DP',\n",
    "                                        startdate=start_time,\n",
    "                                        enddate=end_time,\n",
    "                                        multi_index=False,\n",
    "                                        resample=cadence)"
   ]
  },
  {
   "cell_type": "code",
   "execution_count": null,
   "metadata": {},
   "outputs": [],
   "source": [
    "fig = plt.figure(figsize=[12,7])\n",
    "ax = fig.add_subplot(111)\n",
    "\n",
    "num_flux_columns = len(meta_wind_e['channels_dict_df'])\n",
    "\n",
    "# Make list of gradually changing colors. Use a maplotlib \n",
    "# colormap (cm) and divide it with np.linspace(0,1,n)), i.e. in n parts\n",
    "ax.set_prop_cycle('color', plt.cm.inferno_r(np.linspace(0, 1, num_flux_columns)))\n",
    "\n",
    "for i in range(num_flux_columns):\n",
    "    ax.plot(df_wind_e.index, df_wind_e[f'FLUX_{i}'], label=meta_wind_e['channels_dict_df']['Bins_Text'].values[i])\n",
    "\n",
    "ax.set_yscale('log')\n",
    "ax.set_xlabel('Time')\n",
    "ax.set_ylabel(meta_wind_e['FLUX_UNITS'])\n",
    "ax.set_title('Wind/3DP omnidirectional electrons')\n",
    "ax.legend(bbox_to_anchor=(1.02, 1), loc=2, borderaxespad=0, title='Electrons')\n",
    "ax.xaxis_date()\n",
    "ax.xaxis.set_major_formatter(DateFormatter('%m/%d %H:%M'))\n",
    "ax.set_xlim(left=df_wind_e.index[0], right=df_wind_e.index[-1])\n",
    "plt.tight_layout()\n",
    "plt.show()"
   ]
  },
  {
   "cell_type": "code",
   "execution_count": null,
   "metadata": {},
   "outputs": [],
   "source": [
    "fig = plt.figure(figsize=[12,7])\n",
    "ax = fig.add_subplot(111)\n",
    "\n",
    "num_flux_columns = len(meta_wind_p['channels_dict_df'])\n",
    "\n",
    "# Make list of gradually changing colors. Use a maplotlib \n",
    "# colormap (cm) and divide it with np.linspace(0,1,n)), i.e. in n parts\n",
    "ax.set_prop_cycle('color', plt.cm.inferno_r(np.linspace(0, 1, num_flux_columns)))\n",
    "\n",
    "for i in range(num_flux_columns):\n",
    "    ax.plot(df_wind_p.index, df_wind_p[f'FLUX_{i}'], label=meta_wind_p['channels_dict_df']['Bins_Text'].values[i])\n",
    "\n",
    "ax.set_yscale('log')\n",
    "ax.set_xlabel('Time')\n",
    "ax.set_ylabel(meta_wind_p['FLUX_UNITS'])\n",
    "ax.set_title('Wind/3DP omnidirectional protons')\n",
    "ax.legend(bbox_to_anchor=(1.02, 1), loc=2, borderaxespad=0, title='Protons')\n",
    "ax.xaxis_date()\n",
    "ax.xaxis.set_major_formatter(DateFormatter('%m/%d %H:%M'))\n",
    "ax.set_xlim(left=df_wind_p.index[0], right=df_wind_p.index[-1])\n",
    "plt.tight_layout()\n",
    "plt.show()"
   ]
  },
  {
   "cell_type": "markdown",
   "metadata": {},
   "source": [
    "---\n",
    "# STEREO <a class=\"anchor\" id=\"stereo-loader\"></a>\n",
    "\n",
    "- GitHub: https://github.com/serpentine-h2020/SEPpy"
   ]
  },
  {
   "cell_type": "markdown",
   "metadata": {},
   "source": [
    "Python data loader for some STEREO instruments (i.e., magnetic field and charged particles). At the moment provides released data obtained by SunPy through CDF files from CDAWeb for the following datasets:\n",
    "\n",
    "- ``'HET'``: STEREO IMPACT/HET Level 1 Data ([Info](https://cdaweb.gsfc.nasa.gov/misc/NotesS.html#STA_L1_HET)) \n",
    "- ``'LET'``: STEREO IMPACT/LET Level 1 Data ([Info](https://cdaweb.gsfc.nasa.gov/misc/NotesS.html#STA_L1_LET))\n",
    "- ``'MAG'``: STEREO IMPACT/MAG Magnetic Field Vectors (RTN or SC) ([Info RTN](https://cdaweb.gsfc.nasa.gov/misc/NotesS.html#STA_L1_MAG_RTN), [Info SC](https://cdaweb.gsfc.nasa.gov/misc/NotesS.html#STA_L1_MAG_SC))\n",
    "- ``'MAGB'``: STEREO IMPACT/MAG Burst Mode (~0.03 sec) Magnetic Field Vectors (RTN or SC) ([Info RTN](https://cdaweb.gsfc.nasa.gov/misc/NotesS.html#STA_L1_MAGB_RTN), [Info SC](https://cdaweb.gsfc.nasa.gov/misc/NotesS.html#STA_L1_MAGB_SC))\n",
    "- ``'SEPT'``: STEREO IMPACT/SEPT Level 2 Data ([Info 1](http://www2.physik.uni-kiel.de/STEREO/data/sept/level2/about.txt), [Info 2](http://www2.physik.uni-kiel.de/STEREO/data/sept/level2/SEPT_L2_description.pdf)) [1]\n",
    "\n",
    "[1] STEREO IMPACT/SEPT Level 2 data is directly obtained through ASCII files from the [server of the instrument team](http://www2.physik.uni-kiel.de/STEREO/data/sept/level2/), not via SunPy/CDAWeb."
   ]
  },
  {
   "cell_type": "markdown",
   "metadata": {},
   "source": [
    "#### Define options\n",
    "\n",
    "-  ``instrument``: ``'HET'``, ``'LET'``, ``'MAG'``, ``'MAGB'``, or ``'SEPT'``. See above for explanation.\n",
    "-  ``startdate``, ``enddate``: datetime object or \"standard\" datetime string\n",
    "-  ``spacecraft``: String, optional. Name of STEREO spacecraft: ``'ahead'`` or ``'behind'``, by default ``'ahead'``.\n",
    "-  ``mag_coord``: String, optional. Coordinate system for MAG: ``'RTN'`` or ``'SC'``, by default ``'RTN'``.\n",
    "-  ``sept_species``: String, optional. Particle species for SEPT: ``'e'`` for electrons or ``'p'`` for protons (resp. ions), by default ``'e'``.\n",
    "-  ``sept_viewing``: String, optional. Viewing direction for SEPT: ``'sun'``, ``'asun'``, ``'north'``, or ``'south'``, by default ``'sun'``.\n",
    "-  ``path``: String, optional. Local path for storing downloaded data, e.g. ``path='data/stereo/'``. By default ``None``. Default setting saves data according to [sunpy's Fido standards](https://docs.sunpy.org/en/stable/guide/acquiring_data/fido.html#downloading-data).\n",
    "-  ``resample``: Pandas frequency (e.g., ``'1min'`` or ``'1h'``), or ``None``, optional. Frequency to which the original data is resamepled. By default ``None``.\n",
    "-  ``pos_timestamp``: String, optional. Change the position of the timestamp: ``'center'`` or ``'start'`` of the accumulation interval, or ``'original'`` to do nothing. By default ``center``.\n",
    "-  ``max_conn``: Integer, optional. The number of parallel download slots used by ``Fido.fetch``, by default ``5``."
   ]
  },
  {
   "cell_type": "code",
   "execution_count": null,
   "metadata": {},
   "outputs": [],
   "source": [
    "from seppy.loader.stereo import stereo_load"
   ]
  },
  {
   "cell_type": "code",
   "execution_count": null,
   "metadata": {},
   "outputs": [],
   "source": [
    "df_het, meta_het = stereo_load(instrument='HET',\n",
    "                                startdate=start_time,\n",
    "                                enddate=end_time,\n",
    "                                spacecraft='ahead',\n",
    "                                resample=cadence)\n",
    "\n",
    "df_let, meta_let = stereo_load(instrument='LET',\n",
    "                                startdate=start_time,\n",
    "                                enddate=end_time,\n",
    "                                spacecraft='ahead',\n",
    "                                resample=cadence)\n",
    "\n",
    "df_sept_e, meta_septs_e = stereo_load(instrument='SEPT',\n",
    "                                    startdate=start_time,\n",
    "                                    enddate=end_time,\n",
    "                                    spacecraft='ahead',\n",
    "                                    sept_species='e',\n",
    "                                    resample=cadence)\n",
    "\n",
    "df_sept_p, meta_septs_p = stereo_load(instrument='SEPT',\n",
    "                                        startdate=start_time,\n",
    "                                        enddate=end_time,\n",
    "                                        spacecraft='ahead',\n",
    "                                        sept_species='p',\n",
    "                                        resample=cadence)"
   ]
  },
  {
   "cell_type": "code",
   "execution_count": null,
   "metadata": {},
   "outputs": [],
   "source": [
    "fig = plt.figure(figsize=[12,7])\n",
    "ax = fig.add_subplot(111)\n",
    "\n",
    "num_flux_columns = len(meta_het['Electron_Bins_Text'])\n",
    "\n",
    "# Make list of gradually changing colors. Use a maplotlib \n",
    "# colormap (cm) and divide it with np.linspace(0,1,n)), i.e. in n parts\n",
    "ax.set_prop_cycle('color', plt.cm.winter_r(np.linspace(0, 1, num_flux_columns)))\n",
    "\n",
    "for i in range(num_flux_columns):\n",
    "    ax.plot(df_het.index, df_het[f'Electron_Flux_{i}'], drawstyle='steps-mid', label=meta_het['Electron_Bins_Text'][i][0])\n",
    "\n",
    "ax.set_yscale('log')\n",
    "ax.set_xlabel('Time')\n",
    "ax.set_ylabel(meta_het['Electron_Flux_UNITS'])\n",
    "ax.set_title('STEREO/HET electrons')\n",
    "ax.legend(bbox_to_anchor=(1.02, 1), loc=2, borderaxespad=0, title='Electrons')\n",
    "ax.xaxis_date()\n",
    "ax.xaxis.set_major_formatter(DateFormatter('%m/%d %H:%M'))\n",
    "ax.set_xlim(left=df_het.index[0], right=df_het.index[-1])\n",
    "fig.tight_layout()\n",
    "plt.show()"
   ]
  },
  {
   "cell_type": "code",
   "execution_count": null,
   "metadata": {},
   "outputs": [],
   "source": [
    "fig = plt.figure(figsize=[12,7])\n",
    "ax = fig.add_subplot(111)\n",
    "\n",
    "num_flux_columns = len(meta_het['Proton_Bins_Text'])\n",
    "\n",
    "# Make list of gradually changing colors. Use a maplotlib \n",
    "# colormap (cm) and divide it with np.linspace(0,1,n)), i.e. in n parts\n",
    "ax.set_prop_cycle('color', plt.cm.winter_r(np.linspace(0, 1, num_flux_columns)))\n",
    "\n",
    "for i in range(num_flux_columns):\n",
    "    ax.plot(df_het.index, df_het[f'Proton_Flux_{i}'], drawstyle='steps-mid', label=meta_het['Proton_Bins_Text'][i][0])\n",
    "\n",
    "ax.set_yscale('log')\n",
    "ax.set_xlabel('Time')\n",
    "ax.set_ylabel(meta_het['Proton_Flux_UNITS'])\n",
    "ax.set_title('STEREO/HET protons')\n",
    "ax.legend(bbox_to_anchor=(1.02, 1), loc=2, borderaxespad=0, title='Protons')\n",
    "ax.xaxis_date()\n",
    "ax.xaxis.set_major_formatter(DateFormatter('%m/%d %H:%M'))\n",
    "ax.set_xlim(left=df_het.index[0], right=df_het.index[-1])\n",
    "fig.tight_layout()\n",
    "plt.show()"
   ]
  },
  {
   "cell_type": "markdown",
   "metadata": {},
   "source": [
    "---\n",
    "# Parker Solar Probe/ISOIS <a class=\"anchor\" id=\"psp-isois-loader\"></a>\n",
    "\n",
    "- GitHub: https://github.com/serpentine-h2020/SEPpy"
   ]
  },
  {
   "cell_type": "markdown",
   "metadata": {},
   "source": [
    "Python data loader for PSP/ISOIS instrument. At the moment provides released data obtained by SunPy through CDF files from CDAWeb for the following datasets:\n",
    "\n",
    "- `PSP_ISOIS-EPIHI_L2-HET-RATES60`: Parker Solar Probe ISOIS EPI-Hi Level 2 HET 1-minute Rates ([Info](https://cdaweb.gsfc.nasa.gov/misc/NotesP.html#PSP_ISOIS-EPIHI_L2-HET-RATES60), [Metadata](https://cdaweb.gsfc.nasa.gov/pub/software/cdawlib/0SKELTABLES/psp_isois-epihi_l2-het-rates60_00000000_v01.skt))\n",
    "- `PSP_ISOIS-EPIHI_L2-HET-RATES3600`: Parker Solar Probe ISOIS EPI-Hi Level 2 HET Hourly Rates ([Info](https://cdaweb.gsfc.nasa.gov/misc/NotesP.html#PSP_ISOIS-EPIHI_L2-HET-RATES3600), [Metadata](https://cdaweb.gsfc.nasa.gov/pub/software/cdawlib/0SKELTABLES/psp_isois-epihi_l2-het-rates3600_00000000_v01.skt)) (higher coverage than 'RATES60' before mid-2021)\n",
    "- `PSP_ISOIS-EPILO_L2-IC`: Parker Solar Probe ISOIS EPI-Lo Level 2 Ion Composition mode ([Info](https://cdaweb.gsfc.nasa.gov/misc/NotesP.html#PSP_ISOIS-EPILO_L2-IC), [Metadata](https://cdaweb.gsfc.nasa.gov/pub/software/cdawlib/0SKELTABLES/psp_isois-epilo_l2-ic_00000000_v01.skt))\n",
    "- `PSP_ISOIS-EPILO_L2-PE`: Parker Solar Probe ISOIS EPI-Lo Level 2 Particle Energy mode ([Info](https://cdaweb.gsfc.nasa.gov/misc/NotesP.html#PSP_ISOIS-EPILO_L2-PE), [Metadata](https://cdaweb.gsfc.nasa.gov/pub/software/cdawlib/0SKELTABLES/psp_isois-epilo_l2-pe_00000000_v01.skt))\n",
    "\n",
    "Current caveats\n",
    "\n",
    "- A lot of PSP/ISOIS datasets are not supported at the moment, for example:\n",
    " - PSP_ISOIS-EPIHI_L2-LET1-RATES60\n",
    " - PSP_ISOIS-EPIHI_L2-LET2-RATES60\n",
    "- For EPIHI, energy values are only loaded from the first day of the interval! (For EPILO, energy values are the mean of the whole loaded interval.)\n",
    "- EPILO energy tables changed on June 14, 2021.\n",
    "- Some parts of the data files are skipped for performance reasons.\n",
    "- Some multi-dimensional parts of the data files are skipped (user warning is provided in this cases)."
   ]
  },
  {
   "cell_type": "markdown",
   "metadata": {},
   "source": [
    "#### Define options\n",
    "\n",
    "-  ``dataset``: (see above for explanation)\n",
    " - ``'PSP_ISOIS-EPIHI_L2-HET-RATES60'``\n",
    " - ``'PSP_ISOIS-EPIHI_L2-HET-RATES3600'`` (higher coverage than ``'RATES60'`` before mid-2021)\n",
    " - ``'PSP_ISOIS-EPILO_L2-IC'``\n",
    " - ``'PSP_ISOIS-EPILO_L2-PE'``\n",
    "-  ``startdate``, ``enddate``: datetime object or \"standard\" datetime string\n",
    "-  ``resample``: Pandas frequency (e.g., ``'1min'`` or ``'1h'``), or ``None``, optional. Frequency to which the original data (~24 seconds) is resamepled. By default ``'1min'``.\n",
    "-  ``path``: String, optional. Local path for storing downloaded data, e.g. ``path='data/psp/isois/'``. By default `None`. Default setting saves data according to [sunpy's Fido standards](https://docs.sunpy.org/en/stable/guide/acquiring_data/fido.html#downloading-data).\n",
    "-  ``epilo_channel``: String, optional. Only used for EPILO data. Channel of EPILO: 'E', 'F', 'G' (for 'EPILO PE'), or 'C', 'D', 'P', 'R', 'T' (for 'EPILO IC'). By default 'F'.\n",
    "-  ``epilo_threshold``: Integer or float, optional. Only used for EPILO PE data. Replace all flux/countrate values in ``df`` above ``epilo_threshold`` with ``np.nan``, by default ``None``.\n",
    "- ``all_columns`` : ``True`` or ``False`` (boolean), optional. Whether to return all columns of the datafile for EPILO (or skip usually unneeded columns for better performance), by default `False`."
   ]
  },
  {
   "cell_type": "code",
   "execution_count": null,
   "metadata": {},
   "outputs": [],
   "source": [
    "from seppy.loader.psp import psp_isois_load\n",
    "\n",
    "time_range = ['2021-09-17', '2021-09-19']"
   ]
  },
  {
   "cell_type": "code",
   "execution_count": null,
   "metadata": {},
   "outputs": [],
   "source": [
    "df_epihi, meta_epihi = psp_isois_load(dataset='PSP_ISOIS-EPIHI_L2-HET-RATES60',\n",
    "                                        startdate=time_range[0],\n",
    "                                        enddate=time_range[1],\n",
    "                                        resample='1min')"
   ]
  },
  {
   "cell_type": "code",
   "execution_count": null,
   "metadata": {},
   "outputs": [],
   "source": [
    "fig = plt.figure(figsize=[12,10])\n",
    "\n",
    "ax = fig.add_subplot(211)\n",
    "num_flux_columns = len(meta_epihi['Electrons_ENERGY_LABL'])\n",
    "\n",
    "# Make list of gradually changing colors. Use a maplotlib \n",
    "# colormap (cm) and divide it with np.linspace(0,1,n)), i.e. in n parts\n",
    "ax.set_prop_cycle('color', plt.cm.winter_r(np.linspace(0, 1, num_flux_columns)))\n",
    "\n",
    "df_psp_epihi_e = df_epihi.filter(like='A_Electrons_Rate_')\n",
    "\n",
    "for i in range(num_flux_columns):\n",
    "    ax.plot(df_psp_epihi_e.index, df_psp_epihi_e[f'A_Electrons_Rate_{i}'], drawstyle='steps-mid', label=meta_epihi['Electrons_ENERGY_LABL'][i][0])\n",
    "\n",
    "ax.set_yscale('log')\n",
    "ax.set_ylabel(meta_epihi['Electrons_Rate_UNITS'])\n",
    "ax.legend(bbox_to_anchor=(1.02, 1), loc=2, borderaxespad=0, title='Electrons')\n",
    "ax.xaxis_date()\n",
    "ax.xaxis.set_major_formatter(DateFormatter('%m/%d %H:%M'))\n",
    "ax.set_xlim(left=df_psp_epihi_e.index[0], right=df_psp_epihi_e.index[-1])\n",
    "\n",
    "ax = fig.add_subplot(212)\n",
    "num_flux_columns = len(meta_epihi['H_ENERGY_LABL'])\n",
    "\n",
    "df_psp_epihi_H = df_epihi.filter(like='A_H_Flux_')\n",
    "\n",
    "# Make list of gradually changing colors. Use a maplotlib \n",
    "# colormap (cm) and divide it with np.linspace(0,1,n)), i.e. in n parts\n",
    "ax.set_prop_cycle('color', plt.cm.autumn_r(np.linspace(0, 1, num_flux_columns)))\n",
    "for i in range(num_flux_columns):\n",
    "    ax.plot(df_psp_epihi_H.index, df_psp_epihi_H[f'A_H_Flux_{i}'], drawstyle='steps-mid', label=meta_epihi['H_ENERGY_LABL'][i][0])\n",
    "\n",
    "ax.set_yscale('log')\n",
    "ax.set_xlabel('Time')\n",
    "ax.set_ylabel(meta_epihi['H_FLUX_UNITS'])\n",
    "ax.legend(bbox_to_anchor=(1.02, 1), loc=2, borderaxespad=0, title='Protons')\n",
    "ax.xaxis_date()\n",
    "ax.xaxis.set_major_formatter(DateFormatter('%m/%d %H:%M'))\n",
    "ax.set_xlim(left=df_psp_epihi_H.index[0], right=df_psp_epihi_H.index[-1])\n",
    "\n",
    "fig.suptitle('PSP ISOIS EPIHI')\n",
    "fig.subplots_adjust(hspace=0)\n",
    "fig.tight_layout()\n",
    "plt.show()"
   ]
  },
  {
   "cell_type": "markdown",
   "metadata": {},
   "source": [
    "# Solar Orbiter EPD <a class=\"anchor\" id=\"Solar_Orbiter_EPD\"></a>\n",
    "\n",
    "- GitHub: https://github.com/jgieseler/solo-epd-loader\n",
    "- PyPI: https://pypi.org/project/solo-epd-loader\n",
    "- conda: https://anaconda.org/conda-forge/solo-epd-loader"
   ]
  },
  {
   "cell_type": "markdown",
   "metadata": {},
   "source": [
    "Python data loader for Solar Orbiter's (SolO) [Energetic Particle Detector (EPD)](http://espada.uah.es/epd/). At the moment provides level 2 (l2) and low latency (ll) data ([more details on data levels here](http://espada.uah.es/epd/EPD_data_overview.php)) obtained through CDF files from ESA's [Solar Orbiter Archive (SOAR)](http://soar.esac.esa.int/soar) for the following sensors:\n",
    "\n",
    "- Electron Proton Telescope (EPT)\n",
    "- High Energy Telescope (HET)\n",
    "- SupraThermal Electrons and Protons (STEP)\n",
    "\n",
    "**Current caveats of this software:**\n",
    "\n",
    "- Only the standard ``rates`` data products are supported (i.e., no ``burst`` or ``high cadence`` data).\n",
    "- Only electrons, protons and alpha particles are processed (i.e., for HET He3, He4, C, N, O, Fe are omitted at the moment).\n",
    "- For STEP, the sectored data is only available for the updated data product (since Oct 22, 2021).\n",
    "- The Suprathermal Ion Spectrograph (SIS) is not yet included."
   ]
  },
  {
   "cell_type": "markdown",
   "metadata": {},
   "source": [
    "**Input parameters**\n",
    "\n",
    "-  ``sensor``: ``'ept'``, ``'het'``, or ``'step'`` (string)\n",
    "-  ``level``: ``'ll'`` or ``'l2'`` (string)\n",
    "-  ``startdate``, ``enddate``: Datetime object (e.g., ``dt.date(2021,12,31)`` or ``dt.datetime(2021,4,15)``) or integer of the form yyyymmdd with empty positions filled with zeros, e.g. ``20210415`` (if no ``enddate`` is provided, ``enddate = startdate`` will be used)\n",
    "-  ``viewing``: ``'sun'``, ``'asun'``, ``'north'``, ``'south'``, or ``'omni'``  (string) or ``None``; not\n",
    "   needed for ``sensor = 'step'``\n",
    "-  ``path``: directory in which Solar Orbiter data is/should be\n",
    "   organized; e.g. ``'/home/userxyz/solo/data/'`` (string). See section [Data folder structure](https://github.com/jgieseler/solo-epd-loader#data-folder-structure) in the documentation for more details.\n",
    "-  ``autodownload``: if ``True`` will try to download missing data files\n",
    "   from SOAR (bolean)"
   ]
  },
  {
   "cell_type": "code",
   "execution_count": null,
   "metadata": {},
   "outputs": [],
   "source": [
    "from solo_epd_loader import epd_load"
   ]
  },
  {
   "cell_type": "code",
   "execution_count": null,
   "metadata": {},
   "outputs": [],
   "source": [
    "color = {'sun':'crimson', 'asun':'orange', 'north':'darkslateblue', 'south':'c'}  # define some optional plotting settings or SolO/EPD colors\n",
    "sensor = 'ept' # define the sensor to use\n",
    "level = 'l2'   # define data level to use ('l2' or 'll')"
   ]
  },
  {
   "cell_type": "code",
   "execution_count": null,
   "metadata": {},
   "outputs": [],
   "source": [
    "df_protons_sun, df_electrons_sun, energies = epd_load(sensor=sensor,\n",
    "                                                        level=level,\n",
    "                                                        startdate=pd.Timestamp(time_range[0]),\n",
    "                                                        enddate=pd.Timestamp(time_range[1]),\n",
    "                                                        viewing='sun',\n",
    "                                                        autodownload=True)"
   ]
  },
  {
   "cell_type": "code",
   "execution_count": null,
   "metadata": {},
   "outputs": [],
   "source": [
    "..."
   ]
  },
  {
   "cell_type": "code",
   "execution_count": null,
   "metadata": {},
   "outputs": [],
   "source": []
  },
  {
   "cell_type": "code",
   "execution_count": null,
   "metadata": {},
   "outputs": [],
   "source": []
  },
  {
   "cell_type": "code",
   "execution_count": null,
   "metadata": {},
   "outputs": [],
   "source": []
  },
  {
   "cell_type": "markdown",
   "metadata": {},
   "source": [
    "---\n",
    "# SOHO <a class=\"anchor\" id=\"soho-loader\"></a>\n",
    "\n",
    "- GitHub: https://github.com/serpentine-h2020/SEPpy"
   ]
  },
  {
   "cell_type": "markdown",
   "metadata": {},
   "source": [
    "Python data loader for SOHO particle instruments. At the moment provides released data obtained by SunPy through CDF files from CDAWeb for the following datasets:\n",
    " \n",
    "-   ``'SOHO_COSTEP-EPHIN_L2-1MIN'``: SOHO COSTEP-EPHIN Level2 intensity 1 minute data ([Info](https://www.ieap.uni-kiel.de/et/ag-heber/costep/data.php)) [1]\n",
    "-   ``'SOHO_COSTEP-EPHIN_L3I-1MIN'``: SOHO COSTEP-EPHIN Level3 intensity 1 minute data ([Info](https://cdaweb.gsfc.nasa.gov/misc/NotesS.html#SOHO_COSTEP-EPHIN_L3I-1MIN))\n",
    "-   ``'SOHO_ERNE-LED_L2-1MIN'``: SOHO ERNE-LED Level2 1 minute data ([Info](https://cdaweb.gsfc.nasa.gov/misc/NotesS.html#SOHO_ERNE-LED_L2-1MIN))\n",
    "-   ``'SOHO_ERNE-HED_L2-1MIN'``: SOHO ERNE-HED Level2 1 minute data ([Info](https://cdaweb.gsfc.nasa.gov/misc/NotesS.html#SOHO_ERNE-HED_L2-1MIN))\n",
    "\n",
    "[1] SOHO COSTEP-EPHIN Level2 intensity 1 minute data is directly obtained through ASCII files from the [server of the instrument team](http://ulysses.physik.uni-kiel.de/costep/level2/), not via SunPy/CDAWeb."
   ]
  },
  {
   "cell_type": "code",
   "execution_count": null,
   "metadata": {},
   "outputs": [],
   "source": [
    "from seppy.loader.soho import soho_load"
   ]
  },
  {
   "cell_type": "code",
   "execution_count": null,
   "metadata": {},
   "outputs": [],
   "source": [
    "df_soho_ephin, meta_soho_ephin = soho_load(dataset='SOHO_COSTEP-EPHIN_L3I-1MIN',\n",
    "                                            startdate=pd.Timestamp(time_range[0]),\n",
    "                                            enddate=pd.Timestamp(time_range[1]),\n",
    "                                            resample='1min')\n",
    "df_soho_ephin = df_soho_ephin[time_range[0]:time_range[-1]]\n",
    "\n",
    "df_soho_erne_led, meta_soho_erne_led = soho_load(dataset='SOHO_ERNE-LED_L2-1MIN',\n",
    "                                                    startdate=pd.Timestamp(time_range[0]),\n",
    "                                                    enddate=pd.Timestamp(time_range[1]),\n",
    "                                                    resample='1min')\n",
    "\n",
    "df_soho_erne_hed, meta_soho_erne_hed = soho_load(dataset='SOHO_ERNE-HED_L2-1MIN',\n",
    "                                                    startdate=pd.Timestamp(time_range[0]),\n",
    "                                                    enddate=pd.Timestamp(time_range[1]),\n",
    "                                                    resample='1min')"
   ]
  },
  {
   "cell_type": "code",
   "execution_count": null,
   "metadata": {},
   "outputs": [],
   "source": [
    "fig = plt.figure(figsize=[12,10])\n",
    "\n",
    "ax = fig.add_subplot(211)\n",
    "num_flux_columns = len(meta_soho_ephin['He_E_label'])\n",
    "\n",
    "# Make list of gradually changing colors. Use a maplotlib \n",
    "# colormap (cm) and divide it with np.linspace(0,1,n)), i.e. in n parts\n",
    "ax.set_prop_cycle('color', plt.cm.jet_r(np.linspace(0, 1, num_flux_columns)))\n",
    "\n",
    "for i in range(num_flux_columns):\n",
    "    ax.plot(df_soho_ephin.index, df_soho_ephin[f'He_int_{i}'], drawstyle='steps-mid', label=meta_soho_ephin['He_E_label'][i])\n",
    "\n",
    "ax.set_yscale('log')\n",
    "ax.set_ylabel(meta_soho_ephin['He_int_UNITS'])\n",
    "ax.legend(bbox_to_anchor=(1.02, 1), loc=2, borderaxespad=0, title='He')\n",
    "ax.xaxis_date()\n",
    "ax.xaxis.set_major_formatter(DateFormatter('%m/%d %H:%M'))\n",
    "ax.set_xlim(left=df_soho_ephin.index[0], right=df_soho_ephin.index[-1])\n",
    "\n",
    "\n",
    "ax = fig.add_subplot(212)\n",
    "num_flux_columns = len(meta_soho_ephin['P_E_label'])\n",
    "\n",
    "# Make list of gradually changing colors. Use a maplotlib \n",
    "# colormap (cm) and divide it with np.linspace(0,1,n)), i.e. in n parts\n",
    "ax.set_prop_cycle('color', plt.cm.jet_r(np.linspace(0, 1, num_flux_columns)))\n",
    "for i in range(num_flux_columns):\n",
    "    ax.plot(df_soho_ephin.index, df_soho_ephin[f'P_int_{i}'], drawstyle='steps-mid', label=meta_soho_ephin['P_E_label'][i])\n",
    "\n",
    "ax.set_yscale('log')\n",
    "ax.set_xlabel('Time')\n",
    "ax.set_ylabel(meta_soho_ephin['P_int_UNITS'])\n",
    "ax.legend(bbox_to_anchor=(1.02, 1), loc=2, borderaxespad=0, title='Protons')\n",
    "ax.xaxis_date()\n",
    "ax.xaxis.set_major_formatter(DateFormatter('%m/%d %H:%M'))\n",
    "ax.set_xlim(left=df_soho_ephin.index[0], right=df_soho_ephin.index[-1])\n",
    "\n",
    "fig.suptitle('SOHO EPHIN')\n",
    "fig.subplots_adjust(hspace=0)\n",
    "fig.tight_layout()\n",
    "plt.show()"
   ]
  },
  {
   "cell_type": "code",
   "execution_count": null,
   "metadata": {},
   "outputs": [],
   "source": [
    "fig = plt.figure(figsize=[12,10])\n",
    "\n",
    "ax = fig.add_subplot(211)\n",
    "num_flux_columns = len(meta_soho_erne_hed['He_E_label'])\n",
    "\n",
    "df_soho_erne_hed_He4_int = df_soho_erne_hed.filter(like='AH_')\n",
    "\n",
    "# Make list of gradually changing colors. Use a maplotlib \n",
    "# colormap (cm) and divide it with np.linspace(0,1,n)), i.e. in n parts\n",
    "ax.set_prop_cycle('color', plt.cm.jet_r(np.linspace(0, 1, num_flux_columns)))\n",
    "\n",
    "for i in range(num_flux_columns):\n",
    "    ax.plot(df_soho_erne_hed_He4_int.index, df_soho_erne_hed_He4_int[f'AH_{i}'], label=meta_soho_erne_hed['He_E_label'][i])\n",
    "\n",
    "ax.set_yscale('log')\n",
    "ax.set_ylabel(meta_soho_erne_hed['AH_UNITS'])\n",
    "ax.legend(bbox_to_anchor=(1.02, 1), loc=2, borderaxespad=0, title='He')\n",
    "ax.xaxis_date()\n",
    "ax.xaxis.set_major_formatter(DateFormatter('%m/%d %H:%M'))\n",
    "ax.set_xlim(left=df_soho_erne_hed_He4_int.index[0], right=df_soho_erne_hed_He4_int.index[-1])\n",
    "\n",
    "\n",
    "ax = fig.add_subplot(212)\n",
    "num_flux_columns = len(meta_soho_erne_hed['P_E_label'])\n",
    "\n",
    "df_soho_erne_hed_H_int = df_soho_erne_hed.filter(like='PH_')\n",
    "\n",
    "# Make list of gradually changing colors. Use a maplotlib \n",
    "# colormap (cm) and divide it with np.linspace(0,1,n)), i.e. in n parts\n",
    "ax.set_prop_cycle('color', plt.cm.jet_r(np.linspace(0, 1, num_flux_columns)))\n",
    "for i in range(num_flux_columns):\n",
    "    ax.plot(df_soho_erne_hed_H_int.index, df_soho_erne_hed_H_int[f'PH_{i}'], label=meta_soho_erne_hed['P_E_label'][i])\n",
    "\n",
    "ax.set_yscale('log')\n",
    "ax.set_xlabel('Time')\n",
    "ax.set_ylabel(meta_soho_erne_hed['PH_UNITS'])\n",
    "ax.legend(bbox_to_anchor=(1.02, 1), loc=2, borderaxespad=0, title='Protons')\n",
    "ax.xaxis_date()\n",
    "ax.xaxis.set_major_formatter(DateFormatter('%m/%d %H:%M'))\n",
    "ax.set_xlim(left=df_soho_erne_hed_H_int.index[0], right=df_soho_erne_hed_H_int.index[-1])\n",
    "\n",
    "fig.suptitle('SOHO ERNE HED')\n",
    "fig.subplots_adjust(hspace=0)\n",
    "fig.tight_layout()\n",
    "plt.show()"
   ]
  },
  {
   "cell_type": "code",
   "execution_count": null,
   "metadata": {},
   "outputs": [],
   "source": [
    "from cdasws import CdasWs\n",
    "\n",
    "import os\n",
    "os.environ['CDF_LIB'] = '/home/peijin/cdf/cdf38_0-dist/lib'"
   ]
  },
  {
   "cell_type": "code",
   "execution_count": null,
   "metadata": {},
   "outputs": [],
   "source": [
    "# help(CdasWs)"
   ]
  },
  {
   "cell_type": "code",
   "execution_count": null,
   "metadata": {},
   "outputs": [],
   "source": [
    "# cdas = CdasWs()\n",
    "\n",
    "# dataset = 'SO_K0_ERN'\n",
    "\n",
    "# # Edit the following var_names and example_interval \n",
    "# # variables to suit your needs.\n",
    "# var_names = cdas.get_variable_names(dataset)\n",
    "# print('Variable names:', var_names)\n",
    "\n",
    "# example_interval = cdas.get_example_time_interval(dataset)\n",
    "# print('Example time interval:', example_interval)\n",
    "\n",
    "# status, data = cdas.get_data(dataset, var_names, example_interval)"
   ]
  },
  {
   "cell_type": "code",
   "execution_count": null,
   "metadata": {},
   "outputs": [],
   "source": []
  },
  {
   "cell_type": "code",
   "execution_count": null,
   "metadata": {},
   "outputs": [],
   "source": [
    "time_range"
   ]
  },
  {
   "cell_type": "code",
   "execution_count": null,
   "metadata": {},
   "outputs": [],
   "source": [
    "erne_vars = pyspedas.soho.erne(trange=time_range)"
   ]
  },
  {
   "cell_type": "code",
   "execution_count": null,
   "metadata": {},
   "outputs": [],
   "source": [
    "erne_vars"
   ]
  },
  {
   "cell_type": "code",
   "execution_count": null,
   "metadata": {},
   "outputs": [],
   "source": [
    "xarray_erne_est = get_data('est', xarray=True, metadata=True)\n",
    "xarray_erne_PH = get_data('PH', xarray=True, metadata=True)\n",
    "xarray_erne_AH = get_data('AH', xarray=True, metadata=True)\n",
    "xarray_erne_PHC = get_data('PHC', xarray=True, metadata=True)\n",
    "xarray_erne_AHC = get_data('AHC', xarray=True, metadata=True)"
   ]
  },
  {
   "cell_type": "code",
   "execution_count": null,
   "metadata": {},
   "outputs": [],
   "source": [
    "..."
   ]
  },
  {
   "cell_type": "markdown",
   "metadata": {},
   "source": [
    "---\n",
    "# GOES-R SEISS <a class=\"anchor\" id=\"goes-seiss\"></a>\n",
    "\n",
    "- GitHub: https://cires-stp.github.io/goesr-spwx-examples/examples/seiss/seiss_example.html"
   ]
  },
  {
   "cell_type": "code",
   "execution_count": null,
   "metadata": {},
   "outputs": [],
   "source": [
    "import netCDF4 as nc\n",
    "import numpy as np\n",
    "import cftime\n",
    "import os, sys\n",
    "import requests\n",
    "import matplotlib.pyplot as plt"
   ]
  },
  {
   "cell_type": "code",
   "execution_count": null,
   "metadata": {},
   "outputs": [],
   "source": [
    "time_range[0].split('-')"
   ]
  },
  {
   "cell_type": "code",
   "execution_count": null,
   "metadata": {},
   "outputs": [],
   "source": [
    "year, month, day = time_range[0].split('-')\n",
    "\n",
    "dir0 = './'\n",
    "# file0 = \"sci_mpsh-l2-avg1m_g16_d20200601_v1-0-2.nc\"\n",
    "file0 = f'dn_ephe-l2-orb1m_g17_d{year}{month}{day}_v0-0-3.nc'\n",
    "\n",
    "# Download `file0` if it does not exist locally\n",
    "if not os.path.exists(dir0 + file0):\n",
    "    with open(dir0 + file0, \"wb\") as f:\n",
    "#         url = f\"https://data.ngdc.noaa.gov/platforms/solar-space-observing-satellites/goes/goes16/l2/data/mpsh-l2-avg1m/2020/06/{file0}\"\n",
    "        url = f'https://data.ngdc.noaa.gov/platforms/solar-space-observing-satellites/goes/goes17/l2/data/ephe-l2-orb1m/{year}/{month}/{file0}'\n",
    "        print('downloading: ', url)\n",
    "        r = requests.get(url)\n",
    "        f.write(r.content)"
   ]
  },
  {
   "cell_type": "code",
   "execution_count": null,
   "metadata": {},
   "outputs": [],
   "source": [
    "ds = nc.Dataset(dir0 + file0)\n",
    "times = cftime.num2pydate(ds.variables[\"L2_SciData_TimeStamp\"][:], ds[\"L2_SciData_TimeStamp\"].units)\n",
    "\n",
    "print(\"Filename:  \", file0)\n",
    "print(\"start and end times:\", times[0], times[-1])"
   ]
  },
  {
   "cell_type": "code",
   "execution_count": null,
   "metadata": {},
   "outputs": [],
   "source": [
    "print('All variable names:')\n",
    "print(list(ds.variables.keys()), sep='\\n')"
   ]
  },
  {
   "cell_type": "code",
   "execution_count": null,
   "metadata": {},
   "outputs": [],
   "source": [
    "list(ds.variables.keys())"
   ]
  },
  {
   "cell_type": "code",
   "execution_count": null,
   "metadata": {},
   "outputs": [],
   "source": [
    "ds.variables['AvgIntElectronFlux']"
   ]
  },
  {
   "cell_type": "code",
   "execution_count": null,
   "metadata": {},
   "outputs": [],
   "source": [
    "data_e = []\n",
    "\n",
    "for i in range(0, len(times)):\n",
    "    data_e.append(ds.variables['AvgIntElectronFlux'][i][tel])"
   ]
  },
  {
   "cell_type": "code",
   "execution_count": null,
   "metadata": {},
   "outputs": [],
   "source": [
    "ds.variables['AvgDiffProtonFlux']"
   ]
  },
  {
   "cell_type": "code",
   "execution_count": null,
   "metadata": {},
   "outputs": [],
   "source": [
    "ds.variables['AvgDiffProtonFlux'].shape"
   ]
  },
  {
   "cell_type": "code",
   "execution_count": null,
   "metadata": {},
   "outputs": [],
   "source": [
    "ds.variables['AvgDiffProtonFlux'][0].shape"
   ]
  },
  {
   "cell_type": "code",
   "execution_count": null,
   "metadata": {},
   "outputs": [],
   "source": [
    "ds.variables['AvgDiffProtonFlux'][0][0].shape"
   ]
  },
  {
   "cell_type": "code",
   "execution_count": null,
   "metadata": {},
   "outputs": [],
   "source": [
    "ds.variables['AvgDiffProtonFlux']"
   ]
  },
  {
   "cell_type": "code",
   "execution_count": null,
   "metadata": {},
   "outputs": [],
   "source": [
    "ds"
   ]
  },
  {
   "cell_type": "code",
   "execution_count": null,
   "metadata": {},
   "outputs": [],
   "source": [
    "var = 'AvgDiffProtonFlux'\n",
    "telescope = 0\n",
    "band = 0\n",
    "data_p = []\n",
    "\n",
    "for i in range(0, len(times)):\n",
    "    data_p.append(ds.variables[var][i][telescope][band])\n",
    "\n",
    "plt.figure(figsize=[10,7])\n",
    "plt.plot(times[:], data_p,\n",
    "            linewidth=1,\n",
    "            label=f'tel{telescope}-band{band}')\n",
    "plt.yscale('log')\n",
    "plt.legend(loc='best', prop={'size':12})\n",
    "plt.xlabel('Time (UT)')\n",
    "plt.ylabel(f'{var} [{ds[var].units}]')\n",
    "plt.show()"
   ]
  },
  {
   "cell_type": "code",
   "execution_count": null,
   "metadata": {},
   "outputs": [],
   "source": []
  },
  {
   "cell_type": "code",
   "execution_count": null,
   "metadata": {},
   "outputs": [],
   "source": []
  },
  {
   "cell_type": "code",
   "execution_count": null,
   "metadata": {},
   "outputs": [],
   "source": [
    "year, month, day = time_range[0].split('-')\n",
    "\n",
    "dir0 = './'\n",
    "file0 = f'sci_mpsh-l2-avg1m_g17_d{year}{month}{day}_v1-0-3.nc'\n",
    "\n",
    "# Download `file0` if it does not exist locally\n",
    "if not os.path.exists(dir0 + file0):\n",
    "    with open(dir0 + file0, \"wb\") as f:\n",
    "        url = f'https://data.ngdc.noaa.gov/platforms/solar-space-observing-satellites/goes/goes17/l2/data/mpsh-l2-avg1m/{year}/{month}/{file0}'\n",
    "        print('downloading: ', url)\n",
    "        r = requests.get(url)\n",
    "        f.write(r.content)"
   ]
  },
  {
   "cell_type": "code",
   "execution_count": null,
   "metadata": {},
   "outputs": [],
   "source": [
    "ds = nc.Dataset(dir0 + file0)"
   ]
  },
  {
   "cell_type": "code",
   "execution_count": null,
   "metadata": {},
   "outputs": [],
   "source": [
    "ds.instrument"
   ]
  },
  {
   "cell_type": "code",
   "execution_count": null,
   "metadata": {},
   "outputs": [],
   "source": [
    "ds.variables['AvgDiffProtonFlux'].long_name"
   ]
  },
  {
   "cell_type": "code",
   "execution_count": null,
   "metadata": {},
   "outputs": [],
   "source": [
    "ds.variables['AvgDiffProtonFlux']"
   ]
  },
  {
   "cell_type": "code",
   "execution_count": null,
   "metadata": {},
   "outputs": [],
   "source": [
    "[x for x in dir(ds.variables['AvgDiffProtonFlux']) if not x.startswith('_')]"
   ]
  },
  {
   "cell_type": "code",
   "execution_count": null,
   "metadata": {},
   "outputs": [],
   "source": [
    "ds"
   ]
  },
  {
   "cell_type": "code",
   "execution_count": null,
   "metadata": {},
   "outputs": [],
   "source": [
    "list(ds.variables.keys())"
   ]
  },
  {
   "cell_type": "code",
   "execution_count": null,
   "metadata": {},
   "outputs": [],
   "source": [
    "times = cftime.num2pydate(ds.variables['L2_SciData_TimeStamp'][:], ds['L2_SciData_TimeStamp'].units)\n",
    "\n",
    "print('Filename:  ', file0)\n",
    "print('start and end times:', times[0], times[-1])"
   ]
  },
  {
   "cell_type": "code",
   "execution_count": null,
   "metadata": {},
   "outputs": [],
   "source": []
  },
  {
   "cell_type": "code",
   "execution_count": null,
   "metadata": {},
   "outputs": [],
   "source": [
    "var = 'AvgDiffProtonFlux'\n",
    "data = ds.variables[var]\n",
    "\n",
    "telescopes = ds.variables[var].shape[1]\n",
    "bands = ds.variables[var].shape[2]\n",
    "\n",
    "# for i in range(0, len(times)):\n",
    "#     data_p.append(ds.variables[var][i][telescope][band])\n",
    "\n",
    "# plt.figure(figsize=[15,7])\n",
    "# plt.plot(times[:], data_p,\n",
    "#             linewidth=1,\n",
    "#             label=f'tel{telescope}-band{band}')\n",
    "\n",
    "\n",
    "fig = plt.figure(figsize=[15,7])\n",
    "ax = fig.add_subplot(111)\n",
    "\n",
    "# Make list of gradually changing colors. Use a maplotlib \n",
    "# colormap (cm) and divide it with np.linspace(0,1,n)), i.e. in n parts\n",
    "ax.set_prop_cycle('color', plt.cm.hsv_r(np.linspace(0, 1, telescopes + bands)))\n",
    "\n",
    "for k in range(bands):\n",
    "    for j in range(telescopes):\n",
    "        data_p = []\n",
    "        for i in range(len(times)):\n",
    "            data_p.append(ds.variables[var][i][j][k])\n",
    "    \n",
    "        ax.plot(times, data_p, label=f'tel{j}-band{k}')\n",
    "\n",
    "ax.set_yscale('log')\n",
    "ax.legend(loc=2, prop={'size':12}, bbox_to_anchor=(1.02, 1), borderaxespad=0, ncol=3)\n",
    "ax.set_xlabel('Time (UT)')\n",
    "ax.set_ylabel(f'{var} [{ds[var].units}]')\n",
    "fig.tight_layout()\n",
    "plt.show()"
   ]
  },
  {
   "cell_type": "code",
   "execution_count": null,
   "metadata": {},
   "outputs": [],
   "source": []
  },
  {
   "cell_type": "code",
   "execution_count": null,
   "metadata": {},
   "outputs": [],
   "source": []
  },
  {
   "cell_type": "code",
   "execution_count": null,
   "metadata": {},
   "outputs": [],
   "source": []
  },
  {
   "cell_type": "code",
   "execution_count": null,
   "metadata": {},
   "outputs": [],
   "source": []
  },
  {
   "cell_type": "code",
   "execution_count": null,
   "metadata": {},
   "outputs": [],
   "source": []
  },
  {
   "cell_type": "code",
   "execution_count": null,
   "metadata": {},
   "outputs": [],
   "source": []
  },
  {
   "cell_type": "code",
   "execution_count": null,
   "metadata": {},
   "outputs": [],
   "source": []
  },
  {
   "cell_type": "code",
   "execution_count": null,
   "metadata": {},
   "outputs": [],
   "source": []
  },
  {
   "cell_type": "code",
   "execution_count": null,
   "metadata": {},
   "outputs": [],
   "source": []
  },
  {
   "cell_type": "code",
   "execution_count": null,
   "metadata": {},
   "outputs": [],
   "source": []
  },
  {
   "cell_type": "code",
   "execution_count": null,
   "metadata": {},
   "outputs": [],
   "source": [
    "import sunpy \n",
    "sunpy.config.get('downloads', 'download_dir')"
   ]
  },
  {
   "cell_type": "code",
   "execution_count": null,
   "metadata": {},
   "outputs": [],
   "source": []
  }
 ],
 "metadata": {
  "kernelspec": {
   "display_name": "Python 3 (ipykernel)",
   "language": "python",
   "name": "python3"
  },
  "language_info": {
   "codemirror_mode": {
    "name": "ipython",
    "version": 3
   },
   "file_extension": ".py",
   "mimetype": "text/x-python",
   "name": "python",
   "nbconvert_exporter": "python",
   "pygments_lexer": "ipython3",
   "version": "3.10.13"
  }
 },
 "nbformat": 4,
 "nbformat_minor": 4
}
