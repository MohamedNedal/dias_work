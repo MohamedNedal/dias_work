{
 "cells": [
  {
   "cell_type": "code",
   "execution_count": null,
   "id": "fd828abf-830a-481d-a31c-9b96a1e0072f",
   "metadata": {},
   "outputs": [],
   "source": [
    "import warnings\n",
    "warnings.filterwarnings('ignore')\n",
    "\n",
    "from sigpyproc.readers import FilReader\n",
    "import matplotlib.pyplot as plt\n",
    "import numpy as np\n",
    "import pandas as pd\n",
    "import matplotlib\n",
    "from matplotlib import dates\n",
    "import matplotlib.dates as mdates\n",
    "from matplotlib.ticker import AutoMinorLocator\n",
    "from datetime import datetime, timedelta\n",
    "import astropy.units as u\n",
    "from astropy.time import Time\n",
    "from astropy.visualization import ImageNormalize, PercentileInterval\n",
    "from scipy.optimize import fsolve\n",
    "from tqdm import tqdm\n",
    "\n",
    "plt.rcParams['figure.dpi'] = 100\n",
    "plt.rcParams['savefig.dpi'] = 300\n",
    "plt.rcParams['figure.facecolor'] = 'white'\n",
    "plt.rcParams['savefig.facecolor'] = 'white'\n",
    "\n",
    "path = '/home/mnedal/data/ilofar'"
   ]
  },
  {
   "cell_type": "code",
   "execution_count": null,
   "id": "170f0352-b4db-4d9e-8e7e-93e8a9f7b5bd",
   "metadata": {},
   "outputs": [],
   "source": [
    "date   = '2025-05-07'\n",
    "stokes = 'I'\n",
    "part   = 'RFI_test' "
   ]
  },
  {
   "cell_type": "code",
   "execution_count": null,
   "id": "0bad1573-34a5-4d6f-8143-3cc92f3a1e9d",
   "metadata": {},
   "outputs": [],
   "source": [
    "filename = '/home/mnedal/data/Sun357_2025-05-07_checkRFI.fil'\n",
    "\n",
    "a = FilReader(filename) # header\n",
    "header = a.header.to_dict()"
   ]
  },
  {
   "cell_type": "code",
   "execution_count": null,
   "id": "4681d26c-efb0-4650-ae7d-81a8a99518d1",
   "metadata": {
    "scrolled": true
   },
   "outputs": [],
   "source": [
    "header"
   ]
  },
  {
   "cell_type": "code",
   "execution_count": null,
   "id": "36b9b3ad-e75a-426e-8027-0590c89c3d6d",
   "metadata": {},
   "outputs": [],
   "source": [
    "tstart_obs_str = Time(a.header.tstart, format='mjd').iso\n",
    "n_samples = a.header.nsamples\n",
    "print(tstart_obs_str, n_samples, sep='\\n')"
   ]
  },
  {
   "cell_type": "code",
   "execution_count": null,
   "id": "140bf9e4-a636-4dbd-8139-1b278498cba4",
   "metadata": {},
   "outputs": [],
   "source": [
    "data = a.read_block(start=0, nsamps=n_samples)"
   ]
  },
  {
   "cell_type": "code",
   "execution_count": null,
   "id": "f00d6acf-e52e-4fb3-ba29-282a813e0e22",
   "metadata": {},
   "outputs": [],
   "source": [
    "print(data.shape)"
   ]
  },
  {
   "cell_type": "code",
   "execution_count": null,
   "id": "9a6eec51-760d-4628-abd5-238d9ad876e6",
   "metadata": {},
   "outputs": [],
   "source": [
    "# making time axis\n",
    "tstart = Time(data.header.tstart, format='mjd')                    # tstart.iso will tell the time in format yyyy-mm-dd hh:mm:ss\n",
    "tarray = tstart + (np.arange(data.shape[1])*data.header.tsamp*u.s) # making the time array for realta time resolution\n",
    "print(len(tarray), tarray[0].iso, tarray[-1].iso, sep='\\n')"
   ]
  },
  {
   "cell_type": "code",
   "execution_count": null,
   "id": "4c9ed46a-2a3d-468f-a51e-72c9622ff908",
   "metadata": {},
   "outputs": [],
   "source": [
    "dt = datetime.strptime(tarray[1].iso, '%Y-%m-%d %H:%M:%S.%f') - datetime.strptime(tarray[0].iso, '%Y-%m-%d %H:%M:%S.%f')\n",
    "print('Time cadence:', dt.total_seconds()*1000, 'ms.')"
   ]
  },
  {
   "cell_type": "code",
   "execution_count": null,
   "id": "c10c6521-24bc-484b-8200-4e83922a7dde",
   "metadata": {},
   "outputs": [],
   "source": [
    "# Converting the array to datetime object --> expand the for-loop and use tqdm since this step takes a long time!        \n",
    "Tarray = []\n",
    "with tqdm(total=len(tarray), desc='Converting time array to datetime object') as pbar:\n",
    "    for t in tarray:\n",
    "        tmp_var = datetime.strptime(t.iso, '%Y-%m-%d %H:%M:%S.%f')\n",
    "        Tarray.append(tmp_var)\n",
    "        pbar.update(1)\n",
    "\n",
    "print(Tarray[0], Tarray[-1], sep='\\n')"
   ]
  },
  {
   "cell_type": "code",
   "execution_count": null,
   "id": "b6a05071-62b2-4813-887e-e97baaf8c794",
   "metadata": {},
   "outputs": [],
   "source": [
    "# export the frequency axis\n",
    "freqs = data.header.chan_freqs\n",
    "print(freqs[0], freqs[-1], sep='\\n')"
   ]
  },
  {
   "cell_type": "code",
   "execution_count": null,
   "id": "4f9a869f-a2f2-4ba6-bb92-6936b4996f2c",
   "metadata": {},
   "outputs": [],
   "source": [
    "def freq_axis(freqs):\n",
    "    \"\"\"\n",
    "    Introduce gaps in the frequency axis of I-LOFAR REALTA data.\n",
    "    \"\"\"\n",
    "    gap1 = np.flipud(freqs[288]+(np.arange(59)*0.390625))\n",
    "    gap2 = np.flipud(freqs[88]+(np.arange(57)*0.390625))\n",
    "    ax_shape = 59+57-1\n",
    "    new_freq = np.zeros(ax_shape+freqs.shape[0])\n",
    "    \n",
    "    new_freq[0:88] = freqs[0:88]\n",
    "    new_freq[88:145]  = gap2[:57]\n",
    "    new_freq[145:345] = freqs[88:288]\n",
    "    new_freq[345:404] = gap1[:59]\n",
    "    new_freq[404:] = freqs[289:]\n",
    "    \n",
    "    return new_freq"
   ]
  },
  {
   "cell_type": "code",
   "execution_count": null,
   "id": "d9fba402-22a0-4e40-a0f6-a57114c67f0a",
   "metadata": {},
   "outputs": [],
   "source": [
    "new_freq = freq_axis(freqs)\n",
    "\n",
    "data = np.log10(data)\n",
    "data[np.where(np.isinf(data)==True)] = 0.0\n",
    "\n",
    "data2 = np.empty((new_freq.shape[0], data.shape[1]))    \n",
    "data2[:] = np.NaN\n",
    "data2[0:88] = data[0:88]\n",
    "data2[145:345] = data[88:288]\n",
    "data2[404:] = data[289:]"
   ]
  },
  {
   "cell_type": "code",
   "execution_count": null,
   "id": "f3e2f70e-9bca-4172-9d1b-0846a6453841",
   "metadata": {},
   "outputs": [],
   "source": [
    "freq_mode3 = np.linspace(10, 90, 199)\n",
    "freq_mode5 = np.linspace(110, 190, 200)\n",
    "freq_mode7 = np.linspace(210, 270, 88)\n",
    "\n",
    "df_mode3 = pd.DataFrame(data=data2[404:].T, columns=freq_mode3[::-1])\n",
    "df_mode5 = pd.DataFrame(data=data2[145:345].T, columns=freq_mode5[::-1])\n",
    "df_mode7 = pd.DataFrame(data=data2[:88].T, columns=freq_mode7[::-1])"
   ]
  },
  {
   "cell_type": "code",
   "execution_count": null,
   "id": "338acbe5-4827-4dee-8ec7-1a4d23fb6615",
   "metadata": {},
   "outputs": [],
   "source": [
    "print(df_mode3.shape, df_mode5.shape, df_mode7.shape, sep='\\n')"
   ]
  },
  {
   "cell_type": "code",
   "execution_count": null,
   "id": "950a8dd4-6a2f-4c6f-88ac-6b03b216e58c",
   "metadata": {},
   "outputs": [],
   "source": [
    "# Ensure the 'time' column is in datetime format\n",
    "df_mode3.index = pd.to_datetime(Tarray)\n",
    "df_mode5.index = pd.to_datetime(Tarray)\n",
    "df_mode7.index = pd.to_datetime(Tarray)"
   ]
  },
  {
   "cell_type": "code",
   "execution_count": null,
   "id": "125668f3-23d4-4df2-8609-518fc0218ddc",
   "metadata": {},
   "outputs": [],
   "source": [
    "# Save the dataframes as a pickle files\n",
    "df_mode3.to_pickle(f'{path}/df_mode3_realta_{date}_stokes{stokes}_part{part}.pkl')\n",
    "df_mode5.to_pickle(f'{path}/df_mode5_realta_{date}_stokes{stokes}_part{part}.pkl')\n",
    "df_mode7.to_pickle(f'{path}/df_mode7_realta_{date}_stokes{stokes}_part{part}.pkl')"
   ]
  },
  {
   "cell_type": "markdown",
   "id": "ab0652e3-b487-42e2-b09d-bc9db8f3dadb",
   "metadata": {},
   "source": [
    "---"
   ]
  },
  {
   "cell_type": "markdown",
   "id": "4a9ce29e-d7b4-4b73-81f4-3c75ca7ea62e",
   "metadata": {},
   "source": [
    "## Load the dataframes from the pickle files"
   ]
  },
  {
   "cell_type": "code",
   "execution_count": null,
   "id": "eca327c9-d7c5-4576-a1d1-8e72b856804b",
   "metadata": {},
   "outputs": [],
   "source": [
    "df_mode3 = pd.read_pickle(f'{path}/df_mode3_realta_{date}_stokes{stokes}_part{part}.pkl')\n",
    "df_mode5 = pd.read_pickle(f'{path}/df_mode5_realta_{date}_stokes{stokes}_part{part}.pkl')\n",
    "df_mode7 = pd.read_pickle(f'{path}/df_mode7_realta_{date}_stokes{stokes}_part{part}.pkl')"
   ]
  },
  {
   "cell_type": "code",
   "execution_count": null,
   "id": "65540e91-2cd9-48f2-8c8d-e258777fc4be",
   "metadata": {},
   "outputs": [],
   "source": [
    "time_mode3 = df_mode3.index\n",
    "time_mode5 = df_mode5.index\n",
    "time_mode7 = df_mode7.index\n",
    "\n",
    "freq_mode3 = df_mode3.columns\n",
    "freq_mode5 = df_mode5.columns\n",
    "freq_mode7 = df_mode7.columns"
   ]
  },
  {
   "cell_type": "code",
   "execution_count": null,
   "id": "a5a791bf-9f52-4ea2-8d5e-ef35bf5e7e1c",
   "metadata": {},
   "outputs": [],
   "source": [
    "# df_mode3.head(3)"
   ]
  },
  {
   "cell_type": "code",
   "execution_count": null,
   "id": "2b8ff66f-12fd-4a1d-89d0-efc80bfeeceb",
   "metadata": {},
   "outputs": [],
   "source": [
    "# df_mode5.head(3)"
   ]
  },
  {
   "cell_type": "code",
   "execution_count": null,
   "id": "750e1bb3-bb7a-4e05-a547-683f46f5d8f5",
   "metadata": {},
   "outputs": [],
   "source": [
    "# df_mode7.head(3)"
   ]
  },
  {
   "cell_type": "code",
   "execution_count": null,
   "id": "2c33c1c8-de2e-41db-9cd9-b1ae0beb7cdf",
   "metadata": {},
   "outputs": [],
   "source": [
    "fig = plt.figure(figsize=[12,7])\n",
    "ax = fig.add_subplot(111)\n",
    "ax.pcolormesh(df_mode3.index, df_mode3.columns, df_mode3.values.T, vmin=np.nanpercentile(df_mode3, 7), vmax=np.nanpercentile(df_mode3, 99.97), cmap='RdYlBu_r')\n",
    "ax.pcolormesh(df_mode5.index, df_mode5.columns, df_mode5.values.T, vmin=np.nanpercentile(df_mode5, 7), vmax=np.nanpercentile(df_mode5, 99.97), cmap='RdYlBu_r')\n",
    "ax.pcolormesh(df_mode7.index, df_mode7.columns, df_mode7.values.T, vmin=np.nanpercentile(df_mode7, 7), vmax=np.nanpercentile(df_mode7, 99.97), cmap='RdYlBu_r')\n",
    "ax.set_yscale('log')\n",
    "custom_ticks = [10, 20, 30, 40, 50, 60, 70, 80, 90, 100, 200]\n",
    "ax.set_yticks(custom_ticks)\n",
    "ax.set_yticklabels([str(tick) for tick in custom_ticks])\n",
    "ax.xaxis.set_minor_locator(AutoMinorLocator(n=5))\n",
    "ax.yaxis.set_minor_locator(AutoMinorLocator(n=10))\n",
    "ax.set_xlabel('Time (UT)')\n",
    "ax.set_ylabel('Frequency (MHz)')\n",
    "ax.set_title(f'{date}')\n",
    "ax.xaxis_date()\n",
    "ax.xaxis.set_major_formatter(mdates.DateFormatter('%H:%M:%S'))\n",
    "ax.set_ylim(ax.get_ylim()[::-1])\n",
    "ax.set_xlim(left=pd.Timestamp(f'{date} 12:34:20'), right=pd.Timestamp(f'{date} 12:35:16'))\n",
    "fig.tight_layout()\n",
    "plt.show()"
   ]
  },
  {
   "cell_type": "code",
   "execution_count": null,
   "id": "fd8e5c70-6152-4a9d-87af-ca8b05f55097",
   "metadata": {},
   "outputs": [],
   "source": [
    "np.max(np.diff(df_mode3.index)/np.timedelta64(1,'ms'))"
   ]
  },
  {
   "cell_type": "markdown",
   "id": "c5a9420f-65c5-4451-b718-3e894a823ea3",
   "metadata": {},
   "source": [
    "## Quick tmp inspect"
   ]
  },
  {
   "cell_type": "code",
   "execution_count": null,
   "id": "1b838a13-4461-4fc8-8843-54e138860b52",
   "metadata": {},
   "outputs": [],
   "source": [
    "# Downsample to 1-second resolution for faster testing and visualization\n",
    "df_mode3_1s = df_mode3.resample('1S').mean()\n",
    "df_mode5_1s = df_mode5.resample('1S').mean()\n",
    "df_mode7_1s = df_mode7.resample('1S').mean()"
   ]
  },
  {
   "cell_type": "code",
   "execution_count": null,
   "id": "39e55cfb-a40a-4448-876d-e5415fae32ff",
   "metadata": {},
   "outputs": [],
   "source": [
    "fig = plt.figure(figsize=[12,7])\n",
    "ax = fig.add_subplot(111)\n",
    "ax.pcolormesh(df_mode3_1s.index, df_mode3_1s.columns, df_mode3_1s.values.T, vmin=np.nanpercentile(df_mode3_1s, 7), vmax=np.nanpercentile(df_mode3_1s, 99.97), cmap='RdYlBu_r')\n",
    "ax.pcolormesh(df_mode5_1s.index, df_mode5_1s.columns, df_mode5_1s.values.T, vmin=np.nanpercentile(df_mode5_1s, 7), vmax=np.nanpercentile(df_mode5_1s, 99.97), cmap='RdYlBu_r')\n",
    "ax.pcolormesh(df_mode7_1s.index, df_mode7_1s.columns, df_mode7_1s.values.T, vmin=np.nanpercentile(df_mode7_1s, 7), vmax=np.nanpercentile(df_mode7_1s, 99.97), cmap='RdYlBu_r')\n",
    "ax.set_yscale('log')\n",
    "custom_ticks = [10, 20, 30, 40, 50, 60, 70, 80, 90, 100, 200]\n",
    "ax.set_yticks(custom_ticks)\n",
    "ax.set_yticklabels([str(tick) for tick in custom_ticks])\n",
    "ax.xaxis.set_minor_locator(AutoMinorLocator(n=5))\n",
    "ax.yaxis.set_minor_locator(AutoMinorLocator(n=10))\n",
    "ax.set_xlabel('Time (UT)')\n",
    "ax.set_ylabel('Frequency (MHz)')\n",
    "ax.set_title(f'{date}')\n",
    "ax.xaxis_date()\n",
    "ax.xaxis.set_major_formatter(mdates.DateFormatter('%H:%M:%S'))\n",
    "ax.set_ylim(ax.get_ylim()[::-1])\n",
    "ax.set_xlim(left=pd.Timestamp(f'{date} 12:34:20'), right=pd.Timestamp(f'{date} 12:35:16'))\n",
    "fig.tight_layout()\n",
    "plt.show()"
   ]
  },
  {
   "cell_type": "code",
   "execution_count": null,
   "id": "34cddbe6-88a4-4903-8765-4bae74721642",
   "metadata": {},
   "outputs": [],
   "source": [
    "# Export to .fits file\n",
    "from astropy.io import fits\n",
    "\n",
    "MODE  = 7\n",
    "TIMES = [t.isoformat() for t in df_mode7.index]\n",
    "FREQS = df_mode7.columns.values\n",
    "ARRAY = df_mode7.to_numpy()\n",
    "\n",
    "# Create a FITS header from metadata dictionary\n",
    "metadata = {\n",
    "    'TELESCOP': 'I-LOFAR',\n",
    "    'MODE': MODE,\n",
    "    'FREQ_UNIT': 'MHz',\n",
    "    'TIME_UNIT': 'UTC',\n",
    "    'START_FREQ': FREQS[0],\n",
    "    'END_FREQ': FREQS[-1],\n",
    "    'START_TIME': TIMES[0],\n",
    "    'END_TIME': TIMES[-1]\n",
    "}\n",
    "\n",
    "HEADER = fits.Header(metadata)\n",
    "\n",
    "# Make a PrimaryHDU (Primary Data Unit)\n",
    "hdu = fits.PrimaryHDU(ARRAY, header=HEADER)\n",
    "\n",
    "# Save the FITS file\n",
    "hdu.writeto(f'{path}/df_mode{MODE}_realta_{date}_stokes{stokes}.fits', overwrite=True)"
   ]
  },
  {
   "cell_type": "code",
   "execution_count": null,
   "id": "4410b537-fdda-454c-87b7-9b70fb8c2442",
   "metadata": {},
   "outputs": [],
   "source": [
    "# Export TIMES and FREQS arrays as pickle files\n",
    "import pickle\n",
    "\n",
    "MODE  = 7\n",
    "TIMES = df_mode7.index.to_series()\n",
    "FREQS = df_mode7.columns.values\n",
    "\n",
    "with open(f'{path}/mode{MODE}_{date}_stokes{stokes}_TIMES.pkl', 'wb') as f:\n",
    "    pickle.dump(TIMES, f)\n",
    "\n",
    "with open(f'{path}/mode{MODE}_{date}_stokes{stokes}_FREQS.pkl', 'wb') as f:\n",
    "    pickle.dump(FREQS, f)"
   ]
  },
  {
   "cell_type": "code",
   "execution_count": null,
   "id": "b981df4f-7fc8-4a5d-8073-5fffe6f429ce",
   "metadata": {},
   "outputs": [],
   "source": [
    "df_mode3.index.to_pydatetime()"
   ]
  },
  {
   "cell_type": "code",
   "execution_count": null,
   "id": "0e48a44b-db4d-4f6c-bac5-3ade1aa0bc51",
   "metadata": {},
   "outputs": [],
   "source": [
    "meta = {\n",
    "        'observatory': 'I-LOFAR',\n",
    "        'instrument': 'mode3',\n",
    "        'detector': '',\n",
    "        'freqs': df_mode3.columns.values,\n",
    "        'times': df_mode3.index.to_series(),\n",
    "        'start_time': df_mode3.index.to_series()[0],\n",
    "        'end_time': df_mode3.index.to_series()[-1]\n",
    "    }\n",
    "\n",
    "mode3_spectrum = Spectrogram(df_mode3.values, meta)"
   ]
  },
  {
   "cell_type": "code",
   "execution_count": null,
   "id": "c17609ac-cbc3-4421-a794-6f60a7c4491c",
   "metadata": {},
   "outputs": [],
   "source": [
    "mode3_spectrum.plot()"
   ]
  },
  {
   "cell_type": "code",
   "execution_count": null,
   "id": "755bb4bc-f530-4c5e-8792-4e664717b60f",
   "metadata": {},
   "outputs": [],
   "source": [
    "# Combine the 3 modes in a single spectrum\n",
    "\n",
    "\n",
    "\n",
    "\n"
   ]
  },
  {
   "cell_type": "code",
   "execution_count": null,
   "id": "9fe86103-f3dc-4200-ac80-400d20fa10c8",
   "metadata": {},
   "outputs": [],
   "source": [
    "# Convert the data to spectrogram and export as .fit file\n",
    "from radiospectra.spectrogram import Spectrogram\n",
    "\n",
    "ilofar_spectrum = Spectrogram(psd_sfu.T, meta)"
   ]
  },
  {
   "cell_type": "markdown",
   "id": "0fcec259-ead5-4b91-bc06-dda1e8695df9",
   "metadata": {},
   "source": [
    "### Inspect the time and frequency resolution"
   ]
  },
  {
   "cell_type": "code",
   "execution_count": null,
   "id": "3f14ca92-4117-4ae8-866a-a577ae49446e",
   "metadata": {},
   "outputs": [],
   "source": [
    "dt = df_mode3.index[1] - df_mode3.index[0]\n",
    "print(f'Time cadence: {dt.total_seconds()} s.')\n",
    "\n",
    "df = df_mode3.columns[0] - df_mode3.columns[1]\n",
    "print(f'Frequency cadence: {df:.3f} MHz.')"
   ]
  },
  {
   "cell_type": "code",
   "execution_count": null,
   "id": "72aee735-6ef5-4eb7-a042-986c7f24b526",
   "metadata": {},
   "outputs": [],
   "source": [
    "dt = df_mode5.index[1] - df_mode5.index[0]\n",
    "print(f'Time cadence: {dt.total_seconds()} s.')\n",
    "\n",
    "df = df_mode5.columns[0] - df_mode5.columns[1]\n",
    "print(f'Frequency cadence: {df:.3f} MHz.')"
   ]
  },
  {
   "cell_type": "code",
   "execution_count": null,
   "id": "d932a412-7d6b-4a59-b612-5a740434bc82",
   "metadata": {},
   "outputs": [],
   "source": [
    "dt = df_mode7.index[1] - df_mode7.index[0]\n",
    "print(f'Time cadence: {dt.total_seconds()} s.')\n",
    "\n",
    "df = df_mode7.columns[0] - df_mode7.columns[1]\n",
    "print(f'Frequency cadence: {df:.3f} MHz.')"
   ]
  },
  {
   "cell_type": "code",
   "execution_count": null,
   "id": "d11b71d5-f97e-476c-a8e3-a59068ddfc83",
   "metadata": {},
   "outputs": [],
   "source": [
    "# dt = [df_mode3.index[i+1] - df_mode3.index[i] for i in range(len(df_mode3.index))]"
   ]
  },
  {
   "cell_type": "code",
   "execution_count": null,
   "id": "742efa64-af29-4ab3-adee-14a9a6206b90",
   "metadata": {},
   "outputs": [],
   "source": [
    "# i = 1000\n",
    "# df_mode3.index[i+1] - df_mode3.index[i]"
   ]
  },
  {
   "cell_type": "code",
   "execution_count": null,
   "id": "c2975576-cc2d-489c-a181-3abea201eb4c",
   "metadata": {},
   "outputs": [],
   "source": [
    "# i = 1000\n",
    "# df_mode7.index[i+1] - df_mode7.index[i]"
   ]
  },
  {
   "cell_type": "code",
   "execution_count": null,
   "id": "d3119950-c27b-48a5-b2e1-41bee767e870",
   "metadata": {},
   "outputs": [],
   "source": [
    "# i = 50\n",
    "# df_mode7.columns[i] - df_mode7.columns[i+1]"
   ]
  },
  {
   "cell_type": "code",
   "execution_count": null,
   "id": "46dc4ef9-4f37-4ea0-b732-782a7e29f4a8",
   "metadata": {},
   "outputs": [],
   "source": [
    "# remove the const background\n",
    "mode3_new = df_mode3.values - np.tile(np.nanmean(df_mode3.values,0), (df_mode3.values.shape[0],1))\n",
    "mode5_new = df_mode5.values - np.tile(np.nanmean(df_mode5.values,0), (df_mode5.values.shape[0],1))\n",
    "mode7_new = df_mode7.values - np.tile(np.nanmean(df_mode7.values,0), (df_mode7.values.shape[0],1))"
   ]
  },
  {
   "cell_type": "code",
   "execution_count": null,
   "id": "22c4e942-ee49-4069-965d-6a4d20228bb3",
   "metadata": {},
   "outputs": [],
   "source": [
    "# construct dataframes again\n",
    "df_mode3_new = pd.DataFrame(data=mode3_new, columns=freq_mode3)\n",
    "df_mode5_new = pd.DataFrame(data=mode5_new, columns=freq_mode5)\n",
    "df_mode7_new = pd.DataFrame(data=mode7_new, columns=freq_mode7)\n",
    "\n",
    "# set the time column as the dataframe index\n",
    "df_mode3_new.index = pd.to_datetime(time_mode3)\n",
    "df_mode5_new.index = pd.to_datetime(time_mode5)\n",
    "df_mode7_new.index = pd.to_datetime(time_mode7)"
   ]
  },
  {
   "cell_type": "code",
   "execution_count": null,
   "id": "934524ec-054f-4cb4-8783-287881a90a74",
   "metadata": {},
   "outputs": [],
   "source": [
    "df_mode3_new.head(3)"
   ]
  },
  {
   "cell_type": "code",
   "execution_count": null,
   "id": "95dff9ea-bf9c-450c-bc27-0bd47cc70e8d",
   "metadata": {},
   "outputs": [],
   "source": [
    "# Slice the DataFrame between start_date and end_date\n",
    "# start_date = '2024-05-14 17:28:00'\n",
    "start_date = df_mode3_new.index[0]\n",
    "# end_date   = '2024-05-14 17:00:00'\n",
    "\n",
    "# df_mode3_slice = df_mode3.loc[start_date:end_date]\n",
    "# df_mode5_slice = df_mode5.loc[start_date:end_date]\n",
    "# df_mode7_slice = df_mode7.loc[start_date:end_date]\n",
    "\n",
    "df_mode3_new = df_mode3_new.loc[start_date:]\n",
    "df_mode5_new = df_mode5_new.loc[start_date:]\n",
    "df_mode7_new = df_mode7_new.loc[start_date:]"
   ]
  },
  {
   "cell_type": "code",
   "execution_count": null,
   "id": "9d0b07b9-984b-4bcd-b44c-35b42a01a645",
   "metadata": {},
   "outputs": [],
   "source": [
    "del df_mode3\n",
    "del df_mode5\n",
    "del df_mode7\n",
    "\n",
    "del mode3_new\n",
    "del mode5_new\n",
    "del mode7_new"
   ]
  },
  {
   "cell_type": "markdown",
   "id": "609bda6d-7c08-4f29-b069-7a7f510ae9c8",
   "metadata": {},
   "source": [
    "### Plot the full dynamic spectrum at max. resolution"
   ]
  },
  {
   "cell_type": "code",
   "execution_count": null,
   "id": "8a2dd12b-6cfc-4ba5-a448-b3672a28a7ed",
   "metadata": {},
   "outputs": [],
   "source": [
    "# min_range = -0.5\n",
    "# max_range = 2\n",
    "\n",
    "# fig = plt.figure(figsize=[12,7])\n",
    "# ax = fig.add_subplot(111)\n",
    "# ax.pcolormesh(df_mode3_new.index, df_mode3_new.columns, df_mode3_new.values.T,\n",
    "#               vmin=min_range, vmax=max_range, cmap='RdYlBu_r')\n",
    "# ax.pcolormesh(df_mode5_new.index, df_mode5_new.columns, df_mode5_new.values.T,\n",
    "#               vmin=min_range, vmax=max_range, cmap='RdYlBu_r')\n",
    "# ax.pcolormesh(df_mode7_new.index, df_mode7_new.columns, df_mode7_new.values.T,\n",
    "#               vmin=min_range, vmax=max_range, cmap='RdYlBu_r')\n",
    "# ax.set_yscale('log')\n",
    "\n",
    "# # Define the custom ticks\n",
    "# custom_ticks = [10, 20, 30, 40, 50, 60, 70, 80, 90, 100, 200]\n",
    "# ax.set_yticks(custom_ticks)\n",
    "# ax.set_yticklabels([str(tick) for tick in custom_ticks])\n",
    "# ax.xaxis.set_minor_locator(AutoMinorLocator(n=5))\n",
    "# ax.yaxis.set_minor_locator(AutoMinorLocator(n=10))\n",
    "# ax.set_xlabel('Time (UT)')\n",
    "# ax.set_ylabel('Frequency (MHz)')\n",
    "# ax.xaxis_date()\n",
    "# ax.xaxis.set_major_formatter(mdates.DateFormatter('%H:%M'))\n",
    "# ax.set_ylim(ax.get_ylim()[::-1])\n",
    "# plt.show()"
   ]
  },
  {
   "cell_type": "code",
   "execution_count": null,
   "id": "abf7be6c-9142-4646-9fd2-c6af2b3ec1de",
   "metadata": {},
   "outputs": [],
   "source": [
    "# Downsample to 1-second resolution for faster testing and visualization\n",
    "df_mode3_1s = df_mode3_new.resample('1S').mean()\n",
    "df_mode5_1s = df_mode5_new.resample('1S').mean()\n",
    "df_mode7_1s = df_mode7_new.resample('1S').mean()"
   ]
  },
  {
   "cell_type": "code",
   "execution_count": null,
   "id": "fb1f55aa-78f1-4bef-846b-c495d7659384",
   "metadata": {},
   "outputs": [],
   "source": [
    "df_mode3_1s.head()"
   ]
  },
  {
   "cell_type": "code",
   "execution_count": null,
   "id": "42d365ef-b23d-4806-b6e9-70f702cf2506",
   "metadata": {},
   "outputs": [],
   "source": [
    "min_range = -0.2\n",
    "max_range = 1.2\n",
    "\n",
    "fig = plt.figure(figsize=[12,7])\n",
    "ax = fig.add_subplot(111)\n",
    "ax.pcolormesh(df_mode3_1s.index, df_mode3_1s.columns, df_mode3_1s.values.T,\n",
    "              vmin=min_range, vmax=max_range, cmap='RdYlBu_r')\n",
    "ax.pcolormesh(df_mode5_1s.index, df_mode5_1s.columns, df_mode5_1s.values.T,\n",
    "              vmin=min_range, vmax=max_range, cmap='RdYlBu_r')\n",
    "ax.pcolormesh(df_mode7_1s.index, df_mode7_1s.columns, df_mode7_1s.values.T,\n",
    "              vmin=min_range, vmax=max_range, cmap='RdYlBu_r')\n",
    "ax.set_yscale('log')\n",
    "\n",
    "# Define the custom ticks\n",
    "custom_ticks = [10, 20, 30, 40, 50, 60, 70, 80, 90, 100, 200]\n",
    "ax.set_yticks(custom_ticks)\n",
    "ax.set_yticklabels([str(tick) for tick in custom_ticks])\n",
    "ax.xaxis.set_minor_locator(AutoMinorLocator(n=5))\n",
    "ax.yaxis.set_minor_locator(AutoMinorLocator(n=10))\n",
    "ax.set_xlabel(f'Time on {start_date.date()} (UT)')\n",
    "ax.set_ylabel('Frequency (MHz)')\n",
    "ax.xaxis_date()\n",
    "ax.xaxis.set_major_formatter(mdates.DateFormatter('%H:%M'))\n",
    "ax.set_ylim(ax.get_ylim()[::-1])\n",
    "plt.show()"
   ]
  },
  {
   "cell_type": "code",
   "execution_count": null,
   "id": "845a30d0-b0c1-495f-b6ad-5092ee37d921",
   "metadata": {},
   "outputs": [],
   "source": [
    "# Take a slice\n",
    "start_date = '2025-03-26 09:07'\n",
    "end_date   = df_mode3_1s.index[-1]\n",
    "\n",
    "freq_min = 16\n",
    "freq_max = 270\n",
    "\n",
    "# Convert column names to numeric values (if they are strings)\n",
    "df_mode3_slice = df_mode3_1s.loc[start_date:end_date, \n",
    "                                 df_mode3_1s.columns[(df_mode3_1s.columns.astype(float) >= freq_min) & \n",
    "                                                     (df_mode3_1s.columns.astype(float) <= freq_max)]]\n",
    "\n",
    "df_mode5_slice = df_mode5_1s.loc[start_date:end_date, \n",
    "                                 df_mode5_1s.columns[(df_mode5_1s.columns.astype(float) >= freq_min) & \n",
    "                                                     (df_mode5_1s.columns.astype(float) <= freq_max)]]\n",
    "\n",
    "df_mode7_slice = df_mode7_1s.loc[start_date:end_date, \n",
    "                                 df_mode7_1s.columns[(df_mode7_1s.columns.astype(float) >= freq_min) & \n",
    "                                                     (df_mode7_1s.columns.astype(float) <= freq_max)]]\n",
    "\n",
    "# Plot the new slice\n",
    "min_range = -0.2\n",
    "max_range = 1.2\n",
    "\n",
    "fig = plt.figure(figsize=[12,7])\n",
    "ax = fig.add_subplot(111)\n",
    "ax.pcolormesh(df_mode3_slice.index, df_mode3_slice.columns, df_mode3_slice.values.T,\n",
    "              vmin=min_range, vmax=max_range, cmap='RdYlBu_r')\n",
    "ax.pcolormesh(df_mode5_slice.index, df_mode5_slice.columns, df_mode5_slice.values.T,\n",
    "              vmin=min_range, vmax=max_range, cmap='RdYlBu_r')\n",
    "ax.pcolormesh(df_mode7_slice.index, df_mode7_slice.columns, df_mode7_slice.values.T,\n",
    "              vmin=min_range, vmax=max_range, cmap='RdYlBu_r')\n",
    "ax.set_yscale('log')\n",
    "\n",
    "# Define the custom ticks\n",
    "# custom_ticks = [10, 20, 30, 40, 50, 60, 70, 80, 90, 100, 200] # Original\n",
    "custom_ticks = [16, 20, 30, 40, 50, 60, 70, 80, 90, 100, 200]\n",
    "ax.set_yticks(custom_ticks)\n",
    "ax.set_yticklabels([str(tick) for tick in custom_ticks])\n",
    "ax.xaxis.set_minor_locator(AutoMinorLocator(n=5))\n",
    "ax.yaxis.set_minor_locator(AutoMinorLocator(n=10))\n",
    "ax.set_xlabel(f'Time on {date} (UT)')\n",
    "ax.set_ylabel('Frequency (MHz)')\n",
    "ax.xaxis_date()\n",
    "ax.xaxis.set_major_formatter(mdates.DateFormatter('%H:%M'))\n",
    "ax.set_ylim(ax.get_ylim()[::-1])\n",
    "plt.show()"
   ]
  },
  {
   "cell_type": "markdown",
   "id": "212bc0de-d5ff-4ac9-aa29-21360c1296f1",
   "metadata": {},
   "source": [
    "### Pick the type II bursts"
   ]
  },
  {
   "cell_type": "code",
   "execution_count": null,
   "id": "773fb599-3954-4b79-a908-dd4d2148112d",
   "metadata": {},
   "outputs": [],
   "source": [
    "typeII_1_mode3 = df_mode3_new.loc['2024-05-14 17:30:00':'2024-05-14 17:35:00']\n",
    "typeII_1_mode5 = df_mode5_new.loc['2024-05-14 17:30:00':'2024-05-14 17:35:00']\n",
    "typeII_1_mode7 = df_mode7_new.loc['2024-05-14 17:30:00':'2024-05-14 17:35:00']\n",
    "\n",
    "typeII_2_mode3 = df_mode3_new.loc['2024-05-14 17:35:00':'2024-05-14 17:40:00']\n",
    "typeII_2_mode5 = df_mode5_new.loc['2024-05-14 17:35:00':'2024-05-14 17:40:00']\n",
    "typeII_2_mode7 = df_mode7_new.loc['2024-05-14 17:35:00':'2024-05-14 17:40:00']\n",
    "\n",
    "typeII_3_mode3 = df_mode3_new.loc['2024-05-14 17:40:00':'2024-05-14 17:48:00']\n",
    "typeII_3_mode5 = df_mode5_new.loc['2024-05-14 17:40:00':'2024-05-14 17:48:00']\n",
    "typeII_3_mode7 = df_mode7_new.loc['2024-05-14 17:40:00':'2024-05-14 17:48:00']"
   ]
  },
  {
   "cell_type": "code",
   "execution_count": null,
   "id": "99ea182c-7831-4737-a844-f4ccd74a5936",
   "metadata": {},
   "outputs": [],
   "source": [
    "del df_mode3_new\n",
    "del df_mode5_new\n",
    "del df_mode7_new"
   ]
  },
  {
   "cell_type": "code",
   "execution_count": null,
   "id": "740fd11d-1f84-4aa6-9ccc-767eb4185933",
   "metadata": {},
   "outputs": [],
   "source": [
    "min_range = -0.5\n",
    "max_range = 3\n",
    "\n",
    "fig = plt.figure(figsize=[12,7])\n",
    "ax = fig.add_subplot(111)\n",
    "ax.pcolormesh(typeII_1_mode3.index, typeII_1_mode3.columns, typeII_1_mode3.values.T,\n",
    "              vmin=min_range, vmax=max_range, cmap='RdYlBu_r')\n",
    "ax.pcolormesh(typeII_1_mode5.index, typeII_1_mode5.columns, typeII_1_mode5.values.T,\n",
    "              vmin=min_range, vmax=max_range, cmap='RdYlBu_r')\n",
    "ax.pcolormesh(typeII_1_mode7.index, typeII_1_mode7.columns, typeII_1_mode7.values.T,\n",
    "              vmin=min_range, vmax=max_range, cmap='RdYlBu_r')\n",
    "ax.set_yscale('log')\n",
    "\n",
    "# Define the custom ticks\n",
    "custom_ticks = [10, 20, 30, 40, 50, 60, 70, 80, 90, 100, 200]\n",
    "ax.set_yticks(custom_ticks)\n",
    "ax.set_yticklabels([str(tick) for tick in custom_ticks])\n",
    "ax.yaxis.set_minor_locator(AutoMinorLocator(n=10))\n",
    "ax.set_xlabel('Time (UT)')\n",
    "ax.set_ylabel('Frequency (MHz)')\n",
    "ax.xaxis_date()\n",
    "ax.xaxis.set_major_formatter(mdates.DateFormatter('%H:%M'))\n",
    "ax.set_ylim(max(ax.get_ylim()[::-1]), 35)\n",
    "plt.show()"
   ]
  },
  {
   "cell_type": "code",
   "execution_count": null,
   "id": "11778cbc-7ef6-431e-95e9-527aa4251e9a",
   "metadata": {},
   "outputs": [],
   "source": [
    "min_range = -0.5\n",
    "max_range = 3\n",
    "\n",
    "fig = plt.figure(figsize=[12,7])\n",
    "ax = fig.add_subplot(111)\n",
    "ax.pcolormesh(typeII_2_mode3.index, typeII_2_mode3.columns, typeII_2_mode3.values.T,\n",
    "              vmin=min_range, vmax=max_range, cmap='RdYlBu_r')\n",
    "ax.pcolormesh(typeII_2_mode5.index, typeII_2_mode5.columns, typeII_2_mode5.values.T,\n",
    "              vmin=min_range, vmax=max_range, cmap='RdYlBu_r')\n",
    "ax.pcolormesh(typeII_2_mode7.index, typeII_2_mode7.columns, typeII_2_mode7.values.T,\n",
    "              vmin=min_range, vmax=max_range, cmap='RdYlBu_r')\n",
    "ax.set_yscale('log')\n",
    "\n",
    "# Define the custom ticks\n",
    "custom_ticks = [10, 20, 30, 40, 50, 60, 70, 80, 90, 100, 200]\n",
    "ax.set_yticks(custom_ticks)\n",
    "ax.set_yticklabels([str(tick) for tick in custom_ticks])\n",
    "ax.yaxis.set_minor_locator(AutoMinorLocator(n=10))\n",
    "ax.set_xlabel('Time (UT)')\n",
    "ax.set_ylabel('Frequency (MHz)')\n",
    "ax.xaxis_date()\n",
    "ax.xaxis.set_major_formatter(mdates.DateFormatter('%H:%M'))\n",
    "ax.set_ylim(190, 45)\n",
    "plt.show()"
   ]
  },
  {
   "cell_type": "code",
   "execution_count": null,
   "id": "de570baf-580b-4466-935e-4e76d8974373",
   "metadata": {},
   "outputs": [],
   "source": [
    "min_range = -0.5\n",
    "max_range = 2\n",
    "\n",
    "fig = plt.figure(figsize=[12,7])\n",
    "ax = fig.add_subplot(111)\n",
    "ax.pcolormesh(typeII_3_mode3.index, typeII_3_mode3.columns, typeII_3_mode3.values.T,\n",
    "              vmin=min_range, vmax=max_range, cmap='RdYlBu_r')\n",
    "ax.pcolormesh(typeII_3_mode5.index, typeII_3_mode5.columns, typeII_3_mode5.values.T,\n",
    "              vmin=min_range, vmax=max_range, cmap='RdYlBu_r')\n",
    "ax.pcolormesh(typeII_3_mode7.index, typeII_3_mode7.columns, typeII_3_mode7.values.T,\n",
    "              vmin=min_range, vmax=max_range, cmap='RdYlBu_r')\n",
    "ax.set_yscale('log')\n",
    "\n",
    "# Define the custom ticks\n",
    "custom_ticks = [10, 20, 30, 40, 50, 60, 70, 80, 90, 100, 200]\n",
    "ax.set_yticks(custom_ticks)\n",
    "ax.set_yticklabels([str(tick) for tick in custom_ticks])\n",
    "# ax.xaxis.set_minor_locator(AutoMinorLocator(n=10))\n",
    "ax.set_xlabel('Time (UT)')\n",
    "ax.set_ylabel('Frequency (MHz)')\n",
    "ax.xaxis_date()\n",
    "ax.xaxis.set_major_formatter(mdates.DateFormatter('%H:%M'))\n",
    "ax.set_ylim(90, 20)\n",
    "plt.show()"
   ]
  },
  {
   "cell_type": "markdown",
   "id": "dacfae62",
   "metadata": {},
   "source": [
    "## Clicking ..."
   ]
  },
  {
   "cell_type": "code",
   "execution_count": null,
   "id": "98842252",
   "metadata": {},
   "outputs": [],
   "source": [
    "import matplotlib\n",
    "matplotlib.use('nbAgg')"
   ]
  },
  {
   "cell_type": "markdown",
   "id": "013898f9-237b-4f90-a372-41dd9f4891a4",
   "metadata": {},
   "source": [
    "## Applying Bezier curve method"
   ]
  },
  {
   "cell_type": "code",
   "execution_count": null,
   "id": "aad51621",
   "metadata": {},
   "outputs": [],
   "source": [
    "time_cadence = abs(np.nanmedian(np.diff(combined_typeII_df1_1s.index)))\n",
    "time_cadence.item()/"
   ]
  },
  {
   "cell_type": "code",
   "execution_count": null,
   "id": "d476d228-ad38-4ff2-b515-87f771013d2a",
   "metadata": {},
   "outputs": [],
   "source": [
    "time_cadence"
   ]
  },
  {
   "cell_type": "markdown",
   "id": "9eeaa780-ef53-43ca-8b3a-728b4f97672e",
   "metadata": {},
   "source": [
    "## Auto-tracing of type IIs"
   ]
  },
  {
   "cell_type": "code",
   "execution_count": null,
   "id": "1f2766c2-390a-4928-8aff-a870711002c1",
   "metadata": {},
   "outputs": [],
   "source": [
    "def draw_bezier(x1=0, y1=0, x2=0, y2=0, control=[0,0]):\n",
    "    \"\"\"\n",
    "    Draw a Bezier curve using the given control points.\n",
    "    The curve will be drawn from the point (x1, y1) to the point\n",
    "    (x2, y2) using the control points (control[0], control[1]).\n",
    "    \"\"\"\n",
    "    A = np.array([x2, y2])\n",
    "    B = np.array(control)\n",
    "    C = np.array([x1, y1])\n",
    "\n",
    "    A = A.reshape(2,1)\n",
    "    B = B.reshape(2,1)\n",
    "    C = C.reshape(2,1)\n",
    "    \n",
    "    t = np.arange(0, 1, 0.02).reshape(1,-1)\n",
    "    \n",
    "    # length = len(df.index)\n",
    "    # t = np.linspace(0, 1, length).reshape(1,-1)\n",
    "    # t = np.arange(0, length, 1).reshape(1,-1)\n",
    "    \n",
    "    P0 = A * t + (1 - t) * B\n",
    "    P1 = B * t + (1 - t) * C\n",
    "    Pfinal = P0 * t + (1 - t) * P1\n",
    "\n",
    "    return Pfinal\n",
    "\n",
    "def extract_bezier_values(df, x1, y1, x2, y2, control):\n",
    "    \"\"\"\n",
    "    Extract the values of a Bezier curve at the given control points.\n",
    "    The curve will be drawn from the point (x1, y1) to the point\n",
    "    (x2, y2) using the control points (control[0], control[1])\n",
    "    \"\"\"\n",
    "    array = df.values.T\n",
    "    Pfinal = draw_bezier(x1, y1, x2, y2, control)\n",
    "    x_coords = np.round(Pfinal[0, :]).astype(int)\n",
    "    y_coords = np.round(Pfinal[1, :]).astype(int)\n",
    "\n",
    "    # Clip the coordinates to stay within array bounds\n",
    "    x_coords = np.clip(x_coords, 0, array.shape[1] - 1)\n",
    "    y_coords = np.clip(y_coords, 0, array.shape[0] - 1)\n",
    "\n",
    "    # Extract values along the Bézier curve\n",
    "    bezier_values = array[y_coords, x_coords]\n",
    "    \n",
    "    return bezier_values, x_coords, y_coords"
   ]
  },
  {
   "cell_type": "code",
   "execution_count": null,
   "id": "e6509bb6-1128-4cad-be75-0c23142ac557",
   "metadata": {},
   "outputs": [],
   "source": [
    "# print(typeII_1_mode3_1s.columns[0], typeII_1_mode3_1s.columns[-1])\n",
    "# print(typeII_1_mode5_1s.columns[0], typeII_1_mode5_1s.columns[-1])\n",
    "# print(typeII_1_mode7_1s.columns[0], typeII_1_mode7_1s.columns[-1])"
   ]
  },
  {
   "cell_type": "code",
   "execution_count": null,
   "id": "e5dceff6-6d07-45b5-b5f4-264c7bf18941",
   "metadata": {},
   "outputs": [],
   "source": [
    "# print(typeII_1_mode3_1s.columns[1] - typeII_1_mode3_1s.columns[0])\n",
    "# print(typeII_1_mode5_1s.columns[1] - typeII_1_mode5_1s.columns[0])\n",
    "# print(typeII_1_mode7_1s.columns[1] - typeII_1_mode7_1s.columns[0])"
   ]
  },
  {
   "cell_type": "code",
   "execution_count": null,
   "id": "53183a2e-855d-48ab-b385-d08781301c18",
   "metadata": {},
   "outputs": [],
   "source": [
    "def combine_ilofar_modes(mode3, mode5, mode7):\n",
    "    \"\"\"\n",
    "    Combine data from the three observation modes of the I-LOFAR station into a single DataFrame.\n",
    "    \n",
    "    This function takes three pandas DataFrames,\n",
    "    each representing an observation mode: Mode 3, Mode 5, and Mode 7.\n",
    "    Each DataFrame contains frequency observations with datetime indices.\n",
    "    The function combines these DataFrames into a single DataFrame,\n",
    "    filling in frequency gaps between the modes with empty columns.\n",
    "\n",
    "    Parameters:\n",
    "    -----------\n",
    "    mode3 : pandas.DataFrame\n",
    "        DataFrame for Mode 3 observations, with datetime index and frequency columns.\n",
    "    mode5 : pandas.DataFrame\n",
    "        DataFrame for Mode 5 observations, with datetime index and frequency columns.\n",
    "    mode7 : pandas.DataFrame\n",
    "        DataFrame for Mode 7 observations, with datetime index and frequency columns.\n",
    "\n",
    "    Returns:\n",
    "    --------\n",
    "    pandas.DataFrame\n",
    "        A combined DataFrame containing all observations from Mode 3, Mode 5, and Mode 7, with empty columns\n",
    "        filling the frequency gaps. The columns are sorted numerically.\n",
    "\n",
    "    Notes:\n",
    "    ------\n",
    "    - The function calculates the frequency cadence for each mode by taking the absolute median difference \n",
    "      of the mode's column frequencies.\n",
    "    - It then generates empty DataFrames to fill the frequency gaps between the observation modes.\n",
    "    - Finally, it concatenates all DataFrames along the columns axis, converts the index to numerical dates, \n",
    "      and sorts the columns numerically.\n",
    "\n",
    "    Example:\n",
    "    --------\n",
    "    >>> combined_df = combine_ilofar_modes(mode3_df, mode5_df, mode7_df)\n",
    "    >>> print(combined_df.head())\n",
    "    \"\"\"\n",
    "    mode3_freq_cadence = abs(np.nanmedian(np.diff(mode3.columns)))\n",
    "    mode5_freq_cadence = abs(np.nanmedian(np.diff(mode5.columns)))\n",
    "    mode7_freq_cadence = abs(np.nanmedian(np.diff(mode7.columns)))\n",
    "    \n",
    "    gap1_freqs = np.arange(90+mode3_freq_cadence, 110+mode3_freq_cadence, mode3_freq_cadence)\n",
    "    df_gap1    = pd.DataFrame(index=mode3.index, columns=gap1_freqs)\n",
    "    \n",
    "    gap2_freqs = np.arange(190+mode5_freq_cadence, 210+mode5_freq_cadence, mode5_freq_cadence)\n",
    "    df_gap2    = pd.DataFrame(index=mode3.index, columns=gap2_freqs)\n",
    "    \n",
    "    # Concatenate along columns axis\n",
    "    combined_df       = pd.concat([mode3, df_gap1, mode5, df_gap2, mode7], axis=1)\n",
    "    combined_df.index = mdates.date2num(combined_df.index)\n",
    "    \n",
    "    # Sort columns numerically\n",
    "    combined_df = combined_df.reindex(sorted(combined_df.columns.astype('float')), axis=1).astype('float64')\n",
    "    \n",
    "    return combined_df"
   ]
  },
  {
   "cell_type": "code",
   "execution_count": null,
   "id": "8a63ec3c-1630-4f38-8bd2-13c7c2b58329",
   "metadata": {},
   "outputs": [],
   "source": [
    "combined_typeII_df1 = combine_ilofar_modes(typeII_1_mode3, typeII_1_mode5, typeII_1_mode7)\n",
    "combined_typeII_df2 = combine_ilofar_modes(typeII_2_mode3, typeII_2_mode5, typeII_2_mode7)\n",
    "combined_typeII_df3 = combine_ilofar_modes(typeII_3_mode3, typeII_3_mode5, typeII_3_mode7)"
   ]
  },
  {
   "cell_type": "code",
   "execution_count": null,
   "id": "39abd45f-b3b7-414a-9df2-567e26b3d751",
   "metadata": {},
   "outputs": [],
   "source": [
    "combined_typeII_df1.shape, combined_typeII_df2.shape, combined_typeII_df3.shape"
   ]
  },
  {
   "cell_type": "code",
   "execution_count": null,
   "id": "30a1b38d-b6ac-415b-89a5-7f2763025073",
   "metadata": {
    "scrolled": true
   },
   "outputs": [],
   "source": [
    "# mode3_freq_cadence = abs(np.nanmedian(np.diff(typeII_1_mode3_1s.columns)))\n",
    "# mode5_freq_cadence = abs(np.nanmedian(np.diff(typeII_1_mode5_1s.columns)))\n",
    "# mode7_freq_cadence = abs(np.nanmedian(np.diff(typeII_1_mode7_1s.columns)))\n",
    "\n",
    "# print(mode3_freq_cadence)\n",
    "# print(mode5_freq_cadence)\n",
    "# print(mode7_freq_cadence)"
   ]
  },
  {
   "cell_type": "code",
   "execution_count": null,
   "id": "587de52b-02a5-410a-b5f4-4f538a537a67",
   "metadata": {},
   "outputs": [],
   "source": [
    "# gap1_freqs = np.arange(90+mode3_freq_cadence, 110+mode3_freq_cadence, mode3_freq_cadence)\n",
    "# df_gap1 = pd.DataFrame(index=typeII_1_mode3_1s.index, columns=gap1_freqs)\n",
    "\n",
    "# gap2_freqs = np.arange(190+mode5_freq_cadence, 210+mode5_freq_cadence, mode5_freq_cadence)\n",
    "# df_gap2 = pd.DataFrame(index=typeII_1_mode3_1s.index, columns=gap2_freqs)"
   ]
  },
  {
   "cell_type": "code",
   "execution_count": null,
   "id": "10d5e542-2ee4-4f53-949c-eb942413c12c",
   "metadata": {},
   "outputs": [],
   "source": [
    "# # Concatenate along columns axis\n",
    "# combined_df = pd.concat([typeII_1_mode3_1s, df_gap1, typeII_1_mode5_1s, df_gap2, typeII_1_mode7_1s], axis=1)\n",
    "# combined_df.index = mdates.date2num(combined_df.index)\n",
    "\n",
    "# # Sort columns numerically\n",
    "# combined_df = combined_df.reindex(sorted(combined_df.columns.astype('float')), axis=1).astype('float64')"
   ]
  },
  {
   "cell_type": "code",
   "execution_count": null,
   "id": "4df2d4a9-be2c-413b-84d1-29d0d1f4445a",
   "metadata": {},
   "outputs": [],
   "source": [
    "min_range = -0.5\n",
    "max_range = 3\n",
    "\n",
    "# Plot the spectrum\n",
    "fig = plt.figure(figsize=[10,6])\n",
    "ax = fig.add_subplot(111)\n",
    "ax.pcolormesh(combined_typeII_df1.index, combined_typeII_df1.columns, combined_typeII_df1.values.T,\n",
    "              vmin=min_range, vmax=max_range, cmap='RdYlBu_r')\n",
    "ax.set_yscale('log')\n",
    "\n",
    "# Define the custom ticks\n",
    "custom_ticks = [10, 20, 30, 40, 50, 60, 70, 80, 90, 100, 200]\n",
    "ax.set_yticks(custom_ticks)\n",
    "ax.set_yticklabels([str(tick) for tick in custom_ticks])\n",
    "ax.set_xlabel('Time (UT)')\n",
    "ax.set_ylabel('Frequency (MHz)')\n",
    "ax.xaxis_date()\n",
    "ax.xaxis.set_major_formatter(mdates.DateFormatter('%H:%M'))\n",
    "ax.set_ylim(max(ax.get_ylim()[::-1]), 35)\n",
    "plt.show()"
   ]
  },
  {
   "cell_type": "markdown",
   "id": "3cf50959-ac96-417c-8da5-916b555b1ebe",
   "metadata": {},
   "source": [
    "## Downsample the spectra to 1-second resolution"
   ]
  },
  {
   "cell_type": "code",
   "execution_count": null,
   "id": "bf2c3f9b-7306-4a24-8b66-fcec1165a7f7",
   "metadata": {},
   "outputs": [],
   "source": [
    "# converts the float index to a DatetimeIndex\n",
    "combined_typeII_df1.index = pd.to_datetime(combined_typeII_df1.index, origin='unix', unit='D')\n",
    "combined_typeII_df2.index = pd.to_datetime(combined_typeII_df2.index, origin='unix', unit='D')\n",
    "combined_typeII_df3.index = pd.to_datetime(combined_typeII_df3.index, origin='unix', unit='D')\n",
    "\n",
    "# downsampling the data to 1-s resolution for faster testing and visualization\n",
    "combined_typeII_df1_1s = combined_typeII_df1.resample('1S').mean()\n",
    "combined_typeII_df2_1s = combined_typeII_df2.resample('1S').mean()\n",
    "combined_typeII_df3_1s = combined_typeII_df3.resample('1S').mean()"
   ]
  },
  {
   "cell_type": "code",
   "execution_count": null,
   "id": "65ebf08d-f4d7-40cd-ab99-2aad82632d85",
   "metadata": {},
   "outputs": [],
   "source": [
    "psudo_time = np.arange(len(combined_typeII_df1_1s.index))\n",
    "\n",
    "# Define start and end points and control point for the Bézier curve\n",
    "x1, y1 = 42, 165\n",
    "x2, y2 = 210, 120\n",
    "control = [110, 125]\n",
    "\n",
    "# Plot the spectrum and the Bezier curve\n",
    "fig = plt.figure(figsize=[10,6])\n",
    "ax = fig.add_subplot(111)\n",
    "ax.pcolormesh(psudo_time, combined_typeII_df1_1s.columns, combined_typeII_df1_1s.values.T,\n",
    "              vmin=-0.5, vmax=3, cmap='RdYlBu_r')\n",
    "ax.set_yscale('log')\n",
    "\n",
    "# Extract values along the Bézier curve\n",
    "bezier_values, x_coords, y_coords = extract_bezier_values(combined_typeII_df1_1s, x1, y1, x2, y2, control)\n",
    "ax.plot(x_coords, y_coords, 'ko-', linewidth=2)\n",
    "\n",
    "# Define the custom ticks\n",
    "custom_ticks = [10, 20, 30, 40, 50, 60, 70, 80, 90, 100, 200]\n",
    "ax.set_yticks(custom_ticks)\n",
    "ax.set_yticklabels([str(tick) for tick in custom_ticks])\n",
    "ax.set_xlabel('Time step')\n",
    "ax.set_ylabel('Frequency (MHz)')\n",
    "ax.set_ylim(max(ax.get_ylim()[::-1]), 35)\n",
    "plt.show()\n",
    "\n",
    "# print(f'intensity values: {bezier_values}\\n')\n",
    "print(f't_coords: {x_coords}\\n')\n",
    "print(f'f_coords: {y_coords}')"
   ]
  },
  {
   "cell_type": "code",
   "execution_count": null,
   "id": "cf664999-7987-4493-9fd1-6cb6cd6d5242",
   "metadata": {},
   "outputs": [],
   "source": [
    "def has_duplicates(lst):\n",
    "    return len(lst) != len(set(lst))\n",
    "\n",
    "has_duplicates(x_coords), has_duplicates(y_coords)"
   ]
  },
  {
   "cell_type": "code",
   "execution_count": null,
   "id": "940eb9ea-7393-4c02-984b-169276d86a8a",
   "metadata": {},
   "outputs": [],
   "source": [
    "plt.figure(figsize=[15,7])\n",
    "plt.scatter(x_coords, y_coords)"
   ]
  },
  {
   "cell_type": "code",
   "execution_count": null,
   "id": "25feb96b-4122-4e68-991f-5cf74609748c",
   "metadata": {},
   "outputs": [],
   "source": [
    "# Test draw Bezier curve\n",
    "x1, y1 = 10, 40\n",
    "x2, y2 = 20, 80\n",
    "\n",
    "# Plot the Bezier curves with different control points\n",
    "fig = plt.figure(figsize=[15,5])\n",
    "\n",
    "ax = fig.add_subplot(131)\n",
    "control_point = [30, 50]\n",
    "Pfinal = draw_bezier(x1=x1, y1=y1, x2=x2, y2=y2, control=control_point)\n",
    "x_coords = Pfinal[0,:]\n",
    "y_coords = Pfinal[1,:]\n",
    "ax.plot(x_coords, y_coords)\n",
    "ax.scatter(control_point[0], control_point[1], c='k', label='Control point')\n",
    "ax.scatter(x_coords[0], y_coords[0], c='r', label='Start point')\n",
    "ax.scatter(x_coords[-1], y_coords[-1], c='g', label='End point')\n",
    "ax.legend()\n",
    "ax.grid(alpha=0.5)\n",
    "\n",
    "ax = fig.add_subplot(132)\n",
    "control_point = [15, 30]\n",
    "Pfinal = draw_bezier(x1=x1, y1=y1, x2=x2, y2=y2, control=control_point)\n",
    "x_coords = Pfinal[0,:]\n",
    "y_coords = Pfinal[1,:]\n",
    "ax.plot(x_coords, y_coords)\n",
    "ax.scatter(control_point[0], control_point[1], c='k', label='Control point')\n",
    "ax.scatter(x_coords[0], y_coords[0], c='r', label='Start point')\n",
    "ax.scatter(x_coords[-1], y_coords[-1], c='g', label='End point')\n",
    "ax.legend()\n",
    "ax.grid(alpha=0.5)\n",
    "\n",
    "ax = fig.add_subplot(133)\n",
    "control_point = [10, 60]\n",
    "Pfinal = draw_bezier(x1=x1, y1=y1, x2=x2, y2=y2, control=control_point)\n",
    "x_coords = Pfinal[0,:]\n",
    "y_coords = Pfinal[1,:]\n",
    "ax.plot(x_coords, y_coords)\n",
    "ax.scatter(control_point[0], control_point[1], c='k', label='Control point')\n",
    "ax.scatter(x_coords[0], y_coords[0], c='r', label='Start point')\n",
    "ax.scatter(x_coords[-1], y_coords[-1], c='g', label='End point')\n",
    "ax.legend()\n",
    "ax.grid(alpha=0.5)\n",
    "\n",
    "plt.show()"
   ]
  },
  {
   "cell_type": "code",
   "execution_count": null,
   "id": "f671d45a-b080-4f3b-9b62-02548ff550d0",
   "metadata": {},
   "outputs": [],
   "source": []
  },
  {
   "cell_type": "code",
   "execution_count": null,
   "id": "f438725c-d2e8-43f3-a2ee-733f892eed17",
   "metadata": {},
   "outputs": [],
   "source": [
    "Pfinal.shape"
   ]
  },
  {
   "cell_type": "code",
   "execution_count": null,
   "id": "8b37addc-4c09-4631-bb24-1838a0d95740",
   "metadata": {},
   "outputs": [],
   "source": []
  },
  {
   "cell_type": "code",
   "execution_count": null,
   "id": "a0d73f1c-2659-4aa6-9bf8-cebb4d0dd592",
   "metadata": {},
   "outputs": [],
   "source": [
    "### Multiple bezier curves\n",
    "psudo_time = np.arange(len(combined_typeII_df1_1s.index))\n",
    "\n",
    "# Plot the spectrum and the Bezier curve\n",
    "fig = plt.figure(figsize=[15,10])\n",
    "ax = fig.add_subplot(111)\n",
    "ax.pcolormesh(psudo_time, combined_typeII_df1_1s.columns, combined_typeII_df1_1s.values.T,\n",
    "              vmin=-0.5, vmax=3, cmap='RdYlBu_r')\n",
    "ax.set_yscale('log')\n",
    "\n",
    "## Extract values along the Bézier curve\n",
    "curves_dict = {}\n",
    "\n",
    "# Harmonic\n",
    "bezier_values, x_coords, y_coords = extract_bezier_values(combined_typeII_df1_1s, 42, 140, 215, 98, [90, 100])\n",
    "ax.plot(x_coords, y_coords, 'o-', c='teal', ms=5, lw=2)\n",
    "ax.text(x_coords[-1], y_coords[-1], 'Line 1 LFB', color='teal', fontsize=14, verticalalignment='bottom', horizontalalignment='left')\n",
    "curves_dict['time_h_lfb1'] = x_coords\n",
    "curves_dict['freq_h_lfb1'] = y_coords\n",
    "curves_dict['flux_h_lfb1'] = bezier_values\n",
    "\n",
    "bezier_values, x_coords, y_coords = extract_bezier_values(combined_typeII_df1_1s, 42, 148, 215, 102, [90, 105])\n",
    "ax.plot(x_coords, y_coords, 'o-', c='teal', ms=5, lw=2)\n",
    "ax.text(x_coords[-1], y_coords[-1], 'Line 2 LFB', color='teal', fontsize=14, verticalalignment='bottom', horizontalalignment='left')\n",
    "curves_dict['time_h_lfb2'] = x_coords\n",
    "curves_dict['freq_h_lfb2'] = y_coords\n",
    "curves_dict['flux_h_lfb2'] = bezier_values\n",
    "\n",
    "bezier_values, x_coords, y_coords = extract_bezier_values(combined_typeII_df1_1s, 42, 158, 215, 108, [90, 110])\n",
    "ax.plot(x_coords, y_coords, 'o-', c='teal', ms=5, lw=2)\n",
    "ax.text(x_coords[-1], y_coords[-1], 'Line 3 LFB', color='teal', fontsize=14, verticalalignment='bottom', horizontalalignment='left')\n",
    "curves_dict['time_h_lfb3'] = x_coords\n",
    "curves_dict['freq_h_lfb3'] = y_coords\n",
    "curves_dict['flux_h_lfb3'] = bezier_values\n",
    "\n",
    "\n",
    "bezier_values, x_coords, y_coords = extract_bezier_values(combined_typeII_df1_1s, 42, 165, 215, 120, [100, 125])\n",
    "ax.plot(x_coords, y_coords, 'o-', c='k', ms=5, lw=2)\n",
    "ax.text(x_coords[-1], y_coords[-1], 'Line 1 UFB', fontsize=14, verticalalignment='bottom', horizontalalignment='left')\n",
    "curves_dict['time_h_ufb1'] = x_coords\n",
    "curves_dict['freq_h_ufb1'] = y_coords\n",
    "curves_dict['flux_h_ufb1'] = bezier_values\n",
    "\n",
    "bezier_values, x_coords, y_coords = extract_bezier_values(combined_typeII_df1_1s, 42, 185, 215, 128, [100, 135])\n",
    "ax.plot(x_coords, y_coords, 'o-', c='black', ms=5, lw=2)\n",
    "ax.text(x_coords[-1], y_coords[-1], 'Line 2 UFB', fontsize=14, verticalalignment='bottom', horizontalalignment='left')\n",
    "curves_dict['time_h_ufb2'] = x_coords\n",
    "curves_dict['freq_h_ufb2'] = y_coords\n",
    "curves_dict['flux_h_ufb2'] = bezier_values\n",
    "\n",
    "bezier_values, x_coords, y_coords = extract_bezier_values(combined_typeII_df1_1s, 42, 215, 215, 136, [100, 145])\n",
    "ax.plot(x_coords, y_coords, 'o-', c='black', ms=5, lw=2)\n",
    "ax.text(x_coords[-1], y_coords[-1], 'Line 3 UFB', fontsize=14, verticalalignment='bottom', horizontalalignment='left')\n",
    "curves_dict['time_h_ufb3'] = x_coords\n",
    "curves_dict['freq_h_ufb3'] = y_coords\n",
    "curves_dict['flux_h_ufb3'] = bezier_values\n",
    "\n",
    "\n",
    "# Fundamental\n",
    "bezier_values, x_coords, y_coords = extract_bezier_values(combined_typeII_df1_1s, 42, 77, 215, 45, [100, 57])\n",
    "ax.plot(x_coords, y_coords, 'o-', c='crimson', ms=5, lw=2)\n",
    "ax.text(x_coords[-1], y_coords[-1], 'Line 1 LFB', color='crimson', fontsize=14, verticalalignment='bottom', horizontalalignment='left')\n",
    "curves_dict['time_f_lfb3'] = x_coords\n",
    "curves_dict['freq_f_lfb3'] = y_coords\n",
    "curves_dict['flux_f_lfb3'] = bezier_values\n",
    "\n",
    "bezier_values, x_coords, y_coords = extract_bezier_values(combined_typeII_df1_1s, 42, 88, 215, 65, [100, 75])\n",
    "ax.plot(x_coords, y_coords, 'o-', c='purple', ms=5, lw=2)\n",
    "ax.text(x_coords[-1], y_coords[-1], 'Line 1 UFB', color='purple', fontsize=14, verticalalignment='bottom', horizontalalignment='left')\n",
    "curves_dict['time_f_ufb3'] = x_coords\n",
    "curves_dict['freq_f_ufb3'] = y_coords\n",
    "curves_dict['flux_f_ufb3'] = bezier_values\n",
    "\n",
    "# Define the custom ticks\n",
    "custom_ticks = [10, 20, 30, 40, 50, 60, 70, 80, 90, 100, 200]\n",
    "ax.set_yticks(custom_ticks)\n",
    "ax.set_yticklabels([str(tick) for tick in custom_ticks])\n",
    "ax.set_xlabel('Time step')\n",
    "ax.set_ylabel('Frequency (MHz)')\n",
    "ax.set_ylim(max(ax.get_ylim()[::-1]), 35)\n",
    "plt.show()"
   ]
  },
  {
   "cell_type": "code",
   "execution_count": null,
   "id": "3b7d326e-7d04-454f-8b25-6c90a40dd05b",
   "metadata": {
    "scrolled": true
   },
   "outputs": [],
   "source": [
    "curves_dict"
   ]
  },
  {
   "cell_type": "code",
   "execution_count": null,
   "id": "9d8dc64c-9b37-4cb1-981b-af2ab2c1d94a",
   "metadata": {},
   "outputs": [],
   "source": []
  },
  {
   "cell_type": "code",
   "execution_count": null,
   "id": "e462dacf-bc63-418c-a425-c7106adbeba0",
   "metadata": {},
   "outputs": [],
   "source": []
  },
  {
   "cell_type": "code",
   "execution_count": null,
   "id": "32734fcb-642a-4487-af9b-6c3ed2bb3a75",
   "metadata": {},
   "outputs": [],
   "source": []
  },
  {
   "cell_type": "code",
   "execution_count": null,
   "id": "a98a15b0-e05a-4e61-a06f-b8854e7b6af8",
   "metadata": {},
   "outputs": [],
   "source": []
  },
  {
   "cell_type": "code",
   "execution_count": null,
   "id": "003d70c1-47b6-4756-a69b-edb64447af66",
   "metadata": {},
   "outputs": [],
   "source": []
  },
  {
   "cell_type": "code",
   "execution_count": null,
   "id": "f3b25219-f00f-4d4f-9bea-23aaa24687fa",
   "metadata": {},
   "outputs": [],
   "source": []
  },
  {
   "cell_type": "code",
   "execution_count": null,
   "id": "26e9ab72-d7b9-4dfd-8906-7b337b088805",
   "metadata": {},
   "outputs": [],
   "source": []
  },
  {
   "cell_type": "code",
   "execution_count": null,
   "id": "8bdef2ed-59d3-4347-9571-70a01508b11c",
   "metadata": {},
   "outputs": [],
   "source": [
    "# min_range = -0.5\n",
    "# max_range = 3\n",
    "\n",
    "# ## Define start and end points and control point for the Bézier curve\n",
    "\n",
    "# # Given timestamp to find the nearest index\n",
    "# given_timestamp_x1 = pd.Timestamp('2024-05-14 17:30:40')\n",
    "# given_timestamp_x2 = pd.Timestamp('2024-05-14 17:33:30')\n",
    "\n",
    "# # Find the nearest index\n",
    "# nearest_index_x1 = typeII_1_mode3_1s.index.get_loc(given_timestamp_x1)\n",
    "# nearest_index_x2 = typeII_1_mode3_1s.index.get_loc(given_timestamp_x2)\n",
    "\n",
    "# x1 = mdates.date2num(typeII_1_mode3_1s.index[nearest_index_x1])\n",
    "# x2 = mdates.date2num(typeII_1_mode3_1s.index[nearest_index_x2])\n",
    "\n",
    "# # Given number to find the nearest index\n",
    "# given_freq_y1 = 200\n",
    "# given_freq_y2 = 120\n",
    "\n",
    "# # Calculate differences\n",
    "# differences1 = np.abs(typeII_1_mode3_1s.columns - given_freq_y1)\n",
    "# differences2 = np.abs(typeII_1_mode3_1s.columns - given_freq_y2)\n",
    "\n",
    "# # Find the nearest index\n",
    "# nearest_index_y1 = differences1.argmin()\n",
    "# nearest_index_y2 = differences2.argmin()\n",
    "\n",
    "# y1 = typeII_1_mode3_1s.columns[nearest_index_y1]\n",
    "# y2 = typeII_1_mode3_1s.columns[nearest_index_y2]\n",
    "\n",
    "# control = [0, 1]\n",
    "\n",
    "# # Extract values along the Bézier curve\n",
    "# bezier_values, x_coords, y_coords = extract_bezier_values(typeII_1_mode5_1s.values.T, x1, y1, x2, y2, control)\n",
    "\n",
    "\n",
    "# fig = plt.figure(figsize=[10,6])\n",
    "# ax = fig.add_subplot(111)\n",
    "# ax.pcolormesh(typeII_1_mode3_1s.index, typeII_1_mode3_1s.columns, typeII_1_mode3_1s.values.T,\n",
    "#               vmin=min_range, vmax=max_range, cmap='RdYlBu_r')\n",
    "# ax.pcolormesh(typeII_1_mode5_1s.index, typeII_1_mode5_1s.columns, typeII_1_mode5_1s.values.T,\n",
    "#               vmin=min_range, vmax=max_range, cmap='RdYlBu_r')\n",
    "# ax.pcolormesh(typeII_1_mode7_1s.index, typeII_1_mode7_1s.columns, typeII_1_mode7_1s.values.T,\n",
    "#               vmin=min_range, vmax=max_range, cmap='RdYlBu_r')\n",
    "\n",
    "# # plt.plot(x_coords, y_coords, 'ko--', linewidth=2)\n",
    "\n",
    "# ax.set_yscale('log')\n",
    "\n",
    "# # Define the custom ticks\n",
    "# custom_ticks = [10, 20, 30, 40, 50, 60, 70, 80, 90, 100, 200]\n",
    "# ax.set_yticks(custom_ticks)\n",
    "# ax.set_yticklabels([str(tick) for tick in custom_ticks])\n",
    "# ax.xaxis.set_minor_locator(AutoMinorLocator(n=6))\n",
    "# ax.yaxis.set_minor_locator(AutoMinorLocator(n=10))\n",
    "# ax.set_xlabel('Time (UT)')\n",
    "# ax.set_ylabel('Frequency (MHz)')\n",
    "# ax.xaxis_date()\n",
    "# ax.xaxis.set_major_formatter(mdates.DateFormatter('%H:%M'))\n",
    "# ax.set_ylim(max(ax.get_ylim()[::-1]), 35)\n",
    "# plt.show()"
   ]
  },
  {
   "cell_type": "code",
   "execution_count": null,
   "id": "e5ce6305-0667-4bfe-9841-d614cb1b439e",
   "metadata": {},
   "outputs": [],
   "source": []
  },
  {
   "cell_type": "code",
   "execution_count": null,
   "id": "f8cc0bd1-8bb2-471c-8af2-33a9fc83f31e",
   "metadata": {},
   "outputs": [],
   "source": []
  },
  {
   "cell_type": "code",
   "execution_count": null,
   "id": "1d4494ec-0a3c-4e2e-a2cc-58f884261977",
   "metadata": {},
   "outputs": [],
   "source": [
    "min_range = -0.5\n",
    "max_range = 3\n",
    "\n",
    "fig = plt.figure(figsize=[10,6])\n",
    "ax = fig.add_subplot(111)\n",
    "ax.pcolormesh(typeII_2_mode3_1s.index, typeII_2_mode3_1s.columns, typeII_2_mode3_1s.values.T,\n",
    "              vmin=min_range, vmax=max_range, cmap='RdYlBu_r')\n",
    "ax.pcolormesh(typeII_2_mode5_1s.index, typeII_2_mode5_1s.columns, typeII_2_mode5_1s.values.T,\n",
    "              vmin=min_range, vmax=max_range, cmap='RdYlBu_r')\n",
    "ax.pcolormesh(typeII_2_mode7_1s.index, typeII_2_mode7_1s.columns, typeII_2_mode7_1s.values.T,\n",
    "              vmin=min_range, vmax=max_range, cmap='RdYlBu_r')\n",
    "ax.set_yscale('log')\n",
    "\n",
    "# Define the custom ticks\n",
    "custom_ticks = [10, 20, 30, 40, 50, 60, 70, 80, 90, 100, 200]\n",
    "ax.set_yticks(custom_ticks)\n",
    "ax.set_yticklabels([str(tick) for tick in custom_ticks])\n",
    "ax.yaxis.set_minor_locator(AutoMinorLocator(n=10))\n",
    "ax.set_xlabel('Time (UT)')\n",
    "ax.set_ylabel('Frequency (MHz)')\n",
    "ax.xaxis_date()\n",
    "ax.xaxis.set_major_formatter(mdates.DateFormatter('%H:%M'))\n",
    "ax.set_ylim(190, 45)\n",
    "plt.show()"
   ]
  },
  {
   "cell_type": "code",
   "execution_count": null,
   "id": "e91b2cea-158e-45f6-9ac3-6530c3b3a37f",
   "metadata": {},
   "outputs": [],
   "source": [
    "min_range = -0.5\n",
    "max_range = 3\n",
    "\n",
    "fig = plt.figure(figsize=[10,6])\n",
    "ax = fig.add_subplot(111)\n",
    "ax.pcolormesh(typeII_3_mode3_1s.index, typeII_3_mode3_1s.columns, typeII_3_mode3_1s.values.T,\n",
    "              vmin=min_range, vmax=max_range, cmap='RdYlBu_r')\n",
    "ax.pcolormesh(typeII_3_mode5_1s.index, typeII_3_mode5_1s.columns, typeII_3_mode5_1s.values.T,\n",
    "              vmin=min_range, vmax=max_range, cmap='RdYlBu_r')\n",
    "ax.pcolormesh(typeII_3_mode7_1s.index, typeII_3_mode7_1s.columns, typeII_3_mode7_1s.values.T,\n",
    "              vmin=min_range, vmax=max_range, cmap='RdYlBu_r')\n",
    "ax.set_yscale('log')\n",
    "\n",
    "# Define the custom ticks\n",
    "custom_ticks = [10, 20, 30, 40, 50, 60, 70, 80, 90, 100, 200]\n",
    "ax.set_yticks(custom_ticks)\n",
    "ax.set_yticklabels([str(tick) for tick in custom_ticks])\n",
    "ax.yaxis.set_minor_locator(AutoMinorLocator(n=10))\n",
    "ax.set_xlabel('Time (UT)')\n",
    "ax.set_ylabel('Frequency (MHz)')\n",
    "ax.xaxis_date()\n",
    "ax.xaxis.set_major_formatter(mdates.DateFormatter('%H:%M'))\n",
    "ax.set_ylim(90, 20)\n",
    "plt.show()"
   ]
  },
  {
   "cell_type": "code",
   "execution_count": null,
   "id": "ec89089e-5b7e-4cbd-a40e-aa7037b76bee",
   "metadata": {},
   "outputs": [],
   "source": []
  },
  {
   "cell_type": "code",
   "execution_count": null,
   "id": "1fecd958-6f82-493c-ae16-18d668453948",
   "metadata": {},
   "outputs": [],
   "source": []
  },
  {
   "cell_type": "code",
   "execution_count": null,
   "id": "54e47520-b40d-4dea-8499-24ef98b0dc17",
   "metadata": {},
   "outputs": [],
   "source": []
  },
  {
   "cell_type": "code",
   "execution_count": null,
   "id": "f31834ed-77de-4760-9ffa-43dda64f850f",
   "metadata": {},
   "outputs": [],
   "source": []
  },
  {
   "cell_type": "code",
   "execution_count": null,
   "id": "71a45a74-0dce-49fc-a8d0-8b06239d04c4",
   "metadata": {},
   "outputs": [],
   "source": []
  },
  {
   "cell_type": "code",
   "execution_count": null,
   "id": "e7c2b81f-fd1f-4374-918e-6e2b6edfa01a",
   "metadata": {},
   "outputs": [],
   "source": []
  },
  {
   "cell_type": "code",
   "execution_count": null,
   "id": "49fc1540-42fe-4e03-8170-4bb21a9fa33f",
   "metadata": {},
   "outputs": [],
   "source": []
  },
  {
   "cell_type": "code",
   "execution_count": null,
   "id": "0f13ae69",
   "metadata": {},
   "outputs": [],
   "source": [
    "min_range = -0.5\n",
    "max_range = 3\n",
    "\n",
    "fig = plt.figure(figsize=[10,6])\n",
    "ax = fig.add_subplot(111)\n",
    "ax.pcolormesh(typeII_1_mode3_1s.index, typeII_1_mode3_1s.columns, typeII_1_mode3_1s.values.T,\n",
    "              vmin=min_range, vmax=max_range, cmap='RdYlBu_r')\n",
    "ax.pcolormesh(typeII_1_mode5_1s.index, typeII_1_mode5_1s.columns, typeII_1_mode5_1s.values.T,\n",
    "              vmin=min_range, vmax=max_range, cmap='RdYlBu_r')\n",
    "ax.pcolormesh(typeII_1_mode7_1s.index, typeII_1_mode7_1s.columns, typeII_1_mode7_1s.values.T,\n",
    "              vmin=min_range, vmax=max_range, cmap='RdYlBu_r')\n",
    "ax.set_yscale('log')\n",
    "\n",
    "# Define the custom ticks\n",
    "custom_ticks = [10, 20, 30, 40, 50, 60, 70, 80, 90, 100, 200]\n",
    "ax.set_yticks(custom_ticks)\n",
    "ax.set_yticklabels([str(tick) for tick in custom_ticks])\n",
    "ax.yaxis.set_minor_locator(AutoMinorLocator(n=10))\n",
    "ax.set_xlabel('Time (UT)')\n",
    "ax.set_ylabel('Frequency (MHz)')\n",
    "ax.xaxis_date()\n",
    "ax.xaxis.set_major_formatter(mdates.DateFormatter('%H:%M'))\n",
    "ax.set_ylim(max(ax.get_ylim()[::-1]), 35)\n",
    "\n",
    "# List to store coordinates\n",
    "typeII_1_f_t_points = []\n",
    "\n",
    "# Function to be called when a mouse button is pressed\n",
    "def onclick(event):\n",
    "    if event.inaxes == ax:\n",
    "        if event.button == 1:  # Left mouse button\n",
    "            # Get the x and y coordinates\n",
    "            x, y = event.xdata, event.ydata\n",
    "            typeII_1_f_t_points.append((x, y))\n",
    "            ax.plot(x, y, 'ko')  # Mark the point with a dot\n",
    "            fig.canvas.draw()\n",
    "        elif event.button == 3:  # Right mouse button\n",
    "            # Disconnect the click event and exit the canvas\n",
    "            fig.canvas.mpl_disconnect(cid)\n",
    "\n",
    "# Connect the click event to the onclick function\n",
    "cid = fig.canvas.mpl_connect('button_press_event', onclick)\n",
    "plt.show()"
   ]
  },
  {
   "cell_type": "code",
   "execution_count": null,
   "id": "41980d9d",
   "metadata": {},
   "outputs": [],
   "source": [
    "df_typeII_1_f_t = pd.DataFrame(typeII_1_f_t_points, columns=['time','frequency'])\n",
    "df_typeII_1_f_t.head()"
   ]
  },
  {
   "cell_type": "code",
   "execution_count": null,
   "id": "bcec4384",
   "metadata": {},
   "outputs": [],
   "source": []
  },
  {
   "cell_type": "code",
   "execution_count": null,
   "id": "b14442d0",
   "metadata": {},
   "outputs": [],
   "source": [
    "def freq_to_n(fpe):\n",
    "    \"\"\"\n",
    "    Calculate electron density [cm-3] from plasma frequency [Hz].\n",
    "    \"\"\"\n",
    "    ne = (fpe / (8.89*10**3))**2\n",
    "    return ne\n",
    "\n",
    "\n",
    "def newkirk_h(r):\n",
    "    \"\"\"\n",
    "    Newkirk electron-density model.\n",
    "    fold: is a multiplicative factor to change the density scaling.\n",
    "    \"\"\"\n",
    "    fold = 2.5\n",
    "    model = fold*4.2e4*10**(4.32/r)\n",
    "    return model\n",
    "\n",
    "\n",
    "def invert_newkirk_h(ne):\n",
    "    \"\"\"\n",
    "    Invert the Newkirk electron-density model to find the radial distance\n",
    "    for a given electron density.\n",
    "    \"\"\"\n",
    "    def equation(r):\n",
    "        # Define the equation for which we need to find the root.\n",
    "        # It returns the difference between the model's density and the given density.\n",
    "        return newkirk_h(r) - ne\n",
    "    \n",
    "    # Initial guess for the radial distance can be set to a reasonable value.\n",
    "    r_guess = 1.0\n",
    "    \n",
    "    # Use fsolve to find the root of the equation, which is the radial distance r\n",
    "    # that makes the equation zero.\n",
    "    r_solution, = fsolve(equation, r_guess)\n",
    "    return r_solution"
   ]
  },
  {
   "cell_type": "code",
   "execution_count": null,
   "id": "8c9d2c64",
   "metadata": {},
   "outputs": [],
   "source": [
    "# Convert frequencies to electron densities\n",
    "ne_typeII_1 = freq_to_n(df_typeII_1_f_t['frequency'].values*10**6)"
   ]
  },
  {
   "cell_type": "code",
   "execution_count": null,
   "id": "124774db-cc72-4a0b-bd00-b943f083a882",
   "metadata": {},
   "outputs": [],
   "source": [
    "ne_typeII_1"
   ]
  },
  {
   "cell_type": "code",
   "execution_count": null,
   "id": "043b3288",
   "metadata": {},
   "outputs": [],
   "source": [
    "# Convert electron densities to radial distances\n",
    "r_typeII_1 = [invert_newkirk_h(ne) for ne in ne_typeII_1]"
   ]
  },
  {
   "cell_type": "code",
   "execution_count": null,
   "id": "53250a3d",
   "metadata": {},
   "outputs": [],
   "source": [
    "min_range = -0.5\n",
    "max_range = 3\n",
    "\n",
    "fig = plt.figure(figsize=[10,6])\n",
    "ax = fig.add_subplot(111)\n",
    "ax.pcolormesh(typeII_2_mode3_1s.index, typeII_2_mode3_1s.columns, typeII_2_mode3_1s.values.T,\n",
    "              vmin=min_range, vmax=max_range, cmap='RdYlBu_r')\n",
    "ax.pcolormesh(typeII_2_mode5_1s.index, typeII_2_mode5_1s.columns, typeII_2_mode5_1s.values.T,\n",
    "              vmin=min_range, vmax=max_range, cmap='RdYlBu_r')\n",
    "ax.pcolormesh(typeII_2_mode7_1s.index, typeII_2_mode7_1s.columns, typeII_2_mode7_1s.values.T,\n",
    "              vmin=min_range, vmax=max_range, cmap='RdYlBu_r')\n",
    "ax.set_yscale('log')\n",
    "\n",
    "# Define the custom ticks\n",
    "custom_ticks = [10, 20, 30, 40, 50, 60, 70, 80, 90, 100, 200]\n",
    "ax.set_yticks(custom_ticks)\n",
    "ax.set_yticklabels([str(tick) for tick in custom_ticks])\n",
    "ax.yaxis.set_minor_locator(AutoMinorLocator(n=10))\n",
    "ax.set_xlabel('Time (UT)')\n",
    "ax.set_ylabel('Frequency (MHz)')\n",
    "ax.xaxis_date()\n",
    "ax.xaxis.set_major_formatter(mdates.DateFormatter('%H:%M'))\n",
    "ax.set_ylim(190, 45)\n",
    "\n",
    "# List to store coordinates\n",
    "typeII_2_f_t_points = []\n",
    "\n",
    "# Function to be called when a mouse button is pressed\n",
    "def onclick(event):\n",
    "    if event.inaxes == ax:\n",
    "        if event.button == 1:  # Left mouse button\n",
    "            # Get the x and y coordinates\n",
    "            x, y = event.xdata, event.ydata\n",
    "            typeII_2_f_t_points.append((x, y))\n",
    "            ax.plot(x, y, 'ko')  # Mark the point with a dot\n",
    "            fig.canvas.draw()\n",
    "        elif event.button == 3:  # Right mouse button\n",
    "            # Disconnect the click event and exit the canvas\n",
    "            fig.canvas.mpl_disconnect(cid)\n",
    "\n",
    "# Connect the click event to the onclick function\n",
    "cid = fig.canvas.mpl_connect('button_press_event', onclick)\n",
    "plt.show()"
   ]
  },
  {
   "cell_type": "code",
   "execution_count": null,
   "id": "5c416dd1",
   "metadata": {},
   "outputs": [],
   "source": [
    "df_typeII_2_f_t = pd.DataFrame(typeII_2_f_t_points, columns=['time','frequency'])\n",
    "df_typeII_2_f_t.head()"
   ]
  },
  {
   "cell_type": "code",
   "execution_count": null,
   "id": "ee7ccd22-1d9b-4bad-8454-3b2a07b2177a",
   "metadata": {},
   "outputs": [],
   "source": [
    "# Convert frequencies to electron densities\n",
    "ne_typeII_2 = freq_to_n(df_typeII_2_f_t['frequency'].values*10**6)\n",
    "\n",
    "# Convert electron densities to radial distances\n",
    "r_typeII_2 = [invert_newkirk_h(ne) for ne in ne_typeII_2]"
   ]
  },
  {
   "cell_type": "code",
   "execution_count": null,
   "id": "c8655344-60e9-42c7-bb56-33432c5b353f",
   "metadata": {},
   "outputs": [],
   "source": [
    "min_range = -0.5\n",
    "max_range = 3\n",
    "\n",
    "fig = plt.figure(figsize=[10,6])\n",
    "ax = fig.add_subplot(111)\n",
    "ax.pcolormesh(typeII_3_mode3_1s.index, typeII_3_mode3_1s.columns, typeII_3_mode3_1s.values.T,\n",
    "              vmin=min_range, vmax=max_range, cmap='RdYlBu_r')\n",
    "ax.pcolormesh(typeII_3_mode5_1s.index, typeII_3_mode5_1s.columns, typeII_3_mode5_1s.values.T,\n",
    "              vmin=min_range, vmax=max_range, cmap='RdYlBu_r')\n",
    "ax.pcolormesh(typeII_3_mode7_1s.index, typeII_3_mode7_1s.columns, typeII_3_mode7_1s.values.T,\n",
    "              vmin=min_range, vmax=max_range, cmap='RdYlBu_r')\n",
    "ax.set_yscale('log')\n",
    "\n",
    "# Define the custom ticks\n",
    "custom_ticks = [10, 20, 30, 40, 50, 60, 70, 80, 90, 100, 200]\n",
    "ax.set_yticks(custom_ticks)\n",
    "ax.set_yticklabels([str(tick) for tick in custom_ticks])\n",
    "ax.yaxis.set_minor_locator(AutoMinorLocator(n=10))\n",
    "ax.set_xlabel('Time (UT)')\n",
    "ax.set_ylabel('Frequency (MHz)')\n",
    "ax.xaxis_date()\n",
    "ax.xaxis.set_major_formatter(mdates.DateFormatter('%H:%M'))\n",
    "ax.set_ylim(90, 20)\n",
    "\n",
    "# List to store coordinates\n",
    "typeII_3_f_t_points = []\n",
    "\n",
    "# Function to be called when a mouse button is pressed\n",
    "def onclick(event):\n",
    "    if event.inaxes == ax:\n",
    "        if event.button == 1:  # Left mouse button\n",
    "            # Get the x and y coordinates\n",
    "            x, y = event.xdata, event.ydata\n",
    "            typeII_3_f_t_points.append((x, y))\n",
    "            ax.plot(x, y, 'ko')  # Mark the point with a dot\n",
    "            fig.canvas.draw()\n",
    "        elif event.button == 3:  # Right mouse button\n",
    "            # Disconnect the click event and exit the canvas\n",
    "            fig.canvas.mpl_disconnect(cid)\n",
    "\n",
    "# Connect the click event to the onclick function\n",
    "cid = fig.canvas.mpl_connect('button_press_event', onclick)\n",
    "plt.show()"
   ]
  },
  {
   "cell_type": "code",
   "execution_count": null,
   "id": "9fedc747-e928-42ea-ae7f-9d888fe63510",
   "metadata": {},
   "outputs": [],
   "source": [
    "df_typeII_3_f_t = pd.DataFrame(typeII_3_f_t_points, columns=['time','frequency'])\n",
    "df_typeII_3_f_t.head()"
   ]
  },
  {
   "cell_type": "code",
   "execution_count": null,
   "id": "4245b7aa-7280-4471-8a88-eb63bb284ab3",
   "metadata": {},
   "outputs": [],
   "source": [
    "# Convert frequencies to electron densities\n",
    "ne_typeII_3 = freq_to_n(df_typeII_3_f_t['frequency'].values*10**6)\n",
    "\n",
    "# Convert electron densities to radial distances\n",
    "r_typeII_3 = [invert_newkirk_h(ne) for ne in ne_typeII_3]"
   ]
  },
  {
   "cell_type": "code",
   "execution_count": null,
   "id": "e213ac95-655c-4d6f-91da-187ea4624ffc",
   "metadata": {},
   "outputs": [],
   "source": [
    "# Ensure all arrays are converted to lists\n",
    "data = {\n",
    "    'time_typeII_1': df_typeII_1_f_t['time'].tolist(),\n",
    "    'freq_typeII_1': df_typeII_1_f_t['frequency'].tolist(),\n",
    "    'ne_typeII_1': list(ne_typeII_1),\n",
    "    'r_typeII_1': list(r_typeII_1),\n",
    "    \n",
    "    'time_typeII_2': df_typeII_2_f_t['time'].tolist(),\n",
    "    'freq_typeII_2': df_typeII_2_f_t['frequency'].tolist(),\n",
    "    'ne_typeII_2': list(ne_typeII_2),\n",
    "    'r_typeII_2': list(r_typeII_2),\n",
    "    \n",
    "    'time_typeII_3': df_typeII_3_f_t['time'].tolist(),\n",
    "    'freq_typeII_3': df_typeII_3_f_t['frequency'].tolist(),\n",
    "    'ne_typeII_3': list(ne_typeII_3),\n",
    "    'r_typeII_3': list(r_typeII_3)\n",
    "}\n",
    "\n",
    "# Find the maximum length\n",
    "max_len = max(len(lst) for lst in data.values())\n",
    "\n",
    "# Extend each list with None to the maximum length\n",
    "for key in data:\n",
    "    data[key] += [None] * (max_len - len(data[key]))\n",
    "\n",
    "# Create the DataFrame and save it to a CSV file\n",
    "df_data = pd.DataFrame(data)\n",
    "df_data.to_csv('./newkirk_typeIIs.csv', index=False)"
   ]
  },
  {
   "cell_type": "code",
   "execution_count": null,
   "id": "ff61e43c",
   "metadata": {},
   "outputs": [],
   "source": [
    "df_data.head()"
   ]
  },
  {
   "cell_type": "code",
   "execution_count": null,
   "id": "1d2649eb",
   "metadata": {
    "scrolled": true
   },
   "outputs": [],
   "source": [
    "list(curves_dict.keys())"
   ]
  },
  {
   "cell_type": "code",
   "execution_count": null,
   "id": "1c62e5a5-df2b-41a0-b3aa-1f508a2789de",
   "metadata": {},
   "outputs": [],
   "source": [
    "newkirk_radial_distances = {}"
   ]
  },
  {
   "cell_type": "code",
   "execution_count": null,
   "id": "51285a0f-e208-49a2-bb3b-fff7dc97773a",
   "metadata": {},
   "outputs": [],
   "source": [
    "Ne_U = []\n",
    "rs_U = []\n",
    "vr_U = []\n",
    "dfdt_U = []\n",
    "\n",
    "Ne_L = []\n",
    "rs_L = []\n",
    "vr_L = []\n",
    "dfdt_L = []\n",
    "\n",
    "# Enter Newkirk model fold number (1, 2, 3 or 4); 1 for quiet Sun, 4 for active regions\n",
    "fold = 1\n",
    "\n",
    "# Enter 1 for fundamental, 2 for harmonic\n",
    "har = 2\n",
    "lane = 3\n",
    "\n",
    "if har == 1:\n",
    "    band = 'f'\n",
    "elif har == 2:\n",
    "    band = 'h'\n",
    "\n",
    "y_coords_U = curves_dict[f'freq_{band}_ufb{lane}']\n",
    "x_coords_U = combined_typeII_df1_1s.index[curves_dict[f'time_{band}_ufb{lane}']] # extract the corresponding timestamps at those indices\n",
    "timedelta_U = x_coords_U - x_coords_U[0] # get the time axis in seconds\n",
    "time_in_seconds_U = np.array(timedelta_U.total_seconds())\n",
    "\n",
    "y_coords_L = curves_dict[f'freq_{band}_lfb{lane}']\n",
    "x_coords_L = combined_typeII_df1_1s.index[curves_dict[f'time_{band}_lfb{lane}']] # extract the corresponding timestamps at those indices\n",
    "timedelta_L = x_coords_L - x_coords_L[0] # get the time axis in seconds\n",
    "time_in_seconds_L = np.array(timedelta_L.total_seconds())\n",
    "\n",
    "\n",
    "\n",
    "for i in range(0, len(y_coords_U)):\n",
    "    ne_U = (y_coords_U[i] / (har * 8.977e-3))**2\n",
    "    Ne_U.append(ne_U) # electron density\n",
    "    \n",
    "    r_newkirk_U = 4.32 / (np.log10(ne_U/(fold * 4.2e4)))\n",
    "    rs_U.append(r_newkirk_U) # radial distance\n",
    "\n",
    "    ne_L = (y_coords_L[i] / (har * 8.977e-3))**2\n",
    "    Ne_L.append(ne_L) # electron density\n",
    "\n",
    "    r_newkirk_L = 4.32 / (np.log10(ne_L/(fold * 4.2e4)))\n",
    "    rs_L.append(r_newkirk_L) # radial distance\n",
    "\n",
    "newkirk_radial_distances[f'rs_{fold}fold_{band}_ufb{lane}'] = rs_U\n",
    "newkirk_radial_distances[f't_{fold}fold_{band}_ufb{lane}'] = x_coords_U\n",
    "\n",
    "newkirk_radial_distances[f'rs_{fold}fold_{band}_lfb{lane}'] = rs_L\n",
    "newkirk_radial_distances[f't_{fold}fold_{band}_lfb{lane}'] = x_coords_L"
   ]
  },
  {
   "cell_type": "code",
   "execution_count": null,
   "id": "8182b7db-0e47-4c2a-8ca4-6075bde81e20",
   "metadata": {},
   "outputs": [],
   "source": [
    "plt.figure(figsize=[12,6])\n",
    "\n",
    "plt.subplot(2,3,1)\n",
    "plt.plot(time_in_seconds_U, y_coords_U, '-*', color='darkorange', label='UFB')\n",
    "plt.plot(time_in_seconds_L, y_coords_L, '-*', color='black', label='LFB')\n",
    "plt.xlabel('Time [s]')\n",
    "plt.ylabel('Plasma frequency [MHz]')\n",
    "plt.legend(loc='upper right')\n",
    "\n",
    "plt.subplot(2,3,2)\n",
    "dfdt_U = np.abs(np.diff(y_coords_U)/np.diff(time_in_seconds_U))\n",
    "dfdt_L = np.abs(np.diff(y_coords_L)/np.diff(time_in_seconds_L))\n",
    "plt.plot(time_in_seconds_U[:-1], dfdt_U, '-^', color='teal', label='UFB')\n",
    "# plt.plot(x_coords_L[:-1], dfdt_L, '-^', color='black', label='LFB')\n",
    "plt.xlabel('Time [s]')\n",
    "plt.ylabel('Frequency Drift [MHz/s]')\n",
    "plt.legend(loc='upper right')\n",
    "\n",
    "plt.subplot(2,3,4)\n",
    "plt.plot(rs_U, y_coords_U, '-x', color='crimson', label='UFB')\n",
    "# plt.plot(rs_L, y_coords_L, '-x', color='black', label='LFB')\n",
    "plt.ylabel('Plasma frequency [MHz]')\n",
    "plt.xlabel('Height [Rsun]')\n",
    "plt.legend(loc='upper right')\n",
    "\n",
    "plt.subplot(2,3,5)\n",
    "plt.plot(rs_U[:-1], dfdt_U, '--o', color='darkorchid', label='UFB')\n",
    "plt.plot(rs_L[:-1], dfdt_L, '--o', color='black', label='LFB')\n",
    "plt.ylabel('Frequency Drift [MHz/s]')\n",
    "plt.xlabel('Height [Rsun]')\n",
    "plt.legend(loc='upper right')\n",
    "\n",
    "plt.subplot(2,3,6)\n",
    "vr_U = (np.diff(rs_U)*696340)/np.diff(time_in_seconds_U) # convert height from Rs to km\n",
    "vr_L = (np.diff(rs_L)*696340)/np.diff(time_in_seconds_L)\n",
    "plt.plot(time_in_seconds_U[:-1], vr_U, '-.o', color='gold', label='UFB')\n",
    "plt.plot(time_in_seconds_L[:-1], vr_L, '-.o', color='black', label='LFB')\n",
    "plt.xlabel('Time [s]')\n",
    "plt.ylabel('Shock Speed [km/s]')\n",
    "plt.legend(loc='upper right')\n",
    "\n",
    "ym_U = np.nanmean(vr_U)\n",
    "ym_L = np.nanmean(vr_L)\n",
    "v1_U = ((rs_U[-1] - rs_U[0])*696340)/(time_in_seconds_U[-1] - time_in_seconds_U[0])\n",
    "v1_L = ((rs_L[-1] - rs_L[0])*696340)/(time_in_seconds_L[-1] - time_in_seconds_L[0])\n",
    "plt.subplot(2,3,3)\n",
    "plt.plot(time_in_seconds_U, rs_U, '-o', color='dodgerblue', label=f'UFB\\nMean = {ym_U:.2f} km/s\\n1st order = {v1_U:.2f} km/s')\n",
    "plt.plot(time_in_seconds_L, rs_L, '-o', color='black', label=f'LFB\\nMean = {ym_L:.2f} km/s\\n1st order = {v1_L:.2f} km/s')\n",
    "plt.xlabel('Time [s]')\n",
    "plt.ylabel('Height [Rsun]')\n",
    "plt.legend()\n",
    "\n",
    "plt.tight_layout()\n",
    "plt.show()"
   ]
  },
  {
   "cell_type": "code",
   "execution_count": null,
   "id": "9bb6f094-074d-4564-a021-372ae0b63753",
   "metadata": {},
   "outputs": [],
   "source": []
  },
  {
   "cell_type": "code",
   "execution_count": null,
   "id": "85bb3bbe-9a84-492f-98c6-5bd126f400d0",
   "metadata": {},
   "outputs": [],
   "source": [
    "df_aia171 = pd.read_csv('./jplot_aia_171_CME_No2.csv')\n",
    "df_aia193 = pd.read_csv('./jplot_aia_193_CME_No2.csv')\n",
    "df_aia211 = pd.read_csv('./jplot_aia_211_CME_No2.csv')\n",
    "\n",
    "df_suvi171 = pd.read_csv('./jplot_suvi_171_CME_No2.csv')\n",
    "df_suvi195 = pd.read_csv('./jplot_suvi_195_CME_No2.csv')\n",
    "df_suvi284 = pd.read_csv('./jplot_suvi_284_CME_No2.csv')"
   ]
  },
  {
   "cell_type": "code",
   "execution_count": null,
   "id": "16a93582-759d-4576-8579-8c49b8d10f5a",
   "metadata": {},
   "outputs": [],
   "source": [
    "def generate_centered_list(center, difference, num_elements):\n",
    "    \"\"\"\n",
    "    Generate a list of numbers centered around a given number with a specified difference\n",
    "    between consecutive numbers.\n",
    "\n",
    "    Parameters:\n",
    "    center (int): The central number around which the list is generated.\n",
    "    difference (int): The difference between consecutive numbers in the list.\n",
    "    num_elements (int): The number of elements before and after the central number.\n",
    "\n",
    "    Returns:\n",
    "    list: A list of numbers centered around the specified central number.\n",
    "    \"\"\"\n",
    "    return [center + difference * i for i in range(-num_elements, num_elements + 1)]\n",
    "\n",
    "\n",
    "centered_list = generate_centered_list(160, 2, 3)"
   ]
  },
  {
   "cell_type": "code",
   "execution_count": null,
   "id": "3d1e58af-ea88-47c1-8210-445054125c12",
   "metadata": {},
   "outputs": [],
   "source": [
    "# Generate gradient colors\n",
    "cmap_radio = plt.get_cmap('Reds')\n",
    "cmap_cme = plt.get_cmap('Blues')\n",
    "\n",
    "# make 3 evenly spaced colors from the colormaps\n",
    "colors_radio = [cmap_radio(i / 4) for i in range(1, 5)]\n",
    "colors171_cme = [cmap_cme(i / len(centered_list)) for i in range(1, len(centered_list)+1)]\n",
    "\n",
    "rsun_aia = 949.556184 # solar radius in arcsec in AIA FOV\n",
    "rsun_suvi = 949.1129337297962\n",
    "\n",
    "fig = plt.figure(figsize=[8,5])\n",
    "ax = fig.add_subplot(111)\n",
    "\n",
    "for i, angle in enumerate(centered_list):\n",
    "    ax.plot(df_aia171[f'x_{angle}deg'], df_aia171[f'y_{angle}deg']/rsun_aia, 'o-', ms=4, color=colors171_cme[i], label=f'Slit {angle}')\n",
    "\n",
    "# cmap_radio_ccuddy = plt.get_cmap('Greens')\n",
    "# colors_radio_ccuddy = [cmap_radio_ccuddy(i / 16) for i in range(1, 16)]\n",
    "# for i in range(1,15):\n",
    "#     df = pd.read_csv(f'./ccuddy/burst{i}.csv')\n",
    "#     x_coords = df.columns.values.astype('float64')\n",
    "#     y_coords = df.values.reshape(-1)\n",
    "#     ax.plot(x_coords, y_coords, 'o-', ms=4, color=colors_radio_ccuddy[i], label=f'Type II no.{i}')\n",
    "\n",
    "for i in range(1, 5):\n",
    "    x_coords = newkirk_radial_distances[f't_{i}fold_{band}_{subband}fb{lane}']\n",
    "    y_coords = newkirk_radial_distances[f'rs_{i}fold_{band}_{subband}fb{lane}']\n",
    "    ax.plot(x_coords, y_coords, 'o-', ms=4, color=colors_radio[i-1], label=str(i)+r'$\\times$Newkirk')\n",
    "\n",
    "ax.legend(bbox_to_anchor=(1.03, 1.1))\n",
    "ax.set_xlabel('Time (UT)')\n",
    "ax.set_ylabel(r'Height ($R_\\odot$)')\n",
    "ax.set_title(r'Newkirk electron-density Model vs. EUV observations from AIA 171 $\\AA$')\n",
    "ax.xaxis_date()\n",
    "ax.xaxis.set_major_formatter(mdates.DateFormatter('%H:%M'))\n",
    "ax.xaxis.set_minor_locator(AutoMinorLocator(n=5))\n",
    "ax.yaxis.set_minor_locator(AutoMinorLocator(n=2))\n",
    "ax.set_xlim(left=pd.Timestamp('2024-05-14 17:16'), right=pd.Timestamp('2024-05-14 17:34'))\n",
    "plt.show()"
   ]
  },
  {
   "cell_type": "code",
   "execution_count": null,
   "id": "782855f7-b3f6-4baf-a4f7-e4ac6cb43048",
   "metadata": {},
   "outputs": [],
   "source": [
    "# Generate gradient colors\n",
    "cmap_radio = plt.get_cmap('Reds')\n",
    "cmap_cme = plt.get_cmap('Blues')\n",
    "\n",
    "# make evenly spaced colors from the colormaps\n",
    "colors_radio = [cmap_radio(i / 4) for i in range(1, 5)]\n",
    "colors193_cme = [cmap_cme(i / len(centered_list)) for i in range(1, len(centered_list)+1)]\n",
    "\n",
    "fig = plt.figure(figsize=[8,5])\n",
    "ax = fig.add_subplot(111)\n",
    "\n",
    "for i, angle in enumerate(centered_list):\n",
    "    ax.plot(df_aia193[f'x_{angle}deg'], df_aia193[f'y_{angle}deg']/rsun_aia, 'o-', ms=4, color=colors193_cme[i], label=f'Slit {angle}')\n",
    "\n",
    "for i in range(1, 5):\n",
    "    x_coords = newkirk_radial_distances[f't_{i}fold_{band}_{subband}fb{lane}']\n",
    "    y_coords = newkirk_radial_distances[f'rs_{i}fold_{band}_{subband}fb{lane}']\n",
    "    ax.plot(x_coords, y_coords, 'o-', ms=4, color=colors_radio[i-1], label=str(i)+r'$\\times$Newkirk')\n",
    "\n",
    "ax.legend(bbox_to_anchor=(1.03, 1.1))\n",
    "ax.set_xlabel('Time (UT)')\n",
    "ax.set_ylabel(r'Height ($R_\\odot$)')\n",
    "ax.set_title(r'Newkirk electron-density Model vs. EUV observations from AIA 193 $\\AA$')\n",
    "ax.xaxis_date()\n",
    "ax.xaxis.set_major_formatter(mdates.DateFormatter('%H:%M'))\n",
    "ax.xaxis.set_minor_locator(AutoMinorLocator(n=5))\n",
    "ax.yaxis.set_minor_locator(AutoMinorLocator(n=2))\n",
    "ax.set_xlim(left=pd.Timestamp('2024-05-14 17:16'), right=pd.Timestamp('2024-05-14 17:34'))\n",
    "plt.show()"
   ]
  },
  {
   "cell_type": "code",
   "execution_count": null,
   "id": "8cde8d86-e51f-4adb-952f-6be344402fec",
   "metadata": {},
   "outputs": [],
   "source": [
    "# Generate gradient colors\n",
    "cmap_radio = plt.get_cmap('Oranges')\n",
    "cmap_cme = plt.get_cmap('Purples')\n",
    "\n",
    "# make evenly spaced colors from the colormaps\n",
    "colors_radio = [cmap_radio(i / 4) for i in range(1, 5)]\n",
    "color_offset = 2\n",
    "colors195_cme = [cmap_cme(i / (len(centered_list)+color_offset)) for i in range(color_offset, len(centered_list)+color_offset)]\n",
    "\n",
    "fig = plt.figure(figsize=[8,5])\n",
    "ax = fig.add_subplot(111)\n",
    "\n",
    "for i, angle in enumerate(centered_list):\n",
    "    ax.plot(df_suvi195[f'x_{angle}deg'], df_suvi195[f'y_{angle}deg']/rsun_suvi, 'o-', ms=4, color=colors195_cme[i], label=f'Slit {angle}')\n",
    "\n",
    "for i in range(1, 5):\n",
    "    x_coords = newkirk_radial_distances[f't_{i}fold_{band}_{subband}fb{lane}']\n",
    "    y_coords = newkirk_radial_distances[f'rs_{i}fold_{band}_{subband}fb{lane}']\n",
    "    ax.plot(x_coords, y_coords, 'o-', ms=4, color=colors_radio[i-1], label=str(i)+r'$\\times$Newkirk')\n",
    "\n",
    "ax.legend(bbox_to_anchor=(1.23, 1.1))\n",
    "ax.set_xlabel('Time (UT)')\n",
    "ax.set_ylabel(r'Height ($R_\\odot$)')\n",
    "ax.set_title(r'Newkirk electron-density Model vs. EUV observations from SUVI 195 $\\AA$')\n",
    "ax.xaxis_date()\n",
    "ax.xaxis.set_major_formatter(mdates.DateFormatter('%H:%M'))\n",
    "ax.xaxis.set_minor_locator(AutoMinorLocator(n=5))\n",
    "ax.yaxis.set_minor_locator(AutoMinorLocator(n=2))\n",
    "ax.set_xlim(left=pd.Timestamp('2024-05-14 17:14'), right=pd.Timestamp('2024-05-14 17:40'))\n",
    "plt.show()"
   ]
  },
  {
   "cell_type": "code",
   "execution_count": null,
   "id": "51c3fdc7-59b0-46ce-9fa4-3fe4ea2c8bdb",
   "metadata": {},
   "outputs": [],
   "source": [
    "list(newkirk_radial_distances.keys())"
   ]
  },
  {
   "cell_type": "code",
   "execution_count": null,
   "id": "769c758d-cc53-4599-8906-ee2a3dcfad1e",
   "metadata": {},
   "outputs": [],
   "source": [
    "band = 'h'\n",
    "subband = 'u'\n",
    "lane = 3\n",
    "\n",
    "cmap_radio = plt.get_cmap('Reds')\n",
    "colors_radio = [cmap_radio(i / 4) for i in range(1, 5)]\n",
    "\n",
    "fig = plt.figure(figsize=[8,5])\n",
    "ax = fig.add_subplot(111)\n",
    "\n",
    "for i in range(1, 5):\n",
    "    x_coords = newkirk_radial_distances[f't_{i}fold_{band}_{subband}fb{lane}']\n",
    "    y_coords = newkirk_radial_distances[f'rs_{i}fold_{band}_{subband}fb{lane}']\n",
    "    ax.plot(x_coords, y_coords, 'o-', ms=4, color=colors_radio[i-1], label=str(i)+r'$\\times$Newkirk')\n",
    "\n",
    "ax.legend()\n",
    "plt.show()"
   ]
  },
  {
   "cell_type": "code",
   "execution_count": null,
   "id": "ffe8141c-e444-4e42-a293-6f037fc4d7ba",
   "metadata": {},
   "outputs": [],
   "source": [
    "band = 'h'\n",
    "subband = 'l'\n",
    "lane = 3\n",
    "\n",
    "cmap_radio = plt.get_cmap('Reds')\n",
    "colors_radio = [cmap_radio(i / 4) for i in range(1, 5)]\n",
    "\n",
    "fig = plt.figure(figsize=[8,5])\n",
    "ax = fig.add_subplot(111)\n",
    "\n",
    "for i in range(1, 5):\n",
    "    x_coords = newkirk_radial_distances[f't_{i}fold_{band}_{subband}fb{lane}']\n",
    "    y_coords = newkirk_radial_distances[f'rs_{i}fold_{band}_{subband}fb{lane}']\n",
    "    ax.plot(x_coords, y_coords, 'o-', ms=4, color=colors_radio[i-1], label=str(i)+r'$\\times$Newkirk')\n",
    "\n",
    "ax.legend()\n",
    "plt.show()"
   ]
  },
  {
   "cell_type": "code",
   "execution_count": null,
   "id": "c00da3b1-09e3-4159-a7f6-d7510735a287",
   "metadata": {},
   "outputs": [],
   "source": []
  },
  {
   "cell_type": "code",
   "execution_count": null,
   "id": "0a9142ed-312d-4dae-b1fa-aef6b5bbfb47",
   "metadata": {},
   "outputs": [],
   "source": []
  }
 ],
 "metadata": {
  "kernelspec": {
   "display_name": "dias",
   "language": "python",
   "name": "dias"
  },
  "language_info": {
   "codemirror_mode": {
    "name": "ipython",
    "version": 3
   },
   "file_extension": ".py",
   "mimetype": "text/x-python",
   "name": "python",
   "nbconvert_exporter": "python",
   "pygments_lexer": "ipython3",
   "version": "3.10.13"
  }
 },
 "nbformat": 4,
 "nbformat_minor": 5
}
