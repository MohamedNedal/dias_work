{
 "cells": [
  {
   "cell_type": "markdown",
   "metadata": {},
   "source": [
    "\n",
    "# Plotting Field Lines from sunkit-magex\n",
    "\n",
    "``sunkit-pyvista`` can be used to plot field lines from ``sunkit-magex``.\n",
    "\n",
    "This example requires the [streamtracer](https://streamtracer.readthedocs.io/en/stable/)_ package.\n"
   ]
  },
  {
   "cell_type": "code",
   "execution_count": 2,
   "metadata": {
    "collapsed": false,
    "jupyter": {
     "outputs_hidden": false
    }
   },
   "outputs": [],
   "source": [
    "import warnings\n",
    "warnings.filterwarnings('ignore')\n",
    "\n",
    "# %matplotlib inline\n",
    "# %matplotlib widget\n",
    "# %matplotlib notebook\n",
    "# import matplotlib\n",
    "# matplotlib.use('nbAgg') # Agg, nbAgg, TkAgg, Qt5Agg, GTK3Agg\n",
    "\n",
    "import pyvista as pv\n",
    "pv.set_jupyter_backend('html') # static, client, server, trame, html\n",
    "pv.start_xvfb()\n",
    "\n",
    "import numpy as np\n",
    "import matplotlib.pyplot as plt\n",
    "from matplotlib import colors\n",
    "\n",
    "import astropy.units as u\n",
    "from astropy.constants import R_sun\n",
    "from astropy.coordinates import SkyCoord\n",
    "\n",
    "import sunpy.map\n",
    "from sunkit_magex import pfss\n",
    "from sunkit_magex.pfss import tracing\n",
    "from sunkit_magex.pfss.sample_data import get_gong_map\n",
    "from sunpy.coordinates import frames\n",
    "\n",
    "from sunkit_pyvista import SunpyPlotter\n",
    "from sunkit_pyvista.sample import LOW_RES_AIA_193"
   ]
  },
  {
   "cell_type": "code",
   "execution_count": 5,
   "metadata": {},
   "outputs": [
    {
     "data": {
      "application/vnd.jupyter.widget-view+json": {
       "model_id": "c6da4a434e494de7bf159505e1c6f4b2",
       "version_major": 2,
       "version_minor": 0
      },
      "text/plain": [
       "EmbeddableWidget(value='<iframe srcdoc=\"<!DOCTYPE html>\\n<html>\\n  <head>\\n    <meta http-equiv=&quot;Content-…"
      ]
     },
     "metadata": {},
     "output_type": "display_data"
    }
   ],
   "source": [
    "plotter = SunpyPlotter()\n",
    "plotter.plot_map(LOW_RES_AIA_193, clip_interval=[1, 99]*u.percent, assume_spherical_screen=False)\n",
    "# plotter.plotter.add_axes(interactive=True, color='black')\n",
    "plotter.plotter.add_axes(interactive=True, line_width=5, color='black',\n",
    "                         x_color='red', y_color='green', z_color='blue')\n",
    "plotter.plotter.set_background(color='Grey')\n",
    "plotter.plot_solar_axis() # Add an arrow to show the solar rotation axis\n",
    "\n",
    "# Set the camera coordinate to view the plot correctly\n",
    "camera_coord = SkyCoord(\n",
    "    0 * u.deg,\n",
    "    0 * u.deg,\n",
    "    6 * R_sun,\n",
    "    frame=frames.HeliographicStonyhurst,\n",
    "    obstime=LOW_RES_AIA_193.date)\n",
    "plotter.set_camera_coordinate(camera_coord)\n",
    "# plotter.plotter.view_xy() # view_xy, view_xz, view_yx, view_yz, view_zx, view_zy\n",
    "# plotter.show(window_size=[400,400], cpos='yz', jupyter_backend='panel')\n",
    "plotter.show()"
   ]
  },
  {
   "cell_type": "code",
   "execution_count": 11,
   "metadata": {},
   "outputs": [
    {
     "name": "stdout",
     "output_type": "stream",
     "text": [
      "INFO: Missing metadata for solar radius: assuming the standard radius of the photosphere. [sunpy.map.mapbase]\n"
     ]
    },
    {
     "data": {
      "application/vnd.jupyter.widget-view+json": {
       "model_id": "395d4712db4c4fa783629124d326ee1b",
       "version_major": 2,
       "version_minor": 0
      },
      "text/plain": [
       "EmbeddableWidget(value='<iframe srcdoc=\"<!DOCTYPE html>\\n<html>\\n  <head>\\n    <meta http-equiv=&quot;Content-…"
      ]
     },
     "metadata": {},
     "output_type": "display_data"
    }
   ],
   "source": [
    "from astropy.utils.data import download_file\n",
    "\n",
    "filename = download_file(\n",
    "    'http://jsoc.stanford.edu/data/hmi/synoptic/hmi.Synoptic_Mr.2191.fits', cache=True)\n",
    "syn_map = sunpy.map.Map(filename)\n",
    "\n",
    "plotter = SunpyPlotter()\n",
    "plotter.plot_map(syn_map, cmap='hmimag', clip_interval=[1, 99]*u.percent, scalar_bar_args={'title': 'Radial Magnetic Field Strength'})\n",
    "plotter.plotter.add_axes(interactive=True, line_width=5, color='black',\n",
    "                         x_color='red', y_color='green', z_color='blue')\n",
    "plotter.plotter.set_background(color='#54596d')\n",
    "camera_coord = SkyCoord(\n",
    "    0 * u.deg,\n",
    "    0 * u.deg,\n",
    "    6 * R_sun,\n",
    "    frame=frames.HeliographicStonyhurst,\n",
    "    obstime=syn_map.date)\n",
    "plotter.set_camera_coordinate(camera_coord)\n",
    "plotter.show()"
   ]
  },
  {
   "cell_type": "code",
   "execution_count": 10,
   "metadata": {},
   "outputs": [
    {
     "name": "stdout",
     "output_type": "stream",
     "text": [
      "INFO: Missing metadata for solar radius: assuming the standard radius of the photosphere. [sunpy.map.mapbase]\n"
     ]
    },
    {
     "data": {
      "application/vnd.jupyter.widget-view+json": {
       "model_id": "8bed8b62bed14d88a186cbba801c5193",
       "version_major": 2,
       "version_minor": 0
      },
      "text/plain": [
       "EmbeddableWidget(value='<iframe srcdoc=\"<!DOCTYPE html>\\n<html>\\n  <head>\\n    <meta http-equiv=&quot;Content-…"
      ]
     },
     "metadata": {},
     "output_type": "display_data"
    }
   ],
   "source": [
    "from sunkit_magex.pfss.sample_data import get_gong_map\n",
    "\n",
    "# load a gong_map from sunkit-magex\n",
    "gong_fname = get_gong_map()\n",
    "gong_map = sunpy.map.Map(gong_fname)\n",
    "\n",
    "plotter = SunpyPlotter()\n",
    "plotter.plot_map(gong_map, cmap='hmimag', clip_interval=[1, 99]*u.percent, scalar_bar_args={'title': 'Radial Magnetic Field Strength'})\n",
    "plotter.plotter.add_axes(interactive=True, line_width=5, color='black',\n",
    "                         x_color='red', y_color='green', z_color='blue')\n",
    "plotter.plotter.set_background(color='#54596d')\n",
    "camera_coord = SkyCoord(\n",
    "    0 * u.deg,\n",
    "    0 * u.deg,\n",
    "    6 * R_sun,\n",
    "    frame=frames.HeliographicStonyhurst,\n",
    "    obstime=gong_map.date)\n",
    "plotter.set_camera_coordinate(camera_coord)\n",
    "plotter.show()"
   ]
  },
  {
   "cell_type": "code",
   "execution_count": 4,
   "metadata": {
    "scrolled": true
   },
   "outputs": [],
   "source": [
    "# [x for x in dir(plotter.plotter) if not x.startswith('_')]"
   ]
  },
  {
   "cell_type": "code",
   "execution_count": null,
   "metadata": {},
   "outputs": [],
   "source": []
  },
  {
   "cell_type": "code",
   "execution_count": null,
   "metadata": {},
   "outputs": [],
   "source": [
    "\n",
    "\n"
   ]
  },
  {
   "cell_type": "markdown",
   "metadata": {},
   "source": [
    "We will be using an AIA 193 image from the sunpy sample data as the base image.\n",
    "\n"
   ]
  },
  {
   "cell_type": "code",
   "execution_count": null,
   "metadata": {
    "collapsed": false,
    "jupyter": {
     "outputs_hidden": false
    }
   },
   "outputs": [
    {
     "name": "stderr",
     "output_type": "stream",
     "text": [
      "ERROR:root:Cannot create GLX context.  Aborting.\n",
      "libGL error: No matching fbConfigs or visuals found\n",
      "libGL error: failed to load driver: swrast\n",
      "\u001b[0m\u001b[31m2024-08-31 17:40:18.674 (   9.323s) [    7FE98BD9D740]vtkXOpenGLRenderWindow.:651    ERR| vtkXOpenGLRenderWindow (0x560e22a81b20): Cannot create GLX context.  Aborting.\u001b[0m\n"
     ]
    }
   ],
   "source": [
    "# Start by creating a plotter\n",
    "plotter = SunpyPlotter()\n",
    "\n",
    "# Plot a map\n",
    "plotter.plot_map(LOW_RES_AIA_193, clip_interval=[1, 99]*u.percent, assume_spherical_screen=False)\n",
    "# Add an arrow to show the solar rotation axis\n",
    "plotter.plot_solar_axis()\n",
    "plotter.show()"
   ]
  },
  {
   "cell_type": "markdown",
   "metadata": {},
   "source": [
    "We now need to do the magnetic field extrapolation using ``sunkit-magex``.\n",
    "\n"
   ]
  },
  {
   "cell_type": "code",
   "execution_count": 4,
   "metadata": {
    "collapsed": false,
    "jupyter": {
     "outputs_hidden": false
    }
   },
   "outputs": [
    {
     "name": "stdout",
     "output_type": "stream",
     "text": [
      "INFO: Missing metadata for solar radius: assuming the standard radius of the photosphere. [sunpy.map.mapbase]\n"
     ]
    }
   ],
   "source": [
    "# We load a gong_map from sunkit-magex\n",
    "gong_fname = get_gong_map()\n",
    "gong_map = sunpy.map.Map(gong_fname)\n",
    "# Now we plot the Gong Map to fill in the farside.\n",
    "plotter.plot_map(gong_map, cmap=\"hmimag\", clip_interval=[1, 99] * u.percent)"
   ]
  },
  {
   "cell_type": "code",
   "execution_count": 5,
   "metadata": {},
   "outputs": [
    {
     "name": "stderr",
     "output_type": "stream",
     "text": [
      "/mnt/mnedal_data/anaconda3/envs/dias/lib/python3.10/site-packages/sunkit_magex/pfss/tracing.py:181: UserWarning: At least one field line ran out of steps during tracing.\n",
      "You should probably increase max_steps (currently set to auto) and try again.\n",
      "  warnings.warn(\n"
     ]
    }
   ],
   "source": [
    "# Create points spaced between lat={-90, 90} degrees\n",
    "lat = np.linspace(-np.pi / 2, np.pi / 2, 32, endpoint=False)\n",
    "# Create 32 points spaced between long={0, 360} degrees\n",
    "lon = np.linspace(0, 2 * np.pi, 32, endpoint=False)\n",
    "# Make a 2D grid from these 1D points\n",
    "lat, lon = np.meshgrid(lat, lon, indexing=\"ij\")\n",
    "# Create lon, lat and radial coordinate values by using a sunkit-magex\n",
    "# and trace them using tracer\n",
    "lat, lon = lat.ravel() * u.rad, lon.ravel() * u.rad\n",
    "# Define the number of grid points in rho and solar surface radius\n",
    "nrho = 30\n",
    "rss = 1.5\n",
    "input_ = pfss.Input(gong_map, nrho, rss)\n",
    "output_ = pfss.pfss(input_)\n",
    "seeds = SkyCoord(lon, lat, 1.2 * R_sun, frame=gong_map.coordinate_frame)\n",
    "tracer = tracing.FortranTracer()\n",
    "field_lines = tracer.trace(seeds, output_)"
   ]
  },
  {
   "cell_type": "markdown",
   "metadata": {},
   "source": [
    "We can also specify a color function while plotting the field lines.\n",
    "This function takes a single field line, and returns a color either\n",
    "in the form of a string, (r,g,b) or (r,g,b,a) tuple.\n",
    "In this case we use a Matplotlib norm and colormap to return a tuple of RGBA values.\n",
    "\n"
   ]
  },
  {
   "cell_type": "code",
   "execution_count": null,
   "metadata": {
    "collapsed": false,
    "jupyter": {
     "outputs_hidden": false
    }
   },
   "outputs": [
    {
     "name": "stderr",
     "output_type": "stream",
     "text": [
      "ERROR:root:Cannot create GLX context.  Aborting.\n",
      "libGL error: No matching fbConfigs or visuals found\n",
      "libGL error: failed to load driver: swrast\n",
      "\u001b[0m\u001b[31m2024-08-31 01:43:50.501 ( 180.601s) [    7FA772B29740]vtkXOpenGLRenderWindow.:651    ERR| vtkXOpenGLRenderWindow (0x564c2670f760): Cannot create GLX context.  Aborting.\u001b[0m\n"
     ]
    }
   ],
   "source": [
    "def my_fline_color_func(field_line):\n",
    "    norm = colors.LogNorm(vmin=1, vmax=1000)\n",
    "    cmap = plt.get_cmap(\"viridis\")\n",
    "    return cmap(norm(np.abs(field_line.expansion_factor)))\n",
    "\n",
    "# Plotting the field lines\n",
    "plotter.plot_field_lines(field_lines, color_func=my_fline_color_func)\n",
    "\n",
    "# Set the camera coordinate to view the plot correctly\n",
    "camera_coord = SkyCoord(\n",
    "    0 * u.deg,\n",
    "    0 * u.deg,\n",
    "    6 * R_sun,\n",
    "    frame=frames.HeliographicStonyhurst,\n",
    "    obstime=LOW_RES_AIA_193.date\n",
    ")\n",
    "plotter.set_camera_coordinate(camera_coord)\n",
    "plotter.show()"
   ]
  },
  {
   "cell_type": "code",
   "execution_count": null,
   "metadata": {},
   "outputs": [],
   "source": []
  },
  {
   "cell_type": "code",
   "execution_count": null,
   "metadata": {},
   "outputs": [],
   "source": []
  }
 ],
 "metadata": {
  "kernelspec": {
   "display_name": "dias",
   "language": "python",
   "name": "dias"
  },
  "language_info": {
   "codemirror_mode": {
    "name": "ipython",
    "version": 3
   },
   "file_extension": ".py",
   "mimetype": "text/x-python",
   "name": "python",
   "nbconvert_exporter": "python",
   "pygments_lexer": "ipython3",
   "version": "3.10.13"
  }
 },
 "nbformat": 4,
 "nbformat_minor": 4
}
