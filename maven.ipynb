{
 "cells": [
  {
   "cell_type": "markdown",
   "id": "f9c87472-a60b-44ef-95ca-a0b671c56c90",
   "metadata": {},
   "source": [
    "Plot data from MAVEN spacecraft"
   ]
  },
  {
   "cell_type": "code",
   "execution_count": null,
   "id": "98001805-0e41-4714-95a9-4d7ddb504bbf",
   "metadata": {},
   "outputs": [],
   "source": [
    "import warnings\n",
    "warnings.filterwarnings('ignore')\n",
    "\n",
    "import os\n",
    "import datetime\n",
    "import numpy as np\n",
    "import pandas as pd\n",
    "\n",
    "import matplotlib.pyplot as plt\n",
    "from matplotlib.dates import DateFormatter\n",
    "from matplotlib.ticker import ScalarFormatter\n",
    "\n",
    "from astropy import units as u\n",
    "from sunpy import timeseries as ts\n",
    "from sunpy.net import Fido, attrs as a\n",
    "\n",
    "from solarmach import SolarMACH\n",
    "from solo_epd_loader import epd_load\n",
    "\n",
    "import matplotlib as mpl\n",
    "import matplotlib.dates as mdates\n",
    "mpl.rcParams['date.epoch'] = '1970-01-01T00:00:00'\n",
    "try:\n",
    "    mdates.set_epoch('1970-01-01T00:00:00')\n",
    "except:\n",
    "    pass\n",
    "\n",
    "# omit Pandas' PerformanceWarning\n",
    "warnings.simplefilter(action='ignore', category=pd.errors.PerformanceWarning)\n",
    "\n",
    "\n",
    "import warnings\n",
    "warnings.filterwarnings('ignore')\n",
    "\n",
    "import pyspedas\n",
    "pyspedas.set_prefs('data_dir', '/home/mnedal/data')\n",
    "import pytplot\n",
    "from pytplot import tplot\n",
    "from pytplot import get_data\n",
    "from astropy.visualization import ImageNormalize, SqrtStretch, LogStretch, AsinhStretch\n",
    "import os\n",
    "import datetime\n",
    "import numpy as np\n",
    "import pandas as pd\n",
    "import matplotlib.pyplot as plt\n",
    "from matplotlib.dates import DateFormatter\n",
    "import matplotlib as mpl\n",
    "import matplotlib.dates as mdates\n",
    "mpl.rcParams['date.epoch'] = '1970-01-01T00:00:00'\n",
    "try:\n",
    "    mdates.set_epoch('1970-01-01T00:00:00')\n",
    "except:\n",
    "    pass\n",
    "\n",
    "plt.rcParams['figure.dpi'] = 100\n",
    "plt.rcParams['savefig.dpi'] = 100\n",
    "plt.rcParams['figure.facecolor'] = 'white'\n",
    "plt.rcParams['savefig.facecolor'] = 'white'\n",
    "\n",
    "time_range = ['2021-09-17', '2021-09-20']"
   ]
  },
  {
   "cell_type": "code",
   "execution_count": null,
   "id": "4d0a9a93-a09f-4a3f-a206-a422bbd54346",
   "metadata": {},
   "outputs": [],
   "source": []
  },
  {
   "cell_type": "code",
   "execution_count": 1,
   "id": "57d10f0b-7c7b-4bc6-aa52-e54600c33283",
   "metadata": {},
   "outputs": [
    {
     "ename": "ModuleNotFoundError",
     "evalue": "No module named 'bokeh.plotting.figure'",
     "output_type": "error",
     "traceback": [
      "\u001b[0;31m---------------------------------------------------------------------------\u001b[0m",
      "\u001b[0;31mModuleNotFoundError\u001b[0m                       Traceback (most recent call last)",
      "Cell \u001b[0;32mIn[1], line 1\u001b[0m\n\u001b[0;32m----> 1\u001b[0m \u001b[38;5;28;01mimport\u001b[39;00m \u001b[38;5;21;01mpydivide\u001b[39;00m\n",
      "File \u001b[0;32m/mnt/mnedal_data/anaconda3/envs/maven/lib/python3.11/site-packages/pydivide/__init__.py:2\u001b[0m\n\u001b[1;32m      1\u001b[0m \u001b[38;5;66;03m# from .mvn_kp_3d import mvn_kp_3d\u001b[39;00m\n\u001b[0;32m----> 2\u001b[0m \u001b[38;5;28;01mfrom\u001b[39;00m \u001b[38;5;21;01m.\u001b[39;00m\u001b[38;5;21;01maltplot\u001b[39;00m \u001b[38;5;28;01mimport\u001b[39;00m altplot\n\u001b[1;32m      3\u001b[0m \u001b[38;5;28;01mfrom\u001b[39;00m \u001b[38;5;21;01m.\u001b[39;00m\u001b[38;5;21;01mbin\u001b[39;00m \u001b[38;5;28;01mimport\u001b[39;00m \u001b[38;5;28mbin\u001b[39m\n\u001b[1;32m      4\u001b[0m \u001b[38;5;28;01mfrom\u001b[39;00m \u001b[38;5;21;01m.\u001b[39;00m\u001b[38;5;21;01mdownload_files\u001b[39;00m \u001b[38;5;28;01mimport\u001b[39;00m download_files\n",
      "File \u001b[0;32m/mnt/mnedal_data/anaconda3/envs/maven/lib/python3.11/site-packages/pydivide/altplot.py:7\u001b[0m\n\u001b[1;32m      1\u001b[0m \u001b[38;5;66;03m# Copyright 2017 Regents of the University of Colorado. All Rights Reserved.\u001b[39;00m\n\u001b[1;32m      2\u001b[0m \u001b[38;5;66;03m# Released under the MIT license.\u001b[39;00m\n\u001b[1;32m      3\u001b[0m \u001b[38;5;66;03m# This software was developed at the University of Colorado's Laboratory for Atmospheric and Space Physics.\u001b[39;00m\n\u001b[1;32m      4\u001b[0m \u001b[38;5;66;03m# Verify current version before use at: https://github.com/MAVENSDC/Pydivide\u001b[39;00m\n\u001b[1;32m      6\u001b[0m \u001b[38;5;28;01mfrom\u001b[39;00m \u001b[38;5;21;01m.\u001b[39;00m\u001b[38;5;21;01mutilities\u001b[39;00m \u001b[38;5;28;01mimport\u001b[39;00m get_inst_obs_labels, param_list, orbit_time, range_select\n\u001b[0;32m----> 7\u001b[0m \u001b[38;5;28;01mimport\u001b[39;00m \u001b[38;5;21;01mpytplot\u001b[39;00m\n\u001b[1;32m      8\u001b[0m \u001b[38;5;28;01mimport\u001b[39;00m \u001b[38;5;21;01mbuiltins\u001b[39;00m\n\u001b[1;32m     11\u001b[0m \u001b[38;5;28;01mdef\u001b[39;00m \u001b[38;5;21maltplot\u001b[39m(kp, parameter\u001b[38;5;241m=\u001b[39m\u001b[38;5;28;01mNone\u001b[39;00m, time\u001b[38;5;241m=\u001b[39m\u001b[38;5;28;01mNone\u001b[39;00m, errors\u001b[38;5;241m=\u001b[39m\u001b[38;5;28;01mNone\u001b[39;00m,\n\u001b[1;32m     12\u001b[0m             sameplot\u001b[38;5;241m=\u001b[39m\u001b[38;5;28;01mTrue\u001b[39;00m, \u001b[38;5;28mlist\u001b[39m\u001b[38;5;241m=\u001b[39m\u001b[38;5;28;01mFalse\u001b[39;00m, title\u001b[38;5;241m=\u001b[39m\u001b[38;5;124m'\u001b[39m\u001b[38;5;124mAltitude Plot\u001b[39m\u001b[38;5;124m'\u001b[39m,\n\u001b[1;32m     13\u001b[0m             ylog\u001b[38;5;241m=\u001b[39m\u001b[38;5;28;01mFalse\u001b[39;00m, qt\u001b[38;5;241m=\u001b[39m\u001b[38;5;28;01mTrue\u001b[39;00m):\n",
      "File \u001b[0;32m/mnt/mnedal_data/anaconda3/envs/maven/lib/python3.11/site-packages/pytplot/__init__.py:7\u001b[0m\n\u001b[1;32m      1\u001b[0m \u001b[38;5;66;03m# Copyright 2018 Regents of the University of Colorado. All Rights Reserved.\u001b[39;00m\n\u001b[1;32m      2\u001b[0m \u001b[38;5;66;03m# Released under the MIT license.\u001b[39;00m\n\u001b[1;32m      3\u001b[0m \u001b[38;5;66;03m# This software was developed at the University of Colorado's Laboratory for Atmospheric and Space Physics.\u001b[39;00m\n\u001b[1;32m      4\u001b[0m \u001b[38;5;66;03m# Verify current version before use at: https://github.com/MAVENSDC/PyTplot\u001b[39;00m\n\u001b[1;32m      6\u001b[0m \u001b[38;5;28;01mfrom\u001b[39;00m \u001b[38;5;21;01m_collections\u001b[39;00m \u001b[38;5;28;01mimport\u001b[39;00m OrderedDict\n\u001b[0;32m----> 7\u001b[0m \u001b[38;5;28;01mfrom\u001b[39;00m \u001b[38;5;21;01m.\u001b[39;00m \u001b[38;5;28;01mimport\u001b[39;00m HTMLPlotter\n\u001b[1;32m      8\u001b[0m \u001b[38;5;28;01mimport\u001b[39;00m \u001b[38;5;21;01mos\u001b[39;00m\n\u001b[1;32m      9\u001b[0m \u001b[38;5;28;01mimport\u001b[39;00m \u001b[38;5;21;01msys\u001b[39;00m\n",
      "File \u001b[0;32m/mnt/mnedal_data/anaconda3/envs/maven/lib/python3.11/site-packages/pytplot/HTMLPlotter/__init__.py:6\u001b[0m\n\u001b[1;32m      1\u001b[0m \u001b[38;5;66;03m# Copyright 2018 Regents of the University of Colorado. All Rights Reserved.\u001b[39;00m\n\u001b[1;32m      2\u001b[0m \u001b[38;5;66;03m# Released under the MIT license.\u001b[39;00m\n\u001b[1;32m      3\u001b[0m \u001b[38;5;66;03m# This software was developed at the University of Colorado's Laboratory for Atmospheric and Space Physics.\u001b[39;00m\n\u001b[1;32m      4\u001b[0m \u001b[38;5;66;03m# Verify current version before use at: https://github.com/MAVENSDC/PyTplot\u001b[39;00m\n\u001b[0;32m----> 6\u001b[0m \u001b[38;5;28;01mfrom\u001b[39;00m \u001b[38;5;21;01m.\u001b[39;00m\u001b[38;5;21;01mTVarFigure1D\u001b[39;00m \u001b[38;5;28;01mimport\u001b[39;00m TVarFigure1D\n\u001b[1;32m      7\u001b[0m \u001b[38;5;28;01mfrom\u001b[39;00m \u001b[38;5;21;01m.\u001b[39;00m\u001b[38;5;21;01mTVarFigureMap\u001b[39;00m \u001b[38;5;28;01mimport\u001b[39;00m TVarFigureMap\n\u001b[1;32m      8\u001b[0m \u001b[38;5;28;01mfrom\u001b[39;00m \u001b[38;5;21;01m.\u001b[39;00m\u001b[38;5;21;01mTVarFigureAlt\u001b[39;00m \u001b[38;5;28;01mimport\u001b[39;00m TVarFigureAlt\n",
      "File \u001b[0;32m/mnt/mnedal_data/anaconda3/envs/maven/lib/python3.11/site-packages/pytplot/HTMLPlotter/TVarFigure1D.py:8\u001b[0m\n\u001b[1;32m      6\u001b[0m \u001b[38;5;28;01mfrom\u001b[39;00m \u001b[38;5;21;01m__future__\u001b[39;00m \u001b[38;5;28;01mimport\u001b[39;00m division\n\u001b[1;32m      7\u001b[0m \u001b[38;5;28;01mimport\u001b[39;00m \u001b[38;5;21;01mnumpy\u001b[39;00m \u001b[38;5;28;01mas\u001b[39;00m \u001b[38;5;21;01mnp\u001b[39;00m\n\u001b[0;32m----> 8\u001b[0m \u001b[38;5;28;01mfrom\u001b[39;00m \u001b[38;5;21;01mbokeh\u001b[39;00m\u001b[38;5;21;01m.\u001b[39;00m\u001b[38;5;21;01mplotting\u001b[39;00m\u001b[38;5;21;01m.\u001b[39;00m\u001b[38;5;21;01mfigure\u001b[39;00m \u001b[38;5;28;01mimport\u001b[39;00m Figure\n\u001b[1;32m      9\u001b[0m \u001b[38;5;28;01mfrom\u001b[39;00m \u001b[38;5;21;01mbokeh\u001b[39;00m\u001b[38;5;21;01m.\u001b[39;00m\u001b[38;5;21;01mmodels\u001b[39;00m \u001b[38;5;28;01mimport\u001b[39;00m (ColumnDataSource, DatetimeAxis, HoverTool, \n\u001b[1;32m     10\u001b[0m                           Range1d, Span, Title, Legend, BoxAnnotation)\n\u001b[1;32m     11\u001b[0m \u001b[38;5;28;01mfrom\u001b[39;00m \u001b[38;5;21;01mbokeh\u001b[39;00m\u001b[38;5;21;01m.\u001b[39;00m\u001b[38;5;21;01mmodels\u001b[39;00m\u001b[38;5;21;01m.\u001b[39;00m\u001b[38;5;21;01mglyphs\u001b[39;00m \u001b[38;5;28;01mimport\u001b[39;00m Line\n",
      "\u001b[0;31mModuleNotFoundError\u001b[0m: No module named 'bokeh.plotting.figure'"
     ]
    }
   ],
   "source": [
    "import pydivide"
   ]
  },
  {
   "cell_type": "code",
   "execution_count": 3,
   "id": "4d6f6d63-7685-4a52-8f82-649582d0a356",
   "metadata": {},
   "outputs": [
    {
     "data": {
      "text/plain": [
       "'3.6.0'"
      ]
     },
     "execution_count": 3,
     "metadata": {},
     "output_type": "execute_result"
    }
   ],
   "source": [
    "import bokeh\n",
    "bokeh.__version__"
   ]
  },
  {
   "cell_type": "code",
   "execution_count": 2,
   "id": "01013d52-afeb-469d-9b5b-42eebedc1144",
   "metadata": {},
   "outputs": [
    {
     "ename": "ImportError",
     "evalue": "cannot import name 'time_float' from 'pytplot' (/mnt/mnedal_data/anaconda3/envs/maven/lib/python3.11/site-packages/pytplot/__init__.py)",
     "output_type": "error",
     "traceback": [
      "\u001b[0;31m---------------------------------------------------------------------------\u001b[0m",
      "\u001b[0;31mImportError\u001b[0m                               Traceback (most recent call last)",
      "Cell \u001b[0;32mIn[2], line 2\u001b[0m\n\u001b[1;32m      1\u001b[0m \u001b[38;5;66;03m# Plots EUV Bands, LPW LP-IV, and MAG SS data on Jan 01 2015\u001b[39;00m\n\u001b[0;32m----> 2\u001b[0m \u001b[43mpydivide\u001b[49m\u001b[38;5;241;43m.\u001b[39;49m\u001b[43mfullplot\u001b[49m\u001b[43m(\u001b[49m\u001b[43minstruments\u001b[49m\u001b[38;5;241;43m=\u001b[39;49m\u001b[43m[\u001b[49m\u001b[38;5;124;43m'\u001b[39;49m\u001b[38;5;124;43meuv\u001b[39;49m\u001b[38;5;124;43m'\u001b[39;49m\u001b[43m,\u001b[49m\u001b[43m \u001b[49m\u001b[38;5;124;43m'\u001b[39;49m\u001b[38;5;124;43mlpw\u001b[39;49m\u001b[38;5;124;43m'\u001b[39;49m\u001b[43m,\u001b[49m\u001b[43m \u001b[49m\u001b[38;5;124;43m'\u001b[39;49m\u001b[38;5;124;43mmag\u001b[39;49m\u001b[38;5;124;43m'\u001b[39;49m\u001b[43m]\u001b[49m\u001b[43m,\u001b[49m\u001b[43m \u001b[49m\u001b[38;5;28;43mtype\u001b[39;49m\u001b[38;5;241;43m=\u001b[39;49m\u001b[43m[\u001b[49m\u001b[38;5;124;43m'\u001b[39;49m\u001b[38;5;124;43mbands\u001b[39;49m\u001b[38;5;124;43m'\u001b[39;49m\u001b[43m,\u001b[49m\u001b[43m \u001b[49m\u001b[38;5;124;43m'\u001b[39;49m\u001b[38;5;124;43mlpnt\u001b[39;49m\u001b[38;5;124;43m'\u001b[39;49m\u001b[43m,\u001b[49m\u001b[43m \u001b[49m\u001b[38;5;124;43m'\u001b[39;49m\u001b[38;5;124;43mss1s\u001b[39;49m\u001b[38;5;124;43m'\u001b[39;49m\u001b[43m]\u001b[49m\u001b[43m,\u001b[49m\u001b[43m \u001b[49m\u001b[43mstart_date\u001b[49m\u001b[38;5;241;43m=\u001b[39;49m\u001b[38;5;124;43m'\u001b[39;49m\u001b[38;5;124;43m2015-01-01\u001b[39;49m\u001b[38;5;124;43m'\u001b[39;49m\u001b[43m,\u001b[49m\u001b[43m \u001b[49m\u001b[43mend_date\u001b[49m\u001b[38;5;241;43m=\u001b[39;49m\u001b[38;5;124;43m'\u001b[39;49m\u001b[38;5;124;43m2015-01-02\u001b[39;49m\u001b[38;5;124;43m'\u001b[39;49m\u001b[43m)\u001b[49m\n",
      "File \u001b[0;32m/mnt/mnedal_data/anaconda3/envs/maven/lib/python3.11/site-packages/pydivide/fullplot.py:63\u001b[0m, in \u001b[0;36mfullplot\u001b[0;34m(instruments, level, type, start_date, end_date, tplot_names, filenames, insitu, parameter, auto_yes, ylog, zlog)\u001b[0m\n\u001b[1;32m     14\u001b[0m \u001b[38;5;250m\u001b[39m\u001b[38;5;124;03m'''\u001b[39;00m\n\u001b[1;32m     15\u001b[0m \u001b[38;5;124;03mPlot any insitu Level 2 or KP data from MAVEN.  Downloads files found into PySPEDAS and loads them into memory via PyTplot.\u001b[39;00m\n\u001b[1;32m     16\u001b[0m \u001b[38;5;124;03mThen creates an interactive plot window including spectrogram slicer, MAVEN's location and orbit in MSO coordinates, and MAVEN's\u001b[39;00m\n\u001b[0;32m   (...)\u001b[0m\n\u001b[1;32m     60\u001b[0m \u001b[38;5;124;03m    >>> pydivide.fullplot(instruments=['euv', 'lpw', 'mag'], type=['bands', 'lpnt', 'ss1s'], start_date='2015-01-01', end_date='2015-01-02')\u001b[39;00m\n\u001b[1;32m     61\u001b[0m \u001b[38;5;124;03m'''\u001b[39;00m\n\u001b[1;32m     62\u001b[0m \u001b[38;5;28;01mimport\u001b[39;00m \u001b[38;5;21;01mos\u001b[39;00m\n\u001b[0;32m---> 63\u001b[0m \u001b[38;5;28;01mimport\u001b[39;00m \u001b[38;5;21;01mpyspedas\u001b[39;00m\n\u001b[1;32m     64\u001b[0m \u001b[38;5;28;01mimport\u001b[39;00m \u001b[38;5;21;01mpytplot\u001b[39;00m\n\u001b[1;32m     65\u001b[0m \u001b[38;5;28;01mfrom\u001b[39;00m \u001b[38;5;21;01mpyqtgraph\u001b[39;00m\u001b[38;5;21;01m.\u001b[39;00m\u001b[38;5;21;01mQt\u001b[39;00m \u001b[38;5;28;01mimport\u001b[39;00m QtCore, QtGui\n",
      "File \u001b[0;32m/mnt/mnedal_data/anaconda3/envs/maven/lib/python3.11/site-packages/pyspedas/__init__.py:5\u001b[0m\n\u001b[1;32m      1\u001b[0m \u001b[38;5;66;03m# Import pyspedas tools into pyspedas namespace\u001b[39;00m\n\u001b[1;32m      2\u001b[0m \u001b[38;5;66;03m# These are imported as a convenience for pyspedas users.  For internal pyspedas development, it is\u001b[39;00m\n\u001b[1;32m      3\u001b[0m \u001b[38;5;66;03m# probably best to keep using the fully qualified module names.\u001b[39;00m\n\u001b[0;32m----> 5\u001b[0m \u001b[38;5;28;01mfrom\u001b[39;00m \u001b[38;5;21;01m.\u001b[39;00m\u001b[38;5;21;01manalysis\u001b[39;00m\u001b[38;5;21;01m.\u001b[39;00m\u001b[38;5;21;01mavg_data\u001b[39;00m \u001b[38;5;28;01mimport\u001b[39;00m avg_data\n\u001b[1;32m      6\u001b[0m \u001b[38;5;28;01mfrom\u001b[39;00m \u001b[38;5;21;01m.\u001b[39;00m\u001b[38;5;21;01manalysis\u001b[39;00m\u001b[38;5;21;01m.\u001b[39;00m\u001b[38;5;21;01mderiv_data\u001b[39;00m \u001b[38;5;28;01mimport\u001b[39;00m deriv_data\n\u001b[1;32m      7\u001b[0m \u001b[38;5;28;01mfrom\u001b[39;00m \u001b[38;5;21;01m.\u001b[39;00m\u001b[38;5;21;01manalysis\u001b[39;00m\u001b[38;5;21;01m.\u001b[39;00m\u001b[38;5;21;01mtvectot\u001b[39;00m \u001b[38;5;28;01mimport\u001b[39;00m tvectot\n",
      "File \u001b[0;32m/mnt/mnedal_data/anaconda3/envs/maven/lib/python3.11/site-packages/pyspedas/analysis/avg_data.py:11\u001b[0m\n\u001b[1;32m      9\u001b[0m \u001b[38;5;28;01mimport\u001b[39;00m \u001b[38;5;21;01mlogging\u001b[39;00m\n\u001b[1;32m     10\u001b[0m \u001b[38;5;28;01mimport\u001b[39;00m \u001b[38;5;21;01mnumpy\u001b[39;00m \u001b[38;5;28;01mas\u001b[39;00m \u001b[38;5;21;01mnp\u001b[39;00m\n\u001b[0;32m---> 11\u001b[0m \u001b[38;5;28;01mfrom\u001b[39;00m \u001b[38;5;21;01mpytplot\u001b[39;00m \u001b[38;5;28;01mimport\u001b[39;00m store_data, get_data, tnames, time_float\n\u001b[1;32m     14\u001b[0m \u001b[38;5;28;01mdef\u001b[39;00m \u001b[38;5;21mavg_data\u001b[39m(names, trange\u001b[38;5;241m=\u001b[39m[], res\u001b[38;5;241m=\u001b[39m\u001b[38;5;28;01mNone\u001b[39;00m, width\u001b[38;5;241m=\u001b[39m\u001b[38;5;28;01mNone\u001b[39;00m,\n\u001b[1;32m     15\u001b[0m              newname\u001b[38;5;241m=\u001b[39m\u001b[38;5;28;01mNone\u001b[39;00m, new_names\u001b[38;5;241m=\u001b[39m\u001b[38;5;28;01mNone\u001b[39;00m, suffix\u001b[38;5;241m=\u001b[39m\u001b[38;5;28;01mNone\u001b[39;00m, overwrite\u001b[38;5;241m=\u001b[39m\u001b[38;5;28;01mFalse\u001b[39;00m):\n\u001b[1;32m     16\u001b[0m \u001b[38;5;250m    \u001b[39m\u001b[38;5;124;03m\"\"\"\u001b[39;00m\n\u001b[1;32m     17\u001b[0m \u001b[38;5;124;03m    Get a new tplot variable with averaged data.\u001b[39;00m\n\u001b[1;32m     18\u001b[0m \n\u001b[0;32m   (...)\u001b[0m\n\u001b[1;32m     50\u001b[0m \n\u001b[1;32m     51\u001b[0m \u001b[38;5;124;03m    \"\"\"\u001b[39;00m\n",
      "\u001b[0;31mImportError\u001b[0m: cannot import name 'time_float' from 'pytplot' (/mnt/mnedal_data/anaconda3/envs/maven/lib/python3.11/site-packages/pytplot/__init__.py)"
     ]
    }
   ],
   "source": [
    "# Plots EUV Bands, LPW LP-IV, and MAG SS data on Jan 01 2015\n",
    "pydivide.fullplot(instruments=['euv', 'lpw', 'mag'], type=['bands', 'lpnt', 'ss1s'], start_date='2015-01-01', end_date='2015-01-02')"
   ]
  },
  {
   "cell_type": "code",
   "execution_count": 1,
   "id": "b88d7acb-2df3-4774-99fb-96a21c43398c",
   "metadata": {},
   "outputs": [
    {
     "name": "stdout",
     "output_type": "stream",
     "text": [
      "2.4.3\n"
     ]
    }
   ],
   "source": [
    "import bokeh\n",
    "print(bokeh.__version__)"
   ]
  },
  {
   "cell_type": "code",
   "execution_count": null,
   "id": "d1eb44cf-a0b1-4c74-ba63-ac0be3bb535b",
   "metadata": {},
   "outputs": [],
   "source": []
  },
  {
   "cell_type": "code",
   "execution_count": null,
   "id": "766c4ecd-055b-465c-87ba-26917d27ccad",
   "metadata": {},
   "outputs": [],
   "source": []
  },
  {
   "cell_type": "code",
   "execution_count": null,
   "id": "fca14fa0-6a08-4a5f-a6d8-c5a2de97dc76",
   "metadata": {},
   "outputs": [],
   "source": []
  },
  {
   "cell_type": "code",
   "execution_count": null,
   "id": "0a83e188-7f32-44a9-867d-31845cf2d7ac",
   "metadata": {},
   "outputs": [],
   "source": []
  },
  {
   "cell_type": "code",
   "execution_count": null,
   "id": "224cfdf0-e0aa-474c-a462-fd8c7534fbb8",
   "metadata": {},
   "outputs": [],
   "source": []
  }
 ],
 "metadata": {
  "kernelspec": {
   "display_name": "maven",
   "language": "python",
   "name": "maven"
  },
  "language_info": {
   "codemirror_mode": {
    "name": "ipython",
    "version": 3
   },
   "file_extension": ".py",
   "mimetype": "text/x-python",
   "name": "python",
   "nbconvert_exporter": "python",
   "pygments_lexer": "ipython3",
   "version": "3.11.10"
  }
 },
 "nbformat": 4,
 "nbformat_minor": 5
}
