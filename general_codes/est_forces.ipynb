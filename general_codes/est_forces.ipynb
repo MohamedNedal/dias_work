{
 "cells": [
  {
   "cell_type": "code",
   "execution_count": null,
   "metadata": {},
   "outputs": [],
   "source": []
  },
  {
   "cell_type": "code",
   "execution_count": 17,
   "metadata": {},
   "outputs": [],
   "source": [
    "import numpy as np\n",
    "import matplotlib.pyplot as plt"
   ]
  },
  {
   "cell_type": "code",
   "execution_count": null,
   "metadata": {},
   "outputs": [],
   "source": []
  },
  {
   "cell_type": "code",
   "execution_count": 1,
   "metadata": {},
   "outputs": [],
   "source": [
    "def van_der_waals_force(n, epsilon, sigma, r):\n",
    "    \"\"\"\n",
    "    Calculate the Van der Waals forces between 'n' particles using the Lennard-Jones potential.\n",
    "\n",
    "    Parameters:\n",
    "        n (int): Number of particles.\n",
    "        epsilon (float): Depth of the potential well (in joules), representing the strength of the interaction.\n",
    "        sigma (float): Finite distance (in meters) at which the inter-particle potential is zero, representing the finite size of the particles.\n",
    "        r (float): Distance (in meters) between the particles.\n",
    "\n",
    "    Returns:\n",
    "        float: The magnitude of the Van der Waals forces (in newtons) between the particles.\n",
    "    \"\"\"\n",
    "    vdw_force = 4 * epsilon * ((sigma / r) ** 12 - (sigma / r) ** 6) / r\n",
    "    return vdw_force\n",
    "\n",
    "\n",
    "\n",
    "def dipole_dipole_force(n, k, mu1, mu2, r):\n",
    "    \"\"\"\n",
    "    Calculate the dipole-dipole forces between 'n' polar molecules.\n",
    "\n",
    "    Parameters:\n",
    "        n (int): Number of polar molecules.\n",
    "        k (float): Coulomb's constant (~8.99 x 10^9 N m^2/C^2).\n",
    "        mu1 (float): Magnitude of the dipole moment (in C m) of the first molecule.\n",
    "        mu2 (float): Magnitude of the dipole moment (in C m) of the second molecule.\n",
    "        r (float): Distance (in meters) between the dipoles.\n",
    "\n",
    "    Returns:\n",
    "        float: The magnitude of the dipole-dipole forces (in newtons) between the molecules.\n",
    "    \"\"\"\n",
    "    dipole_force = (k * mu1 * mu2) / r**3\n",
    "    return dipole_force\n",
    "\n",
    "\n",
    "\n",
    "def hydrogen_bonding_force(n, k, q_hydrogen, q_electronegative, r):\n",
    "    \"\"\"\n",
    "    Calculate the hydrogen bonding forces between 'n' molecules.\n",
    "\n",
    "    Parameters:\n",
    "        n (int): Number of molecules.\n",
    "        k (float): Coulomb's constant (~8.99 x 10^9 N m^2/C^2).\n",
    "        q_hydrogen (float): Magnitude of the partial charge (in coulombs) on the hydrogen atom.\n",
    "        q_electronegative (float): Magnitude of the partial charge (in coulombs) on the electronegative atom.\n",
    "        r (float): Distance (in meters) between the atoms involved in hydrogen bonding.\n",
    "\n",
    "    Returns:\n",
    "        float: The magnitude of the hydrogen bonding forces (in newtons) between the molecules.\n",
    "    \"\"\"\n",
    "    hydrogen_bond_force = (k * q_hydrogen * q_electronegative) / r**2\n",
    "    return hydrogen_bond_force\n",
    "\n",
    "\n",
    "\n",
    "def calculate_interactions(n):\n",
    "    \"\"\"\n",
    "    Calculate the number of pairwise interactions between 'n' particles.\n",
    "\n",
    "    Parameters:\n",
    "        n (int): Number of particles.\n",
    "\n",
    "    Returns:\n",
    "        int: The number of pairwise interactions between the particles.\n",
    "        \n",
    "    Raises:\n",
    "        ValueError: If 'n' is less than 2, as there must be at least 2 particles for interactions.\n",
    "    \"\"\"\n",
    "    if n < 2:\n",
    "        raise ValueError(\"Number of particles must be at least 2.\")\n",
    "    return n * (n - 1) // 2"
   ]
  },
  {
   "cell_type": "code",
   "execution_count": 24,
   "metadata": {},
   "outputs": [
    {
     "name": "stdout",
     "output_type": "stream",
     "text": [
      "The number of interactions between 3 particles is: 3\n"
     ]
    }
   ],
   "source": [
    "# Test the function with some examples\n",
    "n_particles = 3\n",
    "\n",
    "interactions = calculate_interactions(n_particles)\n",
    "print(f\"The number of interactions between {n_particles} particles is: {interactions}\")"
   ]
  },
  {
   "cell_type": "code",
   "execution_count": 15,
   "metadata": {},
   "outputs": [],
   "source": [
    "n_particles = np.arange(2,11)\n",
    "interactions = []\n",
    "for n in n_particles:\n",
    "    interactions.append(calculate_interactions(n))"
   ]
  },
  {
   "cell_type": "code",
   "execution_count": 20,
   "metadata": {},
   "outputs": [
    {
     "data": {
      "image/png": "[encoded data removed]",
      "text/plain": [
       "<Figure size 432x288 with 1 Axes>"
      ]
     },
     "metadata": {
      "needs_background": "light"
     },
     "output_type": "display_data"
    }
   ],
   "source": [
    "plt.plot(n_particles, interactions, 'o-')\n",
    "plt.xlabel('Number of particles')\n",
    "plt.ylabel('Number of pairs')\n",
    "plt.show()"
   ]
  },
  {
   "cell_type": "code",
   "execution_count": null,
   "metadata": {},
   "outputs": [],
   "source": []
  }
 ],
 "metadata": {
  "kernelspec": {
   "display_name": "Python 3 (ipykernel)",
   "language": "python",
   "name": "python3"
  },
  "language_info": {
   "codemirror_mode": {
    "name": "ipython",
    "version": 3
   },
   "file_extension": ".py",
   "mimetype": "text/x-python",
   "name": "python",
   "nbconvert_exporter": "python",
   "pygments_lexer": "ipython3",
   "version": "3.7.3"
  }
 },
 "nbformat": 4,
 "nbformat_minor": 2
}
