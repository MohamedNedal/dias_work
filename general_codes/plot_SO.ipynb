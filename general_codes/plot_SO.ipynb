{
 "cells": [
  {
   "cell_type": "markdown",
   "metadata": {},
   "source": [
    "Download and plot the radio dynamic spectrum from Solar Orbiter"
   ]
  },
  {
   "cell_type": "code",
   "execution_count": 15,
   "metadata": {},
   "outputs": [],
   "source": [
    "import warnings\n",
    "warnings.filterwarnings('ignore')\n",
    "\n",
    "import os\n",
    "import sunpy_soar\n",
    "from sunpy.net import Fido, attrs as a\n",
    "from radiospectra.spectrogram import Spectrogram\n",
    "\n",
    "from matplotlib.dates import DateFormatter\n",
    "myFmt_time = DateFormatter('%H:%M')\n",
    "\n",
    "import numpy as np\n",
    "import matplotlib.dates as mdates\n",
    "import matplotlib as mpl\n",
    "mpl.rcParams['date.epoch'] = '1970-01-01T00:00:00'\n",
    "try:\n",
    "    mdates.set_epoch('1970-01-01T00:00:00')\n",
    "except:\n",
    "    pass\n",
    "\n",
    "import matplotlib.pyplot as plt\n",
    "plt.rcParams['figure.dpi'] = 100\n",
    "plt.rcParams['figure.facecolor'] = 'white'\n",
    "plt.rcParams['savefig.dpi'] = 300\n",
    "plt.rcParams['savefig.format'] = 'png'\n",
    "plt.rcParams['savefig.facecolor'] = 'white'"
   ]
  },
  {
   "cell_type": "code",
   "execution_count": 44,
   "metadata": {},
   "outputs": [
    {
     "data": {
      "text/html": [
       "Results from 1 Provider:</br></br>2 Results from the SOARClient:</br><div><i>QueryResponseTable length=2</i>\n",
       "<table id=\"table140388324991136\" class=\"table-striped table-bordered table-condensed\">\n",
       "<thead><tr><th>Instrument</th><th>Data product</th><th>Level</th><th>Start time</th><th>End time</th><th>Data item ID</th><th>Filename</th><th>Filesize</th><th>SOOP Name</th></tr></thead>\n",
       "<thead><tr><th></th><th></th><th></th><th></th><th></th><th></th><th></th><th>Mbyte</th><th></th></tr></thead>\n",
       "<thead><tr><th>str3</th><th>str12</th><th>str2</th><th>str23</th><th>str23</th><th>str29</th><th>str37</th><th>float64</th><th>object</th></tr></thead>\n",
       "<tr><td>RPW</td><td>rpw-hfr-surv</td><td>L2</td><td>2022-12-01 00:00:00.000</td><td>2022-12-02 00:00:00.000</td><td>solo_L2_rpw-hfr-surv_20221201</td><td>solo_L2_rpw-hfr-surv_20221201_V02.cdf</td><td>141.459</td><td>None</td></tr>\n",
       "<tr><td>RPW</td><td>rpw-hfr-surv</td><td>L2</td><td>2022-12-02 00:00:00.000</td><td>2022-12-03 00:00:00.000</td><td>solo_L2_rpw-hfr-surv_20221202</td><td>solo_L2_rpw-hfr-surv_20221202_V02.cdf</td><td>90.685</td><td>None</td></tr>\n",
       "</table></div></br>"
      ],
      "text/plain": [
       "<sunpy.net.fido_factory.UnifiedResponse object at 0x7faeb626d100>\n",
       "Results from 1 Provider:\n",
       "\n",
       "2 Results from the SOARClient:\n",
       "\n",
       "Instrument Data product Level        Start time               End time        Filesize SOOP Name\n",
       "                                                                               Mbyte            \n",
       "---------- ------------ ----- ----------------------- ----------------------- -------- ---------\n",
       "       RPW rpw-hfr-surv    L2 2022-12-01 00:00:00.000 2022-12-02 00:00:00.000  141.459      None\n",
       "       RPW rpw-hfr-surv    L2 2022-12-02 00:00:00.000 2022-12-03 00:00:00.000   90.685      None\n"
      ]
     },
     "metadata": {},
     "output_type": "display_data"
    }
   ],
   "source": [
    "query = Fido.search(a.Time('2022-12-01', '2022-12-02'),\n",
    "                    a.Instrument('RPW'),\n",
    "                    a.Level(2),\n",
    "                    a.soar.Product('RPW-HFR-SURV')) # RPW-HFR-SURV, RPW-TNR-SURV\n",
    "display(query)"
   ]
  },
  {
   "cell_type": "code",
   "execution_count": 45,
   "metadata": {},
   "outputs": [
    {
     "data": {
      "application/vnd.jupyter.widget-view+json": {
       "model_id": "03471c0c1dc9423dab27cafb928bf014",
       "version_major": 2,
       "version_minor": 0
      },
      "text/plain": [
       "Files Downloaded:   0%|          | 0/2 [00:00<?, ?file/s]"
      ]
     },
     "metadata": {},
     "output_type": "display_data"
    },
    {
     "data": {
      "application/vnd.jupyter.widget-view+json": {
       "model_id": "795e9698e5ad4336b76c08ca8d717f5f",
       "version_major": 2,
       "version_minor": 0
      },
      "text/plain": [
       "solo_L2_rpw-hfr-surv_20221201_V02.cdf:   0%|          | 0.00/141M [00:00<?, ?B/s]"
      ]
     },
     "metadata": {},
     "output_type": "display_data"
    },
    {
     "data": {
      "application/vnd.jupyter.widget-view+json": {
       "model_id": "f5c8f6fd264c48a6833f96c98f9cb540",
       "version_major": 2,
       "version_minor": 0
      },
      "text/plain": [
       "solo_L2_rpw-hfr-surv_20221202_V02.cdf:   0%|          | 0.00/90.7M [00:00<?, ?B/s]"
      ]
     },
     "metadata": {},
     "output_type": "display_data"
    }
   ],
   "source": [
    "downloaded = Fido.fetch(query[0], path='./{instrument}/{file}')"
   ]
  },
  {
   "cell_type": "code",
   "execution_count": 46,
   "metadata": {},
   "outputs": [
    {
     "data": {
      "text/plain": [
       "<parfive.results.Results object at 0x7faeb43f6df0>\n",
       "['RPW/solo_L2_rpw-hfr-surv_20221201_V02.cdf', 'RPW/solo_L2_rpw-hfr-surv_20221202_V02.cdf']"
      ]
     },
     "execution_count": 46,
     "metadata": {},
     "output_type": "execute_result"
    }
   ],
   "source": [
    "downloaded"
   ]
  },
  {
   "cell_type": "code",
   "execution_count": 47,
   "metadata": {},
   "outputs": [],
   "source": [
    "spec = Spectrogram(downloaded[0])"
   ]
  },
  {
   "cell_type": "code",
   "execution_count": 48,
   "metadata": {},
   "outputs": [
    {
     "data": {
      "text/plain": [
       "<RPWSpectrogram SOLO, RPW, RPW-AGC1 375.0 kHz - 16375.0 kHz, 2022-12-01T00:03:27.107 to 2022-12-01T23:58:24.893>"
      ]
     },
     "execution_count": 48,
     "metadata": {},
     "output_type": "execute_result"
    }
   ],
   "source": [
    "spec[0]"
   ]
  },
  {
   "cell_type": "code",
   "execution_count": 51,
   "metadata": {},
   "outputs": [
    {
     "data": {
      "text/plain": [
       "<matplotlib.collections.QuadMesh at 0x7faeb4fed8e0>"
      ]
     },
     "execution_count": 51,
     "metadata": {},
     "output_type": "execute_result"
    },
    {
     "data": {
      "image/png": "[encoded data removed]",
      "text/plain": [
       "<Figure size 640x480 with 1 Axes>"
      ]
     },
     "metadata": {},
     "output_type": "display_data"
    }
   ],
   "source": [
    "spec[0].plot()"
   ]
  },
  {
   "cell_type": "code",
   "execution_count": 54,
   "metadata": {},
   "outputs": [
    {
     "data": {
      "text/plain": [
       "['data',\n",
       " 'detector',\n",
       " 'end_time',\n",
       " 'frequencies',\n",
       " 'instrument',\n",
       " 'is_datasource_for',\n",
       " 'meta',\n",
       " 'observatory',\n",
       " 'plot',\n",
       " 'plotim',\n",
       " 'start_time',\n",
       " 'times',\n",
       " 'wavelength']"
      ]
     },
     "execution_count": 54,
     "metadata": {},
     "output_type": "execute_result"
    }
   ],
   "source": [
    "[x for x in dir(spec[0]) if not x.startswith('_')]"
   ]
  },
  {
   "cell_type": "code",
   "execution_count": null,
   "metadata": {},
   "outputs": [],
   "source": []
  },
  {
   "cell_type": "code",
   "execution_count": null,
   "metadata": {},
   "outputs": [],
   "source": []
  },
  {
   "cell_type": "code",
   "execution_count": 22,
   "metadata": {},
   "outputs": [
    {
     "data": {
      "text/plain": [
       "(321, 32880)"
      ]
     },
     "execution_count": 22,
     "metadata": {},
     "output_type": "execute_result"
    }
   ],
   "source": [
    "plt.figure(figsize=[12,7])\n",
    "plt.pcolormesh(tt1, np.array(spec[0].frequencies), spec[0].T, \n",
    "              vmin=(np.mean(spec[0].data)-2 * np.std(spec[0].data)), \n",
    "              vmax=(np.mean(spec[0].data)+3 * np.std(spec[0].data)))\n",
    "plt.xlabel('Time')\n",
    "plt.ylabel('Frequency (kHz)')\n",
    "#plt.gca().xaxis.set_major_formatter(DateFormatter('%H:%M'))\n",
    "plt.colorbar()\n",
    "plt.show()"
   ]
  },
  {
   "cell_type": "code",
   "execution_count": 1,
   "metadata": {},
   "outputs": [
    {
     "data": {
      "text/html": [
       "Results from 1 Provider:</br></br>2 Results from the SOARClient:</br><div><i>QueryResponseTable length=2</i>\n",
       "<table id=\"table140037281597856\" class=\"table-striped table-bordered table-condensed\">\n",
       "<thead><tr><th>Instrument</th><th>Data product</th><th>Level</th><th>Start time</th><th>End time</th><th>Data item ID</th><th>Filename</th><th>Filesize</th><th>SOOP Name</th></tr></thead>\n",
       "<thead><tr><th></th><th></th><th></th><th></th><th></th><th></th><th></th><th>Mbyte</th><th></th></tr></thead>\n",
       "<thead><tr><th>str3</th><th>str12</th><th>str2</th><th>str23</th><th>str23</th><th>str29</th><th>str37</th><th>float64</th><th>object</th></tr></thead>\n",
       "<tr><td>RPW</td><td>rpw-hfr-surv</td><td>L2</td><td>2022-12-01 00:00:00.000</td><td>2022-12-02 00:00:00.000</td><td>solo_L2_rpw-hfr-surv_20221201</td><td>solo_L2_rpw-hfr-surv_20221201_V02.cdf</td><td>141.459</td><td>None</td></tr>\n",
       "<tr><td>RPW</td><td>rpw-hfr-surv</td><td>L2</td><td>2022-12-02 00:00:00.000</td><td>2022-12-03 00:00:00.000</td><td>solo_L2_rpw-hfr-surv_20221202</td><td>solo_L2_rpw-hfr-surv_20221202_V02.cdf</td><td>90.685</td><td>None</td></tr>\n",
       "</table></div></br>"
      ],
      "text/plain": [
       "<sunpy.net.fido_factory.UnifiedResponse object at 0x7f5cf86cc460>\n",
       "Results from 1 Provider:\n",
       "\n",
       "2 Results from the SOARClient:\n",
       "\n",
       "Instrument Data product Level        Start time               End time        Filesize SOOP Name\n",
       "                                                                               Mbyte            \n",
       "---------- ------------ ----- ----------------------- ----------------------- -------- ---------\n",
       "       RPW rpw-hfr-surv    L2 2022-12-01 00:00:00.000 2022-12-02 00:00:00.000  141.459      None\n",
       "       RPW rpw-hfr-surv    L2 2022-12-02 00:00:00.000 2022-12-03 00:00:00.000   90.685      None\n"
      ]
     },
     "metadata": {},
     "output_type": "display_data"
    },
    {
     "data": {
      "application/vnd.jupyter.widget-view+json": {
       "model_id": "f5943bc4a6e342c69a12f1b868b334d9",
       "version_major": 2,
       "version_minor": 0
      },
      "text/plain": [
       "Files Downloaded:   0%|          | 0/2 [00:00<?, ?file/s]"
      ]
     },
     "metadata": {},
     "output_type": "display_data"
    },
    {
     "data": {
      "text/plain": [
       "<matplotlib.collections.QuadMesh at 0x7f5cf55abc10>"
      ]
     },
     "execution_count": 1,
     "metadata": {},
     "output_type": "execute_result"
    },
    {
     "data": {
      "image/png": "[encoded data removed]",
      "text/plain": [
       "<Figure size 640x480 with 1 Axes>"
      ]
     },
     "metadata": {},
     "output_type": "display_data"
    }
   ],
   "source": [
    "# Minimum example\n",
    "import sunpy_soar\n",
    "from sunpy.net import Fido, attrs as a\n",
    "from radiospectra.spectrogram import Spectrogram\n",
    "\n",
    "query = Fido.search(a.Time('2022-12-01', '2022-12-02'),\n",
    "                    a.Instrument('RPW'),\n",
    "                    a.Level(2),\n",
    "                    a.soar.Product('RPW-HFR-SURV')) # RPW-HFR-SURV, RPW-TNR-SURV\n",
    "display(query)\n",
    "downloaded = Fido.fetch(query[0], path='./{instrument}/{file}')\n",
    "spec = Spectrogram(downloaded[0])\n",
    "spec[0].plot()"
   ]
  },
  {
   "cell_type": "code",
   "execution_count": null,
   "metadata": {},
   "outputs": [],
   "source": []
  },
  {
   "cell_type": "code",
   "execution_count": 58,
   "metadata": {},
   "outputs": [
    {
     "data": {
      "text/plain": [
       "[(147, 'rpw_bia_density'),\n",
       " (148, 'rpw_bia_density_10_seconds'),\n",
       " (149, 'rpw_bia_density_10_seconds_cdag'),\n",
       " (150, 'rpw_bia_density_cdag'),\n",
       " (151, 'rpw_bia_efield'),\n",
       " (152, 'rpw_bia_efield_10_seconds'),\n",
       " (153, 'rpw_bia_efield_10_seconds_cdag'),\n",
       " (154, 'rpw_bia_efield_cdag'),\n",
       " (155, 'rpw_bia_scpot'),\n",
       " (156, 'rpw_bia_scpot_10_seconds'),\n",
       " (157, 'rpw_bia_scpot_10_seconds_cdag'),\n",
       " (158, 'rpw_bia_scpot_cdag'),\n",
       " (159, 'rpw_hfr_surv'),\n",
       " (160, 'rpw_lfr_surv_asm'),\n",
       " (161, 'rpw_lfr_surv_bp1'),\n",
       " (162, 'rpw_lfr_surv_bp2'),\n",
       " (163, 'rpw_lfr_surv_cwf'),\n",
       " (164, 'rpw_lfr_surv_cwf_b'),\n",
       " (165, 'rpw_lfr_surv_cwf_e'),\n",
       " (166, 'rpw_lfr_surv_cwf_e_cdag'),\n",
       " (167, 'rpw_lfr_surv_swf'),\n",
       " (168, 'rpw_lfr_surv_swf_b'),\n",
       " (169, 'rpw_lfr_surv_swf_e'),\n",
       " (170, 'rpw_lfr_surv_swf_e_cdag'),\n",
       " (171, 'rpw_sbm1'),\n",
       " (172, 'rpw_sbm2'),\n",
       " (173, 'rpw_tds_surv_hist1d'),\n",
       " (174, 'rpw_tds_surv_hist2d'),\n",
       " (175, 'rpw_tds_surv_mamp'),\n",
       " (176, 'rpw_tds_surv_rswf'),\n",
       " (177, 'rpw_tds_surv_rswf_b'),\n",
       " (178, 'rpw_tds_surv_rswf_e'),\n",
       " (179, 'rpw_tds_surv_stat'),\n",
       " (180, 'rpw_tds_surv_tswf'),\n",
       " (181, 'rpw_tds_surv_tswf_b'),\n",
       " (182, 'rpw_tds_surv_tswf_e'),\n",
       " (183, 'rpw_tnr'),\n",
       " (184, 'rpw_tnr_fp'),\n",
       " (185, 'rpw_tnr_surv')]"
      ]
     },
     "execution_count": 58,
     "metadata": {},
     "output_type": "execute_result"
    }
   ],
   "source": [
    "[(i, x) for i, x in enumerate(dir(a.soar.Product)) if x.startswith('rpw')]"
   ]
  },
  {
   "cell_type": "code",
   "execution_count": 70,
   "metadata": {},
   "outputs": [
    {
     "data": {
      "text/plain": [
       "'RPW-HFR-SURV'"
      ]
     },
     "execution_count": 70,
     "metadata": {},
     "output_type": "execute_result"
    }
   ],
   "source": [
    "'rpw_hfr_surv'.replace('_','-').upper()"
   ]
  },
  {
   "cell_type": "code",
   "execution_count": 75,
   "metadata": {},
   "outputs": [
    {
     "data": {
      "text/html": [
       "Results from 1 Provider:</br></br>2 Results from the SOARClient:</br><div><i>QueryResponseTable length=2</i>\n",
       "<table id=\"table140037218061616\" class=\"table-striped table-bordered table-condensed\">\n",
       "<thead><tr><th>Instrument</th><th>Data product</th><th>Level</th><th>Start time</th><th>End time</th><th>Data item ID</th><th>Filename</th><th>Filesize</th><th>SOOP Name</th></tr></thead>\n",
       "<thead><tr><th></th><th></th><th></th><th></th><th></th><th></th><th></th><th>Mbyte</th><th></th></tr></thead>\n",
       "<thead><tr><th>str3</th><th>str16</th><th>str2</th><th>str23</th><th>str23</th><th>str33</th><th>str41</th><th>float64</th><th>object</th></tr></thead>\n",
       "<tr><td>RPW</td><td>rpw-lfr-surv-asm</td><td>L2</td><td>2022-12-01 00:00:00.000</td><td>2022-12-02 00:00:00.000</td><td>solo_L2_rpw-lfr-surv-asm_20221201</td><td>solo_L2_rpw-lfr-surv-asm_20221201_V02.cdf</td><td>8.239</td><td>None</td></tr>\n",
       "<tr><td>RPW</td><td>rpw-lfr-surv-asm</td><td>L2</td><td>2022-12-02 00:00:00.000</td><td>2022-12-03 00:00:00.000</td><td>solo_L2_rpw-lfr-surv-asm_20221202</td><td>solo_L2_rpw-lfr-surv-asm_20221202_V02.cdf</td><td>61.125</td><td>None</td></tr>\n",
       "</table></div></br>"
      ],
      "text/plain": [
       "<sunpy.net.fido_factory.UnifiedResponse object at 0x7f5cf4039af0>\n",
       "Results from 1 Provider:\n",
       "\n",
       "2 Results from the SOARClient:\n",
       "\n",
       "Instrument   Data product   Level        Start time               End time        Filesize SOOP Name\n",
       "                                                                                   Mbyte            \n",
       "---------- ---------------- ----- ----------------------- ----------------------- -------- ---------\n",
       "       RPW rpw-lfr-surv-asm    L2 2022-12-01 00:00:00.000 2022-12-02 00:00:00.000    8.239      None\n",
       "       RPW rpw-lfr-surv-asm    L2 2022-12-02 00:00:00.000 2022-12-03 00:00:00.000   61.125      None\n"
      ]
     },
     "metadata": {},
     "output_type": "display_data"
    },
    {
     "data": {
      "application/vnd.jupyter.widget-view+json": {
       "model_id": "82aa8b6a1de947e5b6507e6bd51a3331",
       "version_major": 2,
       "version_minor": 0
      },
      "text/plain": [
       "Files Downloaded:   0%|          | 0/2 [00:00<?, ?file/s]"
      ]
     },
     "metadata": {},
     "output_type": "display_data"
    },
    {
     "ename": "ValueError",
     "evalue": "Currently radiospectra supports Level 2 HFR survey data the filesolo_L2_rpw-lfr-surv-asm_20221201_V02.cdf is ['RPW-LFR-SURV-ASM>RPW Low Frequency Receiver Average Spectral Matrices data in survey mode']",
     "output_type": "error",
     "traceback": [
      "\u001b[0;31m---------------------------------------------------------------------------\u001b[0m",
      "\u001b[0;31mValueError\u001b[0m                                Traceback (most recent call last)",
      "Cell \u001b[0;32mIn[75], line 10\u001b[0m\n\u001b[1;32m      8\u001b[0m display(query)\n\u001b[1;32m      9\u001b[0m downloaded \u001b[38;5;241m=\u001b[39m Fido\u001b[38;5;241m.\u001b[39mfetch(query[\u001b[38;5;241m0\u001b[39m], path\u001b[38;5;241m=\u001b[39m\u001b[38;5;124m'\u001b[39m\u001b[38;5;124m./\u001b[39m\u001b[38;5;132;01m{instrument}\u001b[39;00m\u001b[38;5;124m/\u001b[39m\u001b[38;5;132;01m{file}\u001b[39;00m\u001b[38;5;124m'\u001b[39m)\n\u001b[0;32m---> 10\u001b[0m spec \u001b[38;5;241m=\u001b[39m \u001b[43mSpectrogram\u001b[49m\u001b[43m(\u001b[49m\u001b[43mdownloaded\u001b[49m\u001b[43m[\u001b[49m\u001b[38;5;241;43m0\u001b[39;49m\u001b[43m]\u001b[49m\u001b[43m)\u001b[49m\n\u001b[1;32m     11\u001b[0m spec[\u001b[38;5;241m0\u001b[39m]\u001b[38;5;241m.\u001b[39mplot()\n",
      "File \u001b[0;32m~/.conda/envs/solo8/lib/python3.9/site-packages/radiospectra/spectrogram/spectrogram_factory.py:188\u001b[0m, in \u001b[0;36mSpectrogramFactory.__call__\u001b[0;34m(self, silence_errors, *args, **kwargs)\u001b[0m\n\u001b[1;32m    167\u001b[0m \u001b[38;5;28;01mdef\u001b[39;00m \u001b[38;5;21m__call__\u001b[39m(\u001b[38;5;28mself\u001b[39m, \u001b[38;5;241m*\u001b[39margs, silence_errors\u001b[38;5;241m=\u001b[39m\u001b[38;5;28;01mFalse\u001b[39;00m, \u001b[38;5;241m*\u001b[39m\u001b[38;5;241m*\u001b[39mkwargs):\n\u001b[1;32m    168\u001b[0m \u001b[38;5;250m    \u001b[39m\u001b[38;5;124;03m\"\"\"\u001b[39;00m\n\u001b[1;32m    169\u001b[0m \u001b[38;5;124;03m    Method for running the factory.\u001b[39;00m\n\u001b[1;32m    170\u001b[0m \n\u001b[0;32m   (...)\u001b[0m\n\u001b[1;32m    186\u001b[0m \u001b[38;5;124;03m    as `memmap` for FITS files.\u001b[39;00m\n\u001b[1;32m    187\u001b[0m \u001b[38;5;124;03m    \"\"\"\u001b[39;00m\n\u001b[0;32m--> 188\u001b[0m     data_header_pairs \u001b[38;5;241m=\u001b[39m \u001b[38;5;28;43mself\u001b[39;49m\u001b[38;5;241;43m.\u001b[39;49m\u001b[43m_parse_args\u001b[49m\u001b[43m(\u001b[49m\u001b[38;5;241;43m*\u001b[39;49m\u001b[43margs\u001b[49m\u001b[43m,\u001b[49m\u001b[43m \u001b[49m\u001b[43msilence_errors\u001b[49m\u001b[38;5;241;43m=\u001b[39;49m\u001b[43msilence_errors\u001b[49m\u001b[43m,\u001b[49m\u001b[43m \u001b[49m\u001b[38;5;241;43m*\u001b[39;49m\u001b[38;5;241;43m*\u001b[39;49m\u001b[43mkwargs\u001b[49m\u001b[43m)\u001b[49m\n\u001b[1;32m    189\u001b[0m     new_maps \u001b[38;5;241m=\u001b[39m \u001b[38;5;28mlist\u001b[39m()\n\u001b[1;32m    190\u001b[0m     \u001b[38;5;66;03m# Loop over each registered type and check to see if WidgetType\u001b[39;00m\n\u001b[1;32m    191\u001b[0m     \u001b[38;5;66;03m# matches the arguments.  If it does, use that type.\u001b[39;00m\n",
      "File \u001b[0;32m~/.conda/envs/solo8/lib/python3.9/site-packages/radiospectra/spectrogram/spectrogram_factory.py:127\u001b[0m, in \u001b[0;36mSpectrogramFactory._parse_args\u001b[0;34m(self, silence_errors, *args, **kwargs)\u001b[0m\n\u001b[1;32m    125\u001b[0m \u001b[38;5;28;01mfor\u001b[39;00m arg \u001b[38;5;129;01min\u001b[39;00m args:\n\u001b[1;32m    126\u001b[0m     \u001b[38;5;28;01mtry\u001b[39;00m:\n\u001b[0;32m--> 127\u001b[0m         data_header_pairs \u001b[38;5;241m+\u001b[39m\u001b[38;5;241m=\u001b[39m \u001b[38;5;28;43mself\u001b[39;49m\u001b[38;5;241;43m.\u001b[39;49m\u001b[43m_parse_arg\u001b[49m\u001b[43m(\u001b[49m\u001b[43marg\u001b[49m\u001b[43m,\u001b[49m\u001b[43m \u001b[49m\u001b[38;5;241;43m*\u001b[39;49m\u001b[38;5;241;43m*\u001b[39;49m\u001b[43mkwargs\u001b[49m\u001b[43m)\u001b[49m\n\u001b[1;32m    128\u001b[0m     \u001b[38;5;28;01mexcept\u001b[39;00m NoSpectrogramInFileError \u001b[38;5;28;01mas\u001b[39;00m e:\n\u001b[1;32m    129\u001b[0m         \u001b[38;5;28;01mif\u001b[39;00m \u001b[38;5;129;01mnot\u001b[39;00m silence_errors:\n",
      "File \u001b[0;32m~/.conda/envs/solo8/lib/python3.9/functools.py:938\u001b[0m, in \u001b[0;36msingledispatchmethod.__get__.<locals>._method\u001b[0;34m(*args, **kwargs)\u001b[0m\n\u001b[1;32m    936\u001b[0m \u001b[38;5;28;01mdef\u001b[39;00m \u001b[38;5;21m_method\u001b[39m(\u001b[38;5;241m*\u001b[39margs, \u001b[38;5;241m*\u001b[39m\u001b[38;5;241m*\u001b[39mkwargs):\n\u001b[1;32m    937\u001b[0m     method \u001b[38;5;241m=\u001b[39m \u001b[38;5;28mself\u001b[39m\u001b[38;5;241m.\u001b[39mdispatcher\u001b[38;5;241m.\u001b[39mdispatch(args[\u001b[38;5;241m0\u001b[39m]\u001b[38;5;241m.\u001b[39m\u001b[38;5;18m__class__\u001b[39m)\n\u001b[0;32m--> 938\u001b[0m     \u001b[38;5;28;01mreturn\u001b[39;00m \u001b[43mmethod\u001b[49m\u001b[38;5;241;43m.\u001b[39;49m\u001b[38;5;21;43m__get__\u001b[39;49m\u001b[43m(\u001b[49m\u001b[43mobj\u001b[49m\u001b[43m,\u001b[49m\u001b[43m \u001b[49m\u001b[38;5;28;43mcls\u001b[39;49m\u001b[43m)\u001b[49m\u001b[43m(\u001b[49m\u001b[38;5;241;43m*\u001b[39;49m\u001b[43margs\u001b[49m\u001b[43m,\u001b[49m\u001b[43m \u001b[49m\u001b[38;5;241;43m*\u001b[39;49m\u001b[38;5;241;43m*\u001b[39;49m\u001b[43mkwargs\u001b[49m\u001b[43m)\u001b[49m\n",
      "File \u001b[0;32m~/.conda/envs/solo8/lib/python3.9/site-packages/radiospectra/spectrogram/spectrogram_factory.py:165\u001b[0m, in \u001b[0;36mSpectrogramFactory._parse_path\u001b[0;34m(self, arg, **kwargs)\u001b[0m\n\u001b[1;32m    163\u001b[0m \u001b[38;5;129m@_parse_arg\u001b[39m\u001b[38;5;241m.\u001b[39mregister(pathlib\u001b[38;5;241m.\u001b[39mPath)\n\u001b[1;32m    164\u001b[0m \u001b[38;5;28;01mdef\u001b[39;00m \u001b[38;5;21m_parse_path\u001b[39m(\u001b[38;5;28mself\u001b[39m, arg, \u001b[38;5;241m*\u001b[39m\u001b[38;5;241m*\u001b[39mkwargs):\n\u001b[0;32m--> 165\u001b[0m     \u001b[38;5;28;01mreturn\u001b[39;00m \u001b[43mparse_path\u001b[49m\u001b[43m(\u001b[49m\u001b[43marg\u001b[49m\u001b[43m,\u001b[49m\u001b[43m \u001b[49m\u001b[38;5;28;43mself\u001b[39;49m\u001b[38;5;241;43m.\u001b[39;49m\u001b[43m_read_file\u001b[49m\u001b[43m,\u001b[49m\u001b[43m \u001b[49m\u001b[38;5;241;43m*\u001b[39;49m\u001b[38;5;241;43m*\u001b[39;49m\u001b[43mkwargs\u001b[49m\u001b[43m)\u001b[49m\n",
      "File \u001b[0;32m~/.conda/envs/solo8/lib/python3.9/site-packages/sunpy/util/io.py:31\u001b[0m, in \u001b[0;36mparse_path\u001b[0;34m(path, f, **kwargs)\u001b[0m\n\u001b[1;32m     29\u001b[0m path \u001b[38;5;241m=\u001b[39m path\u001b[38;5;241m.\u001b[39mexpanduser()\n\u001b[1;32m     30\u001b[0m \u001b[38;5;28;01mif\u001b[39;00m is_file(path):\n\u001b[0;32m---> 31\u001b[0m     \u001b[38;5;28;01mreturn\u001b[39;00m \u001b[43mf\u001b[49m\u001b[43m(\u001b[49m\u001b[43mpath\u001b[49m\u001b[43m,\u001b[49m\u001b[43m \u001b[49m\u001b[38;5;241;43m*\u001b[39;49m\u001b[38;5;241;43m*\u001b[39;49m\u001b[43mkwargs\u001b[49m\u001b[43m)\u001b[49m\n\u001b[1;32m     32\u001b[0m \u001b[38;5;28;01melif\u001b[39;00m is_dir(path):\n\u001b[1;32m     33\u001b[0m     read_files \u001b[38;5;241m=\u001b[39m []\n",
      "File \u001b[0;32m~/.conda/envs/solo8/lib/python3.9/site-packages/radiospectra/spectrogram/spectrogram_factory.py:245\u001b[0m, in \u001b[0;36mSpectrogramFactory._read_file\u001b[0;34m(self, file, **kwargs)\u001b[0m\n\u001b[1;32m    243\u001b[0m     \u001b[38;5;28;01mreturn\u001b[39;00m [\u001b[38;5;28mself\u001b[39m\u001b[38;5;241m.\u001b[39m_read_idl_sav(file, instrument\u001b[38;5;241m=\u001b[39m\u001b[38;5;124m\"\u001b[39m\u001b[38;5;124mwaves\u001b[39m\u001b[38;5;124m\"\u001b[39m)]\n\u001b[1;32m    244\u001b[0m \u001b[38;5;28;01melif\u001b[39;00m first_extension \u001b[38;5;241m==\u001b[39m \u001b[38;5;124m\"\u001b[39m\u001b[38;5;124m.cdf\u001b[39m\u001b[38;5;124m\"\u001b[39m:\n\u001b[0;32m--> 245\u001b[0m     cdf \u001b[38;5;241m=\u001b[39m \u001b[38;5;28;43mself\u001b[39;49m\u001b[38;5;241;43m.\u001b[39;49m\u001b[43m_read_cdf\u001b[49m\u001b[43m(\u001b[49m\u001b[43mfile\u001b[49m\u001b[43m)\u001b[49m\n\u001b[1;32m    246\u001b[0m     \u001b[38;5;28;01mif\u001b[39;00m \u001b[38;5;28misinstance\u001b[39m(cdf, \u001b[38;5;28mlist\u001b[39m):\n\u001b[1;32m    247\u001b[0m         \u001b[38;5;28;01mreturn\u001b[39;00m cdf\n",
      "File \u001b[0;32m~/.conda/envs/solo8/lib/python3.9/site-packages/radiospectra/spectrogram/spectrogram_factory.py:444\u001b[0m, in \u001b[0;36mSpectrogramFactory._read_cdf\u001b[0;34m(file)\u001b[0m\n\u001b[1;32m    442\u001b[0m \u001b[38;5;28;01melif\u001b[39;00m \u001b[38;5;124m\"\u001b[39m\u001b[38;5;124mSOLO\u001b[39m\u001b[38;5;124m\"\u001b[39m \u001b[38;5;129;01min\u001b[39;00m cdf_globals\u001b[38;5;241m.\u001b[39mget(\u001b[38;5;124m\"\u001b[39m\u001b[38;5;124mProject\u001b[39m\u001b[38;5;124m\"\u001b[39m, \u001b[38;5;124m\"\u001b[39m\u001b[38;5;124m\"\u001b[39m)[\u001b[38;5;241m0\u001b[39m]:\n\u001b[1;32m    443\u001b[0m     \u001b[38;5;28;01mif\u001b[39;00m \u001b[38;5;124m\"\u001b[39m\u001b[38;5;124mRPW-HFR-SURV\u001b[39m\u001b[38;5;124m\"\u001b[39m \u001b[38;5;129;01mnot\u001b[39;00m \u001b[38;5;129;01min\u001b[39;00m cdf_globals\u001b[38;5;241m.\u001b[39mget(\u001b[38;5;124m\"\u001b[39m\u001b[38;5;124mDescriptor\u001b[39m\u001b[38;5;124m\"\u001b[39m, \u001b[38;5;124m\"\u001b[39m\u001b[38;5;124m\"\u001b[39m)[\u001b[38;5;241m0\u001b[39m]:\n\u001b[0;32m--> 444\u001b[0m         \u001b[38;5;28;01mraise\u001b[39;00m \u001b[38;5;167;01mValueError\u001b[39;00m(\n\u001b[1;32m    445\u001b[0m             \u001b[38;5;124mf\u001b[39m\u001b[38;5;124m\"\u001b[39m\u001b[38;5;124mCurrently radiospectra supports Level 2 HFR survey data the file\u001b[39m\u001b[38;5;124m\"\u001b[39m\n\u001b[1;32m    446\u001b[0m             \u001b[38;5;124mf\u001b[39m\u001b[38;5;124m'\u001b[39m\u001b[38;5;132;01m{\u001b[39;00mfile\u001b[38;5;241m.\u001b[39mname\u001b[38;5;132;01m}\u001b[39;00m\u001b[38;5;124m is \u001b[39m\u001b[38;5;132;01m{\u001b[39;00mcdf_globals\u001b[38;5;241m.\u001b[39mget(\u001b[38;5;124m\"\u001b[39m\u001b[38;5;124mDescriptor\u001b[39m\u001b[38;5;124m\"\u001b[39m,\u001b[38;5;250m \u001b[39m\u001b[38;5;124m\"\u001b[39m\u001b[38;5;124m\"\u001b[39m)\u001b[38;5;132;01m}\u001b[39;00m\u001b[38;5;124m'\u001b[39m\n\u001b[1;32m    447\u001b[0m         )\n\u001b[1;32m    449\u001b[0m     \u001b[38;5;66;03m# FREQUENCY_BAND_LABELS = [\"HF1\", \"HF2\"]\u001b[39;00m\n\u001b[1;32m    450\u001b[0m     \u001b[38;5;66;03m# SURVEY_MODE_LABELS = [\"SURVEY_NORMAL\", \"SURVEY_BURST\"]\u001b[39;00m\n\u001b[1;32m    451\u001b[0m     \u001b[38;5;66;03m# CHANNEL_LABELS = [\"1\", \"2\"]\u001b[39;00m\n\u001b[1;32m    452\u001b[0m     SENSOR_MAPPING \u001b[38;5;241m=\u001b[39m {\n\u001b[1;32m    453\u001b[0m         \u001b[38;5;241m1\u001b[39m: \u001b[38;5;124m\"\u001b[39m\u001b[38;5;124mV1\u001b[39m\u001b[38;5;124m\"\u001b[39m,\n\u001b[1;32m    454\u001b[0m         \u001b[38;5;241m2\u001b[39m: \u001b[38;5;124m\"\u001b[39m\u001b[38;5;124mV2\u001b[39m\u001b[38;5;124m\"\u001b[39m,\n\u001b[0;32m   (...)\u001b[0m\n\u001b[1;32m    462\u001b[0m         \u001b[38;5;241m11\u001b[39m: \u001b[38;5;124m\"\u001b[39m\u001b[38;5;124mHF_V3-V1\u001b[39m\u001b[38;5;124m\"\u001b[39m,\n\u001b[1;32m    463\u001b[0m     }\n",
      "\u001b[0;31mValueError\u001b[0m: Currently radiospectra supports Level 2 HFR survey data the filesolo_L2_rpw-lfr-surv-asm_20221201_V02.cdf is ['RPW-LFR-SURV-ASM>RPW Low Frequency Receiver Average Spectral Matrices data in survey mode']"
     ]
    }
   ],
   "source": [
    "product = 'rpw-lfr-surv-asm'\n",
    "\n",
    "query = Fido.search(a.Time('2022-12-01', '2022-12-02'),\n",
    "                    a.Instrument('RPW'),\n",
    "                    #a.Level(2),\n",
    "                    a.soar.Product(product)\n",
    "                   )\n",
    "display(query)\n",
    "downloaded = Fido.fetch(query[0], path='./{instrument}/{file}')\n",
    "spec = Spectrogram(downloaded[0])\n",
    "spec[0].plot()"
   ]
  },
  {
   "cell_type": "code",
   "execution_count": null,
   "metadata": {},
   "outputs": [],
   "source": []
  },
  {
   "cell_type": "code",
   "execution_count": null,
   "metadata": {},
   "outputs": [],
   "source": []
  },
  {
   "cell_type": "code",
   "execution_count": null,
   "metadata": {},
   "outputs": [],
   "source": []
  },
  {
   "cell_type": "code",
   "execution_count": null,
   "metadata": {},
   "outputs": [],
   "source": [
    "# Plot all data products\n",
    "data_products = [x for x in dir(a.soar.Product) if x.startswith('rpw')]\n",
    "\n",
    "year = '2021'\n",
    "month = '09'\n",
    "day = '17'\n",
    "\n",
    "for data_product in data_products:\n",
    "    try:\n",
    "        print(data_product)\n",
    "        file_path = f'./RPW/solo_L2_{data_product}_{year}{month}{day}_V03.cdf'\n",
    "        \n",
    "        if not os.path.exists(file_path):\n",
    "            query = Fido.search(a.Time(f'{year}-{month}-{day}', f'{year}-{month}-{int(day)+1}'),\n",
    "                                a.Instrument('RPW'),\n",
    "                                a.Level(2),\n",
    "                                a.soar.Product(data_product.replace('_','-').upper())\n",
    "                               )\n",
    "            display(query)\n",
    "            downloaded = Fido.fetch(query[0], path='./{instrument}/{file}')\n",
    "            spec = Spectrogram(downloaded[0])\n",
    "        else:\n",
    "            spec = Spectrogram(file_path)\n",
    "        spec[0].plot()\n",
    "    except:\n",
    "        print(f'{data_product} is not available!\\n')"
   ]
  },
  {
   "cell_type": "raw",
   "metadata": {},
   "source": [
    "rpw_hfr_surv\n",
    "rpw_tnr\n",
    "rpw_tnr_fp\n",
    "rpw_tnr_surv"
   ]
  },
  {
   "cell_type": "code",
   "execution_count": null,
   "metadata": {},
   "outputs": [],
   "source": [
    "year = '2020'\n",
    "month = '07'\n",
    "day = '01'\n",
    "data_product = 'rpw_hfr_surv'\n",
    "# data_product = 'rpw_tnr'\n",
    "# data_product = 'rpw_tnr_fp'\n",
    "# data_product = 'rpw_tnr_surv'\n",
    "\n",
    "file_path = f'./RPW/solo_L2_{data_product}_{year}{month}{day}_V03.cdf'\n",
    "\n",
    "if not os.path.exists(file_path):\n",
    "    query = Fido.search(a.Time(f'{year}-{month}-{day}', f'{year}-{month}-{int(day)+1}'),\n",
    "                        a.Instrument('RPW'),\n",
    "                        a.Level(2),\n",
    "                        a.soar.Product(data_product.replace('_','-').upper()))\n",
    "    display(query)\n",
    "    downloaded = Fido.fetch(query[0], path='./{instrument}/{file}')\n",
    "    spec = Spectrogram(downloaded[0])\n",
    "else:\n",
    "    spec = Spectrogram(file_path)\n",
    "spec.plot()"
   ]
  },
  {
   "cell_type": "code",
   "execution_count": null,
   "metadata": {},
   "outputs": [],
   "source": []
  },
  {
   "cell_type": "code",
   "execution_count": null,
   "metadata": {},
   "outputs": [],
   "source": [
    "year = '2020'\n",
    "month = '09'\n",
    "days = ['01','03','05','07','09','11','13','15','17','19','21']\n",
    "\n",
    "data_product = 'rpw_hfr_surv'\n",
    "\n",
    "for day in days:\n",
    "    file_path = f'./RPW/solo_L2_{data_product}_{year}{month}{day}_V03.cdf'\n",
    "\n",
    "    if not os.path.exists(file_path):\n",
    "        query = Fido.search(a.Time(f'{year}-{month}-{day}', f'{year}-{month}-{int(day)+1}'),\n",
    "                            a.Instrument('RPW'),\n",
    "                            a.Level(2),\n",
    "                            a.soar.Product(data_product.replace('_','-').upper()))\n",
    "        display(query)\n",
    "        downloaded = Fido.fetch(query[0], path='./{instrument}/{file}')\n",
    "        spec = Spectrogram(downloaded[0])\n",
    "    else:\n",
    "        spec = Spectrogram(file_path)\n",
    "    spec.plot()"
   ]
  },
  {
   "cell_type": "code",
   "execution_count": null,
   "metadata": {},
   "outputs": [],
   "source": []
  },
  {
   "cell_type": "code",
   "execution_count": null,
   "metadata": {},
   "outputs": [],
   "source": []
  },
  {
   "cell_type": "code",
   "execution_count": null,
   "metadata": {},
   "outputs": [],
   "source": []
  },
  {
   "cell_type": "code",
   "execution_count": null,
   "metadata": {},
   "outputs": [],
   "source": []
  },
  {
   "cell_type": "code",
   "execution_count": null,
   "metadata": {},
   "outputs": [],
   "source": []
  },
  {
   "cell_type": "code",
   "execution_count": null,
   "metadata": {},
   "outputs": [],
   "source": []
  },
  {
   "cell_type": "code",
   "execution_count": null,
   "metadata": {},
   "outputs": [],
   "source": []
  },
  {
   "cell_type": "code",
   "execution_count": null,
   "metadata": {},
   "outputs": [],
   "source": []
  },
  {
   "cell_type": "code",
   "execution_count": null,
   "metadata": {},
   "outputs": [],
   "source": []
  },
  {
   "cell_type": "code",
   "execution_count": null,
   "metadata": {},
   "outputs": [],
   "source": []
  },
  {
   "cell_type": "code",
   "execution_count": null,
   "metadata": {},
   "outputs": [],
   "source": []
  },
  {
   "cell_type": "code",
   "execution_count": null,
   "metadata": {},
   "outputs": [],
   "source": []
  },
  {
   "cell_type": "code",
   "execution_count": null,
   "metadata": {},
   "outputs": [],
   "source": []
  },
  {
   "cell_type": "code",
   "execution_count": null,
   "metadata": {},
   "outputs": [],
   "source": []
  }
 ],
 "metadata": {
  "kernelspec": {
   "display_name": "solo_tutorial_gsfc",
   "language": "python",
   "name": "solo_tutorial_gsfc"
  },
  "language_info": {
   "codemirror_mode": {
    "name": "ipython",
    "version": 3
   },
   "file_extension": ".py",
   "mimetype": "text/x-python",
   "name": "python",
   "nbconvert_exporter": "python",
   "pygments_lexer": "ipython3",
   "version": "3.11.0"
  }
 },
 "nbformat": 4,
 "nbformat_minor": 2
}
