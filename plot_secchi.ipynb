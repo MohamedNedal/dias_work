{
 "cells": [
  {
   "cell_type": "code",
   "execution_count": null,
   "id": "ba2ca332-8f9e-4492-a966-a3a6a523ba68",
   "metadata": {
    "editable": true,
    "slideshow": {
     "slide_type": ""
    },
    "tags": []
   },
   "outputs": [],
   "source": [
    "%matplotlib widget\n",
    "\n",
    "import warnings\n",
    "warnings.filterwarnings('ignore')\n",
    "\n",
    "import os\n",
    "import glob\n",
    "import astropy.units as u\n",
    "from astropy.coordinates import SkyCoord\n",
    "from sunpy.map import Map\n",
    "from sunpy.net import Fido, attrs as a\n",
    "from datetime import datetime, timedelta\n",
    "import matplotlib.pyplot as plt\n",
    "from matplotlib.animation import FuncAnimation\n",
    "\n",
    "plt.rcParams['figure.figsize'] = [7,7]\n",
    "plt.rcParams['figure.dpi'] = 100\n",
    "plt.rcParams['savefig.dpi'] = 300\n",
    "plt.rcParams['savefig.format'] = 'png'\n",
    "plt.rcParams['figure.facecolor'] = 'white'\n",
    "plt.rcParams['savefig.facecolor'] = 'white'\n",
    "\n",
    "data_dir = '/home/mnedal/data'\n",
    "savedir = '/home/mnedal/repos/dias_work'\n",
    "\n",
    "# os.makedirs(f'{data_dir}/png/aia/131A/runratio', exist_ok=True)\n",
    "# os.makedirs(f'{data_dir}/png/aia/171A/runratio', exist_ok=True)\n",
    "# os.makedirs(f'{data_dir}/png/aia/193A/runratio', exist_ok=True)\n",
    "# os.makedirs(f'{data_dir}/png/aia/211A/runratio', exist_ok=True)"
   ]
  },
  {
   "cell_type": "code",
   "execution_count": null,
   "id": "4f95d323-bb07-478d-9b85-559060343bb0",
   "metadata": {
    "editable": true,
    "slideshow": {
     "slide_type": ""
    },
    "tags": []
   },
   "outputs": [],
   "source": [
    "start_time = '2024-05-14T17:15:00' # '2024-05-14T17:15:00'\n",
    "end_time   = '2024-05-14T20:00:00' # '2024-05-14T19:00:00'\n",
    "channel = 195\n",
    "\n",
    "# 171, 195, 284, and 304 A"
   ]
  },
  {
   "cell_type": "code",
   "execution_count": null,
   "id": "9c76c831-f6da-4f3d-8eb3-5b1e52bffdda",
   "metadata": {},
   "outputs": [],
   "source": [
    "query = (a.Time(start_time, end_time),\n",
    "         # a.Instrument('SECCHI'),\n",
    "         a.Instrument('EUVI'),\n",
    "         a.Source('STEREO_A'),\n",
    "         a.Wavelength(channel*u.angstrom),\n",
    "         a.Sample(1*u.min)\n",
    "         # a.Level(2)\n",
    "        )"
   ]
  },
  {
   "cell_type": "code",
   "execution_count": null,
   "id": "4d476839-25f4-4a55-b978-47d96961abbb",
   "metadata": {
    "editable": true,
    "slideshow": {
     "slide_type": ""
    },
    "tags": []
   },
   "outputs": [],
   "source": [
    "# stereo_a = Fido.search(a.Time(\"2007/3/1\", \"2007/3/2\"), a.Instrument(\"EUVI\"), a.Satellite(\"STEREO_A\"), a.Source(\"BEACON\"))"
   ]
  },
  {
   "cell_type": "code",
   "execution_count": null,
   "id": "ab55ea07-576d-4e73-aad0-a2f3e8ad734b",
   "metadata": {
    "scrolled": true
   },
   "outputs": [],
   "source": [
    "result = Fido.search(*query)"
   ]
  },
  {
   "cell_type": "code",
   "execution_count": null,
   "id": "3fec90b3-3c1e-4884-bc99-6bf09d218ba2",
   "metadata": {
    "scrolled": true
   },
   "outputs": [],
   "source": [
    "result"
   ]
  },
  {
   "cell_type": "code",
   "execution_count": null,
   "id": "a8bf79bf-7a9f-4d0a-ae05-f69892958703",
   "metadata": {
    "editable": true,
    "slideshow": {
     "slide_type": ""
    },
    "tags": []
   },
   "outputs": [],
   "source": [
    "stereo_query = Fido.fetch(result, path=f'{savedir}/SECCHI/{channel}A/')"
   ]
  },
  {
   "cell_type": "code",
   "execution_count": null,
   "id": "ec81a31f-cb08-40d2-b62b-c615f9997026",
   "metadata": {},
   "outputs": [],
   "source": [
    "stereo_map = stereo_query[0]\n",
    "\n",
    "sta_map = Map(stereo_map)\n",
    "# sta_map.peek()\n",
    "\n",
    "fig = plt.figure(figsize=[7,7])\n",
    "ax = fig.add_subplot(111, projection=sta_map)\n",
    "sta_map.plot(axes=ax)\n",
    "ax.grid(False)\n",
    "fig.tight_layout()\n",
    "plt.show()"
   ]
  },
  {
   "cell_type": "code",
   "execution_count": null,
   "id": "30b59184-3ccf-4cfd-b72f-86504e967047",
   "metadata": {},
   "outputs": [],
   "source": [
    "\n",
    "\n"
   ]
  },
  {
   "cell_type": "markdown",
   "id": "d7649141-f2dc-4399-8e2b-d8bed55149bd",
   "metadata": {},
   "source": [
    "## Import data files"
   ]
  },
  {
   "cell_type": "code",
   "execution_count": null,
   "id": "ead6b353-8ca4-4271-96e2-15fb25d1f312",
   "metadata": {},
   "outputs": [],
   "source": [
    "filenames = sorted(glob.glob(f'{savedir}/SECCHI/{channel}A/*.fts'))\n",
    "stereo_maps = []\n",
    "for file in filenames:\n",
    "    m = Map(file)\n",
    "    stereo_maps.append(m)"
   ]
  },
  {
   "cell_type": "code",
   "execution_count": null,
   "id": "0329f7ac-a47e-415e-ab99-39799456a884",
   "metadata": {
    "editable": true,
    "slideshow": {
     "slide_type": ""
    },
    "tags": []
   },
   "outputs": [],
   "source": [
    "idx = 7\n",
    "m = stereo_maps[idx]\n",
    "\n",
    "top_right   = SkyCoord(-870*u.arcsec, 450*u.arcsec, frame=m.coordinate_frame)\n",
    "bottom_left = SkyCoord(-1000*u.arcsec, 350*u.arcsec, frame=m.coordinate_frame)\n",
    "\n",
    "m_submap = m.submap(bottom_left, top_right=top_right)\n",
    "\n",
    "fig = plt.figure()\n",
    "ax = fig.add_subplot(projection=m_submap)\n",
    "img = m_submap.plot(axes=ax,\n",
    "              # vmin=1e3,\n",
    "              vmax=20e3,\n",
    "              # clip_interval=(1, 99.999)*u.percent\n",
    "             )\n",
    "# fig.colorbar(img, shrink=0.5, pad=0.02)\n",
    "ax.grid(False)\n",
    "fig.tight_layout()\n",
    "plt.show()"
   ]
  },
  {
   "cell_type": "code",
   "execution_count": null,
   "id": "df5390a9-2eca-4801-9221-4bb8b64ed150",
   "metadata": {},
   "outputs": [],
   "source": [
    "\n",
    "\n"
   ]
  },
  {
   "cell_type": "code",
   "execution_count": null,
   "id": "9183670b-b254-4e2e-99e7-d13a039d2dab",
   "metadata": {
    "editable": true,
    "scrolled": true,
    "slideshow": {
     "slide_type": ""
    },
    "tags": []
   },
   "outputs": [],
   "source": [
    "list_submaps = []\n",
    "for m in stereo_maps:\n",
    "    top_right   = SkyCoord(-870*u.arcsec, 550*u.arcsec, frame=m.coordinate_frame)\n",
    "    bottom_left = SkyCoord(-1270*u.arcsec, 200*u.arcsec, frame=m.coordinate_frame)\n",
    "    \n",
    "    # top_right   = SkyCoord(-870*u.arcsec, 450*u.arcsec, frame=m.coordinate_frame)\n",
    "    # bottom_left = SkyCoord(-1000*u.arcsec, 350*u.arcsec, frame=m.coordinate_frame)\n",
    "    \n",
    "    m_submap = m.submap(bottom_left, top_right=top_right)\n",
    "    list_submaps.append(m_submap)\n",
    "\n",
    "maps_seq = Map(list_submaps, sequence=True)"
   ]
  },
  {
   "cell_type": "code",
   "execution_count": null,
   "id": "28b31b74-69df-4b17-be60-f411fb16bcd9",
   "metadata": {
    "editable": true,
    "slideshow": {
     "slide_type": ""
    },
    "tags": []
   },
   "outputs": [],
   "source": [
    "fig = plt.figure()\n",
    "ax = fig.add_subplot(projection=maps_seq.maps[0])\n",
    "\n",
    "def update_frame(i):\n",
    "    \"\"\"\n",
    "    Function to update each frame of the animation.\n",
    "    \"\"\"\n",
    "    maps_seq.maps[i].plot(axes=ax,\n",
    "                          vmax=20e3,\n",
    "                          # clip_interval=(1, 99.999)*u.percent\n",
    "                         )\n",
    "    ax.grid(False)\n",
    "\n",
    "ani = FuncAnimation(fig, update_frame, frames=len(maps_seq.maps), repeat=False)\n",
    "fig.tight_layout()\n",
    "plt.show()"
   ]
  },
  {
   "cell_type": "code",
   "execution_count": null,
   "id": "0a1577a2-8d27-4fb3-b1dd-c775e607d902",
   "metadata": {
    "editable": true,
    "scrolled": true,
    "slideshow": {
     "slide_type": ""
    },
    "tags": []
   },
   "outputs": [],
   "source": [
    "# Export the frames as PNG images\n",
    "print(f'Length of the maps list: {len(maps_seq)}\\n')\n",
    "\n",
    "for i, m in enumerate(maps_seq):\n",
    "    fig = plt.figure()\n",
    "    ax = fig.add_subplot(projection=m)\n",
    "    m.plot(axes=ax, vmax=20e3)\n",
    "    ax.grid(False)\n",
    "    fig.tight_layout()\n",
    "    fig.savefig(f\"{data_dir}/png/secchi/{channel}A/EUVI{channel}_{m.meta['date-obs']}.png\", format='png', dpi=300, bbox_inches='tight')\n",
    "    # fig.savefig(f\"{data_dir}/png/secchi/{channel}A_zoom/EUVI{channel}_{m.meta['date-obs']}.png\", format='png', dpi=300, bbox_inches='tight')\n",
    "    plt.close()\n",
    "    print(f\"Image {i} at {m.meta['date-obs']} is done\")"
   ]
  },
  {
   "cell_type": "markdown",
   "id": "b43b0620-580b-403d-98de-ca006278ca84",
   "metadata": {
    "editable": true,
    "slideshow": {
     "slide_type": ""
    },
    "tags": []
   },
   "source": [
    "## Another way to download EUVI data"
   ]
  },
  {
   "cell_type": "code",
   "execution_count": null,
   "id": "d7f7241d-8aad-4537-8efe-6b5bf59899c6",
   "metadata": {
    "scrolled": true
   },
   "outputs": [],
   "source": [
    "import pandas as pd\n",
    "\n",
    "# Define the start and end datetimes\n",
    "start_datetime = '2024-05-14 17:15:00'\n",
    "end_datetime   = '2024-05-14 20:00:00'\n",
    "\n",
    "# Generate the datetime range with hourly intervals\n",
    "datetime_strings = pd.date_range(start=start_datetime, end=end_datetime, freq='1min').strftime('%Y-%m-%d %H:%M:%S').tolist()\n",
    "\n",
    "# Print the resulting list\n",
    "datetime_strings"
   ]
  },
  {
   "cell_type": "code",
   "execution_count": null,
   "id": "b4b50382-765f-4ca1-af75-49c4ecba40aa",
   "metadata": {
    "editable": true,
    "slideshow": {
     "slide_type": ""
    },
    "tags": []
   },
   "outputs": [],
   "source": [
    "import hvpy\n",
    "from sunpy.time import parse_time\n",
    "\n",
    "\n",
    "start_time = '2024-05-14T17:20:00' # '2024-05-14T17:15:00'\n",
    "end_time   = '2024-05-14T20:00:00' # '2024-05-14T19:00:00'\n",
    "channel = 195\n",
    "\n",
    "# 'EUVI_A_171',\n",
    "# 'EUVI_A_195',\n",
    "# 'EUVI_A_284',\n",
    "# 'EUVI_A_304',\n",
    "# 'EUVI_B_171',\n",
    "# 'EUVI_B_195',\n",
    "# 'EUVI_B_284',\n",
    "# 'EUVI_B_304',"
   ]
  },
  {
   "cell_type": "code",
   "execution_count": null,
   "id": "7dbed597-657b-48c4-b630-fcc38fe6f303",
   "metadata": {
    "editable": true,
    "slideshow": {
     "slide_type": ""
    },
    "tags": []
   },
   "outputs": [],
   "source": [
    "euvi171_file = hvpy.save_file(hvpy.getJP2Image(parse_time(end_time).datetime,\n",
    "                                               hvpy.DataSource.EUVI_A_171.value),\n",
    "                              f'{data_dir}/SECCHI/EUVI_171A_{start_time}.jp2', overwrite=True)\n",
    "\n",
    "euvi171_map = Map(euvi171_file)\n",
    "\n",
    "fig = plt.figure()\n",
    "ax = fig.add_subplot(projection=euvi171_map)\n",
    "euvi171_map.plot(axes=ax)\n",
    "ax.grid(False)\n",
    "fig.tight_layout()\n",
    "plt.show()"
   ]
  },
  {
   "cell_type": "code",
   "execution_count": null,
   "id": "5dcb0fcf-1771-4b17-9bdf-1a8dc99a9ec1",
   "metadata": {
    "editable": true,
    "scrolled": true,
    "slideshow": {
     "slide_type": ""
    },
    "tags": []
   },
   "outputs": [],
   "source": [
    "# for t in datetime_strings:\n",
    "#     print(t)\n",
    "#     file = hvpy.save_file(hvpy.getJP2Image(parse_time(t).datetime,\n",
    "#                                            hvpy.DataSource.EUVI_A_171.value),\n",
    "#                           f'{data_dir}/SECCHI/EUVI_171A_{t}.jp2', overwrite=True)\n",
    "#     m = Map(file)\n",
    "#     fig = plt.figure()\n",
    "#     ax = fig.add_subplot(projection=m)\n",
    "#     m.plot(axes=ax)\n",
    "#     ax.grid(False)\n",
    "#     fig.tight_layout()\n",
    "#     plt.show()"
   ]
  },
  {
   "cell_type": "code",
   "execution_count": null,
   "id": "edd9a234-653b-46a6-99d7-a5d05b0dc35b",
   "metadata": {},
   "outputs": [],
   "source": []
  },
  {
   "cell_type": "code",
   "execution_count": null,
   "id": "b9ce1509-fa83-4c75-83b5-4b7d0b4b05de",
   "metadata": {},
   "outputs": [],
   "source": []
  },
  {
   "cell_type": "code",
   "execution_count": null,
   "id": "21007ffb-e776-4d67-924a-931c4fda22a9",
   "metadata": {},
   "outputs": [],
   "source": []
  }
 ],
 "metadata": {
  "kernelspec": {
   "display_name": "dias",
   "language": "python",
   "name": "dias"
  },
  "language_info": {
   "codemirror_mode": {
    "name": "ipython",
    "version": 3
   },
   "file_extension": ".py",
   "mimetype": "text/x-python",
   "name": "python",
   "nbconvert_exporter": "python",
   "pygments_lexer": "ipython3",
   "version": "3.10.13"
  }
 },
 "nbformat": 4,
 "nbformat_minor": 5
}
